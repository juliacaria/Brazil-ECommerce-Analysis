{
 "cells": [
  {
   "cell_type": "markdown",
   "metadata": {
    "_uuid": "e0fd324e8ba1ac74f04e6d4beecaeff799dd4bb6"
   },
   "source": [
    "<h2>Introduction</h2>\n",
    "\n",
    "The Olist Brazilian Ecommerce Dataset has information about 100k purchases (orders) from 2016 to 2018. Prices are in Brazillian Real (BRL) and there are five tables in this dataset: payments, geolocation, customers, orders and classifications. The last one contains votes from three different analysts for around 3k reviews made by customers after they've received their products (through email satisfaction survey)."
   ]
  },
  {
   "cell_type": "code",
   "execution_count": 1,
   "metadata": {
    "_cell_guid": "b1076dfc-b9ad-4769-8c92-a6c4dae69d19",
    "_kg_hide-input": true,
    "_uuid": "8f2839f25d086af736a60e9eeb907d3b93b6e0e5"
   },
   "outputs": [
    {
     "data": {
      "text/html": [
       "        <script type=\"text/javascript\">\n",
       "        window.PlotlyConfig = {MathJaxConfig: 'local'};\n",
       "        if (window.MathJax) {MathJax.Hub.Config({SVG: {font: \"STIX-Web\"}});}\n",
       "        if (typeof require !== 'undefined') {\n",
       "        require.undef(\"plotly\");\n",
       "        requirejs.config({\n",
       "            paths: {\n",
       "                'plotly': ['https://cdn.plot.ly/plotly-latest.min']\n",
       "            }\n",
       "        });\n",
       "        require(['plotly'], function(Plotly) {\n",
       "            window._Plotly = Plotly;\n",
       "        });\n",
       "        }\n",
       "        </script>\n",
       "        "
      ]
     },
     "metadata": {},
     "output_type": "display_data"
    }
   ],
   "source": [
    "import numpy as np\n",
    "import pandas as pd\n",
    "# Seaborn and matplotlib\n",
    "import seaborn as sns\n",
    "import matplotlib.pyplot as plt\n",
    "# Plotly library\n",
    "from plotly.offline import init_notebook_mode, iplot\n",
    "import plotly.graph_objs as go\n",
    "from plotly import tools\n",
    "import colorlover as cl\n",
    "# Others\n",
    "import warnings\n",
    "warnings.simplefilter(action='ignore', category=FutureWarning)\n",
    "init_notebook_mode(connected=True)\n",
    "\n",
    "# Load datasets\n",
    "payments = pd.read_csv(\"brazilian-ecommerce/olist_order_payments_dataset.csv\")\n",
    "orders1 = pd.read_csv(\"brazilian-ecommerce/olist_order_items_dataset.csv\")\n",
    "orders2 = pd.read_csv(\"brazilian-ecommerce/olist_orders_dataset.csv\")\n",
    "products = pd.read_csv(\"brazilian-ecommerce/olist_products_dataset.csv\")\n",
    "geo = pd.read_csv(\"brazilian-ecommerce/olist_geolocation_dataset.csv\")\n",
    "customers = pd.read_csv(\"brazilian-ecommerce/olist_customers_dataset.csv\")\n",
    "translation = pd.read_csv(\"brazilian-ecommerce/product_category_name_translation.csv\")"
   ]
  },
  {
   "cell_type": "code",
   "execution_count": null,
   "metadata": {
    "scrolled": true
   },
   "outputs": [],
   "source": []
  },
  {
   "cell_type": "code",
   "execution_count": 2,
   "metadata": {},
   "outputs": [],
   "source": [
    "orders = orders2.merge(orders1, how='inner')\n",
    "orders = orders.merge(products)"
   ]
  },
  {
   "cell_type": "markdown",
   "metadata": {
    "_uuid": "6ad655a83ca7ac508519f5210d78690819684f03"
   },
   "source": [
    "<h2>1. Payments</h2>\n",
    "\n",
    "Customers can pay with more than one payment method and therefore we have duplicate order ids in this frame. The sequential feature is used to indicate the payment method order."
   ]
  },
  {
   "cell_type": "code",
   "execution_count": 3,
   "metadata": {
    "_kg_hide-input": true,
    "_uuid": "6bf23476bfc59c600a3b766f7427893927acc1a5"
   },
   "outputs": [
    {
     "name": "stdout",
     "output_type": "stream",
     "text": [
      "DataFrame shape: (103886, 6); unique order ids: 99440\n"
     ]
    },
    {
     "data": {
      "text/html": [
       "<div>\n",
       "<style scoped>\n",
       "    .dataframe tbody tr th:only-of-type {\n",
       "        vertical-align: middle;\n",
       "    }\n",
       "\n",
       "    .dataframe tbody tr th {\n",
       "        vertical-align: top;\n",
       "    }\n",
       "\n",
       "    .dataframe thead th {\n",
       "        text-align: right;\n",
       "    }\n",
       "</style>\n",
       "<table border=\"1\" class=\"dataframe\">\n",
       "  <thead>\n",
       "    <tr style=\"text-align: right;\">\n",
       "      <th></th>\n",
       "      <th>order_id</th>\n",
       "      <th>payment_sequential</th>\n",
       "      <th>payment_type</th>\n",
       "      <th>payment_installments</th>\n",
       "      <th>payment_value</th>\n",
       "      <th>value_log</th>\n",
       "    </tr>\n",
       "  </thead>\n",
       "  <tbody>\n",
       "    <tr>\n",
       "      <th>0</th>\n",
       "      <td>b81ef226f3fe1789b1e8b2acac839d17</td>\n",
       "      <td>1</td>\n",
       "      <td>credit_card</td>\n",
       "      <td>8</td>\n",
       "      <td>99.33</td>\n",
       "      <td>4.598448</td>\n",
       "    </tr>\n",
       "    <tr>\n",
       "      <th>1</th>\n",
       "      <td>a9810da82917af2d9aefd1278f1dcfa0</td>\n",
       "      <td>1</td>\n",
       "      <td>credit_card</td>\n",
       "      <td>1</td>\n",
       "      <td>24.39</td>\n",
       "      <td>3.194173</td>\n",
       "    </tr>\n",
       "    <tr>\n",
       "      <th>2</th>\n",
       "      <td>25e8ea4e93396b6fa0d3dd708e76c1bd</td>\n",
       "      <td>1</td>\n",
       "      <td>credit_card</td>\n",
       "      <td>1</td>\n",
       "      <td>65.71</td>\n",
       "      <td>4.185251</td>\n",
       "    </tr>\n",
       "    <tr>\n",
       "      <th>3</th>\n",
       "      <td>ba78997921bbcdc1373bb41e913ab953</td>\n",
       "      <td>1</td>\n",
       "      <td>credit_card</td>\n",
       "      <td>8</td>\n",
       "      <td>107.78</td>\n",
       "      <td>4.680092</td>\n",
       "    </tr>\n",
       "    <tr>\n",
       "      <th>4</th>\n",
       "      <td>42fdf880ba16b47b59251dd489d4441a</td>\n",
       "      <td>1</td>\n",
       "      <td>credit_card</td>\n",
       "      <td>2</td>\n",
       "      <td>128.45</td>\n",
       "      <td>4.855540</td>\n",
       "    </tr>\n",
       "  </tbody>\n",
       "</table>\n",
       "</div>"
      ],
      "text/plain": [
       "                           order_id  payment_sequential payment_type  \\\n",
       "0  b81ef226f3fe1789b1e8b2acac839d17                   1  credit_card   \n",
       "1  a9810da82917af2d9aefd1278f1dcfa0                   1  credit_card   \n",
       "2  25e8ea4e93396b6fa0d3dd708e76c1bd                   1  credit_card   \n",
       "3  ba78997921bbcdc1373bb41e913ab953                   1  credit_card   \n",
       "4  42fdf880ba16b47b59251dd489d4441a                   1  credit_card   \n",
       "\n",
       "   payment_installments  payment_value  value_log  \n",
       "0                     8          99.33   4.598448  \n",
       "1                     1          24.39   3.194173  \n",
       "2                     1          65.71   4.185251  \n",
       "3                     8         107.78   4.680092  \n",
       "4                     2         128.45   4.855540  "
      ]
     },
     "execution_count": 3,
     "metadata": {},
     "output_type": "execute_result"
    }
   ],
   "source": [
    "payments['value_log'] = payments['payment_value'].apply(lambda x: np.log(x) if x > 0 else 0)\n",
    "unique_ = payments['order_id'].nunique()\n",
    "print(\"DataFrame shape: {}; unique order ids: {}\".format(payments.shape, unique_))\n",
    "payments.head()"
   ]
  },
  {
   "cell_type": "markdown",
   "metadata": {
    "_uuid": "95e993fcc9304412c1bb84003cc77df94fcdd81a"
   },
   "source": [
    "<h3>Value distribution</h3>\n",
    "\n",
    "Each row corresponds to a payment method used on some product order. As stated before, the customer can use more than a single payment method for each order."
   ]
  },
  {
   "cell_type": "code",
   "execution_count": 4,
   "metadata": {
    "_kg_hide-input": true,
    "_uuid": "befe54e742fb5620a5e0813af0638332750ffc48"
   },
   "outputs": [
    {
     "data": {
      "image/png": "[encoded data removed]",
      "text/plain": [
       "<Figure size 864x288 with 2 Axes>"
      ]
     },
     "metadata": {
      "needs_background": "light"
     },
     "output_type": "display_data"
    }
   ],
   "source": [
    "def plot_dist(values, log_values, title, color=\"#D84E30\"):\n",
    "    fig, axis = plt.subplots(1, 2, figsize=(12,4))\n",
    "    axis[0].set_title(\"{} - linear scale\".format(title))\n",
    "    axis[1].set_title(\"{} - logn scale\".format(title))\n",
    "    ax1 = sns.distplot(values, color=color, ax=axis[0])\n",
    "    ax2 = sns.distplot(log_values, color=color, ax=axis[1])\n",
    "log_value = payments['payment_value'].apply(lambda x: np.log(x) if x > 0 else 0)\n",
    "plot_dist(payments['payment_value'], log_value, \"Value distribution\")"
   ]
  },
  {
   "cell_type": "code",
   "execution_count": 5,
   "metadata": {
    "_kg_hide-input": true,
    "_uuid": "84ed2150aed6c50eadf62322bda607dd488fc415"
   },
   "outputs": [
    {
     "data": {
      "text/html": [
       "<div>\n",
       "<style scoped>\n",
       "    .dataframe tbody tr th:only-of-type {\n",
       "        vertical-align: middle;\n",
       "    }\n",
       "\n",
       "    .dataframe tbody tr th {\n",
       "        vertical-align: top;\n",
       "    }\n",
       "\n",
       "    .dataframe thead th {\n",
       "        text-align: right;\n",
       "    }\n",
       "</style>\n",
       "<table border=\"1\" class=\"dataframe\">\n",
       "  <thead>\n",
       "    <tr style=\"text-align: right;\">\n",
       "      <th></th>\n",
       "      <th>payment_sequential</th>\n",
       "      <th>payment_installments</th>\n",
       "      <th>payment_value</th>\n",
       "      <th>value_log</th>\n",
       "    </tr>\n",
       "  </thead>\n",
       "  <tbody>\n",
       "    <tr>\n",
       "      <th>count</th>\n",
       "      <td>103886.000000</td>\n",
       "      <td>103886.000000</td>\n",
       "      <td>103886.000000</td>\n",
       "      <td>103886.000000</td>\n",
       "    </tr>\n",
       "    <tr>\n",
       "      <th>mean</th>\n",
       "      <td>1.092679</td>\n",
       "      <td>2.853349</td>\n",
       "      <td>154.100380</td>\n",
       "      <td>4.597031</td>\n",
       "    </tr>\n",
       "    <tr>\n",
       "      <th>std</th>\n",
       "      <td>0.706584</td>\n",
       "      <td>2.687051</td>\n",
       "      <td>217.494064</td>\n",
       "      <td>0.937496</td>\n",
       "    </tr>\n",
       "    <tr>\n",
       "      <th>min</th>\n",
       "      <td>1.000000</td>\n",
       "      <td>0.000000</td>\n",
       "      <td>0.000000</td>\n",
       "      <td>-4.605170</td>\n",
       "    </tr>\n",
       "    <tr>\n",
       "      <th>25%</th>\n",
       "      <td>1.000000</td>\n",
       "      <td>1.000000</td>\n",
       "      <td>56.790000</td>\n",
       "      <td>4.039360</td>\n",
       "    </tr>\n",
       "    <tr>\n",
       "      <th>50%</th>\n",
       "      <td>1.000000</td>\n",
       "      <td>1.000000</td>\n",
       "      <td>100.000000</td>\n",
       "      <td>4.605170</td>\n",
       "    </tr>\n",
       "    <tr>\n",
       "      <th>75%</th>\n",
       "      <td>1.000000</td>\n",
       "      <td>4.000000</td>\n",
       "      <td>171.837500</td>\n",
       "      <td>5.146549</td>\n",
       "    </tr>\n",
       "    <tr>\n",
       "      <th>max</th>\n",
       "      <td>29.000000</td>\n",
       "      <td>24.000000</td>\n",
       "      <td>13664.080000</td>\n",
       "      <td>9.522526</td>\n",
       "    </tr>\n",
       "  </tbody>\n",
       "</table>\n",
       "</div>"
      ],
      "text/plain": [
       "       payment_sequential  payment_installments  payment_value      value_log\n",
       "count       103886.000000         103886.000000  103886.000000  103886.000000\n",
       "mean             1.092679              2.853349     154.100380       4.597031\n",
       "std              0.706584              2.687051     217.494064       0.937496\n",
       "min              1.000000              0.000000       0.000000      -4.605170\n",
       "25%              1.000000              1.000000      56.790000       4.039360\n",
       "50%              1.000000              1.000000     100.000000       4.605170\n",
       "75%              1.000000              4.000000     171.837500       5.146549\n",
       "max             29.000000             24.000000   13664.080000       9.522526"
      ]
     },
     "execution_count": 5,
     "metadata": {},
     "output_type": "execute_result"
    }
   ],
   "source": [
    "payments.describe()"
   ]
  },
  {
   "cell_type": "markdown",
   "metadata": {
    "_uuid": "4bba7bd45de6006b48f36e398ad07b0615eb86a6"
   },
   "source": [
    "<h3>Payment method</h3>\n",
    "\n",
    "There are four payment methods: credit card, debit card, boleto and voucher. Boleto is a brazillian payment method which is similar to a payment/bank slip."
   ]
  },
  {
   "cell_type": "code",
   "execution_count": 6,
   "metadata": {
    "_kg_hide-input": true,
    "_uuid": "66a1976816f695279d710b35494932e30bbb3563"
   },
   "outputs": [
    {
     "data": {
      "application/vnd.plotly.v1+json": {
       "config": {
        "linkText": "Export to plot.ly",
        "plotlyServerURL": "https://plot.ly",
        "showLink": false
       },
       "data": [
        {
         "domain": {
          "x": [
           0,
           0.48
          ]
         },
         "labels": [
          "credit_card",
          "boleto",
          "voucher",
          "debit_card",
          "not_defined"
         ],
         "type": "pie",
         "values": [
          76795,
          19784,
          5775,
          1529,
          3
         ]
        },
        {
         "domain": {
          "x": [
           0.52,
           1
          ]
         },
         "labels": [
          "boleto",
          "credit_card",
          "debit_card",
          "not_defined",
          "voucher"
         ],
         "type": "pie",
         "values": [
          2869361.2699999753,
          12542084.189999327,
          217989.7900000001,
          0,
          379436.8700000007
         ]
        }
       ],
       "layout": {
        "height": 400,
        "template": {
         "data": {
          "bar": [
           {
            "error_x": {
             "color": "#2a3f5f"
            },
            "error_y": {
             "color": "#2a3f5f"
            },
            "marker": {
             "line": {
              "color": "#E5ECF6",
              "width": 0.5
             }
            },
            "type": "bar"
           }
          ],
          "barpolar": [
           {
            "marker": {
             "line": {
              "color": "#E5ECF6",
              "width": 0.5
             }
            },
            "type": "barpolar"
           }
          ],
          "carpet": [
           {
            "aaxis": {
             "endlinecolor": "#2a3f5f",
             "gridcolor": "white",
             "linecolor": "white",
             "minorgridcolor": "white",
             "startlinecolor": "#2a3f5f"
            },
            "baxis": {
             "endlinecolor": "#2a3f5f",
             "gridcolor": "white",
             "linecolor": "white",
             "minorgridcolor": "white",
             "startlinecolor": "#2a3f5f"
            },
            "type": "carpet"
           }
          ],
          "choropleth": [
           {
            "colorbar": {
             "outlinewidth": 0,
             "ticks": ""
            },
            "type": "choropleth"
           }
          ],
          "contour": [
           {
            "colorbar": {
             "outlinewidth": 0,
             "ticks": ""
            },
            "colorscale": [
             [
              0,
              "#0d0887"
             ],
             [
              0.1111111111111111,
              "#46039f"
             ],
             [
              0.2222222222222222,
              "#7201a8"
             ],
             [
              0.3333333333333333,
              "#9c179e"
             ],
             [
              0.4444444444444444,
              "#bd3786"
             ],
             [
              0.5555555555555556,
              "#d8576b"
             ],
             [
              0.6666666666666666,
              "#ed7953"
             ],
             [
              0.7777777777777778,
              "#fb9f3a"
             ],
             [
              0.8888888888888888,
              "#fdca26"
             ],
             [
              1,
              "#f0f921"
             ]
            ],
            "type": "contour"
           }
          ],
          "contourcarpet": [
           {
            "colorbar": {
             "outlinewidth": 0,
             "ticks": ""
            },
            "type": "contourcarpet"
           }
          ],
          "heatmap": [
           {
            "colorbar": {
             "outlinewidth": 0,
             "ticks": ""
            },
            "colorscale": [
             [
              0,
              "#0d0887"
             ],
             [
              0.1111111111111111,
              "#46039f"
             ],
             [
              0.2222222222222222,
              "#7201a8"
             ],
             [
              0.3333333333333333,
              "#9c179e"
             ],
             [
              0.4444444444444444,
              "#bd3786"
             ],
             [
              0.5555555555555556,
              "#d8576b"
             ],
             [
              0.6666666666666666,
              "#ed7953"
             ],
             [
              0.7777777777777778,
              "#fb9f3a"
             ],
             [
              0.8888888888888888,
              "#fdca26"
             ],
             [
              1,
              "#f0f921"
             ]
            ],
            "type": "heatmap"
           }
          ],
          "heatmapgl": [
           {
            "colorbar": {
             "outlinewidth": 0,
             "ticks": ""
            },
            "colorscale": [
             [
              0,
              "#0d0887"
             ],
             [
              0.1111111111111111,
              "#46039f"
             ],
             [
              0.2222222222222222,
              "#7201a8"
             ],
             [
              0.3333333333333333,
              "#9c179e"
             ],
             [
              0.4444444444444444,
              "#bd3786"
             ],
             [
              0.5555555555555556,
              "#d8576b"
             ],
             [
              0.6666666666666666,
              "#ed7953"
             ],
             [
              0.7777777777777778,
              "#fb9f3a"
             ],
             [
              0.8888888888888888,
              "#fdca26"
             ],
             [
              1,
              "#f0f921"
             ]
            ],
            "type": "heatmapgl"
           }
          ],
          "histogram": [
           {
            "marker": {
             "colorbar": {
              "outlinewidth": 0,
              "ticks": ""
             }
            },
            "type": "histogram"
           }
          ],
          "histogram2d": [
           {
            "colorbar": {
             "outlinewidth": 0,
             "ticks": ""
            },
            "colorscale": [
             [
              0,
              "#0d0887"
             ],
             [
              0.1111111111111111,
              "#46039f"
             ],
             [
              0.2222222222222222,
              "#7201a8"
             ],
             [
              0.3333333333333333,
              "#9c179e"
             ],
             [
              0.4444444444444444,
              "#bd3786"
             ],
             [
              0.5555555555555556,
              "#d8576b"
             ],
             [
              0.6666666666666666,
              "#ed7953"
             ],
             [
              0.7777777777777778,
              "#fb9f3a"
             ],
             [
              0.8888888888888888,
              "#fdca26"
             ],
             [
              1,
              "#f0f921"
             ]
            ],
            "type": "histogram2d"
           }
          ],
          "histogram2dcontour": [
           {
            "colorbar": {
             "outlinewidth": 0,
             "ticks": ""
            },
            "colorscale": [
             [
              0,
              "#0d0887"
             ],
             [
              0.1111111111111111,
              "#46039f"
             ],
             [
              0.2222222222222222,
              "#7201a8"
             ],
             [
              0.3333333333333333,
              "#9c179e"
             ],
             [
              0.4444444444444444,
              "#bd3786"
             ],
             [
              0.5555555555555556,
              "#d8576b"
             ],
             [
              0.6666666666666666,
              "#ed7953"
             ],
             [
              0.7777777777777778,
              "#fb9f3a"
             ],
             [
              0.8888888888888888,
              "#fdca26"
             ],
             [
              1,
              "#f0f921"
             ]
            ],
            "type": "histogram2dcontour"
           }
          ],
          "mesh3d": [
           {
            "colorbar": {
             "outlinewidth": 0,
             "ticks": ""
            },
            "type": "mesh3d"
           }
          ],
          "parcoords": [
           {
            "line": {
             "colorbar": {
              "outlinewidth": 0,
              "ticks": ""
             }
            },
            "type": "parcoords"
           }
          ],
          "pie": [
           {
            "automargin": true,
            "type": "pie"
           }
          ],
          "scatter": [
           {
            "marker": {
             "colorbar": {
              "outlinewidth": 0,
              "ticks": ""
             }
            },
            "type": "scatter"
           }
          ],
          "scatter3d": [
           {
            "line": {
             "colorbar": {
              "outlinewidth": 0,
              "ticks": ""
             }
            },
            "marker": {
             "colorbar": {
              "outlinewidth": 0,
              "ticks": ""
             }
            },
            "type": "scatter3d"
           }
          ],
          "scattercarpet": [
           {
            "marker": {
             "colorbar": {
              "outlinewidth": 0,
              "ticks": ""
             }
            },
            "type": "scattercarpet"
           }
          ],
          "scattergeo": [
           {
            "marker": {
             "colorbar": {
              "outlinewidth": 0,
              "ticks": ""
             }
            },
            "type": "scattergeo"
           }
          ],
          "scattergl": [
           {
            "marker": {
             "colorbar": {
              "outlinewidth": 0,
              "ticks": ""
             }
            },
            "type": "scattergl"
           }
          ],
          "scattermapbox": [
           {
            "marker": {
             "colorbar": {
              "outlinewidth": 0,
              "ticks": ""
             }
            },
            "type": "scattermapbox"
           }
          ],
          "scatterpolar": [
           {
            "marker": {
             "colorbar": {
              "outlinewidth": 0,
              "ticks": ""
             }
            },
            "type": "scatterpolar"
           }
          ],
          "scatterpolargl": [
           {
            "marker": {
             "colorbar": {
              "outlinewidth": 0,
              "ticks": ""
             }
            },
            "type": "scatterpolargl"
           }
          ],
          "scatterternary": [
           {
            "marker": {
             "colorbar": {
              "outlinewidth": 0,
              "ticks": ""
             }
            },
            "type": "scatterternary"
           }
          ],
          "surface": [
           {
            "colorbar": {
             "outlinewidth": 0,
             "ticks": ""
            },
            "colorscale": [
             [
              0,
              "#0d0887"
             ],
             [
              0.1111111111111111,
              "#46039f"
             ],
             [
              0.2222222222222222,
              "#7201a8"
             ],
             [
              0.3333333333333333,
              "#9c179e"
             ],
             [
              0.4444444444444444,
              "#bd3786"
             ],
             [
              0.5555555555555556,
              "#d8576b"
             ],
             [
              0.6666666666666666,
              "#ed7953"
             ],
             [
              0.7777777777777778,
              "#fb9f3a"
             ],
             [
              0.8888888888888888,
              "#fdca26"
             ],
             [
              1,
              "#f0f921"
             ]
            ],
            "type": "surface"
           }
          ],
          "table": [
           {
            "cells": {
             "fill": {
              "color": "#EBF0F8"
             },
             "line": {
              "color": "white"
             }
            },
            "header": {
             "fill": {
              "color": "#C8D4E3"
             },
             "line": {
              "color": "white"
             }
            },
            "type": "table"
           }
          ]
         },
         "layout": {
          "annotationdefaults": {
           "arrowcolor": "#2a3f5f",
           "arrowhead": 0,
           "arrowwidth": 1
          },
          "coloraxis": {
           "colorbar": {
            "outlinewidth": 0,
            "ticks": ""
           }
          },
          "colorscale": {
           "diverging": [
            [
             0,
             "#8e0152"
            ],
            [
             0.1,
             "#c51b7d"
            ],
            [
             0.2,
             "#de77ae"
            ],
            [
             0.3,
             "#f1b6da"
            ],
            [
             0.4,
             "#fde0ef"
            ],
            [
             0.5,
             "#f7f7f7"
            ],
            [
             0.6,
             "#e6f5d0"
            ],
            [
             0.7,
             "#b8e186"
            ],
            [
             0.8,
             "#7fbc41"
            ],
            [
             0.9,
             "#4d9221"
            ],
            [
             1,
             "#276419"
            ]
           ],
           "sequential": [
            [
             0,
             "#0d0887"
            ],
            [
             0.1111111111111111,
             "#46039f"
            ],
            [
             0.2222222222222222,
             "#7201a8"
            ],
            [
             0.3333333333333333,
             "#9c179e"
            ],
            [
             0.4444444444444444,
             "#bd3786"
            ],
            [
             0.5555555555555556,
             "#d8576b"
            ],
            [
             0.6666666666666666,
             "#ed7953"
            ],
            [
             0.7777777777777778,
             "#fb9f3a"
            ],
            [
             0.8888888888888888,
             "#fdca26"
            ],
            [
             1,
             "#f0f921"
            ]
           ],
           "sequentialminus": [
            [
             0,
             "#0d0887"
            ],
            [
             0.1111111111111111,
             "#46039f"
            ],
            [
             0.2222222222222222,
             "#7201a8"
            ],
            [
             0.3333333333333333,
             "#9c179e"
            ],
            [
             0.4444444444444444,
             "#bd3786"
            ],
            [
             0.5555555555555556,
             "#d8576b"
            ],
            [
             0.6666666666666666,
             "#ed7953"
            ],
            [
             0.7777777777777778,
             "#fb9f3a"
            ],
            [
             0.8888888888888888,
             "#fdca26"
            ],
            [
             1,
             "#f0f921"
            ]
           ]
          },
          "colorway": [
           "#636efa",
           "#EF553B",
           "#00cc96",
           "#ab63fa",
           "#FFA15A",
           "#19d3f3",
           "#FF6692",
           "#B6E880",
           "#FF97FF",
           "#FECB52"
          ],
          "font": {
           "color": "#2a3f5f"
          },
          "geo": {
           "bgcolor": "white",
           "lakecolor": "white",
           "landcolor": "#E5ECF6",
           "showlakes": true,
           "showland": true,
           "subunitcolor": "white"
          },
          "hoverlabel": {
           "align": "left"
          },
          "hovermode": "closest",
          "mapbox": {
           "style": "light"
          },
          "paper_bgcolor": "white",
          "plot_bgcolor": "#E5ECF6",
          "polar": {
           "angularaxis": {
            "gridcolor": "white",
            "linecolor": "white",
            "ticks": ""
           },
           "bgcolor": "#E5ECF6",
           "radialaxis": {
            "gridcolor": "white",
            "linecolor": "white",
            "ticks": ""
           }
          },
          "scene": {
           "xaxis": {
            "backgroundcolor": "#E5ECF6",
            "gridcolor": "white",
            "gridwidth": 2,
            "linecolor": "white",
            "showbackground": true,
            "ticks": "",
            "zerolinecolor": "white"
           },
           "yaxis": {
            "backgroundcolor": "#E5ECF6",
            "gridcolor": "white",
            "gridwidth": 2,
            "linecolor": "white",
            "showbackground": true,
            "ticks": "",
            "zerolinecolor": "white"
           },
           "zaxis": {
            "backgroundcolor": "#E5ECF6",
            "gridcolor": "white",
            "gridwidth": 2,
            "linecolor": "white",
            "showbackground": true,
            "ticks": "",
            "zerolinecolor": "white"
           }
          },
          "shapedefaults": {
           "line": {
            "color": "#2a3f5f"
           }
          },
          "ternary": {
           "aaxis": {
            "gridcolor": "white",
            "linecolor": "white",
            "ticks": ""
           },
           "baxis": {
            "gridcolor": "white",
            "linecolor": "white",
            "ticks": ""
           },
           "bgcolor": "#E5ECF6",
           "caxis": {
            "gridcolor": "white",
            "linecolor": "white",
            "ticks": ""
           }
          },
          "title": {
           "x": 0.05
          },
          "xaxis": {
           "automargin": true,
           "gridcolor": "white",
           "linecolor": "white",
           "ticks": "",
           "title": {
            "standoff": 15
           },
           "zerolinecolor": "white",
           "zerolinewidth": 2
          },
          "yaxis": {
           "automargin": true,
           "gridcolor": "white",
           "linecolor": "white",
           "ticks": "",
           "title": {
            "standoff": 15
           },
           "zerolinecolor": "white",
           "zerolinewidth": 2
          }
         }
        },
        "title": {
         "text": "Number of payments (left) and Total payments value (right)"
        },
        "width": 800
       }
      },
      "text/html": [
       "<div>\n",
       "        \n",
       "        \n",
       "            <div id=\"66636a48-a0c9-4955-b05e-c4a3a26d4805\" class=\"plotly-graph-div\" style=\"height:400px; width:800px;\"></div>\n",
       "            <script type=\"text/javascript\">\n",
       "                require([\"plotly\"], function(Plotly) {\n",
       "                    window.PLOTLYENV=window.PLOTLYENV || {};\n",
       "                    \n",
       "                if (document.getElementById(\"66636a48-a0c9-4955-b05e-c4a3a26d4805\")) {\n",
       "                    Plotly.newPlot(\n",
       "                        '66636a48-a0c9-4955-b05e-c4a3a26d4805',\n",
       "                        [{\"domain\": {\"x\": [0, 0.48]}, \"labels\": [\"credit_card\", \"boleto\", \"voucher\", \"debit_card\", \"not_defined\"], \"type\": \"pie\", \"values\": [76795, 19784, 5775, 1529, 3]}, {\"domain\": {\"x\": [0.52, 1]}, \"labels\": [\"boleto\", \"credit_card\", \"debit_card\", \"not_defined\", \"voucher\"], \"type\": \"pie\", \"values\": [2869361.2699999753, 12542084.189999327, 217989.7900000001, 0.0, 379436.8700000007]}],\n",
       "                        {\"height\": 400, \"template\": {\"data\": {\"bar\": [{\"error_x\": {\"color\": \"#2a3f5f\"}, \"error_y\": {\"color\": \"#2a3f5f\"}, \"marker\": {\"line\": {\"color\": \"#E5ECF6\", \"width\": 0.5}}, \"type\": \"bar\"}], \"barpolar\": [{\"marker\": {\"line\": {\"color\": \"#E5ECF6\", \"width\": 0.5}}, \"type\": \"barpolar\"}], \"carpet\": [{\"aaxis\": {\"endlinecolor\": \"#2a3f5f\", \"gridcolor\": \"white\", \"linecolor\": \"white\", \"minorgridcolor\": \"white\", \"startlinecolor\": \"#2a3f5f\"}, \"baxis\": {\"endlinecolor\": \"#2a3f5f\", \"gridcolor\": \"white\", \"linecolor\": \"white\", \"minorgridcolor\": \"white\", \"startlinecolor\": \"#2a3f5f\"}, \"type\": \"carpet\"}], \"choropleth\": [{\"colorbar\": {\"outlinewidth\": 0, \"ticks\": \"\"}, \"type\": \"choropleth\"}], \"contour\": [{\"colorbar\": {\"outlinewidth\": 0, \"ticks\": \"\"}, \"colorscale\": [[0.0, \"#0d0887\"], [0.1111111111111111, \"#46039f\"], [0.2222222222222222, \"#7201a8\"], [0.3333333333333333, \"#9c179e\"], [0.4444444444444444, \"#bd3786\"], [0.5555555555555556, \"#d8576b\"], [0.6666666666666666, \"#ed7953\"], [0.7777777777777778, \"#fb9f3a\"], [0.8888888888888888, \"#fdca26\"], [1.0, \"#f0f921\"]], \"type\": \"contour\"}], \"contourcarpet\": [{\"colorbar\": {\"outlinewidth\": 0, \"ticks\": \"\"}, \"type\": \"contourcarpet\"}], \"heatmap\": [{\"colorbar\": {\"outlinewidth\": 0, \"ticks\": \"\"}, \"colorscale\": [[0.0, \"#0d0887\"], [0.1111111111111111, \"#46039f\"], [0.2222222222222222, \"#7201a8\"], [0.3333333333333333, \"#9c179e\"], [0.4444444444444444, \"#bd3786\"], [0.5555555555555556, \"#d8576b\"], [0.6666666666666666, \"#ed7953\"], [0.7777777777777778, \"#fb9f3a\"], [0.8888888888888888, \"#fdca26\"], [1.0, \"#f0f921\"]], \"type\": \"heatmap\"}], \"heatmapgl\": [{\"colorbar\": {\"outlinewidth\": 0, \"ticks\": \"\"}, \"colorscale\": [[0.0, \"#0d0887\"], [0.1111111111111111, \"#46039f\"], [0.2222222222222222, \"#7201a8\"], [0.3333333333333333, \"#9c179e\"], [0.4444444444444444, \"#bd3786\"], [0.5555555555555556, \"#d8576b\"], [0.6666666666666666, \"#ed7953\"], [0.7777777777777778, \"#fb9f3a\"], [0.8888888888888888, \"#fdca26\"], [1.0, \"#f0f921\"]], \"type\": \"heatmapgl\"}], \"histogram\": [{\"marker\": {\"colorbar\": {\"outlinewidth\": 0, \"ticks\": \"\"}}, \"type\": \"histogram\"}], \"histogram2d\": [{\"colorbar\": {\"outlinewidth\": 0, \"ticks\": \"\"}, \"colorscale\": [[0.0, \"#0d0887\"], [0.1111111111111111, \"#46039f\"], [0.2222222222222222, \"#7201a8\"], [0.3333333333333333, \"#9c179e\"], [0.4444444444444444, \"#bd3786\"], [0.5555555555555556, \"#d8576b\"], [0.6666666666666666, \"#ed7953\"], [0.7777777777777778, \"#fb9f3a\"], [0.8888888888888888, \"#fdca26\"], [1.0, \"#f0f921\"]], \"type\": \"histogram2d\"}], \"histogram2dcontour\": [{\"colorbar\": {\"outlinewidth\": 0, \"ticks\": \"\"}, \"colorscale\": [[0.0, \"#0d0887\"], [0.1111111111111111, \"#46039f\"], [0.2222222222222222, \"#7201a8\"], [0.3333333333333333, \"#9c179e\"], [0.4444444444444444, \"#bd3786\"], [0.5555555555555556, \"#d8576b\"], [0.6666666666666666, \"#ed7953\"], [0.7777777777777778, \"#fb9f3a\"], [0.8888888888888888, \"#fdca26\"], [1.0, \"#f0f921\"]], \"type\": \"histogram2dcontour\"}], \"mesh3d\": [{\"colorbar\": {\"outlinewidth\": 0, \"ticks\": \"\"}, \"type\": \"mesh3d\"}], \"parcoords\": [{\"line\": {\"colorbar\": {\"outlinewidth\": 0, \"ticks\": \"\"}}, \"type\": \"parcoords\"}], \"pie\": [{\"automargin\": true, \"type\": \"pie\"}], \"scatter\": [{\"marker\": {\"colorbar\": {\"outlinewidth\": 0, \"ticks\": \"\"}}, \"type\": \"scatter\"}], \"scatter3d\": [{\"line\": {\"colorbar\": {\"outlinewidth\": 0, \"ticks\": \"\"}}, \"marker\": {\"colorbar\": {\"outlinewidth\": 0, \"ticks\": \"\"}}, \"type\": \"scatter3d\"}], \"scattercarpet\": [{\"marker\": {\"colorbar\": {\"outlinewidth\": 0, \"ticks\": \"\"}}, \"type\": \"scattercarpet\"}], \"scattergeo\": [{\"marker\": {\"colorbar\": {\"outlinewidth\": 0, \"ticks\": \"\"}}, \"type\": \"scattergeo\"}], \"scattergl\": [{\"marker\": {\"colorbar\": {\"outlinewidth\": 0, \"ticks\": \"\"}}, \"type\": \"scattergl\"}], \"scattermapbox\": [{\"marker\": {\"colorbar\": {\"outlinewidth\": 0, \"ticks\": \"\"}}, \"type\": \"scattermapbox\"}], \"scatterpolar\": [{\"marker\": {\"colorbar\": {\"outlinewidth\": 0, \"ticks\": \"\"}}, \"type\": \"scatterpolar\"}], \"scatterpolargl\": [{\"marker\": {\"colorbar\": {\"outlinewidth\": 0, \"ticks\": \"\"}}, \"type\": \"scatterpolargl\"}], \"scatterternary\": [{\"marker\": {\"colorbar\": {\"outlinewidth\": 0, \"ticks\": \"\"}}, \"type\": \"scatterternary\"}], \"surface\": [{\"colorbar\": {\"outlinewidth\": 0, \"ticks\": \"\"}, \"colorscale\": [[0.0, \"#0d0887\"], [0.1111111111111111, \"#46039f\"], [0.2222222222222222, \"#7201a8\"], [0.3333333333333333, \"#9c179e\"], [0.4444444444444444, \"#bd3786\"], [0.5555555555555556, \"#d8576b\"], [0.6666666666666666, \"#ed7953\"], [0.7777777777777778, \"#fb9f3a\"], [0.8888888888888888, \"#fdca26\"], [1.0, \"#f0f921\"]], \"type\": \"surface\"}], \"table\": [{\"cells\": {\"fill\": {\"color\": \"#EBF0F8\"}, \"line\": {\"color\": \"white\"}}, \"header\": {\"fill\": {\"color\": \"#C8D4E3\"}, \"line\": {\"color\": \"white\"}}, \"type\": \"table\"}]}, \"layout\": {\"annotationdefaults\": {\"arrowcolor\": \"#2a3f5f\", \"arrowhead\": 0, \"arrowwidth\": 1}, \"coloraxis\": {\"colorbar\": {\"outlinewidth\": 0, \"ticks\": \"\"}}, \"colorscale\": {\"diverging\": [[0, \"#8e0152\"], [0.1, \"#c51b7d\"], [0.2, \"#de77ae\"], [0.3, \"#f1b6da\"], [0.4, \"#fde0ef\"], [0.5, \"#f7f7f7\"], [0.6, \"#e6f5d0\"], [0.7, \"#b8e186\"], [0.8, \"#7fbc41\"], [0.9, \"#4d9221\"], [1, \"#276419\"]], \"sequential\": [[0.0, \"#0d0887\"], [0.1111111111111111, \"#46039f\"], [0.2222222222222222, \"#7201a8\"], [0.3333333333333333, \"#9c179e\"], [0.4444444444444444, \"#bd3786\"], [0.5555555555555556, \"#d8576b\"], [0.6666666666666666, \"#ed7953\"], [0.7777777777777778, \"#fb9f3a\"], [0.8888888888888888, \"#fdca26\"], [1.0, \"#f0f921\"]], \"sequentialminus\": [[0.0, \"#0d0887\"], [0.1111111111111111, \"#46039f\"], [0.2222222222222222, \"#7201a8\"], [0.3333333333333333, \"#9c179e\"], [0.4444444444444444, \"#bd3786\"], [0.5555555555555556, \"#d8576b\"], [0.6666666666666666, \"#ed7953\"], [0.7777777777777778, \"#fb9f3a\"], [0.8888888888888888, \"#fdca26\"], [1.0, \"#f0f921\"]]}, \"colorway\": [\"#636efa\", \"#EF553B\", \"#00cc96\", \"#ab63fa\", \"#FFA15A\", \"#19d3f3\", \"#FF6692\", \"#B6E880\", \"#FF97FF\", \"#FECB52\"], \"font\": {\"color\": \"#2a3f5f\"}, \"geo\": {\"bgcolor\": \"white\", \"lakecolor\": \"white\", \"landcolor\": \"#E5ECF6\", \"showlakes\": true, \"showland\": true, \"subunitcolor\": \"white\"}, \"hoverlabel\": {\"align\": \"left\"}, \"hovermode\": \"closest\", \"mapbox\": {\"style\": \"light\"}, \"paper_bgcolor\": \"white\", \"plot_bgcolor\": \"#E5ECF6\", \"polar\": {\"angularaxis\": {\"gridcolor\": \"white\", \"linecolor\": \"white\", \"ticks\": \"\"}, \"bgcolor\": \"#E5ECF6\", \"radialaxis\": {\"gridcolor\": \"white\", \"linecolor\": \"white\", \"ticks\": \"\"}}, \"scene\": {\"xaxis\": {\"backgroundcolor\": \"#E5ECF6\", \"gridcolor\": \"white\", \"gridwidth\": 2, \"linecolor\": \"white\", \"showbackground\": true, \"ticks\": \"\", \"zerolinecolor\": \"white\"}, \"yaxis\": {\"backgroundcolor\": \"#E5ECF6\", \"gridcolor\": \"white\", \"gridwidth\": 2, \"linecolor\": \"white\", \"showbackground\": true, \"ticks\": \"\", \"zerolinecolor\": \"white\"}, \"zaxis\": {\"backgroundcolor\": \"#E5ECF6\", \"gridcolor\": \"white\", \"gridwidth\": 2, \"linecolor\": \"white\", \"showbackground\": true, \"ticks\": \"\", \"zerolinecolor\": \"white\"}}, \"shapedefaults\": {\"line\": {\"color\": \"#2a3f5f\"}}, \"ternary\": {\"aaxis\": {\"gridcolor\": \"white\", \"linecolor\": \"white\", \"ticks\": \"\"}, \"baxis\": {\"gridcolor\": \"white\", \"linecolor\": \"white\", \"ticks\": \"\"}, \"bgcolor\": \"#E5ECF6\", \"caxis\": {\"gridcolor\": \"white\", \"linecolor\": \"white\", \"ticks\": \"\"}}, \"title\": {\"x\": 0.05}, \"xaxis\": {\"automargin\": true, \"gridcolor\": \"white\", \"linecolor\": \"white\", \"ticks\": \"\", \"title\": {\"standoff\": 15}, \"zerolinecolor\": \"white\", \"zerolinewidth\": 2}, \"yaxis\": {\"automargin\": true, \"gridcolor\": \"white\", \"linecolor\": \"white\", \"ticks\": \"\", \"title\": {\"standoff\": 15}, \"zerolinecolor\": \"white\", \"zerolinewidth\": 2}}}, \"title\": {\"text\": \"Number of payments (left) and Total payments value (right)\"}, \"width\": 800},\n",
       "                        {\"responsive\": true}\n",
       "                    ).then(function(){\n",
       "                            \n",
       "var gd = document.getElementById('66636a48-a0c9-4955-b05e-c4a3a26d4805');\n",
       "var x = new MutationObserver(function (mutations, observer) {{\n",
       "        var display = window.getComputedStyle(gd).display;\n",
       "        if (!display || display === 'none') {{\n",
       "            console.log([gd, 'removed!']);\n",
       "            Plotly.purge(gd);\n",
       "            observer.disconnect();\n",
       "        }}\n",
       "}});\n",
       "\n",
       "// Listen for the removal of the full notebook cells\n",
       "var notebookContainer = gd.closest('#notebook-container');\n",
       "if (notebookContainer) {{\n",
       "    x.observe(notebookContainer, {childList: true});\n",
       "}}\n",
       "\n",
       "// Listen for the clearing of the current output cell\n",
       "var outputEl = gd.closest('.output');\n",
       "if (outputEl) {{\n",
       "    x.observe(outputEl, {childList: true});\n",
       "}}\n",
       "\n",
       "                        })\n",
       "                };\n",
       "                });\n",
       "            </script>\n",
       "        </div>"
      ]
     },
     "metadata": {},
     "output_type": "display_data"
    }
   ],
   "source": [
    "method_count = payments['payment_type'].value_counts().to_frame().reset_index()\n",
    "method_value = payments.groupby('payment_type')['payment_value'].sum().to_frame().reset_index()\n",
    "# Plotly piechart\n",
    "colors = None\n",
    "trace1 = go.Pie(labels=method_count['index'], values=method_count['payment_type'],\n",
    "                domain= {'x': [0, .48]}, marker=dict(colors=colors))\n",
    "trace2 = go.Pie(labels=method_value['payment_type'], values=method_value['payment_value'],\n",
    "                domain= {'x': [0.52, 1]}, marker=dict(colors=colors))\n",
    "layout = dict(title= \"Number of payments (left) and Total payments value (right)\", \n",
    "              height=400, width=800,)\n",
    "fig = dict(data=[trace1, trace2], layout=layout)\n",
    "iplot(fig)"
   ]
  },
  {
   "cell_type": "markdown",
   "metadata": {
    "_uuid": "4984cea432f5f2ba59118732403982c5f97a42b1"
   },
   "source": [
    "No surprises here: most payments are done with credit card (almost 75%) and another 20% with boleto."
   ]
  },
  {
   "cell_type": "code",
   "execution_count": 7,
   "metadata": {
    "_kg_hide-input": true,
    "_uuid": "f2ff266a8f1cec6956a30e31e5377159370683ce"
   },
   "outputs": [
    {
     "data": {
      "image/png": "[encoded data removed]",
      "text/plain": [
       "<Figure size 547.2x273.6 with 1 Axes>"
      ]
     },
     "metadata": {
      "needs_background": "light"
     },
     "output_type": "display_data"
    }
   ],
   "source": [
    "ax = sns.catplot(x=\"payment_type\", y=\"payment_value\",data=payments, aspect=2, height=3.8)"
   ]
  },
  {
   "cell_type": "markdown",
   "metadata": {
    "_uuid": "2ef2d355af12ccaf22a1b2b16ffeafc91081f581"
   },
   "source": [
    "Most orders are less than 200 BRL, but we have a wide range of values,  so its better to plot the natural log as before:"
   ]
  },
  {
   "cell_type": "code",
   "execution_count": 8,
   "metadata": {
    "_kg_hide-input": true,
    "_uuid": "2a1b45648c22387ffbc1ad7d565acaa03ec50dc8"
   },
   "outputs": [
    {
     "data": {
      "image/png": "[encoded data removed]",
      "text/plain": [
       "<Figure size 720x288 with 1 Axes>"
      ]
     },
     "metadata": {
      "needs_background": "light"
     },
     "output_type": "display_data"
    }
   ],
   "source": [
    "plt.figure(figsize=(10,4))\n",
    "plt.title(\"Payments distributions - logn scale\")\n",
    "p1 = sns.kdeplot(payments[payments.payment_type == 'credit_card']['value_log'], color=\"navy\", label='Credit card')\n",
    "p2 = sns.kdeplot(payments[payments.payment_type == 'boleto']['value_log'], color=\"orange\", label='Boleto')\n",
    "p3 = sns.kdeplot(payments[payments.payment_type == 'voucher']['value_log'], color=\"green\", label='Voucher')\n",
    "p4 = sns.kdeplot(payments[payments.payment_type == 'debit_card']['value_log'], color=\"red\", label='Debit card')"
   ]
  },
  {
   "cell_type": "markdown",
   "metadata": {
    "_uuid": "34b3bdcaaafeb6fb23631817458d06b3eda9d6b2"
   },
   "source": [
    "<h3>Installments</h3>\n",
    "\n",
    "Only credit cards can have more than one installment:"
   ]
  },
  {
   "cell_type": "code",
   "execution_count": 9,
   "metadata": {
    "_uuid": "e50f69805c14ed28a5a6168585a91b711745083a"
   },
   "outputs": [
    {
     "data": {
      "text/html": [
       "<div>\n",
       "<style scoped>\n",
       "    .dataframe tbody tr th:only-of-type {\n",
       "        vertical-align: middle;\n",
       "    }\n",
       "\n",
       "    .dataframe tbody tr th {\n",
       "        vertical-align: top;\n",
       "    }\n",
       "\n",
       "    .dataframe thead th {\n",
       "        text-align: right;\n",
       "    }\n",
       "</style>\n",
       "<table border=\"1\" class=\"dataframe\">\n",
       "  <thead>\n",
       "    <tr style=\"text-align: right;\">\n",
       "      <th></th>\n",
       "      <th>payment_type</th>\n",
       "    </tr>\n",
       "  </thead>\n",
       "  <tbody>\n",
       "    <tr>\n",
       "      <th>credit_card</th>\n",
       "      <td>51338</td>\n",
       "    </tr>\n",
       "  </tbody>\n",
       "</table>\n",
       "</div>"
      ],
      "text/plain": [
       "             payment_type\n",
       "credit_card         51338"
      ]
     },
     "execution_count": 9,
     "metadata": {},
     "output_type": "execute_result"
    }
   ],
   "source": [
    "payments[payments['payment_installments'] > 1]['payment_type'].value_counts().to_frame()"
   ]
  },
  {
   "cell_type": "markdown",
   "metadata": {
    "_uuid": "3a7b4b603c27e1c8ba1daf21841a6b8d27147d15"
   },
   "source": [
    "When we plot the number of installments we can see some patterns. Most sellers in Brazil offer the option to divide the payment up to 10 installments and the mean product value increases until this number. Seven and nine installments are not usual."
   ]
  },
  {
   "cell_type": "code",
   "execution_count": 10,
   "metadata": {
    "_kg_hide-input": true,
    "_uuid": "c55cb3e7937e3a21da6b4f793a84a781bc2900b7"
   },
   "outputs": [
    {
     "name": "stderr",
     "output_type": "stream",
     "text": [
      "/Users/juliafreitas/anaconda3/envs/denox_python36/lib/python3.6/site-packages/plotly/tools.py:465: DeprecationWarning:\n",
      "\n",
      "plotly.tools.make_subplots is deprecated, please use plotly.subplots.make_subplots instead\n",
      "\n"
     ]
    },
    {
     "data": {
      "application/vnd.plotly.v1+json": {
       "config": {
        "linkText": "Export to plot.ly",
        "plotlyServerURL": "https://plot.ly",
        "showLink": false
       },
       "data": [
        {
         "marker": {
          "color": "rgb(49,130,189)"
         },
         "name": "Number of orders",
         "type": "bar",
         "x": [
          0,
          1,
          2,
          3,
          4,
          5,
          6,
          7,
          8,
          9,
          10,
          11,
          12,
          13,
          14,
          15,
          16,
          17,
          18,
          20,
          21,
          22,
          23,
          24
         ],
         "xaxis": "x",
         "y": [
          2,
          52546,
          12413,
          10461,
          7098,
          5239,
          3920,
          1626,
          4268,
          644,
          5328,
          23,
          133,
          16,
          15,
          74,
          5,
          8,
          27,
          17,
          3,
          1,
          1,
          18
         ],
         "yaxis": "y"
        },
        {
         "marker": {
          "color": "rgb(204,204,204)"
         },
         "name": "Mean value",
         "type": "bar",
         "x": [
          0,
          1,
          2,
          3,
          4,
          5,
          6,
          7,
          8,
          9,
          10,
          11,
          12,
          13,
          14,
          15,
          16,
          17,
          18,
          20,
          21,
          22,
          23,
          24
         ],
         "xaxis": "x2",
         "y": [
          94.315,
          112.42022913256561,
          127.22815032627128,
          142.5393174648697,
          163.97683995491641,
          183.46522237068183,
          209.8499515306125,
          187.6736715867158,
          307.73742736644886,
          203.44086956521718,
          415.0858370870872,
          124.9321739130435,
          321.6784962406015,
          150.4625,
          167.9626666666667,
          445.5531081081081,
          292.69399999999996,
          174.6025,
          486.48333333333335,
          615.8017647058823,
          243.69999999999996,
          228.71,
          236.48,
          610.048888888889
         ],
         "yaxis": "y2"
        }
       ],
       "layout": {
        "height": 400,
        "legend": {
         "orientation": "h"
        },
        "template": {
         "data": {
          "bar": [
           {
            "error_x": {
             "color": "#2a3f5f"
            },
            "error_y": {
             "color": "#2a3f5f"
            },
            "marker": {
             "line": {
              "color": "#E5ECF6",
              "width": 0.5
             }
            },
            "type": "bar"
           }
          ],
          "barpolar": [
           {
            "marker": {
             "line": {
              "color": "#E5ECF6",
              "width": 0.5
             }
            },
            "type": "barpolar"
           }
          ],
          "carpet": [
           {
            "aaxis": {
             "endlinecolor": "#2a3f5f",
             "gridcolor": "white",
             "linecolor": "white",
             "minorgridcolor": "white",
             "startlinecolor": "#2a3f5f"
            },
            "baxis": {
             "endlinecolor": "#2a3f5f",
             "gridcolor": "white",
             "linecolor": "white",
             "minorgridcolor": "white",
             "startlinecolor": "#2a3f5f"
            },
            "type": "carpet"
           }
          ],
          "choropleth": [
           {
            "colorbar": {
             "outlinewidth": 0,
             "ticks": ""
            },
            "type": "choropleth"
           }
          ],
          "contour": [
           {
            "colorbar": {
             "outlinewidth": 0,
             "ticks": ""
            },
            "colorscale": [
             [
              0,
              "#0d0887"
             ],
             [
              0.1111111111111111,
              "#46039f"
             ],
             [
              0.2222222222222222,
              "#7201a8"
             ],
             [
              0.3333333333333333,
              "#9c179e"
             ],
             [
              0.4444444444444444,
              "#bd3786"
             ],
             [
              0.5555555555555556,
              "#d8576b"
             ],
             [
              0.6666666666666666,
              "#ed7953"
             ],
             [
              0.7777777777777778,
              "#fb9f3a"
             ],
             [
              0.8888888888888888,
              "#fdca26"
             ],
             [
              1,
              "#f0f921"
             ]
            ],
            "type": "contour"
           }
          ],
          "contourcarpet": [
           {
            "colorbar": {
             "outlinewidth": 0,
             "ticks": ""
            },
            "type": "contourcarpet"
           }
          ],
          "heatmap": [
           {
            "colorbar": {
             "outlinewidth": 0,
             "ticks": ""
            },
            "colorscale": [
             [
              0,
              "#0d0887"
             ],
             [
              0.1111111111111111,
              "#46039f"
             ],
             [
              0.2222222222222222,
              "#7201a8"
             ],
             [
              0.3333333333333333,
              "#9c179e"
             ],
             [
              0.4444444444444444,
              "#bd3786"
             ],
             [
              0.5555555555555556,
              "#d8576b"
             ],
             [
              0.6666666666666666,
              "#ed7953"
             ],
             [
              0.7777777777777778,
              "#fb9f3a"
             ],
             [
              0.8888888888888888,
              "#fdca26"
             ],
             [
              1,
              "#f0f921"
             ]
            ],
            "type": "heatmap"
           }
          ],
          "heatmapgl": [
           {
            "colorbar": {
             "outlinewidth": 0,
             "ticks": ""
            },
            "colorscale": [
             [
              0,
              "#0d0887"
             ],
             [
              0.1111111111111111,
              "#46039f"
             ],
             [
              0.2222222222222222,
              "#7201a8"
             ],
             [
              0.3333333333333333,
              "#9c179e"
             ],
             [
              0.4444444444444444,
              "#bd3786"
             ],
             [
              0.5555555555555556,
              "#d8576b"
             ],
             [
              0.6666666666666666,
              "#ed7953"
             ],
             [
              0.7777777777777778,
              "#fb9f3a"
             ],
             [
              0.8888888888888888,
              "#fdca26"
             ],
             [
              1,
              "#f0f921"
             ]
            ],
            "type": "heatmapgl"
           }
          ],
          "histogram": [
           {
            "marker": {
             "colorbar": {
              "outlinewidth": 0,
              "ticks": ""
             }
            },
            "type": "histogram"
           }
          ],
          "histogram2d": [
           {
            "colorbar": {
             "outlinewidth": 0,
             "ticks": ""
            },
            "colorscale": [
             [
              0,
              "#0d0887"
             ],
             [
              0.1111111111111111,
              "#46039f"
             ],
             [
              0.2222222222222222,
              "#7201a8"
             ],
             [
              0.3333333333333333,
              "#9c179e"
             ],
             [
              0.4444444444444444,
              "#bd3786"
             ],
             [
              0.5555555555555556,
              "#d8576b"
             ],
             [
              0.6666666666666666,
              "#ed7953"
             ],
             [
              0.7777777777777778,
              "#fb9f3a"
             ],
             [
              0.8888888888888888,
              "#fdca26"
             ],
             [
              1,
              "#f0f921"
             ]
            ],
            "type": "histogram2d"
           }
          ],
          "histogram2dcontour": [
           {
            "colorbar": {
             "outlinewidth": 0,
             "ticks": ""
            },
            "colorscale": [
             [
              0,
              "#0d0887"
             ],
             [
              0.1111111111111111,
              "#46039f"
             ],
             [
              0.2222222222222222,
              "#7201a8"
             ],
             [
              0.3333333333333333,
              "#9c179e"
             ],
             [
              0.4444444444444444,
              "#bd3786"
             ],
             [
              0.5555555555555556,
              "#d8576b"
             ],
             [
              0.6666666666666666,
              "#ed7953"
             ],
             [
              0.7777777777777778,
              "#fb9f3a"
             ],
             [
              0.8888888888888888,
              "#fdca26"
             ],
             [
              1,
              "#f0f921"
             ]
            ],
            "type": "histogram2dcontour"
           }
          ],
          "mesh3d": [
           {
            "colorbar": {
             "outlinewidth": 0,
             "ticks": ""
            },
            "type": "mesh3d"
           }
          ],
          "parcoords": [
           {
            "line": {
             "colorbar": {
              "outlinewidth": 0,
              "ticks": ""
             }
            },
            "type": "parcoords"
           }
          ],
          "pie": [
           {
            "automargin": true,
            "type": "pie"
           }
          ],
          "scatter": [
           {
            "marker": {
             "colorbar": {
              "outlinewidth": 0,
              "ticks": ""
             }
            },
            "type": "scatter"
           }
          ],
          "scatter3d": [
           {
            "line": {
             "colorbar": {
              "outlinewidth": 0,
              "ticks": ""
             }
            },
            "marker": {
             "colorbar": {
              "outlinewidth": 0,
              "ticks": ""
             }
            },
            "type": "scatter3d"
           }
          ],
          "scattercarpet": [
           {
            "marker": {
             "colorbar": {
              "outlinewidth": 0,
              "ticks": ""
             }
            },
            "type": "scattercarpet"
           }
          ],
          "scattergeo": [
           {
            "marker": {
             "colorbar": {
              "outlinewidth": 0,
              "ticks": ""
             }
            },
            "type": "scattergeo"
           }
          ],
          "scattergl": [
           {
            "marker": {
             "colorbar": {
              "outlinewidth": 0,
              "ticks": ""
             }
            },
            "type": "scattergl"
           }
          ],
          "scattermapbox": [
           {
            "marker": {
             "colorbar": {
              "outlinewidth": 0,
              "ticks": ""
             }
            },
            "type": "scattermapbox"
           }
          ],
          "scatterpolar": [
           {
            "marker": {
             "colorbar": {
              "outlinewidth": 0,
              "ticks": ""
             }
            },
            "type": "scatterpolar"
           }
          ],
          "scatterpolargl": [
           {
            "marker": {
             "colorbar": {
              "outlinewidth": 0,
              "ticks": ""
             }
            },
            "type": "scatterpolargl"
           }
          ],
          "scatterternary": [
           {
            "marker": {
             "colorbar": {
              "outlinewidth": 0,
              "ticks": ""
             }
            },
            "type": "scatterternary"
           }
          ],
          "surface": [
           {
            "colorbar": {
             "outlinewidth": 0,
             "ticks": ""
            },
            "colorscale": [
             [
              0,
              "#0d0887"
             ],
             [
              0.1111111111111111,
              "#46039f"
             ],
             [
              0.2222222222222222,
              "#7201a8"
             ],
             [
              0.3333333333333333,
              "#9c179e"
             ],
             [
              0.4444444444444444,
              "#bd3786"
             ],
             [
              0.5555555555555556,
              "#d8576b"
             ],
             [
              0.6666666666666666,
              "#ed7953"
             ],
             [
              0.7777777777777778,
              "#fb9f3a"
             ],
             [
              0.8888888888888888,
              "#fdca26"
             ],
             [
              1,
              "#f0f921"
             ]
            ],
            "type": "surface"
           }
          ],
          "table": [
           {
            "cells": {
             "fill": {
              "color": "#EBF0F8"
             },
             "line": {
              "color": "white"
             }
            },
            "header": {
             "fill": {
              "color": "#C8D4E3"
             },
             "line": {
              "color": "white"
             }
            },
            "type": "table"
           }
          ]
         },
         "layout": {
          "annotationdefaults": {
           "arrowcolor": "#2a3f5f",
           "arrowhead": 0,
           "arrowwidth": 1
          },
          "coloraxis": {
           "colorbar": {
            "outlinewidth": 0,
            "ticks": ""
           }
          },
          "colorscale": {
           "diverging": [
            [
             0,
             "#8e0152"
            ],
            [
             0.1,
             "#c51b7d"
            ],
            [
             0.2,
             "#de77ae"
            ],
            [
             0.3,
             "#f1b6da"
            ],
            [
             0.4,
             "#fde0ef"
            ],
            [
             0.5,
             "#f7f7f7"
            ],
            [
             0.6,
             "#e6f5d0"
            ],
            [
             0.7,
             "#b8e186"
            ],
            [
             0.8,
             "#7fbc41"
            ],
            [
             0.9,
             "#4d9221"
            ],
            [
             1,
             "#276419"
            ]
           ],
           "sequential": [
            [
             0,
             "#0d0887"
            ],
            [
             0.1111111111111111,
             "#46039f"
            ],
            [
             0.2222222222222222,
             "#7201a8"
            ],
            [
             0.3333333333333333,
             "#9c179e"
            ],
            [
             0.4444444444444444,
             "#bd3786"
            ],
            [
             0.5555555555555556,
             "#d8576b"
            ],
            [
             0.6666666666666666,
             "#ed7953"
            ],
            [
             0.7777777777777778,
             "#fb9f3a"
            ],
            [
             0.8888888888888888,
             "#fdca26"
            ],
            [
             1,
             "#f0f921"
            ]
           ],
           "sequentialminus": [
            [
             0,
             "#0d0887"
            ],
            [
             0.1111111111111111,
             "#46039f"
            ],
            [
             0.2222222222222222,
             "#7201a8"
            ],
            [
             0.3333333333333333,
             "#9c179e"
            ],
            [
             0.4444444444444444,
             "#bd3786"
            ],
            [
             0.5555555555555556,
             "#d8576b"
            ],
            [
             0.6666666666666666,
             "#ed7953"
            ],
            [
             0.7777777777777778,
             "#fb9f3a"
            ],
            [
             0.8888888888888888,
             "#fdca26"
            ],
            [
             1,
             "#f0f921"
            ]
           ]
          },
          "colorway": [
           "#636efa",
           "#EF553B",
           "#00cc96",
           "#ab63fa",
           "#FFA15A",
           "#19d3f3",
           "#FF6692",
           "#B6E880",
           "#FF97FF",
           "#FECB52"
          ],
          "font": {
           "color": "#2a3f5f"
          },
          "geo": {
           "bgcolor": "white",
           "lakecolor": "white",
           "landcolor": "#E5ECF6",
           "showlakes": true,
           "showland": true,
           "subunitcolor": "white"
          },
          "hoverlabel": {
           "align": "left"
          },
          "hovermode": "closest",
          "mapbox": {
           "style": "light"
          },
          "paper_bgcolor": "white",
          "plot_bgcolor": "#E5ECF6",
          "polar": {
           "angularaxis": {
            "gridcolor": "white",
            "linecolor": "white",
            "ticks": ""
           },
           "bgcolor": "#E5ECF6",
           "radialaxis": {
            "gridcolor": "white",
            "linecolor": "white",
            "ticks": ""
           }
          },
          "scene": {
           "xaxis": {
            "backgroundcolor": "#E5ECF6",
            "gridcolor": "white",
            "gridwidth": 2,
            "linecolor": "white",
            "showbackground": true,
            "ticks": "",
            "zerolinecolor": "white"
           },
           "yaxis": {
            "backgroundcolor": "#E5ECF6",
            "gridcolor": "white",
            "gridwidth": 2,
            "linecolor": "white",
            "showbackground": true,
            "ticks": "",
            "zerolinecolor": "white"
           },
           "zaxis": {
            "backgroundcolor": "#E5ECF6",
            "gridcolor": "white",
            "gridwidth": 2,
            "linecolor": "white",
            "showbackground": true,
            "ticks": "",
            "zerolinecolor": "white"
           }
          },
          "shapedefaults": {
           "line": {
            "color": "#2a3f5f"
           }
          },
          "ternary": {
           "aaxis": {
            "gridcolor": "white",
            "linecolor": "white",
            "ticks": ""
           },
           "baxis": {
            "gridcolor": "white",
            "linecolor": "white",
            "ticks": ""
           },
           "bgcolor": "#E5ECF6",
           "caxis": {
            "gridcolor": "white",
            "linecolor": "white",
            "ticks": ""
           }
          },
          "title": {
           "x": 0.05
          },
          "xaxis": {
           "automargin": true,
           "gridcolor": "white",
           "linecolor": "white",
           "ticks": "",
           "title": {
            "standoff": 15
           },
           "zerolinecolor": "white",
           "zerolinewidth": 2
          },
          "yaxis": {
           "automargin": true,
           "gridcolor": "white",
           "linecolor": "white",
           "ticks": "",
           "title": {
            "standoff": 15
           },
           "zerolinecolor": "white",
           "zerolinewidth": 2
          }
         }
        },
        "title": {
         "text": "Number of installments"
        },
        "width": 800,
        "xaxis": {
         "anchor": "y",
         "domain": [
          0,
          0.45
         ]
        },
        "xaxis2": {
         "anchor": "y2",
         "domain": [
          0.55,
          1
         ]
        },
        "yaxis": {
         "anchor": "x",
         "domain": [
          0,
          1
         ]
        },
        "yaxis2": {
         "anchor": "x2",
         "domain": [
          0,
          1
         ]
        }
       }
      },
      "text/html": [
       "<div>\n",
       "        \n",
       "        \n",
       "            <div id=\"2786e539-2013-46c5-87a4-bd0829a08460\" class=\"plotly-graph-div\" style=\"height:400px; width:800px;\"></div>\n",
       "            <script type=\"text/javascript\">\n",
       "                require([\"plotly\"], function(Plotly) {\n",
       "                    window.PLOTLYENV=window.PLOTLYENV || {};\n",
       "                    \n",
       "                if (document.getElementById(\"2786e539-2013-46c5-87a4-bd0829a08460\")) {\n",
       "                    Plotly.newPlot(\n",
       "                        '2786e539-2013-46c5-87a4-bd0829a08460',\n",
       "                        [{\"marker\": {\"color\": \"rgb(49,130,189)\"}, \"name\": \"Number of orders\", \"type\": \"bar\", \"x\": [0, 1, 2, 3, 4, 5, 6, 7, 8, 9, 10, 11, 12, 13, 14, 15, 16, 17, 18, 20, 21, 22, 23, 24], \"xaxis\": \"x\", \"y\": [2, 52546, 12413, 10461, 7098, 5239, 3920, 1626, 4268, 644, 5328, 23, 133, 16, 15, 74, 5, 8, 27, 17, 3, 1, 1, 18], \"yaxis\": \"y\"}, {\"marker\": {\"color\": \"rgb(204,204,204)\"}, \"name\": \"Mean value\", \"type\": \"bar\", \"x\": [0, 1, 2, 3, 4, 5, 6, 7, 8, 9, 10, 11, 12, 13, 14, 15, 16, 17, 18, 20, 21, 22, 23, 24], \"xaxis\": \"x2\", \"y\": [94.315, 112.42022913256561, 127.22815032627128, 142.5393174648697, 163.97683995491641, 183.46522237068183, 209.8499515306125, 187.6736715867158, 307.73742736644886, 203.44086956521718, 415.0858370870872, 124.9321739130435, 321.6784962406015, 150.4625, 167.9626666666667, 445.5531081081081, 292.69399999999996, 174.6025, 486.48333333333335, 615.8017647058823, 243.69999999999996, 228.71, 236.48, 610.048888888889], \"yaxis\": \"y2\"}],\n",
       "                        {\"height\": 400, \"legend\": {\"orientation\": \"h\"}, \"template\": {\"data\": {\"bar\": [{\"error_x\": {\"color\": \"#2a3f5f\"}, \"error_y\": {\"color\": \"#2a3f5f\"}, \"marker\": {\"line\": {\"color\": \"#E5ECF6\", \"width\": 0.5}}, \"type\": \"bar\"}], \"barpolar\": [{\"marker\": {\"line\": {\"color\": \"#E5ECF6\", \"width\": 0.5}}, \"type\": \"barpolar\"}], \"carpet\": [{\"aaxis\": {\"endlinecolor\": \"#2a3f5f\", \"gridcolor\": \"white\", \"linecolor\": \"white\", \"minorgridcolor\": \"white\", \"startlinecolor\": \"#2a3f5f\"}, \"baxis\": {\"endlinecolor\": \"#2a3f5f\", \"gridcolor\": \"white\", \"linecolor\": \"white\", \"minorgridcolor\": \"white\", \"startlinecolor\": \"#2a3f5f\"}, \"type\": \"carpet\"}], \"choropleth\": [{\"colorbar\": {\"outlinewidth\": 0, \"ticks\": \"\"}, \"type\": \"choropleth\"}], \"contour\": [{\"colorbar\": {\"outlinewidth\": 0, \"ticks\": \"\"}, \"colorscale\": [[0.0, \"#0d0887\"], [0.1111111111111111, \"#46039f\"], [0.2222222222222222, \"#7201a8\"], [0.3333333333333333, \"#9c179e\"], [0.4444444444444444, \"#bd3786\"], [0.5555555555555556, \"#d8576b\"], [0.6666666666666666, \"#ed7953\"], [0.7777777777777778, \"#fb9f3a\"], [0.8888888888888888, \"#fdca26\"], [1.0, \"#f0f921\"]], \"type\": \"contour\"}], \"contourcarpet\": [{\"colorbar\": {\"outlinewidth\": 0, \"ticks\": \"\"}, \"type\": \"contourcarpet\"}], \"heatmap\": [{\"colorbar\": {\"outlinewidth\": 0, \"ticks\": \"\"}, \"colorscale\": [[0.0, \"#0d0887\"], [0.1111111111111111, \"#46039f\"], [0.2222222222222222, \"#7201a8\"], [0.3333333333333333, \"#9c179e\"], [0.4444444444444444, \"#bd3786\"], [0.5555555555555556, \"#d8576b\"], [0.6666666666666666, \"#ed7953\"], [0.7777777777777778, \"#fb9f3a\"], [0.8888888888888888, \"#fdca26\"], [1.0, \"#f0f921\"]], \"type\": \"heatmap\"}], \"heatmapgl\": [{\"colorbar\": {\"outlinewidth\": 0, \"ticks\": \"\"}, \"colorscale\": [[0.0, \"#0d0887\"], [0.1111111111111111, \"#46039f\"], [0.2222222222222222, \"#7201a8\"], [0.3333333333333333, \"#9c179e\"], [0.4444444444444444, \"#bd3786\"], [0.5555555555555556, \"#d8576b\"], [0.6666666666666666, \"#ed7953\"], [0.7777777777777778, \"#fb9f3a\"], [0.8888888888888888, \"#fdca26\"], [1.0, \"#f0f921\"]], \"type\": \"heatmapgl\"}], \"histogram\": [{\"marker\": {\"colorbar\": {\"outlinewidth\": 0, \"ticks\": \"\"}}, \"type\": \"histogram\"}], \"histogram2d\": [{\"colorbar\": {\"outlinewidth\": 0, \"ticks\": \"\"}, \"colorscale\": [[0.0, \"#0d0887\"], [0.1111111111111111, \"#46039f\"], [0.2222222222222222, \"#7201a8\"], [0.3333333333333333, \"#9c179e\"], [0.4444444444444444, \"#bd3786\"], [0.5555555555555556, \"#d8576b\"], [0.6666666666666666, \"#ed7953\"], [0.7777777777777778, \"#fb9f3a\"], [0.8888888888888888, \"#fdca26\"], [1.0, \"#f0f921\"]], \"type\": \"histogram2d\"}], \"histogram2dcontour\": [{\"colorbar\": {\"outlinewidth\": 0, \"ticks\": \"\"}, \"colorscale\": [[0.0, \"#0d0887\"], [0.1111111111111111, \"#46039f\"], [0.2222222222222222, \"#7201a8\"], [0.3333333333333333, \"#9c179e\"], [0.4444444444444444, \"#bd3786\"], [0.5555555555555556, \"#d8576b\"], [0.6666666666666666, \"#ed7953\"], [0.7777777777777778, \"#fb9f3a\"], [0.8888888888888888, \"#fdca26\"], [1.0, \"#f0f921\"]], \"type\": \"histogram2dcontour\"}], \"mesh3d\": [{\"colorbar\": {\"outlinewidth\": 0, \"ticks\": \"\"}, \"type\": \"mesh3d\"}], \"parcoords\": [{\"line\": {\"colorbar\": {\"outlinewidth\": 0, \"ticks\": \"\"}}, \"type\": \"parcoords\"}], \"pie\": [{\"automargin\": true, \"type\": \"pie\"}], \"scatter\": [{\"marker\": {\"colorbar\": {\"outlinewidth\": 0, \"ticks\": \"\"}}, \"type\": \"scatter\"}], \"scatter3d\": [{\"line\": {\"colorbar\": {\"outlinewidth\": 0, \"ticks\": \"\"}}, \"marker\": {\"colorbar\": {\"outlinewidth\": 0, \"ticks\": \"\"}}, \"type\": \"scatter3d\"}], \"scattercarpet\": [{\"marker\": {\"colorbar\": {\"outlinewidth\": 0, \"ticks\": \"\"}}, \"type\": \"scattercarpet\"}], \"scattergeo\": [{\"marker\": {\"colorbar\": {\"outlinewidth\": 0, \"ticks\": \"\"}}, \"type\": \"scattergeo\"}], \"scattergl\": [{\"marker\": {\"colorbar\": {\"outlinewidth\": 0, \"ticks\": \"\"}}, \"type\": \"scattergl\"}], \"scattermapbox\": [{\"marker\": {\"colorbar\": {\"outlinewidth\": 0, \"ticks\": \"\"}}, \"type\": \"scattermapbox\"}], \"scatterpolar\": [{\"marker\": {\"colorbar\": {\"outlinewidth\": 0, \"ticks\": \"\"}}, \"type\": \"scatterpolar\"}], \"scatterpolargl\": [{\"marker\": {\"colorbar\": {\"outlinewidth\": 0, \"ticks\": \"\"}}, \"type\": \"scatterpolargl\"}], \"scatterternary\": [{\"marker\": {\"colorbar\": {\"outlinewidth\": 0, \"ticks\": \"\"}}, \"type\": \"scatterternary\"}], \"surface\": [{\"colorbar\": {\"outlinewidth\": 0, \"ticks\": \"\"}, \"colorscale\": [[0.0, \"#0d0887\"], [0.1111111111111111, \"#46039f\"], [0.2222222222222222, \"#7201a8\"], [0.3333333333333333, \"#9c179e\"], [0.4444444444444444, \"#bd3786\"], [0.5555555555555556, \"#d8576b\"], [0.6666666666666666, \"#ed7953\"], [0.7777777777777778, \"#fb9f3a\"], [0.8888888888888888, \"#fdca26\"], [1.0, \"#f0f921\"]], \"type\": \"surface\"}], \"table\": [{\"cells\": {\"fill\": {\"color\": \"#EBF0F8\"}, \"line\": {\"color\": \"white\"}}, \"header\": {\"fill\": {\"color\": \"#C8D4E3\"}, \"line\": {\"color\": \"white\"}}, \"type\": \"table\"}]}, \"layout\": {\"annotationdefaults\": {\"arrowcolor\": \"#2a3f5f\", \"arrowhead\": 0, \"arrowwidth\": 1}, \"coloraxis\": {\"colorbar\": {\"outlinewidth\": 0, \"ticks\": \"\"}}, \"colorscale\": {\"diverging\": [[0, \"#8e0152\"], [0.1, \"#c51b7d\"], [0.2, \"#de77ae\"], [0.3, \"#f1b6da\"], [0.4, \"#fde0ef\"], [0.5, \"#f7f7f7\"], [0.6, \"#e6f5d0\"], [0.7, \"#b8e186\"], [0.8, \"#7fbc41\"], [0.9, \"#4d9221\"], [1, \"#276419\"]], \"sequential\": [[0.0, \"#0d0887\"], [0.1111111111111111, \"#46039f\"], [0.2222222222222222, \"#7201a8\"], [0.3333333333333333, \"#9c179e\"], [0.4444444444444444, \"#bd3786\"], [0.5555555555555556, \"#d8576b\"], [0.6666666666666666, \"#ed7953\"], [0.7777777777777778, \"#fb9f3a\"], [0.8888888888888888, \"#fdca26\"], [1.0, \"#f0f921\"]], \"sequentialminus\": [[0.0, \"#0d0887\"], [0.1111111111111111, \"#46039f\"], [0.2222222222222222, \"#7201a8\"], [0.3333333333333333, \"#9c179e\"], [0.4444444444444444, \"#bd3786\"], [0.5555555555555556, \"#d8576b\"], [0.6666666666666666, \"#ed7953\"], [0.7777777777777778, \"#fb9f3a\"], [0.8888888888888888, \"#fdca26\"], [1.0, \"#f0f921\"]]}, \"colorway\": [\"#636efa\", \"#EF553B\", \"#00cc96\", \"#ab63fa\", \"#FFA15A\", \"#19d3f3\", \"#FF6692\", \"#B6E880\", \"#FF97FF\", \"#FECB52\"], \"font\": {\"color\": \"#2a3f5f\"}, \"geo\": {\"bgcolor\": \"white\", \"lakecolor\": \"white\", \"landcolor\": \"#E5ECF6\", \"showlakes\": true, \"showland\": true, \"subunitcolor\": \"white\"}, \"hoverlabel\": {\"align\": \"left\"}, \"hovermode\": \"closest\", \"mapbox\": {\"style\": \"light\"}, \"paper_bgcolor\": \"white\", \"plot_bgcolor\": \"#E5ECF6\", \"polar\": {\"angularaxis\": {\"gridcolor\": \"white\", \"linecolor\": \"white\", \"ticks\": \"\"}, \"bgcolor\": \"#E5ECF6\", \"radialaxis\": {\"gridcolor\": \"white\", \"linecolor\": \"white\", \"ticks\": \"\"}}, \"scene\": {\"xaxis\": {\"backgroundcolor\": \"#E5ECF6\", \"gridcolor\": \"white\", \"gridwidth\": 2, \"linecolor\": \"white\", \"showbackground\": true, \"ticks\": \"\", \"zerolinecolor\": \"white\"}, \"yaxis\": {\"backgroundcolor\": \"#E5ECF6\", \"gridcolor\": \"white\", \"gridwidth\": 2, \"linecolor\": \"white\", \"showbackground\": true, \"ticks\": \"\", \"zerolinecolor\": \"white\"}, \"zaxis\": {\"backgroundcolor\": \"#E5ECF6\", \"gridcolor\": \"white\", \"gridwidth\": 2, \"linecolor\": \"white\", \"showbackground\": true, \"ticks\": \"\", \"zerolinecolor\": \"white\"}}, \"shapedefaults\": {\"line\": {\"color\": \"#2a3f5f\"}}, \"ternary\": {\"aaxis\": {\"gridcolor\": \"white\", \"linecolor\": \"white\", \"ticks\": \"\"}, \"baxis\": {\"gridcolor\": \"white\", \"linecolor\": \"white\", \"ticks\": \"\"}, \"bgcolor\": \"#E5ECF6\", \"caxis\": {\"gridcolor\": \"white\", \"linecolor\": \"white\", \"ticks\": \"\"}}, \"title\": {\"x\": 0.05}, \"xaxis\": {\"automargin\": true, \"gridcolor\": \"white\", \"linecolor\": \"white\", \"ticks\": \"\", \"title\": {\"standoff\": 15}, \"zerolinecolor\": \"white\", \"zerolinewidth\": 2}, \"yaxis\": {\"automargin\": true, \"gridcolor\": \"white\", \"linecolor\": \"white\", \"ticks\": \"\", \"title\": {\"standoff\": 15}, \"zerolinecolor\": \"white\", \"zerolinewidth\": 2}}}, \"title\": {\"text\": \"Number of installments\"}, \"width\": 800, \"xaxis\": {\"anchor\": \"y\", \"domain\": [0.0, 0.45]}, \"xaxis2\": {\"anchor\": \"y2\", \"domain\": [0.55, 1.0]}, \"yaxis\": {\"anchor\": \"x\", \"domain\": [0.0, 1.0]}, \"yaxis2\": {\"anchor\": \"x2\", \"domain\": [0.0, 1.0]}},\n",
       "                        {\"responsive\": true}\n",
       "                    ).then(function(){\n",
       "                            \n",
       "var gd = document.getElementById('2786e539-2013-46c5-87a4-bd0829a08460');\n",
       "var x = new MutationObserver(function (mutations, observer) {{\n",
       "        var display = window.getComputedStyle(gd).display;\n",
       "        if (!display || display === 'none') {{\n",
       "            console.log([gd, 'removed!']);\n",
       "            Plotly.purge(gd);\n",
       "            observer.disconnect();\n",
       "        }}\n",
       "}});\n",
       "\n",
       "// Listen for the removal of the full notebook cells\n",
       "var notebookContainer = gd.closest('#notebook-container');\n",
       "if (notebookContainer) {{\n",
       "    x.observe(notebookContainer, {childList: true});\n",
       "}}\n",
       "\n",
       "// Listen for the clearing of the current output cell\n",
       "var outputEl = gd.closest('.output');\n",
       "if (outputEl) {{\n",
       "    x.observe(outputEl, {childList: true});\n",
       "}}\n",
       "\n",
       "                        })\n",
       "                };\n",
       "                });\n",
       "            </script>\n",
       "        </div>"
      ]
     },
     "metadata": {},
     "output_type": "display_data"
    }
   ],
   "source": [
    "ins_count = payments.groupby('payment_installments').size()\n",
    "ins_mean = payments.groupby('payment_installments')['payment_value'].mean()\n",
    "\n",
    "trace0 = go.Bar(\n",
    "    x=ins_count.index,\n",
    "    y=ins_count.values,\n",
    "    name='Number of orders',\n",
    "    marker=dict(color='rgb(49,130,189)')\n",
    ")\n",
    "trace1 = go.Bar(\n",
    "    x=ins_mean.index,\n",
    "    y=ins_mean.values,\n",
    "    name='Mean value',\n",
    "    marker=dict(color='rgb(204,204,204)')\n",
    ")\n",
    "fig = tools.make_subplots(rows=1, cols=2, print_grid=False)\n",
    "fig.append_trace(trace0, 1, 1)\n",
    "fig.append_trace(trace1, 1, 2)\n",
    "\n",
    "fig['layout'].update(height=400, width=800, title='Number of installments',\n",
    "                     legend=dict(orientation=\"h\"))\n",
    "iplot(fig)"
   ]
  },
  {
   "cell_type": "markdown",
   "metadata": {
    "_uuid": "419e10c058b76b03fa36660a0e54ccfd1e38ae17"
   },
   "source": [
    "The next plot shows the number of orders (left) and the total value (right) for payments with a single installment. The distribution is quite difference here."
   ]
  },
  {
   "cell_type": "code",
   "execution_count": 11,
   "metadata": {
    "_kg_hide-input": true,
    "_uuid": "f199fdea305f88a8df29d5e952d830733bdf00dc"
   },
   "outputs": [
    {
     "data": {
      "application/vnd.plotly.v1+json": {
       "config": {
        "linkText": "Export to plot.ly",
        "plotlyServerURL": "https://plot.ly",
        "showLink": false
       },
       "data": [
        {
         "domain": {
          "x": [
           0,
           0.48
          ]
         },
         "labels": [
          "credit_card",
          "boleto",
          "voucher",
          "debit_card",
          "not_defined"
         ],
         "type": "pie",
         "values": [
          25455,
          19784,
          5775,
          1529,
          3
         ]
        },
        {
         "domain": {
          "x": [
           0.52,
           1
          ]
         },
         "labels": [
          "boleto",
          "credit_card",
          "debit_card",
          "not_defined",
          "voucher"
         ],
         "type": "pie",
         "values": [
          2869361.2699999753,
          2440445.4299999927,
          217989.7900000001,
          0,
          379436.8700000007
         ]
        }
       ],
       "layout": {
        "height": 400,
        "template": {
         "data": {
          "bar": [
           {
            "error_x": {
             "color": "#2a3f5f"
            },
            "error_y": {
             "color": "#2a3f5f"
            },
            "marker": {
             "line": {
              "color": "#E5ECF6",
              "width": 0.5
             }
            },
            "type": "bar"
           }
          ],
          "barpolar": [
           {
            "marker": {
             "line": {
              "color": "#E5ECF6",
              "width": 0.5
             }
            },
            "type": "barpolar"
           }
          ],
          "carpet": [
           {
            "aaxis": {
             "endlinecolor": "#2a3f5f",
             "gridcolor": "white",
             "linecolor": "white",
             "minorgridcolor": "white",
             "startlinecolor": "#2a3f5f"
            },
            "baxis": {
             "endlinecolor": "#2a3f5f",
             "gridcolor": "white",
             "linecolor": "white",
             "minorgridcolor": "white",
             "startlinecolor": "#2a3f5f"
            },
            "type": "carpet"
           }
          ],
          "choropleth": [
           {
            "colorbar": {
             "outlinewidth": 0,
             "ticks": ""
            },
            "type": "choropleth"
           }
          ],
          "contour": [
           {
            "colorbar": {
             "outlinewidth": 0,
             "ticks": ""
            },
            "colorscale": [
             [
              0,
              "#0d0887"
             ],
             [
              0.1111111111111111,
              "#46039f"
             ],
             [
              0.2222222222222222,
              "#7201a8"
             ],
             [
              0.3333333333333333,
              "#9c179e"
             ],
             [
              0.4444444444444444,
              "#bd3786"
             ],
             [
              0.5555555555555556,
              "#d8576b"
             ],
             [
              0.6666666666666666,
              "#ed7953"
             ],
             [
              0.7777777777777778,
              "#fb9f3a"
             ],
             [
              0.8888888888888888,
              "#fdca26"
             ],
             [
              1,
              "#f0f921"
             ]
            ],
            "type": "contour"
           }
          ],
          "contourcarpet": [
           {
            "colorbar": {
             "outlinewidth": 0,
             "ticks": ""
            },
            "type": "contourcarpet"
           }
          ],
          "heatmap": [
           {
            "colorbar": {
             "outlinewidth": 0,
             "ticks": ""
            },
            "colorscale": [
             [
              0,
              "#0d0887"
             ],
             [
              0.1111111111111111,
              "#46039f"
             ],
             [
              0.2222222222222222,
              "#7201a8"
             ],
             [
              0.3333333333333333,
              "#9c179e"
             ],
             [
              0.4444444444444444,
              "#bd3786"
             ],
             [
              0.5555555555555556,
              "#d8576b"
             ],
             [
              0.6666666666666666,
              "#ed7953"
             ],
             [
              0.7777777777777778,
              "#fb9f3a"
             ],
             [
              0.8888888888888888,
              "#fdca26"
             ],
             [
              1,
              "#f0f921"
             ]
            ],
            "type": "heatmap"
           }
          ],
          "heatmapgl": [
           {
            "colorbar": {
             "outlinewidth": 0,
             "ticks": ""
            },
            "colorscale": [
             [
              0,
              "#0d0887"
             ],
             [
              0.1111111111111111,
              "#46039f"
             ],
             [
              0.2222222222222222,
              "#7201a8"
             ],
             [
              0.3333333333333333,
              "#9c179e"
             ],
             [
              0.4444444444444444,
              "#bd3786"
             ],
             [
              0.5555555555555556,
              "#d8576b"
             ],
             [
              0.6666666666666666,
              "#ed7953"
             ],
             [
              0.7777777777777778,
              "#fb9f3a"
             ],
             [
              0.8888888888888888,
              "#fdca26"
             ],
             [
              1,
              "#f0f921"
             ]
            ],
            "type": "heatmapgl"
           }
          ],
          "histogram": [
           {
            "marker": {
             "colorbar": {
              "outlinewidth": 0,
              "ticks": ""
             }
            },
            "type": "histogram"
           }
          ],
          "histogram2d": [
           {
            "colorbar": {
             "outlinewidth": 0,
             "ticks": ""
            },
            "colorscale": [
             [
              0,
              "#0d0887"
             ],
             [
              0.1111111111111111,
              "#46039f"
             ],
             [
              0.2222222222222222,
              "#7201a8"
             ],
             [
              0.3333333333333333,
              "#9c179e"
             ],
             [
              0.4444444444444444,
              "#bd3786"
             ],
             [
              0.5555555555555556,
              "#d8576b"
             ],
             [
              0.6666666666666666,
              "#ed7953"
             ],
             [
              0.7777777777777778,
              "#fb9f3a"
             ],
             [
              0.8888888888888888,
              "#fdca26"
             ],
             [
              1,
              "#f0f921"
             ]
            ],
            "type": "histogram2d"
           }
          ],
          "histogram2dcontour": [
           {
            "colorbar": {
             "outlinewidth": 0,
             "ticks": ""
            },
            "colorscale": [
             [
              0,
              "#0d0887"
             ],
             [
              0.1111111111111111,
              "#46039f"
             ],
             [
              0.2222222222222222,
              "#7201a8"
             ],
             [
              0.3333333333333333,
              "#9c179e"
             ],
             [
              0.4444444444444444,
              "#bd3786"
             ],
             [
              0.5555555555555556,
              "#d8576b"
             ],
             [
              0.6666666666666666,
              "#ed7953"
             ],
             [
              0.7777777777777778,
              "#fb9f3a"
             ],
             [
              0.8888888888888888,
              "#fdca26"
             ],
             [
              1,
              "#f0f921"
             ]
            ],
            "type": "histogram2dcontour"
           }
          ],
          "mesh3d": [
           {
            "colorbar": {
             "outlinewidth": 0,
             "ticks": ""
            },
            "type": "mesh3d"
           }
          ],
          "parcoords": [
           {
            "line": {
             "colorbar": {
              "outlinewidth": 0,
              "ticks": ""
             }
            },
            "type": "parcoords"
           }
          ],
          "pie": [
           {
            "automargin": true,
            "type": "pie"
           }
          ],
          "scatter": [
           {
            "marker": {
             "colorbar": {
              "outlinewidth": 0,
              "ticks": ""
             }
            },
            "type": "scatter"
           }
          ],
          "scatter3d": [
           {
            "line": {
             "colorbar": {
              "outlinewidth": 0,
              "ticks": ""
             }
            },
            "marker": {
             "colorbar": {
              "outlinewidth": 0,
              "ticks": ""
             }
            },
            "type": "scatter3d"
           }
          ],
          "scattercarpet": [
           {
            "marker": {
             "colorbar": {
              "outlinewidth": 0,
              "ticks": ""
             }
            },
            "type": "scattercarpet"
           }
          ],
          "scattergeo": [
           {
            "marker": {
             "colorbar": {
              "outlinewidth": 0,
              "ticks": ""
             }
            },
            "type": "scattergeo"
           }
          ],
          "scattergl": [
           {
            "marker": {
             "colorbar": {
              "outlinewidth": 0,
              "ticks": ""
             }
            },
            "type": "scattergl"
           }
          ],
          "scattermapbox": [
           {
            "marker": {
             "colorbar": {
              "outlinewidth": 0,
              "ticks": ""
             }
            },
            "type": "scattermapbox"
           }
          ],
          "scatterpolar": [
           {
            "marker": {
             "colorbar": {
              "outlinewidth": 0,
              "ticks": ""
             }
            },
            "type": "scatterpolar"
           }
          ],
          "scatterpolargl": [
           {
            "marker": {
             "colorbar": {
              "outlinewidth": 0,
              "ticks": ""
             }
            },
            "type": "scatterpolargl"
           }
          ],
          "scatterternary": [
           {
            "marker": {
             "colorbar": {
              "outlinewidth": 0,
              "ticks": ""
             }
            },
            "type": "scatterternary"
           }
          ],
          "surface": [
           {
            "colorbar": {
             "outlinewidth": 0,
             "ticks": ""
            },
            "colorscale": [
             [
              0,
              "#0d0887"
             ],
             [
              0.1111111111111111,
              "#46039f"
             ],
             [
              0.2222222222222222,
              "#7201a8"
             ],
             [
              0.3333333333333333,
              "#9c179e"
             ],
             [
              0.4444444444444444,
              "#bd3786"
             ],
             [
              0.5555555555555556,
              "#d8576b"
             ],
             [
              0.6666666666666666,
              "#ed7953"
             ],
             [
              0.7777777777777778,
              "#fb9f3a"
             ],
             [
              0.8888888888888888,
              "#fdca26"
             ],
             [
              1,
              "#f0f921"
             ]
            ],
            "type": "surface"
           }
          ],
          "table": [
           {
            "cells": {
             "fill": {
              "color": "#EBF0F8"
             },
             "line": {
              "color": "white"
             }
            },
            "header": {
             "fill": {
              "color": "#C8D4E3"
             },
             "line": {
              "color": "white"
             }
            },
            "type": "table"
           }
          ]
         },
         "layout": {
          "annotationdefaults": {
           "arrowcolor": "#2a3f5f",
           "arrowhead": 0,
           "arrowwidth": 1
          },
          "coloraxis": {
           "colorbar": {
            "outlinewidth": 0,
            "ticks": ""
           }
          },
          "colorscale": {
           "diverging": [
            [
             0,
             "#8e0152"
            ],
            [
             0.1,
             "#c51b7d"
            ],
            [
             0.2,
             "#de77ae"
            ],
            [
             0.3,
             "#f1b6da"
            ],
            [
             0.4,
             "#fde0ef"
            ],
            [
             0.5,
             "#f7f7f7"
            ],
            [
             0.6,
             "#e6f5d0"
            ],
            [
             0.7,
             "#b8e186"
            ],
            [
             0.8,
             "#7fbc41"
            ],
            [
             0.9,
             "#4d9221"
            ],
            [
             1,
             "#276419"
            ]
           ],
           "sequential": [
            [
             0,
             "#0d0887"
            ],
            [
             0.1111111111111111,
             "#46039f"
            ],
            [
             0.2222222222222222,
             "#7201a8"
            ],
            [
             0.3333333333333333,
             "#9c179e"
            ],
            [
             0.4444444444444444,
             "#bd3786"
            ],
            [
             0.5555555555555556,
             "#d8576b"
            ],
            [
             0.6666666666666666,
             "#ed7953"
            ],
            [
             0.7777777777777778,
             "#fb9f3a"
            ],
            [
             0.8888888888888888,
             "#fdca26"
            ],
            [
             1,
             "#f0f921"
            ]
           ],
           "sequentialminus": [
            [
             0,
             "#0d0887"
            ],
            [
             0.1111111111111111,
             "#46039f"
            ],
            [
             0.2222222222222222,
             "#7201a8"
            ],
            [
             0.3333333333333333,
             "#9c179e"
            ],
            [
             0.4444444444444444,
             "#bd3786"
            ],
            [
             0.5555555555555556,
             "#d8576b"
            ],
            [
             0.6666666666666666,
             "#ed7953"
            ],
            [
             0.7777777777777778,
             "#fb9f3a"
            ],
            [
             0.8888888888888888,
             "#fdca26"
            ],
            [
             1,
             "#f0f921"
            ]
           ]
          },
          "colorway": [
           "#636efa",
           "#EF553B",
           "#00cc96",
           "#ab63fa",
           "#FFA15A",
           "#19d3f3",
           "#FF6692",
           "#B6E880",
           "#FF97FF",
           "#FECB52"
          ],
          "font": {
           "color": "#2a3f5f"
          },
          "geo": {
           "bgcolor": "white",
           "lakecolor": "white",
           "landcolor": "#E5ECF6",
           "showlakes": true,
           "showland": true,
           "subunitcolor": "white"
          },
          "hoverlabel": {
           "align": "left"
          },
          "hovermode": "closest",
          "mapbox": {
           "style": "light"
          },
          "paper_bgcolor": "white",
          "plot_bgcolor": "#E5ECF6",
          "polar": {
           "angularaxis": {
            "gridcolor": "white",
            "linecolor": "white",
            "ticks": ""
           },
           "bgcolor": "#E5ECF6",
           "radialaxis": {
            "gridcolor": "white",
            "linecolor": "white",
            "ticks": ""
           }
          },
          "scene": {
           "xaxis": {
            "backgroundcolor": "#E5ECF6",
            "gridcolor": "white",
            "gridwidth": 2,
            "linecolor": "white",
            "showbackground": true,
            "ticks": "",
            "zerolinecolor": "white"
           },
           "yaxis": {
            "backgroundcolor": "#E5ECF6",
            "gridcolor": "white",
            "gridwidth": 2,
            "linecolor": "white",
            "showbackground": true,
            "ticks": "",
            "zerolinecolor": "white"
           },
           "zaxis": {
            "backgroundcolor": "#E5ECF6",
            "gridcolor": "white",
            "gridwidth": 2,
            "linecolor": "white",
            "showbackground": true,
            "ticks": "",
            "zerolinecolor": "white"
           }
          },
          "shapedefaults": {
           "line": {
            "color": "#2a3f5f"
           }
          },
          "ternary": {
           "aaxis": {
            "gridcolor": "white",
            "linecolor": "white",
            "ticks": ""
           },
           "baxis": {
            "gridcolor": "white",
            "linecolor": "white",
            "ticks": ""
           },
           "bgcolor": "#E5ECF6",
           "caxis": {
            "gridcolor": "white",
            "linecolor": "white",
            "ticks": ""
           }
          },
          "title": {
           "x": 0.05
          },
          "xaxis": {
           "automargin": true,
           "gridcolor": "white",
           "linecolor": "white",
           "ticks": "",
           "title": {
            "standoff": 15
           },
           "zerolinecolor": "white",
           "zerolinewidth": 2
          },
          "yaxis": {
           "automargin": true,
           "gridcolor": "white",
           "linecolor": "white",
           "ticks": "",
           "title": {
            "standoff": 15
           },
           "zerolinecolor": "white",
           "zerolinewidth": 2
          }
         }
        },
        "title": {
         "text": "Orders and value for a single installment"
        },
        "width": 800
       }
      },
      "text/html": [
       "<div>\n",
       "        \n",
       "        \n",
       "            <div id=\"a851e589-c435-45c0-9547-53b7a99b42fc\" class=\"plotly-graph-div\" style=\"height:400px; width:800px;\"></div>\n",
       "            <script type=\"text/javascript\">\n",
       "                require([\"plotly\"], function(Plotly) {\n",
       "                    window.PLOTLYENV=window.PLOTLYENV || {};\n",
       "                    \n",
       "                if (document.getElementById(\"a851e589-c435-45c0-9547-53b7a99b42fc\")) {\n",
       "                    Plotly.newPlot(\n",
       "                        'a851e589-c435-45c0-9547-53b7a99b42fc',\n",
       "                        [{\"domain\": {\"x\": [0, 0.48]}, \"labels\": [\"credit_card\", \"boleto\", \"voucher\", \"debit_card\", \"not_defined\"], \"type\": \"pie\", \"values\": [25455, 19784, 5775, 1529, 3]}, {\"domain\": {\"x\": [0.52, 1]}, \"labels\": [\"boleto\", \"credit_card\", \"debit_card\", \"not_defined\", \"voucher\"], \"type\": \"pie\", \"values\": [2869361.2699999753, 2440445.4299999927, 217989.7900000001, 0.0, 379436.8700000007]}],\n",
       "                        {\"height\": 400, \"template\": {\"data\": {\"bar\": [{\"error_x\": {\"color\": \"#2a3f5f\"}, \"error_y\": {\"color\": \"#2a3f5f\"}, \"marker\": {\"line\": {\"color\": \"#E5ECF6\", \"width\": 0.5}}, \"type\": \"bar\"}], \"barpolar\": [{\"marker\": {\"line\": {\"color\": \"#E5ECF6\", \"width\": 0.5}}, \"type\": \"barpolar\"}], \"carpet\": [{\"aaxis\": {\"endlinecolor\": \"#2a3f5f\", \"gridcolor\": \"white\", \"linecolor\": \"white\", \"minorgridcolor\": \"white\", \"startlinecolor\": \"#2a3f5f\"}, \"baxis\": {\"endlinecolor\": \"#2a3f5f\", \"gridcolor\": \"white\", \"linecolor\": \"white\", \"minorgridcolor\": \"white\", \"startlinecolor\": \"#2a3f5f\"}, \"type\": \"carpet\"}], \"choropleth\": [{\"colorbar\": {\"outlinewidth\": 0, \"ticks\": \"\"}, \"type\": \"choropleth\"}], \"contour\": [{\"colorbar\": {\"outlinewidth\": 0, \"ticks\": \"\"}, \"colorscale\": [[0.0, \"#0d0887\"], [0.1111111111111111, \"#46039f\"], [0.2222222222222222, \"#7201a8\"], [0.3333333333333333, \"#9c179e\"], [0.4444444444444444, \"#bd3786\"], [0.5555555555555556, \"#d8576b\"], [0.6666666666666666, \"#ed7953\"], [0.7777777777777778, \"#fb9f3a\"], [0.8888888888888888, \"#fdca26\"], [1.0, \"#f0f921\"]], \"type\": \"contour\"}], \"contourcarpet\": [{\"colorbar\": {\"outlinewidth\": 0, \"ticks\": \"\"}, \"type\": \"contourcarpet\"}], \"heatmap\": [{\"colorbar\": {\"outlinewidth\": 0, \"ticks\": \"\"}, \"colorscale\": [[0.0, \"#0d0887\"], [0.1111111111111111, \"#46039f\"], [0.2222222222222222, \"#7201a8\"], [0.3333333333333333, \"#9c179e\"], [0.4444444444444444, \"#bd3786\"], [0.5555555555555556, \"#d8576b\"], [0.6666666666666666, \"#ed7953\"], [0.7777777777777778, \"#fb9f3a\"], [0.8888888888888888, \"#fdca26\"], [1.0, \"#f0f921\"]], \"type\": \"heatmap\"}], \"heatmapgl\": [{\"colorbar\": {\"outlinewidth\": 0, \"ticks\": \"\"}, \"colorscale\": [[0.0, \"#0d0887\"], [0.1111111111111111, \"#46039f\"], [0.2222222222222222, \"#7201a8\"], [0.3333333333333333, \"#9c179e\"], [0.4444444444444444, \"#bd3786\"], [0.5555555555555556, \"#d8576b\"], [0.6666666666666666, \"#ed7953\"], [0.7777777777777778, \"#fb9f3a\"], [0.8888888888888888, \"#fdca26\"], [1.0, \"#f0f921\"]], \"type\": \"heatmapgl\"}], \"histogram\": [{\"marker\": {\"colorbar\": {\"outlinewidth\": 0, \"ticks\": \"\"}}, \"type\": \"histogram\"}], \"histogram2d\": [{\"colorbar\": {\"outlinewidth\": 0, \"ticks\": \"\"}, \"colorscale\": [[0.0, \"#0d0887\"], [0.1111111111111111, \"#46039f\"], [0.2222222222222222, \"#7201a8\"], [0.3333333333333333, \"#9c179e\"], [0.4444444444444444, \"#bd3786\"], [0.5555555555555556, \"#d8576b\"], [0.6666666666666666, \"#ed7953\"], [0.7777777777777778, \"#fb9f3a\"], [0.8888888888888888, \"#fdca26\"], [1.0, \"#f0f921\"]], \"type\": \"histogram2d\"}], \"histogram2dcontour\": [{\"colorbar\": {\"outlinewidth\": 0, \"ticks\": \"\"}, \"colorscale\": [[0.0, \"#0d0887\"], [0.1111111111111111, \"#46039f\"], [0.2222222222222222, \"#7201a8\"], [0.3333333333333333, \"#9c179e\"], [0.4444444444444444, \"#bd3786\"], [0.5555555555555556, \"#d8576b\"], [0.6666666666666666, \"#ed7953\"], [0.7777777777777778, \"#fb9f3a\"], [0.8888888888888888, \"#fdca26\"], [1.0, \"#f0f921\"]], \"type\": \"histogram2dcontour\"}], \"mesh3d\": [{\"colorbar\": {\"outlinewidth\": 0, \"ticks\": \"\"}, \"type\": \"mesh3d\"}], \"parcoords\": [{\"line\": {\"colorbar\": {\"outlinewidth\": 0, \"ticks\": \"\"}}, \"type\": \"parcoords\"}], \"pie\": [{\"automargin\": true, \"type\": \"pie\"}], \"scatter\": [{\"marker\": {\"colorbar\": {\"outlinewidth\": 0, \"ticks\": \"\"}}, \"type\": \"scatter\"}], \"scatter3d\": [{\"line\": {\"colorbar\": {\"outlinewidth\": 0, \"ticks\": \"\"}}, \"marker\": {\"colorbar\": {\"outlinewidth\": 0, \"ticks\": \"\"}}, \"type\": \"scatter3d\"}], \"scattercarpet\": [{\"marker\": {\"colorbar\": {\"outlinewidth\": 0, \"ticks\": \"\"}}, \"type\": \"scattercarpet\"}], \"scattergeo\": [{\"marker\": {\"colorbar\": {\"outlinewidth\": 0, \"ticks\": \"\"}}, \"type\": \"scattergeo\"}], \"scattergl\": [{\"marker\": {\"colorbar\": {\"outlinewidth\": 0, \"ticks\": \"\"}}, \"type\": \"scattergl\"}], \"scattermapbox\": [{\"marker\": {\"colorbar\": {\"outlinewidth\": 0, \"ticks\": \"\"}}, \"type\": \"scattermapbox\"}], \"scatterpolar\": [{\"marker\": {\"colorbar\": {\"outlinewidth\": 0, \"ticks\": \"\"}}, \"type\": \"scatterpolar\"}], \"scatterpolargl\": [{\"marker\": {\"colorbar\": {\"outlinewidth\": 0, \"ticks\": \"\"}}, \"type\": \"scatterpolargl\"}], \"scatterternary\": [{\"marker\": {\"colorbar\": {\"outlinewidth\": 0, \"ticks\": \"\"}}, \"type\": \"scatterternary\"}], \"surface\": [{\"colorbar\": {\"outlinewidth\": 0, \"ticks\": \"\"}, \"colorscale\": [[0.0, \"#0d0887\"], [0.1111111111111111, \"#46039f\"], [0.2222222222222222, \"#7201a8\"], [0.3333333333333333, \"#9c179e\"], [0.4444444444444444, \"#bd3786\"], [0.5555555555555556, \"#d8576b\"], [0.6666666666666666, \"#ed7953\"], [0.7777777777777778, \"#fb9f3a\"], [0.8888888888888888, \"#fdca26\"], [1.0, \"#f0f921\"]], \"type\": \"surface\"}], \"table\": [{\"cells\": {\"fill\": {\"color\": \"#EBF0F8\"}, \"line\": {\"color\": \"white\"}}, \"header\": {\"fill\": {\"color\": \"#C8D4E3\"}, \"line\": {\"color\": \"white\"}}, \"type\": \"table\"}]}, \"layout\": {\"annotationdefaults\": {\"arrowcolor\": \"#2a3f5f\", \"arrowhead\": 0, \"arrowwidth\": 1}, \"coloraxis\": {\"colorbar\": {\"outlinewidth\": 0, \"ticks\": \"\"}}, \"colorscale\": {\"diverging\": [[0, \"#8e0152\"], [0.1, \"#c51b7d\"], [0.2, \"#de77ae\"], [0.3, \"#f1b6da\"], [0.4, \"#fde0ef\"], [0.5, \"#f7f7f7\"], [0.6, \"#e6f5d0\"], [0.7, \"#b8e186\"], [0.8, \"#7fbc41\"], [0.9, \"#4d9221\"], [1, \"#276419\"]], \"sequential\": [[0.0, \"#0d0887\"], [0.1111111111111111, \"#46039f\"], [0.2222222222222222, \"#7201a8\"], [0.3333333333333333, \"#9c179e\"], [0.4444444444444444, \"#bd3786\"], [0.5555555555555556, \"#d8576b\"], [0.6666666666666666, \"#ed7953\"], [0.7777777777777778, \"#fb9f3a\"], [0.8888888888888888, \"#fdca26\"], [1.0, \"#f0f921\"]], \"sequentialminus\": [[0.0, \"#0d0887\"], [0.1111111111111111, \"#46039f\"], [0.2222222222222222, \"#7201a8\"], [0.3333333333333333, \"#9c179e\"], [0.4444444444444444, \"#bd3786\"], [0.5555555555555556, \"#d8576b\"], [0.6666666666666666, \"#ed7953\"], [0.7777777777777778, \"#fb9f3a\"], [0.8888888888888888, \"#fdca26\"], [1.0, \"#f0f921\"]]}, \"colorway\": [\"#636efa\", \"#EF553B\", \"#00cc96\", \"#ab63fa\", \"#FFA15A\", \"#19d3f3\", \"#FF6692\", \"#B6E880\", \"#FF97FF\", \"#FECB52\"], \"font\": {\"color\": \"#2a3f5f\"}, \"geo\": {\"bgcolor\": \"white\", \"lakecolor\": \"white\", \"landcolor\": \"#E5ECF6\", \"showlakes\": true, \"showland\": true, \"subunitcolor\": \"white\"}, \"hoverlabel\": {\"align\": \"left\"}, \"hovermode\": \"closest\", \"mapbox\": {\"style\": \"light\"}, \"paper_bgcolor\": \"white\", \"plot_bgcolor\": \"#E5ECF6\", \"polar\": {\"angularaxis\": {\"gridcolor\": \"white\", \"linecolor\": \"white\", \"ticks\": \"\"}, \"bgcolor\": \"#E5ECF6\", \"radialaxis\": {\"gridcolor\": \"white\", \"linecolor\": \"white\", \"ticks\": \"\"}}, \"scene\": {\"xaxis\": {\"backgroundcolor\": \"#E5ECF6\", \"gridcolor\": \"white\", \"gridwidth\": 2, \"linecolor\": \"white\", \"showbackground\": true, \"ticks\": \"\", \"zerolinecolor\": \"white\"}, \"yaxis\": {\"backgroundcolor\": \"#E5ECF6\", \"gridcolor\": \"white\", \"gridwidth\": 2, \"linecolor\": \"white\", \"showbackground\": true, \"ticks\": \"\", \"zerolinecolor\": \"white\"}, \"zaxis\": {\"backgroundcolor\": \"#E5ECF6\", \"gridcolor\": \"white\", \"gridwidth\": 2, \"linecolor\": \"white\", \"showbackground\": true, \"ticks\": \"\", \"zerolinecolor\": \"white\"}}, \"shapedefaults\": {\"line\": {\"color\": \"#2a3f5f\"}}, \"ternary\": {\"aaxis\": {\"gridcolor\": \"white\", \"linecolor\": \"white\", \"ticks\": \"\"}, \"baxis\": {\"gridcolor\": \"white\", \"linecolor\": \"white\", \"ticks\": \"\"}, \"bgcolor\": \"#E5ECF6\", \"caxis\": {\"gridcolor\": \"white\", \"linecolor\": \"white\", \"ticks\": \"\"}}, \"title\": {\"x\": 0.05}, \"xaxis\": {\"automargin\": true, \"gridcolor\": \"white\", \"linecolor\": \"white\", \"ticks\": \"\", \"title\": {\"standoff\": 15}, \"zerolinecolor\": \"white\", \"zerolinewidth\": 2}, \"yaxis\": {\"automargin\": true, \"gridcolor\": \"white\", \"linecolor\": \"white\", \"ticks\": \"\", \"title\": {\"standoff\": 15}, \"zerolinecolor\": \"white\", \"zerolinewidth\": 2}}}, \"title\": {\"text\": \"Orders and value for a single installment\"}, \"width\": 800},\n",
       "                        {\"responsive\": true}\n",
       "                    ).then(function(){\n",
       "                            \n",
       "var gd = document.getElementById('a851e589-c435-45c0-9547-53b7a99b42fc');\n",
       "var x = new MutationObserver(function (mutations, observer) {{\n",
       "        var display = window.getComputedStyle(gd).display;\n",
       "        if (!display || display === 'none') {{\n",
       "            console.log([gd, 'removed!']);\n",
       "            Plotly.purge(gd);\n",
       "            observer.disconnect();\n",
       "        }}\n",
       "}});\n",
       "\n",
       "// Listen for the removal of the full notebook cells\n",
       "var notebookContainer = gd.closest('#notebook-container');\n",
       "if (notebookContainer) {{\n",
       "    x.observe(notebookContainer, {childList: true});\n",
       "}}\n",
       "\n",
       "// Listen for the clearing of the current output cell\n",
       "var outputEl = gd.closest('.output');\n",
       "if (outputEl) {{\n",
       "    x.observe(outputEl, {childList: true});\n",
       "}}\n",
       "\n",
       "                        })\n",
       "                };\n",
       "                });\n",
       "            </script>\n",
       "        </div>"
      ]
     },
     "metadata": {},
     "output_type": "display_data"
    }
   ],
   "source": [
    "pay_one_inst = payments[payments['payment_installments'] == 1]\n",
    "method_count = pay_one_inst['payment_type'].value_counts().to_frame().reset_index()\n",
    "method_value = pay_one_inst.groupby('payment_type')['payment_value'].sum().to_frame().reset_index()\n",
    "# Plotly piechart\n",
    "colors = None\n",
    "trace1 = go.Pie(labels=method_count['index'], values=method_count['payment_type'],\n",
    "                domain= {'x': [0, .48]}, marker=dict(colors=colors))\n",
    "trace2 = go.Pie(labels=method_value['payment_type'], values=method_value['payment_value'],\n",
    "                domain= {'x': [0.52, 1]}, marker=dict(colors=colors))\n",
    "layout = dict(title= \"Orders and value for a single installment\", \n",
    "              height=400, width=800,)\n",
    "fig = dict(data=[trace1, trace2], layout=layout)\n",
    "iplot(fig)"
   ]
  },
  {
   "cell_type": "markdown",
   "metadata": {
    "_uuid": "cef951da00b308ee5e3d448c5de6b1fb214f5e48"
   },
   "source": [
    "<h2>2. Orders</h2>"
   ]
  },
  {
   "cell_type": "code",
   "execution_count": 12,
   "metadata": {
    "_uuid": "f33f6000a037952d7faba5840ee31391500ed2f4"
   },
   "outputs": [
    {
     "name": "stdout",
     "output_type": "stream",
     "text": [
      "DataFrame shape: (112650, 22); unique order ids: 98666\n"
     ]
    },
    {
     "data": {
      "text/html": [
       "<div>\n",
       "<style scoped>\n",
       "    .dataframe tbody tr th:only-of-type {\n",
       "        vertical-align: middle;\n",
       "    }\n",
       "\n",
       "    .dataframe tbody tr th {\n",
       "        vertical-align: top;\n",
       "    }\n",
       "\n",
       "    .dataframe thead th {\n",
       "        text-align: right;\n",
       "    }\n",
       "</style>\n",
       "<table border=\"1\" class=\"dataframe\">\n",
       "  <thead>\n",
       "    <tr style=\"text-align: right;\">\n",
       "      <th></th>\n",
       "      <th>order_id</th>\n",
       "      <th>customer_id</th>\n",
       "      <th>order_status</th>\n",
       "      <th>order_purchase_timestamp</th>\n",
       "      <th>order_approved_at</th>\n",
       "      <th>order_delivered_carrier_date</th>\n",
       "      <th>order_delivered_customer_date</th>\n",
       "      <th>order_estimated_delivery_date</th>\n",
       "      <th>order_item_id</th>\n",
       "      <th>product_id</th>\n",
       "      <th>...</th>\n",
       "      <th>price</th>\n",
       "      <th>freight_value</th>\n",
       "      <th>product_category_name</th>\n",
       "      <th>product_name_lenght</th>\n",
       "      <th>product_description_lenght</th>\n",
       "      <th>product_photos_qty</th>\n",
       "      <th>product_weight_g</th>\n",
       "      <th>product_length_cm</th>\n",
       "      <th>product_height_cm</th>\n",
       "      <th>product_width_cm</th>\n",
       "    </tr>\n",
       "  </thead>\n",
       "  <tbody>\n",
       "    <tr>\n",
       "      <th>0</th>\n",
       "      <td>e481f51cbdc54678b7cc49136f2d6af7</td>\n",
       "      <td>9ef432eb6251297304e76186b10a928d</td>\n",
       "      <td>delivered</td>\n",
       "      <td>2017-10-02 10:56:33</td>\n",
       "      <td>2017-10-02 11:07:15</td>\n",
       "      <td>2017-10-04 19:55:00</td>\n",
       "      <td>2017-10-10 21:25:13</td>\n",
       "      <td>2017-10-18 00:00:00</td>\n",
       "      <td>1</td>\n",
       "      <td>87285b34884572647811a353c7ac498a</td>\n",
       "      <td>...</td>\n",
       "      <td>29.99</td>\n",
       "      <td>8.72</td>\n",
       "      <td>utilidades_domesticas</td>\n",
       "      <td>40.0</td>\n",
       "      <td>268.0</td>\n",
       "      <td>4.0</td>\n",
       "      <td>500.0</td>\n",
       "      <td>19.0</td>\n",
       "      <td>8.0</td>\n",
       "      <td>13.0</td>\n",
       "    </tr>\n",
       "    <tr>\n",
       "      <th>1</th>\n",
       "      <td>128e10d95713541c87cd1a2e48201934</td>\n",
       "      <td>a20e8105f23924cd00833fd87daa0831</td>\n",
       "      <td>delivered</td>\n",
       "      <td>2017-08-15 18:29:31</td>\n",
       "      <td>2017-08-15 20:05:16</td>\n",
       "      <td>2017-08-17 15:28:33</td>\n",
       "      <td>2017-08-18 14:44:43</td>\n",
       "      <td>2017-08-28 00:00:00</td>\n",
       "      <td>1</td>\n",
       "      <td>87285b34884572647811a353c7ac498a</td>\n",
       "      <td>...</td>\n",
       "      <td>29.99</td>\n",
       "      <td>7.78</td>\n",
       "      <td>utilidades_domesticas</td>\n",
       "      <td>40.0</td>\n",
       "      <td>268.0</td>\n",
       "      <td>4.0</td>\n",
       "      <td>500.0</td>\n",
       "      <td>19.0</td>\n",
       "      <td>8.0</td>\n",
       "      <td>13.0</td>\n",
       "    </tr>\n",
       "    <tr>\n",
       "      <th>2</th>\n",
       "      <td>0e7e841ddf8f8f2de2bad69267ecfbcf</td>\n",
       "      <td>26c7ac168e1433912a51b924fbd34d34</td>\n",
       "      <td>delivered</td>\n",
       "      <td>2017-08-02 18:24:47</td>\n",
       "      <td>2017-08-02 18:43:15</td>\n",
       "      <td>2017-08-04 17:35:43</td>\n",
       "      <td>2017-08-07 18:30:01</td>\n",
       "      <td>2017-08-15 00:00:00</td>\n",
       "      <td>1</td>\n",
       "      <td>87285b34884572647811a353c7ac498a</td>\n",
       "      <td>...</td>\n",
       "      <td>29.99</td>\n",
       "      <td>7.78</td>\n",
       "      <td>utilidades_domesticas</td>\n",
       "      <td>40.0</td>\n",
       "      <td>268.0</td>\n",
       "      <td>4.0</td>\n",
       "      <td>500.0</td>\n",
       "      <td>19.0</td>\n",
       "      <td>8.0</td>\n",
       "      <td>13.0</td>\n",
       "    </tr>\n",
       "  </tbody>\n",
       "</table>\n",
       "<p>3 rows × 22 columns</p>\n",
       "</div>"
      ],
      "text/plain": [
       "                           order_id                       customer_id  \\\n",
       "0  e481f51cbdc54678b7cc49136f2d6af7  9ef432eb6251297304e76186b10a928d   \n",
       "1  128e10d95713541c87cd1a2e48201934  a20e8105f23924cd00833fd87daa0831   \n",
       "2  0e7e841ddf8f8f2de2bad69267ecfbcf  26c7ac168e1433912a51b924fbd34d34   \n",
       "\n",
       "  order_status order_purchase_timestamp    order_approved_at  \\\n",
       "0    delivered      2017-10-02 10:56:33  2017-10-02 11:07:15   \n",
       "1    delivered      2017-08-15 18:29:31  2017-08-15 20:05:16   \n",
       "2    delivered      2017-08-02 18:24:47  2017-08-02 18:43:15   \n",
       "\n",
       "  order_delivered_carrier_date order_delivered_customer_date  \\\n",
       "0          2017-10-04 19:55:00           2017-10-10 21:25:13   \n",
       "1          2017-08-17 15:28:33           2017-08-18 14:44:43   \n",
       "2          2017-08-04 17:35:43           2017-08-07 18:30:01   \n",
       "\n",
       "  order_estimated_delivery_date  order_item_id  \\\n",
       "0           2017-10-18 00:00:00              1   \n",
       "1           2017-08-28 00:00:00              1   \n",
       "2           2017-08-15 00:00:00              1   \n",
       "\n",
       "                         product_id        ...         price freight_value  \\\n",
       "0  87285b34884572647811a353c7ac498a        ...         29.99          8.72   \n",
       "1  87285b34884572647811a353c7ac498a        ...         29.99          7.78   \n",
       "2  87285b34884572647811a353c7ac498a        ...         29.99          7.78   \n",
       "\n",
       "   product_category_name  product_name_lenght product_description_lenght  \\\n",
       "0  utilidades_domesticas                 40.0                      268.0   \n",
       "1  utilidades_domesticas                 40.0                      268.0   \n",
       "2  utilidades_domesticas                 40.0                      268.0   \n",
       "\n",
       "   product_photos_qty  product_weight_g  product_length_cm  product_height_cm  \\\n",
       "0                 4.0             500.0               19.0                8.0   \n",
       "1                 4.0             500.0               19.0                8.0   \n",
       "2                 4.0             500.0               19.0                8.0   \n",
       "\n",
       "   product_width_cm  \n",
       "0              13.0  \n",
       "1              13.0  \n",
       "2              13.0  \n",
       "\n",
       "[3 rows x 22 columns]"
      ]
     },
     "execution_count": 12,
     "metadata": {},
     "output_type": "execute_result"
    }
   ],
   "source": [
    "unique_ = orders['order_id'].nunique()\n",
    "print(\"DataFrame shape: {}; unique order ids: {}\".format(orders.shape, unique_))\n",
    "orders.head(3)"
   ]
  },
  {
   "cell_type": "markdown",
   "metadata": {},
   "source": [
    "There are rows with the same order_id when the customer buys more than one product.\n",
    "\n",
    "Let's look at one example:"
   ]
  },
  {
   "cell_type": "code",
   "execution_count": 13,
   "metadata": {
    "scrolled": true
   },
   "outputs": [
    {
     "data": {
      "text/html": [
       "<div>\n",
       "<style scoped>\n",
       "    .dataframe tbody tr th:only-of-type {\n",
       "        vertical-align: middle;\n",
       "    }\n",
       "\n",
       "    .dataframe tbody tr th {\n",
       "        vertical-align: top;\n",
       "    }\n",
       "\n",
       "    .dataframe thead th {\n",
       "        text-align: right;\n",
       "    }\n",
       "</style>\n",
       "<table border=\"1\" class=\"dataframe\">\n",
       "  <thead>\n",
       "    <tr style=\"text-align: right;\">\n",
       "      <th></th>\n",
       "      <th>order_id</th>\n",
       "      <th>customer_id</th>\n",
       "      <th>order_status</th>\n",
       "      <th>order_purchase_timestamp</th>\n",
       "      <th>order_approved_at</th>\n",
       "      <th>order_delivered_carrier_date</th>\n",
       "      <th>order_delivered_customer_date</th>\n",
       "      <th>order_estimated_delivery_date</th>\n",
       "      <th>order_item_id</th>\n",
       "      <th>product_id</th>\n",
       "      <th>...</th>\n",
       "      <th>price</th>\n",
       "      <th>freight_value</th>\n",
       "      <th>product_category_name</th>\n",
       "      <th>product_name_lenght</th>\n",
       "      <th>product_description_lenght</th>\n",
       "      <th>product_photos_qty</th>\n",
       "      <th>product_weight_g</th>\n",
       "      <th>product_length_cm</th>\n",
       "      <th>product_height_cm</th>\n",
       "      <th>product_width_cm</th>\n",
       "    </tr>\n",
       "  </thead>\n",
       "  <tbody>\n",
       "    <tr>\n",
       "      <th>29</th>\n",
       "      <td>d543201a9b42a1402ff97e65b439a48b</td>\n",
       "      <td>971bf8f42a9f8cb3ead257854905b454</td>\n",
       "      <td>delivered</td>\n",
       "      <td>2018-08-21 10:00:25</td>\n",
       "      <td>2018-08-21 10:50:54</td>\n",
       "      <td>2018-08-22 15:21:00</td>\n",
       "      <td>2018-08-28 18:58:22</td>\n",
       "      <td>2018-09-10 00:00:00</td>\n",
       "      <td>2</td>\n",
       "      <td>595fac2a385ac33a80bd5114aec74eb8</td>\n",
       "      <td>...</td>\n",
       "      <td>116.90</td>\n",
       "      <td>22.75</td>\n",
       "      <td>perfumaria</td>\n",
       "      <td>29.0</td>\n",
       "      <td>178.0</td>\n",
       "      <td>1.0</td>\n",
       "      <td>400.0</td>\n",
       "      <td>19.0</td>\n",
       "      <td>13.0</td>\n",
       "      <td>19.0</td>\n",
       "    </tr>\n",
       "    <tr>\n",
       "      <th>31</th>\n",
       "      <td>78037c5f4d9f1f7bab0207f22c4e92f1</td>\n",
       "      <td>ec8f2dcb080511771e52af7ca42117f5</td>\n",
       "      <td>delivered</td>\n",
       "      <td>2018-01-02 17:56:52</td>\n",
       "      <td>2018-01-02 18:10:14</td>\n",
       "      <td>2018-01-08 17:19:32</td>\n",
       "      <td>2018-01-16 17:12:37</td>\n",
       "      <td>2018-01-31 00:00:00</td>\n",
       "      <td>2</td>\n",
       "      <td>595fac2a385ac33a80bd5114aec74eb8</td>\n",
       "      <td>...</td>\n",
       "      <td>117.90</td>\n",
       "      <td>12.83</td>\n",
       "      <td>perfumaria</td>\n",
       "      <td>29.0</td>\n",
       "      <td>178.0</td>\n",
       "      <td>1.0</td>\n",
       "      <td>400.0</td>\n",
       "      <td>19.0</td>\n",
       "      <td>13.0</td>\n",
       "      <td>19.0</td>\n",
       "    </tr>\n",
       "    <tr>\n",
       "      <th>39</th>\n",
       "      <td>9883744c6400cfad8a620ddb82b9793c</td>\n",
       "      <td>df7f0c302322f4a233a07fb9cbddb46c</td>\n",
       "      <td>delivered</td>\n",
       "      <td>2018-05-02 10:19:23</td>\n",
       "      <td>2018-05-02 10:34:27</td>\n",
       "      <td>2018-05-07 11:32:00</td>\n",
       "      <td>2018-05-08 21:06:05</td>\n",
       "      <td>2018-05-24 00:00:00</td>\n",
       "      <td>2</td>\n",
       "      <td>595fac2a385ac33a80bd5114aec74eb8</td>\n",
       "      <td>...</td>\n",
       "      <td>119.90</td>\n",
       "      <td>15.72</td>\n",
       "      <td>perfumaria</td>\n",
       "      <td>29.0</td>\n",
       "      <td>178.0</td>\n",
       "      <td>1.0</td>\n",
       "      <td>400.0</td>\n",
       "      <td>19.0</td>\n",
       "      <td>13.0</td>\n",
       "      <td>19.0</td>\n",
       "    </tr>\n",
       "    <tr>\n",
       "      <th>62</th>\n",
       "      <td>f4d33a3db484fba77b5f1f1990fb3445</td>\n",
       "      <td>8cb1a8d155e0ab13fed232cdfdffc0cd</td>\n",
       "      <td>delivered</td>\n",
       "      <td>2018-08-18 22:34:35</td>\n",
       "      <td>2018-08-20 10:50:27</td>\n",
       "      <td>2018-08-21 14:56:00</td>\n",
       "      <td>2018-08-28 17:58:27</td>\n",
       "      <td>2018-09-06 00:00:00</td>\n",
       "      <td>2</td>\n",
       "      <td>595fac2a385ac33a80bd5114aec74eb8</td>\n",
       "      <td>...</td>\n",
       "      <td>116.90</td>\n",
       "      <td>22.75</td>\n",
       "      <td>perfumaria</td>\n",
       "      <td>29.0</td>\n",
       "      <td>178.0</td>\n",
       "      <td>1.0</td>\n",
       "      <td>400.0</td>\n",
       "      <td>19.0</td>\n",
       "      <td>13.0</td>\n",
       "      <td>19.0</td>\n",
       "    </tr>\n",
       "    <tr>\n",
       "      <th>105</th>\n",
       "      <td>177777137ce0af9e9cd2cff572728cca</td>\n",
       "      <td>fedcdc6c89d60699c967422066834f65</td>\n",
       "      <td>delivered</td>\n",
       "      <td>2018-02-18 09:28:26</td>\n",
       "      <td>2018-02-18 09:46:23</td>\n",
       "      <td>2018-02-19 16:18:58</td>\n",
       "      <td>2018-02-28 20:04:15</td>\n",
       "      <td>2018-03-12 00:00:00</td>\n",
       "      <td>2</td>\n",
       "      <td>595fac2a385ac33a80bd5114aec74eb8</td>\n",
       "      <td>...</td>\n",
       "      <td>117.90</td>\n",
       "      <td>12.83</td>\n",
       "      <td>perfumaria</td>\n",
       "      <td>29.0</td>\n",
       "      <td>178.0</td>\n",
       "      <td>1.0</td>\n",
       "      <td>400.0</td>\n",
       "      <td>19.0</td>\n",
       "      <td>13.0</td>\n",
       "      <td>19.0</td>\n",
       "    </tr>\n",
       "    <tr>\n",
       "      <th>108</th>\n",
       "      <td>510c4dcf778854ea5671c1eeacf41880</td>\n",
       "      <td>1b53d66410453cb9b968dc71734295b4</td>\n",
       "      <td>delivered</td>\n",
       "      <td>2018-02-03 11:22:01</td>\n",
       "      <td>2018-02-05 11:16:10</td>\n",
       "      <td>2018-02-07 16:58:45</td>\n",
       "      <td>2018-02-19 21:57:09</td>\n",
       "      <td>2018-03-01 00:00:00</td>\n",
       "      <td>2</td>\n",
       "      <td>595fac2a385ac33a80bd5114aec74eb8</td>\n",
       "      <td>...</td>\n",
       "      <td>117.90</td>\n",
       "      <td>12.83</td>\n",
       "      <td>perfumaria</td>\n",
       "      <td>29.0</td>\n",
       "      <td>178.0</td>\n",
       "      <td>1.0</td>\n",
       "      <td>400.0</td>\n",
       "      <td>19.0</td>\n",
       "      <td>13.0</td>\n",
       "      <td>19.0</td>\n",
       "    </tr>\n",
       "    <tr>\n",
       "      <th>121</th>\n",
       "      <td>88abc7f56b29139888abe397ab368518</td>\n",
       "      <td>34348d655bdb46337f636994764b7ee7</td>\n",
       "      <td>delivered</td>\n",
       "      <td>2017-12-08 22:54:44</td>\n",
       "      <td>2017-12-12 03:50:24</td>\n",
       "      <td>2017-12-14 17:52:29</td>\n",
       "      <td>2018-01-23 18:13:49</td>\n",
       "      <td>2018-01-09 00:00:00</td>\n",
       "      <td>2</td>\n",
       "      <td>65266b2da20d04dbe00c5c2d3bb7859e</td>\n",
       "      <td>...</td>\n",
       "      <td>19.90</td>\n",
       "      <td>14.10</td>\n",
       "      <td>papelaria</td>\n",
       "      <td>38.0</td>\n",
       "      <td>316.0</td>\n",
       "      <td>4.0</td>\n",
       "      <td>250.0</td>\n",
       "      <td>51.0</td>\n",
       "      <td>15.0</td>\n",
       "      <td>15.0</td>\n",
       "    </tr>\n",
       "    <tr>\n",
       "      <th>124</th>\n",
       "      <td>d03ba703f83e314f2bad7505a1031522</td>\n",
       "      <td>44b0e19cde4e2cb4acf0dcd9f314f248</td>\n",
       "      <td>delivered</td>\n",
       "      <td>2018-02-07 21:33:54</td>\n",
       "      <td>2018-02-07 22:35:27</td>\n",
       "      <td>2018-02-08 19:35:25</td>\n",
       "      <td>2018-02-16 00:22:19</td>\n",
       "      <td>2018-03-12 00:00:00</td>\n",
       "      <td>2</td>\n",
       "      <td>65266b2da20d04dbe00c5c2d3bb7859e</td>\n",
       "      <td>...</td>\n",
       "      <td>19.90</td>\n",
       "      <td>14.10</td>\n",
       "      <td>papelaria</td>\n",
       "      <td>38.0</td>\n",
       "      <td>316.0</td>\n",
       "      <td>4.0</td>\n",
       "      <td>250.0</td>\n",
       "      <td>51.0</td>\n",
       "      <td>15.0</td>\n",
       "      <td>15.0</td>\n",
       "    </tr>\n",
       "    <tr>\n",
       "      <th>133</th>\n",
       "      <td>e0fc6abd74320ea468f697164f069f8d</td>\n",
       "      <td>45de0b4bc6b0aaa0d55bde3d3c7a020c</td>\n",
       "      <td>delivered</td>\n",
       "      <td>2018-04-05 15:01:49</td>\n",
       "      <td>2018-04-05 15:10:17</td>\n",
       "      <td>2018-04-07 00:56:35</td>\n",
       "      <td>2018-04-12 02:21:40</td>\n",
       "      <td>2018-05-04 00:00:00</td>\n",
       "      <td>2</td>\n",
       "      <td>65266b2da20d04dbe00c5c2d3bb7859e</td>\n",
       "      <td>...</td>\n",
       "      <td>19.90</td>\n",
       "      <td>19.04</td>\n",
       "      <td>papelaria</td>\n",
       "      <td>38.0</td>\n",
       "      <td>316.0</td>\n",
       "      <td>4.0</td>\n",
       "      <td>250.0</td>\n",
       "      <td>51.0</td>\n",
       "      <td>15.0</td>\n",
       "      <td>15.0</td>\n",
       "    </tr>\n",
       "    <tr>\n",
       "      <th>134</th>\n",
       "      <td>e0fc6abd74320ea468f697164f069f8d</td>\n",
       "      <td>45de0b4bc6b0aaa0d55bde3d3c7a020c</td>\n",
       "      <td>delivered</td>\n",
       "      <td>2018-04-05 15:01:49</td>\n",
       "      <td>2018-04-05 15:10:17</td>\n",
       "      <td>2018-04-07 00:56:35</td>\n",
       "      <td>2018-04-12 02:21:40</td>\n",
       "      <td>2018-05-04 00:00:00</td>\n",
       "      <td>3</td>\n",
       "      <td>65266b2da20d04dbe00c5c2d3bb7859e</td>\n",
       "      <td>...</td>\n",
       "      <td>19.90</td>\n",
       "      <td>19.04</td>\n",
       "      <td>papelaria</td>\n",
       "      <td>38.0</td>\n",
       "      <td>316.0</td>\n",
       "      <td>4.0</td>\n",
       "      <td>250.0</td>\n",
       "      <td>51.0</td>\n",
       "      <td>15.0</td>\n",
       "      <td>15.0</td>\n",
       "    </tr>\n",
       "    <tr>\n",
       "      <th>135</th>\n",
       "      <td>e0fc6abd74320ea468f697164f069f8d</td>\n",
       "      <td>45de0b4bc6b0aaa0d55bde3d3c7a020c</td>\n",
       "      <td>delivered</td>\n",
       "      <td>2018-04-05 15:01:49</td>\n",
       "      <td>2018-04-05 15:10:17</td>\n",
       "      <td>2018-04-07 00:56:35</td>\n",
       "      <td>2018-04-12 02:21:40</td>\n",
       "      <td>2018-05-04 00:00:00</td>\n",
       "      <td>4</td>\n",
       "      <td>65266b2da20d04dbe00c5c2d3bb7859e</td>\n",
       "      <td>...</td>\n",
       "      <td>19.90</td>\n",
       "      <td>19.04</td>\n",
       "      <td>papelaria</td>\n",
       "      <td>38.0</td>\n",
       "      <td>316.0</td>\n",
       "      <td>4.0</td>\n",
       "      <td>250.0</td>\n",
       "      <td>51.0</td>\n",
       "      <td>15.0</td>\n",
       "      <td>15.0</td>\n",
       "    </tr>\n",
       "    <tr>\n",
       "      <th>144</th>\n",
       "      <td>0ae4456639dd07164db5f2433c8f55e4</td>\n",
       "      <td>c991372fe4a2b75d9c43c318062c1f97</td>\n",
       "      <td>delivered</td>\n",
       "      <td>2018-06-06 12:44:20</td>\n",
       "      <td>2018-06-06 12:55:34</td>\n",
       "      <td>2018-06-07 14:01:00</td>\n",
       "      <td>2018-06-08 16:40:58</td>\n",
       "      <td>2018-07-03 00:00:00</td>\n",
       "      <td>2</td>\n",
       "      <td>65266b2da20d04dbe00c5c2d3bb7859e</td>\n",
       "      <td>...</td>\n",
       "      <td>23.90</td>\n",
       "      <td>7.39</td>\n",
       "      <td>papelaria</td>\n",
       "      <td>38.0</td>\n",
       "      <td>316.0</td>\n",
       "      <td>4.0</td>\n",
       "      <td>250.0</td>\n",
       "      <td>51.0</td>\n",
       "      <td>15.0</td>\n",
       "      <td>15.0</td>\n",
       "    </tr>\n",
       "    <tr>\n",
       "      <th>145</th>\n",
       "      <td>0ae4456639dd07164db5f2433c8f55e4</td>\n",
       "      <td>c991372fe4a2b75d9c43c318062c1f97</td>\n",
       "      <td>delivered</td>\n",
       "      <td>2018-06-06 12:44:20</td>\n",
       "      <td>2018-06-06 12:55:34</td>\n",
       "      <td>2018-06-07 14:01:00</td>\n",
       "      <td>2018-06-08 16:40:58</td>\n",
       "      <td>2018-07-03 00:00:00</td>\n",
       "      <td>3</td>\n",
       "      <td>65266b2da20d04dbe00c5c2d3bb7859e</td>\n",
       "      <td>...</td>\n",
       "      <td>23.90</td>\n",
       "      <td>7.39</td>\n",
       "      <td>papelaria</td>\n",
       "      <td>38.0</td>\n",
       "      <td>316.0</td>\n",
       "      <td>4.0</td>\n",
       "      <td>250.0</td>\n",
       "      <td>51.0</td>\n",
       "      <td>15.0</td>\n",
       "      <td>15.0</td>\n",
       "    </tr>\n",
       "    <tr>\n",
       "      <th>146</th>\n",
       "      <td>0ae4456639dd07164db5f2433c8f55e4</td>\n",
       "      <td>c991372fe4a2b75d9c43c318062c1f97</td>\n",
       "      <td>delivered</td>\n",
       "      <td>2018-06-06 12:44:20</td>\n",
       "      <td>2018-06-06 12:55:34</td>\n",
       "      <td>2018-06-07 14:01:00</td>\n",
       "      <td>2018-06-08 16:40:58</td>\n",
       "      <td>2018-07-03 00:00:00</td>\n",
       "      <td>4</td>\n",
       "      <td>65266b2da20d04dbe00c5c2d3bb7859e</td>\n",
       "      <td>...</td>\n",
       "      <td>23.90</td>\n",
       "      <td>7.39</td>\n",
       "      <td>papelaria</td>\n",
       "      <td>38.0</td>\n",
       "      <td>316.0</td>\n",
       "      <td>4.0</td>\n",
       "      <td>250.0</td>\n",
       "      <td>51.0</td>\n",
       "      <td>15.0</td>\n",
       "      <td>15.0</td>\n",
       "    </tr>\n",
       "    <tr>\n",
       "      <th>152</th>\n",
       "      <td>48f38d47fa3e594216cbf679a60dc4fc</td>\n",
       "      <td>30ed79b25a04e922d54d369153264d35</td>\n",
       "      <td>delivered</td>\n",
       "      <td>2018-05-19 11:57:03</td>\n",
       "      <td>2018-05-19 12:19:24</td>\n",
       "      <td>2018-05-21 11:24:00</td>\n",
       "      <td>2018-06-08 13:06:55</td>\n",
       "      <td>2018-06-12 00:00:00</td>\n",
       "      <td>2</td>\n",
       "      <td>65266b2da20d04dbe00c5c2d3bb7859e</td>\n",
       "      <td>...</td>\n",
       "      <td>23.90</td>\n",
       "      <td>15.23</td>\n",
       "      <td>papelaria</td>\n",
       "      <td>38.0</td>\n",
       "      <td>316.0</td>\n",
       "      <td>4.0</td>\n",
       "      <td>250.0</td>\n",
       "      <td>51.0</td>\n",
       "      <td>15.0</td>\n",
       "      <td>15.0</td>\n",
       "    </tr>\n",
       "    <tr>\n",
       "      <th>181</th>\n",
       "      <td>b3f3f413f89e281887189ce9f68f4ff9</td>\n",
       "      <td>959c13829307e48e177d8301a432c3fa</td>\n",
       "      <td>delivered</td>\n",
       "      <td>2017-08-01 10:29:11</td>\n",
       "      <td>2017-08-01 10:43:48</td>\n",
       "      <td>2017-08-03 13:42:12</td>\n",
       "      <td>2017-08-04 20:03:04</td>\n",
       "      <td>2017-08-14 00:00:00</td>\n",
       "      <td>2</td>\n",
       "      <td>060cb19345d90064d1015407193c233d</td>\n",
       "      <td>...</td>\n",
       "      <td>147.90</td>\n",
       "      <td>15.79</td>\n",
       "      <td>automotivo</td>\n",
       "      <td>49.0</td>\n",
       "      <td>608.0</td>\n",
       "      <td>1.0</td>\n",
       "      <td>7150.0</td>\n",
       "      <td>65.0</td>\n",
       "      <td>10.0</td>\n",
       "      <td>65.0</td>\n",
       "    </tr>\n",
       "    <tr>\n",
       "      <th>249</th>\n",
       "      <td>e6ce16cb79ec1d90b1da9085a6118aeb</td>\n",
       "      <td>494dded5b201313c64ed7f100595b95c</td>\n",
       "      <td>delivered</td>\n",
       "      <td>2017-05-16 19:41:10</td>\n",
       "      <td>2017-05-16 19:50:18</td>\n",
       "      <td>2017-05-18 11:40:40</td>\n",
       "      <td>2017-05-29 11:18:31</td>\n",
       "      <td>2017-06-07 00:00:00</td>\n",
       "      <td>2</td>\n",
       "      <td>08574b074924071f4e201e151b152b4e</td>\n",
       "      <td>...</td>\n",
       "      <td>99.00</td>\n",
       "      <td>30.53</td>\n",
       "      <td>ferramentas_jardim</td>\n",
       "      <td>36.0</td>\n",
       "      <td>450.0</td>\n",
       "      <td>1.0</td>\n",
       "      <td>9000.0</td>\n",
       "      <td>42.0</td>\n",
       "      <td>12.0</td>\n",
       "      <td>39.0</td>\n",
       "    </tr>\n",
       "    <tr>\n",
       "      <th>259</th>\n",
       "      <td>f585ab48a4d0027744dd2912cb42a2cb</td>\n",
       "      <td>133d446a88638f9aa5aac7f8c5e5164b</td>\n",
       "      <td>delivered</td>\n",
       "      <td>2017-10-08 18:04:57</td>\n",
       "      <td>2017-10-09 09:49:34</td>\n",
       "      <td>2017-10-16 18:35:55</td>\n",
       "      <td>2017-10-23 20:53:58</td>\n",
       "      <td>2017-11-03 00:00:00</td>\n",
       "      <td>2</td>\n",
       "      <td>08574b074924071f4e201e151b152b4e</td>\n",
       "      <td>...</td>\n",
       "      <td>99.00</td>\n",
       "      <td>41.08</td>\n",
       "      <td>ferramentas_jardim</td>\n",
       "      <td>36.0</td>\n",
       "      <td>450.0</td>\n",
       "      <td>1.0</td>\n",
       "      <td>9000.0</td>\n",
       "      <td>42.0</td>\n",
       "      <td>12.0</td>\n",
       "      <td>39.0</td>\n",
       "    </tr>\n",
       "    <tr>\n",
       "      <th>269</th>\n",
       "      <td>b3ef4de1762699288ca5c55a1e574a12</td>\n",
       "      <td>6f967a810363042cfb1dde2417d70324</td>\n",
       "      <td>delivered</td>\n",
       "      <td>2017-07-06 20:02:50</td>\n",
       "      <td>2017-07-06 20:15:26</td>\n",
       "      <td>2017-07-07 15:54:35</td>\n",
       "      <td>2017-07-13 21:44:50</td>\n",
       "      <td>2017-08-01 00:00:00</td>\n",
       "      <td>2</td>\n",
       "      <td>08574b074924071f4e201e151b152b4e</td>\n",
       "      <td>...</td>\n",
       "      <td>89.00</td>\n",
       "      <td>37.92</td>\n",
       "      <td>ferramentas_jardim</td>\n",
       "      <td>36.0</td>\n",
       "      <td>450.0</td>\n",
       "      <td>1.0</td>\n",
       "      <td>9000.0</td>\n",
       "      <td>42.0</td>\n",
       "      <td>12.0</td>\n",
       "      <td>39.0</td>\n",
       "    </tr>\n",
       "    <tr>\n",
       "      <th>271</th>\n",
       "      <td>b014baa6612826328ffeeb79fd3fa596</td>\n",
       "      <td>bbe745a98d9525399573bfb082bca172</td>\n",
       "      <td>delivered</td>\n",
       "      <td>2017-11-18 17:22:43</td>\n",
       "      <td>2017-11-18 17:30:40</td>\n",
       "      <td>2017-11-20 19:05:54</td>\n",
       "      <td>2017-11-29 21:13:25</td>\n",
       "      <td>2017-12-12 00:00:00</td>\n",
       "      <td>2</td>\n",
       "      <td>08574b074924071f4e201e151b152b4e</td>\n",
       "      <td>...</td>\n",
       "      <td>99.00</td>\n",
       "      <td>33.08</td>\n",
       "      <td>ferramentas_jardim</td>\n",
       "      <td>36.0</td>\n",
       "      <td>450.0</td>\n",
       "      <td>1.0</td>\n",
       "      <td>9000.0</td>\n",
       "      <td>42.0</td>\n",
       "      <td>12.0</td>\n",
       "      <td>39.0</td>\n",
       "    </tr>\n",
       "    <tr>\n",
       "      <th>302</th>\n",
       "      <td>5cc6d864fa9e1a90eaf5207737549ffc</td>\n",
       "      <td>8b574f4c72ba3539b5a1cfe2429352a4</td>\n",
       "      <td>delivered</td>\n",
       "      <td>2017-11-07 19:49:52</td>\n",
       "      <td>2017-11-07 20:06:58</td>\n",
       "      <td>2017-11-08 19:28:45</td>\n",
       "      <td>2017-11-15 16:22:59</td>\n",
       "      <td>2017-12-01 00:00:00</td>\n",
       "      <td>2</td>\n",
       "      <td>08574b074924071f4e201e151b152b4e</td>\n",
       "      <td>...</td>\n",
       "      <td>99.00</td>\n",
       "      <td>33.08</td>\n",
       "      <td>ferramentas_jardim</td>\n",
       "      <td>36.0</td>\n",
       "      <td>450.0</td>\n",
       "      <td>1.0</td>\n",
       "      <td>9000.0</td>\n",
       "      <td>42.0</td>\n",
       "      <td>12.0</td>\n",
       "      <td>39.0</td>\n",
       "    </tr>\n",
       "    <tr>\n",
       "      <th>303</th>\n",
       "      <td>5cc6d864fa9e1a90eaf5207737549ffc</td>\n",
       "      <td>8b574f4c72ba3539b5a1cfe2429352a4</td>\n",
       "      <td>delivered</td>\n",
       "      <td>2017-11-07 19:49:52</td>\n",
       "      <td>2017-11-07 20:06:58</td>\n",
       "      <td>2017-11-08 19:28:45</td>\n",
       "      <td>2017-11-15 16:22:59</td>\n",
       "      <td>2017-12-01 00:00:00</td>\n",
       "      <td>3</td>\n",
       "      <td>08574b074924071f4e201e151b152b4e</td>\n",
       "      <td>...</td>\n",
       "      <td>99.00</td>\n",
       "      <td>33.08</td>\n",
       "      <td>ferramentas_jardim</td>\n",
       "      <td>36.0</td>\n",
       "      <td>450.0</td>\n",
       "      <td>1.0</td>\n",
       "      <td>9000.0</td>\n",
       "      <td>42.0</td>\n",
       "      <td>12.0</td>\n",
       "      <td>39.0</td>\n",
       "    </tr>\n",
       "    <tr>\n",
       "      <th>307</th>\n",
       "      <td>226e16e7eb6dcefe180d80127468de8b</td>\n",
       "      <td>1063de5cc98f570e53eccb32723746e2</td>\n",
       "      <td>delivered</td>\n",
       "      <td>2017-12-06 16:52:25</td>\n",
       "      <td>2017-12-06 17:13:09</td>\n",
       "      <td>2017-12-07 19:41:35</td>\n",
       "      <td>2017-12-28 21:48:58</td>\n",
       "      <td>2018-01-08 00:00:00</td>\n",
       "      <td>2</td>\n",
       "      <td>08574b074924071f4e201e151b152b4e</td>\n",
       "      <td>...</td>\n",
       "      <td>99.00</td>\n",
       "      <td>45.99</td>\n",
       "      <td>ferramentas_jardim</td>\n",
       "      <td>36.0</td>\n",
       "      <td>450.0</td>\n",
       "      <td>1.0</td>\n",
       "      <td>9000.0</td>\n",
       "      <td>42.0</td>\n",
       "      <td>12.0</td>\n",
       "      <td>39.0</td>\n",
       "    </tr>\n",
       "    <tr>\n",
       "      <th>309</th>\n",
       "      <td>9016781565d9e706d145f406bbc06d8e</td>\n",
       "      <td>fabbcadf829676623bc7e2ced8888343</td>\n",
       "      <td>delivered</td>\n",
       "      <td>2017-10-19 10:54:51</td>\n",
       "      <td>2017-10-19 11:07:48</td>\n",
       "      <td>2017-10-20 17:58:08</td>\n",
       "      <td>2017-10-28 17:08:08</td>\n",
       "      <td>2017-11-14 00:00:00</td>\n",
       "      <td>2</td>\n",
       "      <td>08574b074924071f4e201e151b152b4e</td>\n",
       "      <td>...</td>\n",
       "      <td>99.00</td>\n",
       "      <td>37.99</td>\n",
       "      <td>ferramentas_jardim</td>\n",
       "      <td>36.0</td>\n",
       "      <td>450.0</td>\n",
       "      <td>1.0</td>\n",
       "      <td>9000.0</td>\n",
       "      <td>42.0</td>\n",
       "      <td>12.0</td>\n",
       "      <td>39.0</td>\n",
       "    </tr>\n",
       "    <tr>\n",
       "      <th>312</th>\n",
       "      <td>81bee7ecbeae8e9b41bef6d41b146b12</td>\n",
       "      <td>e30b9a646ef5cf66d213d172db4d402f</td>\n",
       "      <td>delivered</td>\n",
       "      <td>2017-03-15 22:26:48</td>\n",
       "      <td>2017-03-15 22:26:48</td>\n",
       "      <td>2017-03-21 11:34:34</td>\n",
       "      <td>2017-03-27 18:14:00</td>\n",
       "      <td>2017-04-05 00:00:00</td>\n",
       "      <td>2</td>\n",
       "      <td>08574b074924071f4e201e151b152b4e</td>\n",
       "      <td>...</td>\n",
       "      <td>69.90</td>\n",
       "      <td>31.23</td>\n",
       "      <td>ferramentas_jardim</td>\n",
       "      <td>36.0</td>\n",
       "      <td>450.0</td>\n",
       "      <td>1.0</td>\n",
       "      <td>9000.0</td>\n",
       "      <td>42.0</td>\n",
       "      <td>12.0</td>\n",
       "      <td>39.0</td>\n",
       "    </tr>\n",
       "    <tr>\n",
       "      <th>316</th>\n",
       "      <td>15816297ce3f82c12bdfacebb7f445b5</td>\n",
       "      <td>191f7ac02aef8691dcf021de4eec473e</td>\n",
       "      <td>delivered</td>\n",
       "      <td>2017-07-28 21:51:44</td>\n",
       "      <td>2017-07-29 14:55:20</td>\n",
       "      <td>2017-07-31 17:47:59</td>\n",
       "      <td>2017-08-03 19:56:47</td>\n",
       "      <td>2017-08-23 00:00:00</td>\n",
       "      <td>2</td>\n",
       "      <td>08574b074924071f4e201e151b152b4e</td>\n",
       "      <td>...</td>\n",
       "      <td>89.00</td>\n",
       "      <td>37.92</td>\n",
       "      <td>ferramentas_jardim</td>\n",
       "      <td>36.0</td>\n",
       "      <td>450.0</td>\n",
       "      <td>1.0</td>\n",
       "      <td>9000.0</td>\n",
       "      <td>42.0</td>\n",
       "      <td>12.0</td>\n",
       "      <td>39.0</td>\n",
       "    </tr>\n",
       "    <tr>\n",
       "      <th>320</th>\n",
       "      <td>4100b7218003e76b7c95e82ab07b3fdc</td>\n",
       "      <td>38db9a6684eac7a77ef71610592e409f</td>\n",
       "      <td>delivered</td>\n",
       "      <td>2017-09-01 22:03:59</td>\n",
       "      <td>2017-09-01 22:26:08</td>\n",
       "      <td>2017-09-04 22:03:07</td>\n",
       "      <td>2017-09-14 17:56:31</td>\n",
       "      <td>2017-09-25 00:00:00</td>\n",
       "      <td>2</td>\n",
       "      <td>08574b074924071f4e201e151b152b4e</td>\n",
       "      <td>...</td>\n",
       "      <td>99.00</td>\n",
       "      <td>45.99</td>\n",
       "      <td>ferramentas_jardim</td>\n",
       "      <td>36.0</td>\n",
       "      <td>450.0</td>\n",
       "      <td>1.0</td>\n",
       "      <td>9000.0</td>\n",
       "      <td>42.0</td>\n",
       "      <td>12.0</td>\n",
       "      <td>39.0</td>\n",
       "    </tr>\n",
       "    <tr>\n",
       "      <th>330</th>\n",
       "      <td>0f548bd29148ebc519d6495e37a284e1</td>\n",
       "      <td>015faf9ec36eccd957c0f2782aab09a4</td>\n",
       "      <td>delivered</td>\n",
       "      <td>2017-09-03 08:06:30</td>\n",
       "      <td>2017-09-03 08:25:50</td>\n",
       "      <td>2017-09-04 22:03:06</td>\n",
       "      <td>2017-09-08 16:26:55</td>\n",
       "      <td>2017-09-27 00:00:00</td>\n",
       "      <td>2</td>\n",
       "      <td>08574b074924071f4e201e151b152b4e</td>\n",
       "      <td>...</td>\n",
       "      <td>99.00</td>\n",
       "      <td>33.08</td>\n",
       "      <td>ferramentas_jardim</td>\n",
       "      <td>36.0</td>\n",
       "      <td>450.0</td>\n",
       "      <td>1.0</td>\n",
       "      <td>9000.0</td>\n",
       "      <td>42.0</td>\n",
       "      <td>12.0</td>\n",
       "      <td>39.0</td>\n",
       "    </tr>\n",
       "    <tr>\n",
       "      <th>334</th>\n",
       "      <td>786a54ce0cf9dab273f41727d56f96ec</td>\n",
       "      <td>470cff54aa86be3ce142cc8406ad2084</td>\n",
       "      <td>delivered</td>\n",
       "      <td>2017-11-01 20:10:34</td>\n",
       "      <td>2017-11-02 20:10:23</td>\n",
       "      <td>2017-11-06 17:13:47</td>\n",
       "      <td>2017-11-16 17:22:16</td>\n",
       "      <td>2017-11-30 00:00:00</td>\n",
       "      <td>2</td>\n",
       "      <td>08574b074924071f4e201e151b152b4e</td>\n",
       "      <td>...</td>\n",
       "      <td>99.00</td>\n",
       "      <td>23.00</td>\n",
       "      <td>ferramentas_jardim</td>\n",
       "      <td>36.0</td>\n",
       "      <td>450.0</td>\n",
       "      <td>1.0</td>\n",
       "      <td>9000.0</td>\n",
       "      <td>42.0</td>\n",
       "      <td>12.0</td>\n",
       "      <td>39.0</td>\n",
       "    </tr>\n",
       "    <tr>\n",
       "      <th>355</th>\n",
       "      <td>dea9b7dcae5affc919947e72bcc1e786</td>\n",
       "      <td>f0825264fd1d7a4cdadaefe21ee08fb8</td>\n",
       "      <td>delivered</td>\n",
       "      <td>2017-08-14 12:42:38</td>\n",
       "      <td>2017-08-16 03:26:10</td>\n",
       "      <td>2017-08-16 16:24:42</td>\n",
       "      <td>2017-08-19 12:54:45</td>\n",
       "      <td>2017-09-08 00:00:00</td>\n",
       "      <td>2</td>\n",
       "      <td>08574b074924071f4e201e151b152b4e</td>\n",
       "      <td>...</td>\n",
       "      <td>99.00</td>\n",
       "      <td>37.99</td>\n",
       "      <td>ferramentas_jardim</td>\n",
       "      <td>36.0</td>\n",
       "      <td>450.0</td>\n",
       "      <td>1.0</td>\n",
       "      <td>9000.0</td>\n",
       "      <td>42.0</td>\n",
       "      <td>12.0</td>\n",
       "      <td>39.0</td>\n",
       "    </tr>\n",
       "    <tr>\n",
       "      <th>...</th>\n",
       "      <td>...</td>\n",
       "      <td>...</td>\n",
       "      <td>...</td>\n",
       "      <td>...</td>\n",
       "      <td>...</td>\n",
       "      <td>...</td>\n",
       "      <td>...</td>\n",
       "      <td>...</td>\n",
       "      <td>...</td>\n",
       "      <td>...</td>\n",
       "      <td>...</td>\n",
       "      <td>...</td>\n",
       "      <td>...</td>\n",
       "      <td>...</td>\n",
       "      <td>...</td>\n",
       "      <td>...</td>\n",
       "      <td>...</td>\n",
       "      <td>...</td>\n",
       "      <td>...</td>\n",
       "      <td>...</td>\n",
       "      <td>...</td>\n",
       "    </tr>\n",
       "    <tr>\n",
       "      <th>112472</th>\n",
       "      <td>adf7dde7efb2d3ce93a32ba439bce856</td>\n",
       "      <td>36715539f8ebc9f7fc73cf94e722c0ff</td>\n",
       "      <td>delivered</td>\n",
       "      <td>2017-11-15 23:26:16</td>\n",
       "      <td>2017-11-15 23:50:27</td>\n",
       "      <td>2017-11-17 15:21:36</td>\n",
       "      <td>2017-11-27 12:23:32</td>\n",
       "      <td>2017-12-13 00:00:00</td>\n",
       "      <td>1</td>\n",
       "      <td>d979289e78afc0a6bee40e1f9dabe520</td>\n",
       "      <td>...</td>\n",
       "      <td>208.00</td>\n",
       "      <td>42.94</td>\n",
       "      <td>casa_construcao</td>\n",
       "      <td>44.0</td>\n",
       "      <td>443.0</td>\n",
       "      <td>2.0</td>\n",
       "      <td>13900.0</td>\n",
       "      <td>40.0</td>\n",
       "      <td>40.0</td>\n",
       "      <td>40.0</td>\n",
       "    </tr>\n",
       "    <tr>\n",
       "      <th>112477</th>\n",
       "      <td>6ee6c06bb9e001463d8eba71bdfc86a7</td>\n",
       "      <td>2c59071cb3b43a971e166dc9e2a410f2</td>\n",
       "      <td>delivered</td>\n",
       "      <td>2018-06-14 21:05:33</td>\n",
       "      <td>2018-06-14 21:21:17</td>\n",
       "      <td>2018-06-15 11:46:00</td>\n",
       "      <td>2018-06-26 19:43:48</td>\n",
       "      <td>2018-07-12 00:00:00</td>\n",
       "      <td>2</td>\n",
       "      <td>f85aa92e1305fc26494dae38bba39266</td>\n",
       "      <td>...</td>\n",
       "      <td>58.90</td>\n",
       "      <td>7.04</td>\n",
       "      <td>esporte_lazer</td>\n",
       "      <td>58.0</td>\n",
       "      <td>688.0</td>\n",
       "      <td>3.0</td>\n",
       "      <td>800.0</td>\n",
       "      <td>74.0</td>\n",
       "      <td>10.0</td>\n",
       "      <td>13.0</td>\n",
       "    </tr>\n",
       "    <tr>\n",
       "      <th>112483</th>\n",
       "      <td>897d215bbe78c235bc0008784a15ac78</td>\n",
       "      <td>0fca9e1dfa39a880a6f0ec6ecbc774ad</td>\n",
       "      <td>delivered</td>\n",
       "      <td>2017-04-02 00:18:00</td>\n",
       "      <td>2017-04-02 01:04:53</td>\n",
       "      <td>2017-04-04 14:13:29</td>\n",
       "      <td>2017-04-12 13:44:50</td>\n",
       "      <td>2017-04-26 00:00:00</td>\n",
       "      <td>2</td>\n",
       "      <td>e72e59338050d312832e22ea7aedc0fd</td>\n",
       "      <td>...</td>\n",
       "      <td>399.00</td>\n",
       "      <td>30.98</td>\n",
       "      <td>automotivo</td>\n",
       "      <td>50.0</td>\n",
       "      <td>314.0</td>\n",
       "      <td>1.0</td>\n",
       "      <td>14600.0</td>\n",
       "      <td>27.0</td>\n",
       "      <td>27.0</td>\n",
       "      <td>27.0</td>\n",
       "    </tr>\n",
       "    <tr>\n",
       "      <th>112484</th>\n",
       "      <td>897d215bbe78c235bc0008784a15ac78</td>\n",
       "      <td>0fca9e1dfa39a880a6f0ec6ecbc774ad</td>\n",
       "      <td>delivered</td>\n",
       "      <td>2017-04-02 00:18:00</td>\n",
       "      <td>2017-04-02 01:04:53</td>\n",
       "      <td>2017-04-04 14:13:29</td>\n",
       "      <td>2017-04-12 13:44:50</td>\n",
       "      <td>2017-04-26 00:00:00</td>\n",
       "      <td>3</td>\n",
       "      <td>e72e59338050d312832e22ea7aedc0fd</td>\n",
       "      <td>...</td>\n",
       "      <td>399.00</td>\n",
       "      <td>30.98</td>\n",
       "      <td>automotivo</td>\n",
       "      <td>50.0</td>\n",
       "      <td>314.0</td>\n",
       "      <td>1.0</td>\n",
       "      <td>14600.0</td>\n",
       "      <td>27.0</td>\n",
       "      <td>27.0</td>\n",
       "      <td>27.0</td>\n",
       "    </tr>\n",
       "    <tr>\n",
       "      <th>112485</th>\n",
       "      <td>897d215bbe78c235bc0008784a15ac78</td>\n",
       "      <td>0fca9e1dfa39a880a6f0ec6ecbc774ad</td>\n",
       "      <td>delivered</td>\n",
       "      <td>2017-04-02 00:18:00</td>\n",
       "      <td>2017-04-02 01:04:53</td>\n",
       "      <td>2017-04-04 14:13:29</td>\n",
       "      <td>2017-04-12 13:44:50</td>\n",
       "      <td>2017-04-26 00:00:00</td>\n",
       "      <td>4</td>\n",
       "      <td>e72e59338050d312832e22ea7aedc0fd</td>\n",
       "      <td>...</td>\n",
       "      <td>399.00</td>\n",
       "      <td>30.98</td>\n",
       "      <td>automotivo</td>\n",
       "      <td>50.0</td>\n",
       "      <td>314.0</td>\n",
       "      <td>1.0</td>\n",
       "      <td>14600.0</td>\n",
       "      <td>27.0</td>\n",
       "      <td>27.0</td>\n",
       "      <td>27.0</td>\n",
       "    </tr>\n",
       "    <tr>\n",
       "      <th>112488</th>\n",
       "      <td>3a1557b1df85ed91c141834059fa9523</td>\n",
       "      <td>43c6af693c8677ffe3b33ed920b167c8</td>\n",
       "      <td>delivered</td>\n",
       "      <td>2018-02-02 12:15:45</td>\n",
       "      <td>2018-02-02 13:15:29</td>\n",
       "      <td>2018-02-05 17:44:46</td>\n",
       "      <td>2018-02-16 15:38:35</td>\n",
       "      <td>2018-03-07 00:00:00</td>\n",
       "      <td>2</td>\n",
       "      <td>85f493d343229dcd90aaa5fa5a2d39a0</td>\n",
       "      <td>...</td>\n",
       "      <td>28.90</td>\n",
       "      <td>21.15</td>\n",
       "      <td>beleza_saude</td>\n",
       "      <td>36.0</td>\n",
       "      <td>339.0</td>\n",
       "      <td>1.0</td>\n",
       "      <td>150.0</td>\n",
       "      <td>19.0</td>\n",
       "      <td>17.0</td>\n",
       "      <td>15.0</td>\n",
       "    </tr>\n",
       "    <tr>\n",
       "      <th>112490</th>\n",
       "      <td>7556c9431d94d44cdddc1d0139b6cb12</td>\n",
       "      <td>0125bee4b30f40607261d06f47b0f38d</td>\n",
       "      <td>delivered</td>\n",
       "      <td>2017-09-20 16:08:03</td>\n",
       "      <td>2017-09-21 03:04:52</td>\n",
       "      <td>2017-09-22 16:03:35</td>\n",
       "      <td>2017-09-27 17:52:48</td>\n",
       "      <td>2017-10-11 00:00:00</td>\n",
       "      <td>1</td>\n",
       "      <td>d75ee8bd2f182827d5a26a09ed584c9a</td>\n",
       "      <td>...</td>\n",
       "      <td>93.00</td>\n",
       "      <td>15.49</td>\n",
       "      <td>cama_mesa_banho</td>\n",
       "      <td>49.0</td>\n",
       "      <td>357.0</td>\n",
       "      <td>2.0</td>\n",
       "      <td>700.0</td>\n",
       "      <td>60.0</td>\n",
       "      <td>10.0</td>\n",
       "      <td>50.0</td>\n",
       "    </tr>\n",
       "    <tr>\n",
       "      <th>112497</th>\n",
       "      <td>5bacbd9f42bd029c3a296501224e193e</td>\n",
       "      <td>5a1470d43d8ad960d4199134d3df48e0</td>\n",
       "      <td>delivered</td>\n",
       "      <td>2018-08-10 21:14:35</td>\n",
       "      <td>2018-08-10 21:25:22</td>\n",
       "      <td>2018-08-13 13:54:00</td>\n",
       "      <td>2018-08-21 04:16:31</td>\n",
       "      <td>2018-08-30 00:00:00</td>\n",
       "      <td>2</td>\n",
       "      <td>710e8b076db06c8e5343a9e23f0e3d83</td>\n",
       "      <td>...</td>\n",
       "      <td>44.99</td>\n",
       "      <td>22.25</td>\n",
       "      <td>esporte_lazer</td>\n",
       "      <td>60.0</td>\n",
       "      <td>645.0</td>\n",
       "      <td>2.0</td>\n",
       "      <td>600.0</td>\n",
       "      <td>30.0</td>\n",
       "      <td>20.0</td>\n",
       "      <td>20.0</td>\n",
       "    </tr>\n",
       "    <tr>\n",
       "      <th>112516</th>\n",
       "      <td>734a45cad1f49226013e72303953d6ad</td>\n",
       "      <td>cc2c433fef10e158effe8dc9bba5018d</td>\n",
       "      <td>delivered</td>\n",
       "      <td>2017-08-07 16:35:50</td>\n",
       "      <td>2017-08-07 16:55:19</td>\n",
       "      <td>2017-08-08 22:17:59</td>\n",
       "      <td>2017-08-15 15:13:59</td>\n",
       "      <td>2017-08-29 00:00:00</td>\n",
       "      <td>2</td>\n",
       "      <td>bd481cb85531aa8ef9c09eb9e6a9e0a9</td>\n",
       "      <td>...</td>\n",
       "      <td>38.90</td>\n",
       "      <td>14.10</td>\n",
       "      <td>fashion_bolsas_e_acessorios</td>\n",
       "      <td>27.0</td>\n",
       "      <td>819.0</td>\n",
       "      <td>1.0</td>\n",
       "      <td>100.0</td>\n",
       "      <td>16.0</td>\n",
       "      <td>5.0</td>\n",
       "      <td>16.0</td>\n",
       "    </tr>\n",
       "    <tr>\n",
       "      <th>112519</th>\n",
       "      <td>5a8a4dc28b16fb90469ad749f9535773</td>\n",
       "      <td>c0c8b8bb055100a0cc08dcc04d847ac9</td>\n",
       "      <td>canceled</td>\n",
       "      <td>2018-03-13 10:58:09</td>\n",
       "      <td>2018-03-14 03:08:35</td>\n",
       "      <td>NaN</td>\n",
       "      <td>NaN</td>\n",
       "      <td>2018-03-23 00:00:00</td>\n",
       "      <td>2</td>\n",
       "      <td>33ac889bc3af4ddede9c14fc789a3743</td>\n",
       "      <td>...</td>\n",
       "      <td>149.00</td>\n",
       "      <td>11.67</td>\n",
       "      <td>ferramentas_jardim</td>\n",
       "      <td>28.0</td>\n",
       "      <td>682.0</td>\n",
       "      <td>1.0</td>\n",
       "      <td>1700.0</td>\n",
       "      <td>30.0</td>\n",
       "      <td>5.0</td>\n",
       "      <td>30.0</td>\n",
       "    </tr>\n",
       "    <tr>\n",
       "      <th>112520</th>\n",
       "      <td>48f3a0cfae19477fb7c023ef6e092dd1</td>\n",
       "      <td>76468fc2e290875c93f53af327982889</td>\n",
       "      <td>delivered</td>\n",
       "      <td>2018-03-19 10:05:40</td>\n",
       "      <td>2018-03-19 10:27:09</td>\n",
       "      <td>2018-03-20 17:52:11</td>\n",
       "      <td>2018-03-27 20:19:24</td>\n",
       "      <td>2018-04-06 00:00:00</td>\n",
       "      <td>2</td>\n",
       "      <td>90871024847effc9791a5051a4d4160d</td>\n",
       "      <td>...</td>\n",
       "      <td>59.90</td>\n",
       "      <td>25.42</td>\n",
       "      <td>pet_shop</td>\n",
       "      <td>45.0</td>\n",
       "      <td>307.0</td>\n",
       "      <td>1.0</td>\n",
       "      <td>350.0</td>\n",
       "      <td>25.0</td>\n",
       "      <td>10.0</td>\n",
       "      <td>18.0</td>\n",
       "    </tr>\n",
       "    <tr>\n",
       "      <th>112526</th>\n",
       "      <td>7403ac23ba120fd8567475b2f38bedcc</td>\n",
       "      <td>516a37d1245dd9d6c5bad03d4138dac8</td>\n",
       "      <td>delivered</td>\n",
       "      <td>2018-03-22 16:09:54</td>\n",
       "      <td>2018-03-24 02:10:56</td>\n",
       "      <td>2018-03-26 23:14:43</td>\n",
       "      <td>2018-03-28 01:29:00</td>\n",
       "      <td>2018-04-04 00:00:00</td>\n",
       "      <td>2</td>\n",
       "      <td>7e11ae887246415c90fed7132bda6876</td>\n",
       "      <td>...</td>\n",
       "      <td>12.99</td>\n",
       "      <td>7.39</td>\n",
       "      <td>informatica_acessorios</td>\n",
       "      <td>47.0</td>\n",
       "      <td>433.0</td>\n",
       "      <td>2.0</td>\n",
       "      <td>250.0</td>\n",
       "      <td>19.0</td>\n",
       "      <td>5.0</td>\n",
       "      <td>13.0</td>\n",
       "    </tr>\n",
       "    <tr>\n",
       "      <th>112530</th>\n",
       "      <td>c74540b0f084f6eef5649cac6541c6cb</td>\n",
       "      <td>66fe4d66419f0c7d08b03b2814aeb9ec</td>\n",
       "      <td>delivered</td>\n",
       "      <td>2018-03-25 16:10:03</td>\n",
       "      <td>2018-03-25 16:27:43</td>\n",
       "      <td>2018-03-27 04:18:54</td>\n",
       "      <td>2018-04-03 00:48:33</td>\n",
       "      <td>2018-04-12 00:00:00</td>\n",
       "      <td>2</td>\n",
       "      <td>e07c8b5e1f3d869bd921dc22a889e2e0</td>\n",
       "      <td>...</td>\n",
       "      <td>42.90</td>\n",
       "      <td>16.32</td>\n",
       "      <td>utilidades_domesticas</td>\n",
       "      <td>48.0</td>\n",
       "      <td>1605.0</td>\n",
       "      <td>3.0</td>\n",
       "      <td>880.0</td>\n",
       "      <td>26.0</td>\n",
       "      <td>28.0</td>\n",
       "      <td>26.0</td>\n",
       "    </tr>\n",
       "    <tr>\n",
       "      <th>112535</th>\n",
       "      <td>6448237ae0af3afab5cd9c3aedeca40a</td>\n",
       "      <td>d8727aec38910ea158ed0eeee9f7812a</td>\n",
       "      <td>delivered</td>\n",
       "      <td>2018-03-22 21:41:30</td>\n",
       "      <td>2018-03-22 21:55:22</td>\n",
       "      <td>2018-03-27 19:21:36</td>\n",
       "      <td>2018-03-28 20:32:56</td>\n",
       "      <td>2018-04-04 00:00:00</td>\n",
       "      <td>2</td>\n",
       "      <td>5b15ec157adf95b76075f045c18ba7c0</td>\n",
       "      <td>...</td>\n",
       "      <td>39.90</td>\n",
       "      <td>8.29</td>\n",
       "      <td>utilidades_domesticas</td>\n",
       "      <td>37.0</td>\n",
       "      <td>2398.0</td>\n",
       "      <td>2.0</td>\n",
       "      <td>450.0</td>\n",
       "      <td>25.0</td>\n",
       "      <td>14.0</td>\n",
       "      <td>18.0</td>\n",
       "    </tr>\n",
       "    <tr>\n",
       "      <th>112551</th>\n",
       "      <td>d0e379ef6e0ea864c470893dbd5da4dd</td>\n",
       "      <td>39d7c7a5e9c2172c16234017faf854ba</td>\n",
       "      <td>delivered</td>\n",
       "      <td>2018-03-11 19:07:43</td>\n",
       "      <td>2018-03-12 19:09:38</td>\n",
       "      <td>2018-03-15 18:49:35</td>\n",
       "      <td>2018-03-16 20:03:37</td>\n",
       "      <td>2018-03-22 00:00:00</td>\n",
       "      <td>2</td>\n",
       "      <td>e76a885142c73e17342e450b79b46d40</td>\n",
       "      <td>...</td>\n",
       "      <td>310.24</td>\n",
       "      <td>47.81</td>\n",
       "      <td>utilidades_domesticas</td>\n",
       "      <td>54.0</td>\n",
       "      <td>738.0</td>\n",
       "      <td>4.0</td>\n",
       "      <td>17100.0</td>\n",
       "      <td>49.0</td>\n",
       "      <td>39.0</td>\n",
       "      <td>17.0</td>\n",
       "    </tr>\n",
       "    <tr>\n",
       "      <th>112554</th>\n",
       "      <td>fb662b5ba362e72d75d486ca4d29c9e4</td>\n",
       "      <td>7d69df404527f3b93aafbaaac56bb816</td>\n",
       "      <td>delivered</td>\n",
       "      <td>2017-09-10 10:17:06</td>\n",
       "      <td>2017-09-10 10:30:25</td>\n",
       "      <td>2017-09-21 17:23:07</td>\n",
       "      <td>2017-10-13 17:25:01</td>\n",
       "      <td>2017-10-02 00:00:00</td>\n",
       "      <td>1</td>\n",
       "      <td>24dea9b9a1d450d96702d46a0a835ff3</td>\n",
       "      <td>...</td>\n",
       "      <td>69.90</td>\n",
       "      <td>15.93</td>\n",
       "      <td>fashion_roupa_masculina</td>\n",
       "      <td>38.0</td>\n",
       "      <td>50.0</td>\n",
       "      <td>1.0</td>\n",
       "      <td>400.0</td>\n",
       "      <td>30.0</td>\n",
       "      <td>40.0</td>\n",
       "      <td>11.0</td>\n",
       "    </tr>\n",
       "    <tr>\n",
       "      <th>112555</th>\n",
       "      <td>fb662b5ba362e72d75d486ca4d29c9e4</td>\n",
       "      <td>7d69df404527f3b93aafbaaac56bb816</td>\n",
       "      <td>delivered</td>\n",
       "      <td>2017-09-10 10:17:06</td>\n",
       "      <td>2017-09-10 10:30:25</td>\n",
       "      <td>2017-09-21 17:23:07</td>\n",
       "      <td>2017-10-13 17:25:01</td>\n",
       "      <td>2017-10-02 00:00:00</td>\n",
       "      <td>2</td>\n",
       "      <td>e8c68ed99b73a85e2c22388f4a702bc0</td>\n",
       "      <td>...</td>\n",
       "      <td>69.90</td>\n",
       "      <td>15.93</td>\n",
       "      <td>fashion_roupa_masculina</td>\n",
       "      <td>33.0</td>\n",
       "      <td>54.0</td>\n",
       "      <td>1.0</td>\n",
       "      <td>500.0</td>\n",
       "      <td>30.0</td>\n",
       "      <td>40.0</td>\n",
       "      <td>11.0</td>\n",
       "    </tr>\n",
       "    <tr>\n",
       "      <th>112558</th>\n",
       "      <td>a249134c21e6cc24928060768941584e</td>\n",
       "      <td>9c0dc29335ab059ac917c36e8ad57ee0</td>\n",
       "      <td>delivered</td>\n",
       "      <td>2018-02-11 14:27:27</td>\n",
       "      <td>2018-02-11 14:48:25</td>\n",
       "      <td>2018-02-15 20:33:29</td>\n",
       "      <td>2018-03-21 16:03:48</td>\n",
       "      <td>2018-03-14 00:00:00</td>\n",
       "      <td>2</td>\n",
       "      <td>eb13f07e760f0deb9bde498ef4c5d585</td>\n",
       "      <td>...</td>\n",
       "      <td>35.99</td>\n",
       "      <td>16.11</td>\n",
       "      <td>cama_mesa_banho</td>\n",
       "      <td>52.0</td>\n",
       "      <td>683.0</td>\n",
       "      <td>1.0</td>\n",
       "      <td>800.0</td>\n",
       "      <td>28.0</td>\n",
       "      <td>3.0</td>\n",
       "      <td>29.0</td>\n",
       "    </tr>\n",
       "    <tr>\n",
       "      <th>112560</th>\n",
       "      <td>249452100d5e229072c817e203bd28aa</td>\n",
       "      <td>892144cc9ef691306799ef5ede788461</td>\n",
       "      <td>delivered</td>\n",
       "      <td>2017-09-20 11:20:55</td>\n",
       "      <td>2017-09-21 12:25:19</td>\n",
       "      <td>2017-09-22 18:32:40</td>\n",
       "      <td>2017-10-09 20:04:14</td>\n",
       "      <td>2017-10-25 00:00:00</td>\n",
       "      <td>2</td>\n",
       "      <td>0504d5c0f9b71510b2b0bee952e380fa</td>\n",
       "      <td>...</td>\n",
       "      <td>234.90</td>\n",
       "      <td>78.93</td>\n",
       "      <td>moveis_quarto</td>\n",
       "      <td>51.0</td>\n",
       "      <td>2240.0</td>\n",
       "      <td>1.0</td>\n",
       "      <td>16500.0</td>\n",
       "      <td>58.0</td>\n",
       "      <td>18.0</td>\n",
       "      <td>42.0</td>\n",
       "    </tr>\n",
       "    <tr>\n",
       "      <th>112588</th>\n",
       "      <td>cacbbea6c8fa8e5cf10021eab8a162d7</td>\n",
       "      <td>39956277e1326a1d59862db252e5c257</td>\n",
       "      <td>delivered</td>\n",
       "      <td>2018-08-14 22:30:33</td>\n",
       "      <td>2018-08-14 22:45:14</td>\n",
       "      <td>2018-08-15 12:53:00</td>\n",
       "      <td>2018-08-20 13:18:57</td>\n",
       "      <td>2018-09-14 00:00:00</td>\n",
       "      <td>1</td>\n",
       "      <td>57b82771ce003dac0f16625ce9e85dca</td>\n",
       "      <td>...</td>\n",
       "      <td>38.99</td>\n",
       "      <td>9.49</td>\n",
       "      <td>cama_mesa_banho</td>\n",
       "      <td>42.0</td>\n",
       "      <td>324.0</td>\n",
       "      <td>1.0</td>\n",
       "      <td>950.0</td>\n",
       "      <td>36.0</td>\n",
       "      <td>4.0</td>\n",
       "      <td>29.0</td>\n",
       "    </tr>\n",
       "    <tr>\n",
       "      <th>112603</th>\n",
       "      <td>08b46ab06eaf71cf043929ebf277e280</td>\n",
       "      <td>53d8052fb56568f144410fc5ff6141c5</td>\n",
       "      <td>delivered</td>\n",
       "      <td>2017-05-27 15:21:27</td>\n",
       "      <td>2017-05-27 15:35:16</td>\n",
       "      <td>2017-05-30 10:24:21</td>\n",
       "      <td>2017-06-06 13:42:55</td>\n",
       "      <td>2017-06-21 00:00:00</td>\n",
       "      <td>2</td>\n",
       "      <td>93dd9d8291fad4757cf910f1a80eb0ac</td>\n",
       "      <td>...</td>\n",
       "      <td>40.00</td>\n",
       "      <td>17.60</td>\n",
       "      <td>cama_mesa_banho</td>\n",
       "      <td>54.0</td>\n",
       "      <td>238.0</td>\n",
       "      <td>1.0</td>\n",
       "      <td>900.0</td>\n",
       "      <td>38.0</td>\n",
       "      <td>7.0</td>\n",
       "      <td>29.0</td>\n",
       "    </tr>\n",
       "    <tr>\n",
       "      <th>112621</th>\n",
       "      <td>67efc48800e617879edb36f04f815c59</td>\n",
       "      <td>6eac56572e999fbdb8f2dfef5403438f</td>\n",
       "      <td>delivered</td>\n",
       "      <td>2017-06-17 15:26:32</td>\n",
       "      <td>2017-06-17 15:42:41</td>\n",
       "      <td>2017-06-19 21:47:25</td>\n",
       "      <td>2017-06-24 08:31:30</td>\n",
       "      <td>2017-06-30 00:00:00</td>\n",
       "      <td>2</td>\n",
       "      <td>926454d19f2417167bf0a9488af66a4a</td>\n",
       "      <td>...</td>\n",
       "      <td>390.00</td>\n",
       "      <td>17.48</td>\n",
       "      <td>esporte_lazer</td>\n",
       "      <td>40.0</td>\n",
       "      <td>1397.0</td>\n",
       "      <td>3.0</td>\n",
       "      <td>5000.0</td>\n",
       "      <td>100.0</td>\n",
       "      <td>9.0</td>\n",
       "      <td>23.0</td>\n",
       "    </tr>\n",
       "    <tr>\n",
       "      <th>112625</th>\n",
       "      <td>58edf3f5f282ab91e0f6a6f2b85af02a</td>\n",
       "      <td>14945bc802d49b0f9f68f2ea8fd060c4</td>\n",
       "      <td>delivered</td>\n",
       "      <td>2018-05-07 09:01:58</td>\n",
       "      <td>2018-05-08 04:34:10</td>\n",
       "      <td>2018-05-10 12:35:00</td>\n",
       "      <td>2018-05-14 18:52:56</td>\n",
       "      <td>2018-05-30 00:00:00</td>\n",
       "      <td>2</td>\n",
       "      <td>f5e585e188891ed071253bacfad60820</td>\n",
       "      <td>...</td>\n",
       "      <td>194.80</td>\n",
       "      <td>19.24</td>\n",
       "      <td>informatica_acessorios</td>\n",
       "      <td>38.0</td>\n",
       "      <td>511.0</td>\n",
       "      <td>1.0</td>\n",
       "      <td>100.0</td>\n",
       "      <td>16.0</td>\n",
       "      <td>8.0</td>\n",
       "      <td>12.0</td>\n",
       "    </tr>\n",
       "    <tr>\n",
       "      <th>112626</th>\n",
       "      <td>58edf3f5f282ab91e0f6a6f2b85af02a</td>\n",
       "      <td>14945bc802d49b0f9f68f2ea8fd060c4</td>\n",
       "      <td>delivered</td>\n",
       "      <td>2018-05-07 09:01:58</td>\n",
       "      <td>2018-05-08 04:34:10</td>\n",
       "      <td>2018-05-10 12:35:00</td>\n",
       "      <td>2018-05-14 18:52:56</td>\n",
       "      <td>2018-05-30 00:00:00</td>\n",
       "      <td>3</td>\n",
       "      <td>f5e585e188891ed071253bacfad60820</td>\n",
       "      <td>...</td>\n",
       "      <td>194.80</td>\n",
       "      <td>19.24</td>\n",
       "      <td>informatica_acessorios</td>\n",
       "      <td>38.0</td>\n",
       "      <td>511.0</td>\n",
       "      <td>1.0</td>\n",
       "      <td>100.0</td>\n",
       "      <td>16.0</td>\n",
       "      <td>8.0</td>\n",
       "      <td>12.0</td>\n",
       "    </tr>\n",
       "    <tr>\n",
       "      <th>112627</th>\n",
       "      <td>58edf3f5f282ab91e0f6a6f2b85af02a</td>\n",
       "      <td>14945bc802d49b0f9f68f2ea8fd060c4</td>\n",
       "      <td>delivered</td>\n",
       "      <td>2018-05-07 09:01:58</td>\n",
       "      <td>2018-05-08 04:34:10</td>\n",
       "      <td>2018-05-10 12:35:00</td>\n",
       "      <td>2018-05-14 18:52:56</td>\n",
       "      <td>2018-05-30 00:00:00</td>\n",
       "      <td>4</td>\n",
       "      <td>f5e585e188891ed071253bacfad60820</td>\n",
       "      <td>...</td>\n",
       "      <td>194.80</td>\n",
       "      <td>19.24</td>\n",
       "      <td>informatica_acessorios</td>\n",
       "      <td>38.0</td>\n",
       "      <td>511.0</td>\n",
       "      <td>1.0</td>\n",
       "      <td>100.0</td>\n",
       "      <td>16.0</td>\n",
       "      <td>8.0</td>\n",
       "      <td>12.0</td>\n",
       "    </tr>\n",
       "    <tr>\n",
       "      <th>112632</th>\n",
       "      <td>76931aa364051d5d57f6a23aa352956a</td>\n",
       "      <td>b477202dca6a3ad89828fdd5748dc849</td>\n",
       "      <td>delivered</td>\n",
       "      <td>2017-11-18 12:51:32</td>\n",
       "      <td>2017-11-18 13:06:23</td>\n",
       "      <td>2017-11-23 18:21:24</td>\n",
       "      <td>2017-11-27 14:55:45</td>\n",
       "      <td>2017-12-04 00:00:00</td>\n",
       "      <td>2</td>\n",
       "      <td>af16005fca813272caf59c432153949e</td>\n",
       "      <td>...</td>\n",
       "      <td>75.90</td>\n",
       "      <td>9.35</td>\n",
       "      <td>moveis_decoracao</td>\n",
       "      <td>55.0</td>\n",
       "      <td>1186.0</td>\n",
       "      <td>2.0</td>\n",
       "      <td>800.0</td>\n",
       "      <td>53.0</td>\n",
       "      <td>8.0</td>\n",
       "      <td>20.0</td>\n",
       "    </tr>\n",
       "    <tr>\n",
       "      <th>112633</th>\n",
       "      <td>76931aa364051d5d57f6a23aa352956a</td>\n",
       "      <td>b477202dca6a3ad89828fdd5748dc849</td>\n",
       "      <td>delivered</td>\n",
       "      <td>2017-11-18 12:51:32</td>\n",
       "      <td>2017-11-18 13:06:23</td>\n",
       "      <td>2017-11-23 18:21:24</td>\n",
       "      <td>2017-11-27 14:55:45</td>\n",
       "      <td>2017-12-04 00:00:00</td>\n",
       "      <td>3</td>\n",
       "      <td>af16005fca813272caf59c432153949e</td>\n",
       "      <td>...</td>\n",
       "      <td>75.90</td>\n",
       "      <td>9.35</td>\n",
       "      <td>moveis_decoracao</td>\n",
       "      <td>55.0</td>\n",
       "      <td>1186.0</td>\n",
       "      <td>2.0</td>\n",
       "      <td>800.0</td>\n",
       "      <td>53.0</td>\n",
       "      <td>8.0</td>\n",
       "      <td>20.0</td>\n",
       "    </tr>\n",
       "    <tr>\n",
       "      <th>112634</th>\n",
       "      <td>76931aa364051d5d57f6a23aa352956a</td>\n",
       "      <td>b477202dca6a3ad89828fdd5748dc849</td>\n",
       "      <td>delivered</td>\n",
       "      <td>2017-11-18 12:51:32</td>\n",
       "      <td>2017-11-18 13:06:23</td>\n",
       "      <td>2017-11-23 18:21:24</td>\n",
       "      <td>2017-11-27 14:55:45</td>\n",
       "      <td>2017-12-04 00:00:00</td>\n",
       "      <td>4</td>\n",
       "      <td>af16005fca813272caf59c432153949e</td>\n",
       "      <td>...</td>\n",
       "      <td>75.90</td>\n",
       "      <td>9.35</td>\n",
       "      <td>moveis_decoracao</td>\n",
       "      <td>55.0</td>\n",
       "      <td>1186.0</td>\n",
       "      <td>2.0</td>\n",
       "      <td>800.0</td>\n",
       "      <td>53.0</td>\n",
       "      <td>8.0</td>\n",
       "      <td>20.0</td>\n",
       "    </tr>\n",
       "    <tr>\n",
       "      <th>112635</th>\n",
       "      <td>a281208da836ef2c9d23718a7a855a92</td>\n",
       "      <td>723b22c2412b366d01cdc84ee4295fc2</td>\n",
       "      <td>delivered</td>\n",
       "      <td>2018-08-22 14:53:45</td>\n",
       "      <td>2018-08-22 15:05:17</td>\n",
       "      <td>2018-08-23 11:09:00</td>\n",
       "      <td>2018-08-28 15:52:33</td>\n",
       "      <td>2018-09-12 00:00:00</td>\n",
       "      <td>2</td>\n",
       "      <td>53e364927f09c41fe6a9af8c18a20b24</td>\n",
       "      <td>...</td>\n",
       "      <td>100.00</td>\n",
       "      <td>20.92</td>\n",
       "      <td>beleza_saude</td>\n",
       "      <td>58.0</td>\n",
       "      <td>1271.0</td>\n",
       "      <td>1.0</td>\n",
       "      <td>550.0</td>\n",
       "      <td>19.0</td>\n",
       "      <td>15.0</td>\n",
       "      <td>15.0</td>\n",
       "    </tr>\n",
       "    <tr>\n",
       "      <th>112646</th>\n",
       "      <td>e8fd20068b9f7e6ec07068bb7537f781</td>\n",
       "      <td>609b9fb8cad4fe0c7b376f77c8ab76ad</td>\n",
       "      <td>delivered</td>\n",
       "      <td>2017-08-10 21:21:07</td>\n",
       "      <td>2017-08-10 21:35:26</td>\n",
       "      <td>2017-08-18 16:42:51</td>\n",
       "      <td>2017-08-23 15:36:29</td>\n",
       "      <td>2017-08-31 00:00:00</td>\n",
       "      <td>2</td>\n",
       "      <td>0df37da38a30a713453b03053d60d3f7</td>\n",
       "      <td>...</td>\n",
       "      <td>356.00</td>\n",
       "      <td>18.12</td>\n",
       "      <td>esporte_lazer</td>\n",
       "      <td>53.0</td>\n",
       "      <td>1105.0</td>\n",
       "      <td>1.0</td>\n",
       "      <td>2800.0</td>\n",
       "      <td>28.0</td>\n",
       "      <td>23.0</td>\n",
       "      <td>23.0</td>\n",
       "    </tr>\n",
       "  </tbody>\n",
       "</table>\n",
       "<p>13984 rows × 22 columns</p>\n",
       "</div>"
      ],
      "text/plain": [
       "                                order_id                       customer_id  \\\n",
       "29      d543201a9b42a1402ff97e65b439a48b  971bf8f42a9f8cb3ead257854905b454   \n",
       "31      78037c5f4d9f1f7bab0207f22c4e92f1  ec8f2dcb080511771e52af7ca42117f5   \n",
       "39      9883744c6400cfad8a620ddb82b9793c  df7f0c302322f4a233a07fb9cbddb46c   \n",
       "62      f4d33a3db484fba77b5f1f1990fb3445  8cb1a8d155e0ab13fed232cdfdffc0cd   \n",
       "105     177777137ce0af9e9cd2cff572728cca  fedcdc6c89d60699c967422066834f65   \n",
       "108     510c4dcf778854ea5671c1eeacf41880  1b53d66410453cb9b968dc71734295b4   \n",
       "121     88abc7f56b29139888abe397ab368518  34348d655bdb46337f636994764b7ee7   \n",
       "124     d03ba703f83e314f2bad7505a1031522  44b0e19cde4e2cb4acf0dcd9f314f248   \n",
       "133     e0fc6abd74320ea468f697164f069f8d  45de0b4bc6b0aaa0d55bde3d3c7a020c   \n",
       "134     e0fc6abd74320ea468f697164f069f8d  45de0b4bc6b0aaa0d55bde3d3c7a020c   \n",
       "135     e0fc6abd74320ea468f697164f069f8d  45de0b4bc6b0aaa0d55bde3d3c7a020c   \n",
       "144     0ae4456639dd07164db5f2433c8f55e4  c991372fe4a2b75d9c43c318062c1f97   \n",
       "145     0ae4456639dd07164db5f2433c8f55e4  c991372fe4a2b75d9c43c318062c1f97   \n",
       "146     0ae4456639dd07164db5f2433c8f55e4  c991372fe4a2b75d9c43c318062c1f97   \n",
       "152     48f38d47fa3e594216cbf679a60dc4fc  30ed79b25a04e922d54d369153264d35   \n",
       "181     b3f3f413f89e281887189ce9f68f4ff9  959c13829307e48e177d8301a432c3fa   \n",
       "249     e6ce16cb79ec1d90b1da9085a6118aeb  494dded5b201313c64ed7f100595b95c   \n",
       "259     f585ab48a4d0027744dd2912cb42a2cb  133d446a88638f9aa5aac7f8c5e5164b   \n",
       "269     b3ef4de1762699288ca5c55a1e574a12  6f967a810363042cfb1dde2417d70324   \n",
       "271     b014baa6612826328ffeeb79fd3fa596  bbe745a98d9525399573bfb082bca172   \n",
       "302     5cc6d864fa9e1a90eaf5207737549ffc  8b574f4c72ba3539b5a1cfe2429352a4   \n",
       "303     5cc6d864fa9e1a90eaf5207737549ffc  8b574f4c72ba3539b5a1cfe2429352a4   \n",
       "307     226e16e7eb6dcefe180d80127468de8b  1063de5cc98f570e53eccb32723746e2   \n",
       "309     9016781565d9e706d145f406bbc06d8e  fabbcadf829676623bc7e2ced8888343   \n",
       "312     81bee7ecbeae8e9b41bef6d41b146b12  e30b9a646ef5cf66d213d172db4d402f   \n",
       "316     15816297ce3f82c12bdfacebb7f445b5  191f7ac02aef8691dcf021de4eec473e   \n",
       "320     4100b7218003e76b7c95e82ab07b3fdc  38db9a6684eac7a77ef71610592e409f   \n",
       "330     0f548bd29148ebc519d6495e37a284e1  015faf9ec36eccd957c0f2782aab09a4   \n",
       "334     786a54ce0cf9dab273f41727d56f96ec  470cff54aa86be3ce142cc8406ad2084   \n",
       "355     dea9b7dcae5affc919947e72bcc1e786  f0825264fd1d7a4cdadaefe21ee08fb8   \n",
       "...                                  ...                               ...   \n",
       "112472  adf7dde7efb2d3ce93a32ba439bce856  36715539f8ebc9f7fc73cf94e722c0ff   \n",
       "112477  6ee6c06bb9e001463d8eba71bdfc86a7  2c59071cb3b43a971e166dc9e2a410f2   \n",
       "112483  897d215bbe78c235bc0008784a15ac78  0fca9e1dfa39a880a6f0ec6ecbc774ad   \n",
       "112484  897d215bbe78c235bc0008784a15ac78  0fca9e1dfa39a880a6f0ec6ecbc774ad   \n",
       "112485  897d215bbe78c235bc0008784a15ac78  0fca9e1dfa39a880a6f0ec6ecbc774ad   \n",
       "112488  3a1557b1df85ed91c141834059fa9523  43c6af693c8677ffe3b33ed920b167c8   \n",
       "112490  7556c9431d94d44cdddc1d0139b6cb12  0125bee4b30f40607261d06f47b0f38d   \n",
       "112497  5bacbd9f42bd029c3a296501224e193e  5a1470d43d8ad960d4199134d3df48e0   \n",
       "112516  734a45cad1f49226013e72303953d6ad  cc2c433fef10e158effe8dc9bba5018d   \n",
       "112519  5a8a4dc28b16fb90469ad749f9535773  c0c8b8bb055100a0cc08dcc04d847ac9   \n",
       "112520  48f3a0cfae19477fb7c023ef6e092dd1  76468fc2e290875c93f53af327982889   \n",
       "112526  7403ac23ba120fd8567475b2f38bedcc  516a37d1245dd9d6c5bad03d4138dac8   \n",
       "112530  c74540b0f084f6eef5649cac6541c6cb  66fe4d66419f0c7d08b03b2814aeb9ec   \n",
       "112535  6448237ae0af3afab5cd9c3aedeca40a  d8727aec38910ea158ed0eeee9f7812a   \n",
       "112551  d0e379ef6e0ea864c470893dbd5da4dd  39d7c7a5e9c2172c16234017faf854ba   \n",
       "112554  fb662b5ba362e72d75d486ca4d29c9e4  7d69df404527f3b93aafbaaac56bb816   \n",
       "112555  fb662b5ba362e72d75d486ca4d29c9e4  7d69df404527f3b93aafbaaac56bb816   \n",
       "112558  a249134c21e6cc24928060768941584e  9c0dc29335ab059ac917c36e8ad57ee0   \n",
       "112560  249452100d5e229072c817e203bd28aa  892144cc9ef691306799ef5ede788461   \n",
       "112588  cacbbea6c8fa8e5cf10021eab8a162d7  39956277e1326a1d59862db252e5c257   \n",
       "112603  08b46ab06eaf71cf043929ebf277e280  53d8052fb56568f144410fc5ff6141c5   \n",
       "112621  67efc48800e617879edb36f04f815c59  6eac56572e999fbdb8f2dfef5403438f   \n",
       "112625  58edf3f5f282ab91e0f6a6f2b85af02a  14945bc802d49b0f9f68f2ea8fd060c4   \n",
       "112626  58edf3f5f282ab91e0f6a6f2b85af02a  14945bc802d49b0f9f68f2ea8fd060c4   \n",
       "112627  58edf3f5f282ab91e0f6a6f2b85af02a  14945bc802d49b0f9f68f2ea8fd060c4   \n",
       "112632  76931aa364051d5d57f6a23aa352956a  b477202dca6a3ad89828fdd5748dc849   \n",
       "112633  76931aa364051d5d57f6a23aa352956a  b477202dca6a3ad89828fdd5748dc849   \n",
       "112634  76931aa364051d5d57f6a23aa352956a  b477202dca6a3ad89828fdd5748dc849   \n",
       "112635  a281208da836ef2c9d23718a7a855a92  723b22c2412b366d01cdc84ee4295fc2   \n",
       "112646  e8fd20068b9f7e6ec07068bb7537f781  609b9fb8cad4fe0c7b376f77c8ab76ad   \n",
       "\n",
       "       order_status order_purchase_timestamp    order_approved_at  \\\n",
       "29        delivered      2018-08-21 10:00:25  2018-08-21 10:50:54   \n",
       "31        delivered      2018-01-02 17:56:52  2018-01-02 18:10:14   \n",
       "39        delivered      2018-05-02 10:19:23  2018-05-02 10:34:27   \n",
       "62        delivered      2018-08-18 22:34:35  2018-08-20 10:50:27   \n",
       "105       delivered      2018-02-18 09:28:26  2018-02-18 09:46:23   \n",
       "108       delivered      2018-02-03 11:22:01  2018-02-05 11:16:10   \n",
       "121       delivered      2017-12-08 22:54:44  2017-12-12 03:50:24   \n",
       "124       delivered      2018-02-07 21:33:54  2018-02-07 22:35:27   \n",
       "133       delivered      2018-04-05 15:01:49  2018-04-05 15:10:17   \n",
       "134       delivered      2018-04-05 15:01:49  2018-04-05 15:10:17   \n",
       "135       delivered      2018-04-05 15:01:49  2018-04-05 15:10:17   \n",
       "144       delivered      2018-06-06 12:44:20  2018-06-06 12:55:34   \n",
       "145       delivered      2018-06-06 12:44:20  2018-06-06 12:55:34   \n",
       "146       delivered      2018-06-06 12:44:20  2018-06-06 12:55:34   \n",
       "152       delivered      2018-05-19 11:57:03  2018-05-19 12:19:24   \n",
       "181       delivered      2017-08-01 10:29:11  2017-08-01 10:43:48   \n",
       "249       delivered      2017-05-16 19:41:10  2017-05-16 19:50:18   \n",
       "259       delivered      2017-10-08 18:04:57  2017-10-09 09:49:34   \n",
       "269       delivered      2017-07-06 20:02:50  2017-07-06 20:15:26   \n",
       "271       delivered      2017-11-18 17:22:43  2017-11-18 17:30:40   \n",
       "302       delivered      2017-11-07 19:49:52  2017-11-07 20:06:58   \n",
       "303       delivered      2017-11-07 19:49:52  2017-11-07 20:06:58   \n",
       "307       delivered      2017-12-06 16:52:25  2017-12-06 17:13:09   \n",
       "309       delivered      2017-10-19 10:54:51  2017-10-19 11:07:48   \n",
       "312       delivered      2017-03-15 22:26:48  2017-03-15 22:26:48   \n",
       "316       delivered      2017-07-28 21:51:44  2017-07-29 14:55:20   \n",
       "320       delivered      2017-09-01 22:03:59  2017-09-01 22:26:08   \n",
       "330       delivered      2017-09-03 08:06:30  2017-09-03 08:25:50   \n",
       "334       delivered      2017-11-01 20:10:34  2017-11-02 20:10:23   \n",
       "355       delivered      2017-08-14 12:42:38  2017-08-16 03:26:10   \n",
       "...             ...                      ...                  ...   \n",
       "112472    delivered      2017-11-15 23:26:16  2017-11-15 23:50:27   \n",
       "112477    delivered      2018-06-14 21:05:33  2018-06-14 21:21:17   \n",
       "112483    delivered      2017-04-02 00:18:00  2017-04-02 01:04:53   \n",
       "112484    delivered      2017-04-02 00:18:00  2017-04-02 01:04:53   \n",
       "112485    delivered      2017-04-02 00:18:00  2017-04-02 01:04:53   \n",
       "112488    delivered      2018-02-02 12:15:45  2018-02-02 13:15:29   \n",
       "112490    delivered      2017-09-20 16:08:03  2017-09-21 03:04:52   \n",
       "112497    delivered      2018-08-10 21:14:35  2018-08-10 21:25:22   \n",
       "112516    delivered      2017-08-07 16:35:50  2017-08-07 16:55:19   \n",
       "112519     canceled      2018-03-13 10:58:09  2018-03-14 03:08:35   \n",
       "112520    delivered      2018-03-19 10:05:40  2018-03-19 10:27:09   \n",
       "112526    delivered      2018-03-22 16:09:54  2018-03-24 02:10:56   \n",
       "112530    delivered      2018-03-25 16:10:03  2018-03-25 16:27:43   \n",
       "112535    delivered      2018-03-22 21:41:30  2018-03-22 21:55:22   \n",
       "112551    delivered      2018-03-11 19:07:43  2018-03-12 19:09:38   \n",
       "112554    delivered      2017-09-10 10:17:06  2017-09-10 10:30:25   \n",
       "112555    delivered      2017-09-10 10:17:06  2017-09-10 10:30:25   \n",
       "112558    delivered      2018-02-11 14:27:27  2018-02-11 14:48:25   \n",
       "112560    delivered      2017-09-20 11:20:55  2017-09-21 12:25:19   \n",
       "112588    delivered      2018-08-14 22:30:33  2018-08-14 22:45:14   \n",
       "112603    delivered      2017-05-27 15:21:27  2017-05-27 15:35:16   \n",
       "112621    delivered      2017-06-17 15:26:32  2017-06-17 15:42:41   \n",
       "112625    delivered      2018-05-07 09:01:58  2018-05-08 04:34:10   \n",
       "112626    delivered      2018-05-07 09:01:58  2018-05-08 04:34:10   \n",
       "112627    delivered      2018-05-07 09:01:58  2018-05-08 04:34:10   \n",
       "112632    delivered      2017-11-18 12:51:32  2017-11-18 13:06:23   \n",
       "112633    delivered      2017-11-18 12:51:32  2017-11-18 13:06:23   \n",
       "112634    delivered      2017-11-18 12:51:32  2017-11-18 13:06:23   \n",
       "112635    delivered      2018-08-22 14:53:45  2018-08-22 15:05:17   \n",
       "112646    delivered      2017-08-10 21:21:07  2017-08-10 21:35:26   \n",
       "\n",
       "       order_delivered_carrier_date order_delivered_customer_date  \\\n",
       "29              2018-08-22 15:21:00           2018-08-28 18:58:22   \n",
       "31              2018-01-08 17:19:32           2018-01-16 17:12:37   \n",
       "39              2018-05-07 11:32:00           2018-05-08 21:06:05   \n",
       "62              2018-08-21 14:56:00           2018-08-28 17:58:27   \n",
       "105             2018-02-19 16:18:58           2018-02-28 20:04:15   \n",
       "108             2018-02-07 16:58:45           2018-02-19 21:57:09   \n",
       "121             2017-12-14 17:52:29           2018-01-23 18:13:49   \n",
       "124             2018-02-08 19:35:25           2018-02-16 00:22:19   \n",
       "133             2018-04-07 00:56:35           2018-04-12 02:21:40   \n",
       "134             2018-04-07 00:56:35           2018-04-12 02:21:40   \n",
       "135             2018-04-07 00:56:35           2018-04-12 02:21:40   \n",
       "144             2018-06-07 14:01:00           2018-06-08 16:40:58   \n",
       "145             2018-06-07 14:01:00           2018-06-08 16:40:58   \n",
       "146             2018-06-07 14:01:00           2018-06-08 16:40:58   \n",
       "152             2018-05-21 11:24:00           2018-06-08 13:06:55   \n",
       "181             2017-08-03 13:42:12           2017-08-04 20:03:04   \n",
       "249             2017-05-18 11:40:40           2017-05-29 11:18:31   \n",
       "259             2017-10-16 18:35:55           2017-10-23 20:53:58   \n",
       "269             2017-07-07 15:54:35           2017-07-13 21:44:50   \n",
       "271             2017-11-20 19:05:54           2017-11-29 21:13:25   \n",
       "302             2017-11-08 19:28:45           2017-11-15 16:22:59   \n",
       "303             2017-11-08 19:28:45           2017-11-15 16:22:59   \n",
       "307             2017-12-07 19:41:35           2017-12-28 21:48:58   \n",
       "309             2017-10-20 17:58:08           2017-10-28 17:08:08   \n",
       "312             2017-03-21 11:34:34           2017-03-27 18:14:00   \n",
       "316             2017-07-31 17:47:59           2017-08-03 19:56:47   \n",
       "320             2017-09-04 22:03:07           2017-09-14 17:56:31   \n",
       "330             2017-09-04 22:03:06           2017-09-08 16:26:55   \n",
       "334             2017-11-06 17:13:47           2017-11-16 17:22:16   \n",
       "355             2017-08-16 16:24:42           2017-08-19 12:54:45   \n",
       "...                             ...                           ...   \n",
       "112472          2017-11-17 15:21:36           2017-11-27 12:23:32   \n",
       "112477          2018-06-15 11:46:00           2018-06-26 19:43:48   \n",
       "112483          2017-04-04 14:13:29           2017-04-12 13:44:50   \n",
       "112484          2017-04-04 14:13:29           2017-04-12 13:44:50   \n",
       "112485          2017-04-04 14:13:29           2017-04-12 13:44:50   \n",
       "112488          2018-02-05 17:44:46           2018-02-16 15:38:35   \n",
       "112490          2017-09-22 16:03:35           2017-09-27 17:52:48   \n",
       "112497          2018-08-13 13:54:00           2018-08-21 04:16:31   \n",
       "112516          2017-08-08 22:17:59           2017-08-15 15:13:59   \n",
       "112519                          NaN                           NaN   \n",
       "112520          2018-03-20 17:52:11           2018-03-27 20:19:24   \n",
       "112526          2018-03-26 23:14:43           2018-03-28 01:29:00   \n",
       "112530          2018-03-27 04:18:54           2018-04-03 00:48:33   \n",
       "112535          2018-03-27 19:21:36           2018-03-28 20:32:56   \n",
       "112551          2018-03-15 18:49:35           2018-03-16 20:03:37   \n",
       "112554          2017-09-21 17:23:07           2017-10-13 17:25:01   \n",
       "112555          2017-09-21 17:23:07           2017-10-13 17:25:01   \n",
       "112558          2018-02-15 20:33:29           2018-03-21 16:03:48   \n",
       "112560          2017-09-22 18:32:40           2017-10-09 20:04:14   \n",
       "112588          2018-08-15 12:53:00           2018-08-20 13:18:57   \n",
       "112603          2017-05-30 10:24:21           2017-06-06 13:42:55   \n",
       "112621          2017-06-19 21:47:25           2017-06-24 08:31:30   \n",
       "112625          2018-05-10 12:35:00           2018-05-14 18:52:56   \n",
       "112626          2018-05-10 12:35:00           2018-05-14 18:52:56   \n",
       "112627          2018-05-10 12:35:00           2018-05-14 18:52:56   \n",
       "112632          2017-11-23 18:21:24           2017-11-27 14:55:45   \n",
       "112633          2017-11-23 18:21:24           2017-11-27 14:55:45   \n",
       "112634          2017-11-23 18:21:24           2017-11-27 14:55:45   \n",
       "112635          2018-08-23 11:09:00           2018-08-28 15:52:33   \n",
       "112646          2017-08-18 16:42:51           2017-08-23 15:36:29   \n",
       "\n",
       "       order_estimated_delivery_date  order_item_id  \\\n",
       "29               2018-09-10 00:00:00              2   \n",
       "31               2018-01-31 00:00:00              2   \n",
       "39               2018-05-24 00:00:00              2   \n",
       "62               2018-09-06 00:00:00              2   \n",
       "105              2018-03-12 00:00:00              2   \n",
       "108              2018-03-01 00:00:00              2   \n",
       "121              2018-01-09 00:00:00              2   \n",
       "124              2018-03-12 00:00:00              2   \n",
       "133              2018-05-04 00:00:00              2   \n",
       "134              2018-05-04 00:00:00              3   \n",
       "135              2018-05-04 00:00:00              4   \n",
       "144              2018-07-03 00:00:00              2   \n",
       "145              2018-07-03 00:00:00              3   \n",
       "146              2018-07-03 00:00:00              4   \n",
       "152              2018-06-12 00:00:00              2   \n",
       "181              2017-08-14 00:00:00              2   \n",
       "249              2017-06-07 00:00:00              2   \n",
       "259              2017-11-03 00:00:00              2   \n",
       "269              2017-08-01 00:00:00              2   \n",
       "271              2017-12-12 00:00:00              2   \n",
       "302              2017-12-01 00:00:00              2   \n",
       "303              2017-12-01 00:00:00              3   \n",
       "307              2018-01-08 00:00:00              2   \n",
       "309              2017-11-14 00:00:00              2   \n",
       "312              2017-04-05 00:00:00              2   \n",
       "316              2017-08-23 00:00:00              2   \n",
       "320              2017-09-25 00:00:00              2   \n",
       "330              2017-09-27 00:00:00              2   \n",
       "334              2017-11-30 00:00:00              2   \n",
       "355              2017-09-08 00:00:00              2   \n",
       "...                              ...            ...   \n",
       "112472           2017-12-13 00:00:00              1   \n",
       "112477           2018-07-12 00:00:00              2   \n",
       "112483           2017-04-26 00:00:00              2   \n",
       "112484           2017-04-26 00:00:00              3   \n",
       "112485           2017-04-26 00:00:00              4   \n",
       "112488           2018-03-07 00:00:00              2   \n",
       "112490           2017-10-11 00:00:00              1   \n",
       "112497           2018-08-30 00:00:00              2   \n",
       "112516           2017-08-29 00:00:00              2   \n",
       "112519           2018-03-23 00:00:00              2   \n",
       "112520           2018-04-06 00:00:00              2   \n",
       "112526           2018-04-04 00:00:00              2   \n",
       "112530           2018-04-12 00:00:00              2   \n",
       "112535           2018-04-04 00:00:00              2   \n",
       "112551           2018-03-22 00:00:00              2   \n",
       "112554           2017-10-02 00:00:00              1   \n",
       "112555           2017-10-02 00:00:00              2   \n",
       "112558           2018-03-14 00:00:00              2   \n",
       "112560           2017-10-25 00:00:00              2   \n",
       "112588           2018-09-14 00:00:00              1   \n",
       "112603           2017-06-21 00:00:00              2   \n",
       "112621           2017-06-30 00:00:00              2   \n",
       "112625           2018-05-30 00:00:00              2   \n",
       "112626           2018-05-30 00:00:00              3   \n",
       "112627           2018-05-30 00:00:00              4   \n",
       "112632           2017-12-04 00:00:00              2   \n",
       "112633           2017-12-04 00:00:00              3   \n",
       "112634           2017-12-04 00:00:00              4   \n",
       "112635           2018-09-12 00:00:00              2   \n",
       "112646           2017-08-31 00:00:00              2   \n",
       "\n",
       "                              product_id        ...          price  \\\n",
       "29      595fac2a385ac33a80bd5114aec74eb8        ...         116.90   \n",
       "31      595fac2a385ac33a80bd5114aec74eb8        ...         117.90   \n",
       "39      595fac2a385ac33a80bd5114aec74eb8        ...         119.90   \n",
       "62      595fac2a385ac33a80bd5114aec74eb8        ...         116.90   \n",
       "105     595fac2a385ac33a80bd5114aec74eb8        ...         117.90   \n",
       "108     595fac2a385ac33a80bd5114aec74eb8        ...         117.90   \n",
       "121     65266b2da20d04dbe00c5c2d3bb7859e        ...          19.90   \n",
       "124     65266b2da20d04dbe00c5c2d3bb7859e        ...          19.90   \n",
       "133     65266b2da20d04dbe00c5c2d3bb7859e        ...          19.90   \n",
       "134     65266b2da20d04dbe00c5c2d3bb7859e        ...          19.90   \n",
       "135     65266b2da20d04dbe00c5c2d3bb7859e        ...          19.90   \n",
       "144     65266b2da20d04dbe00c5c2d3bb7859e        ...          23.90   \n",
       "145     65266b2da20d04dbe00c5c2d3bb7859e        ...          23.90   \n",
       "146     65266b2da20d04dbe00c5c2d3bb7859e        ...          23.90   \n",
       "152     65266b2da20d04dbe00c5c2d3bb7859e        ...          23.90   \n",
       "181     060cb19345d90064d1015407193c233d        ...         147.90   \n",
       "249     08574b074924071f4e201e151b152b4e        ...          99.00   \n",
       "259     08574b074924071f4e201e151b152b4e        ...          99.00   \n",
       "269     08574b074924071f4e201e151b152b4e        ...          89.00   \n",
       "271     08574b074924071f4e201e151b152b4e        ...          99.00   \n",
       "302     08574b074924071f4e201e151b152b4e        ...          99.00   \n",
       "303     08574b074924071f4e201e151b152b4e        ...          99.00   \n",
       "307     08574b074924071f4e201e151b152b4e        ...          99.00   \n",
       "309     08574b074924071f4e201e151b152b4e        ...          99.00   \n",
       "312     08574b074924071f4e201e151b152b4e        ...          69.90   \n",
       "316     08574b074924071f4e201e151b152b4e        ...          89.00   \n",
       "320     08574b074924071f4e201e151b152b4e        ...          99.00   \n",
       "330     08574b074924071f4e201e151b152b4e        ...          99.00   \n",
       "334     08574b074924071f4e201e151b152b4e        ...          99.00   \n",
       "355     08574b074924071f4e201e151b152b4e        ...          99.00   \n",
       "...                                  ...        ...            ...   \n",
       "112472  d979289e78afc0a6bee40e1f9dabe520        ...         208.00   \n",
       "112477  f85aa92e1305fc26494dae38bba39266        ...          58.90   \n",
       "112483  e72e59338050d312832e22ea7aedc0fd        ...         399.00   \n",
       "112484  e72e59338050d312832e22ea7aedc0fd        ...         399.00   \n",
       "112485  e72e59338050d312832e22ea7aedc0fd        ...         399.00   \n",
       "112488  85f493d343229dcd90aaa5fa5a2d39a0        ...          28.90   \n",
       "112490  d75ee8bd2f182827d5a26a09ed584c9a        ...          93.00   \n",
       "112497  710e8b076db06c8e5343a9e23f0e3d83        ...          44.99   \n",
       "112516  bd481cb85531aa8ef9c09eb9e6a9e0a9        ...          38.90   \n",
       "112519  33ac889bc3af4ddede9c14fc789a3743        ...         149.00   \n",
       "112520  90871024847effc9791a5051a4d4160d        ...          59.90   \n",
       "112526  7e11ae887246415c90fed7132bda6876        ...          12.99   \n",
       "112530  e07c8b5e1f3d869bd921dc22a889e2e0        ...          42.90   \n",
       "112535  5b15ec157adf95b76075f045c18ba7c0        ...          39.90   \n",
       "112551  e76a885142c73e17342e450b79b46d40        ...         310.24   \n",
       "112554  24dea9b9a1d450d96702d46a0a835ff3        ...          69.90   \n",
       "112555  e8c68ed99b73a85e2c22388f4a702bc0        ...          69.90   \n",
       "112558  eb13f07e760f0deb9bde498ef4c5d585        ...          35.99   \n",
       "112560  0504d5c0f9b71510b2b0bee952e380fa        ...         234.90   \n",
       "112588  57b82771ce003dac0f16625ce9e85dca        ...          38.99   \n",
       "112603  93dd9d8291fad4757cf910f1a80eb0ac        ...          40.00   \n",
       "112621  926454d19f2417167bf0a9488af66a4a        ...         390.00   \n",
       "112625  f5e585e188891ed071253bacfad60820        ...         194.80   \n",
       "112626  f5e585e188891ed071253bacfad60820        ...         194.80   \n",
       "112627  f5e585e188891ed071253bacfad60820        ...         194.80   \n",
       "112632  af16005fca813272caf59c432153949e        ...          75.90   \n",
       "112633  af16005fca813272caf59c432153949e        ...          75.90   \n",
       "112634  af16005fca813272caf59c432153949e        ...          75.90   \n",
       "112635  53e364927f09c41fe6a9af8c18a20b24        ...         100.00   \n",
       "112646  0df37da38a30a713453b03053d60d3f7        ...         356.00   \n",
       "\n",
       "       freight_value        product_category_name  product_name_lenght  \\\n",
       "29             22.75                   perfumaria                 29.0   \n",
       "31             12.83                   perfumaria                 29.0   \n",
       "39             15.72                   perfumaria                 29.0   \n",
       "62             22.75                   perfumaria                 29.0   \n",
       "105            12.83                   perfumaria                 29.0   \n",
       "108            12.83                   perfumaria                 29.0   \n",
       "121            14.10                    papelaria                 38.0   \n",
       "124            14.10                    papelaria                 38.0   \n",
       "133            19.04                    papelaria                 38.0   \n",
       "134            19.04                    papelaria                 38.0   \n",
       "135            19.04                    papelaria                 38.0   \n",
       "144             7.39                    papelaria                 38.0   \n",
       "145             7.39                    papelaria                 38.0   \n",
       "146             7.39                    papelaria                 38.0   \n",
       "152            15.23                    papelaria                 38.0   \n",
       "181            15.79                   automotivo                 49.0   \n",
       "249            30.53           ferramentas_jardim                 36.0   \n",
       "259            41.08           ferramentas_jardim                 36.0   \n",
       "269            37.92           ferramentas_jardim                 36.0   \n",
       "271            33.08           ferramentas_jardim                 36.0   \n",
       "302            33.08           ferramentas_jardim                 36.0   \n",
       "303            33.08           ferramentas_jardim                 36.0   \n",
       "307            45.99           ferramentas_jardim                 36.0   \n",
       "309            37.99           ferramentas_jardim                 36.0   \n",
       "312            31.23           ferramentas_jardim                 36.0   \n",
       "316            37.92           ferramentas_jardim                 36.0   \n",
       "320            45.99           ferramentas_jardim                 36.0   \n",
       "330            33.08           ferramentas_jardim                 36.0   \n",
       "334            23.00           ferramentas_jardim                 36.0   \n",
       "355            37.99           ferramentas_jardim                 36.0   \n",
       "...              ...                          ...                  ...   \n",
       "112472         42.94              casa_construcao                 44.0   \n",
       "112477          7.04                esporte_lazer                 58.0   \n",
       "112483         30.98                   automotivo                 50.0   \n",
       "112484         30.98                   automotivo                 50.0   \n",
       "112485         30.98                   automotivo                 50.0   \n",
       "112488         21.15                 beleza_saude                 36.0   \n",
       "112490         15.49              cama_mesa_banho                 49.0   \n",
       "112497         22.25                esporte_lazer                 60.0   \n",
       "112516         14.10  fashion_bolsas_e_acessorios                 27.0   \n",
       "112519         11.67           ferramentas_jardim                 28.0   \n",
       "112520         25.42                     pet_shop                 45.0   \n",
       "112526          7.39       informatica_acessorios                 47.0   \n",
       "112530         16.32        utilidades_domesticas                 48.0   \n",
       "112535          8.29        utilidades_domesticas                 37.0   \n",
       "112551         47.81        utilidades_domesticas                 54.0   \n",
       "112554         15.93      fashion_roupa_masculina                 38.0   \n",
       "112555         15.93      fashion_roupa_masculina                 33.0   \n",
       "112558         16.11              cama_mesa_banho                 52.0   \n",
       "112560         78.93                moveis_quarto                 51.0   \n",
       "112588          9.49              cama_mesa_banho                 42.0   \n",
       "112603         17.60              cama_mesa_banho                 54.0   \n",
       "112621         17.48                esporte_lazer                 40.0   \n",
       "112625         19.24       informatica_acessorios                 38.0   \n",
       "112626         19.24       informatica_acessorios                 38.0   \n",
       "112627         19.24       informatica_acessorios                 38.0   \n",
       "112632          9.35             moveis_decoracao                 55.0   \n",
       "112633          9.35             moveis_decoracao                 55.0   \n",
       "112634          9.35             moveis_decoracao                 55.0   \n",
       "112635         20.92                 beleza_saude                 58.0   \n",
       "112646         18.12                esporte_lazer                 53.0   \n",
       "\n",
       "       product_description_lenght  product_photos_qty  product_weight_g  \\\n",
       "29                          178.0                 1.0             400.0   \n",
       "31                          178.0                 1.0             400.0   \n",
       "39                          178.0                 1.0             400.0   \n",
       "62                          178.0                 1.0             400.0   \n",
       "105                         178.0                 1.0             400.0   \n",
       "108                         178.0                 1.0             400.0   \n",
       "121                         316.0                 4.0             250.0   \n",
       "124                         316.0                 4.0             250.0   \n",
       "133                         316.0                 4.0             250.0   \n",
       "134                         316.0                 4.0             250.0   \n",
       "135                         316.0                 4.0             250.0   \n",
       "144                         316.0                 4.0             250.0   \n",
       "145                         316.0                 4.0             250.0   \n",
       "146                         316.0                 4.0             250.0   \n",
       "152                         316.0                 4.0             250.0   \n",
       "181                         608.0                 1.0            7150.0   \n",
       "249                         450.0                 1.0            9000.0   \n",
       "259                         450.0                 1.0            9000.0   \n",
       "269                         450.0                 1.0            9000.0   \n",
       "271                         450.0                 1.0            9000.0   \n",
       "302                         450.0                 1.0            9000.0   \n",
       "303                         450.0                 1.0            9000.0   \n",
       "307                         450.0                 1.0            9000.0   \n",
       "309                         450.0                 1.0            9000.0   \n",
       "312                         450.0                 1.0            9000.0   \n",
       "316                         450.0                 1.0            9000.0   \n",
       "320                         450.0                 1.0            9000.0   \n",
       "330                         450.0                 1.0            9000.0   \n",
       "334                         450.0                 1.0            9000.0   \n",
       "355                         450.0                 1.0            9000.0   \n",
       "...                           ...                 ...               ...   \n",
       "112472                      443.0                 2.0           13900.0   \n",
       "112477                      688.0                 3.0             800.0   \n",
       "112483                      314.0                 1.0           14600.0   \n",
       "112484                      314.0                 1.0           14600.0   \n",
       "112485                      314.0                 1.0           14600.0   \n",
       "112488                      339.0                 1.0             150.0   \n",
       "112490                      357.0                 2.0             700.0   \n",
       "112497                      645.0                 2.0             600.0   \n",
       "112516                      819.0                 1.0             100.0   \n",
       "112519                      682.0                 1.0            1700.0   \n",
       "112520                      307.0                 1.0             350.0   \n",
       "112526                      433.0                 2.0             250.0   \n",
       "112530                     1605.0                 3.0             880.0   \n",
       "112535                     2398.0                 2.0             450.0   \n",
       "112551                      738.0                 4.0           17100.0   \n",
       "112554                       50.0                 1.0             400.0   \n",
       "112555                       54.0                 1.0             500.0   \n",
       "112558                      683.0                 1.0             800.0   \n",
       "112560                     2240.0                 1.0           16500.0   \n",
       "112588                      324.0                 1.0             950.0   \n",
       "112603                      238.0                 1.0             900.0   \n",
       "112621                     1397.0                 3.0            5000.0   \n",
       "112625                      511.0                 1.0             100.0   \n",
       "112626                      511.0                 1.0             100.0   \n",
       "112627                      511.0                 1.0             100.0   \n",
       "112632                     1186.0                 2.0             800.0   \n",
       "112633                     1186.0                 2.0             800.0   \n",
       "112634                     1186.0                 2.0             800.0   \n",
       "112635                     1271.0                 1.0             550.0   \n",
       "112646                     1105.0                 1.0            2800.0   \n",
       "\n",
       "        product_length_cm  product_height_cm  product_width_cm  \n",
       "29                   19.0               13.0              19.0  \n",
       "31                   19.0               13.0              19.0  \n",
       "39                   19.0               13.0              19.0  \n",
       "62                   19.0               13.0              19.0  \n",
       "105                  19.0               13.0              19.0  \n",
       "108                  19.0               13.0              19.0  \n",
       "121                  51.0               15.0              15.0  \n",
       "124                  51.0               15.0              15.0  \n",
       "133                  51.0               15.0              15.0  \n",
       "134                  51.0               15.0              15.0  \n",
       "135                  51.0               15.0              15.0  \n",
       "144                  51.0               15.0              15.0  \n",
       "145                  51.0               15.0              15.0  \n",
       "146                  51.0               15.0              15.0  \n",
       "152                  51.0               15.0              15.0  \n",
       "181                  65.0               10.0              65.0  \n",
       "249                  42.0               12.0              39.0  \n",
       "259                  42.0               12.0              39.0  \n",
       "269                  42.0               12.0              39.0  \n",
       "271                  42.0               12.0              39.0  \n",
       "302                  42.0               12.0              39.0  \n",
       "303                  42.0               12.0              39.0  \n",
       "307                  42.0               12.0              39.0  \n",
       "309                  42.0               12.0              39.0  \n",
       "312                  42.0               12.0              39.0  \n",
       "316                  42.0               12.0              39.0  \n",
       "320                  42.0               12.0              39.0  \n",
       "330                  42.0               12.0              39.0  \n",
       "334                  42.0               12.0              39.0  \n",
       "355                  42.0               12.0              39.0  \n",
       "...                   ...                ...               ...  \n",
       "112472               40.0               40.0              40.0  \n",
       "112477               74.0               10.0              13.0  \n",
       "112483               27.0               27.0              27.0  \n",
       "112484               27.0               27.0              27.0  \n",
       "112485               27.0               27.0              27.0  \n",
       "112488               19.0               17.0              15.0  \n",
       "112490               60.0               10.0              50.0  \n",
       "112497               30.0               20.0              20.0  \n",
       "112516               16.0                5.0              16.0  \n",
       "112519               30.0                5.0              30.0  \n",
       "112520               25.0               10.0              18.0  \n",
       "112526               19.0                5.0              13.0  \n",
       "112530               26.0               28.0              26.0  \n",
       "112535               25.0               14.0              18.0  \n",
       "112551               49.0               39.0              17.0  \n",
       "112554               30.0               40.0              11.0  \n",
       "112555               30.0               40.0              11.0  \n",
       "112558               28.0                3.0              29.0  \n",
       "112560               58.0               18.0              42.0  \n",
       "112588               36.0                4.0              29.0  \n",
       "112603               38.0                7.0              29.0  \n",
       "112621              100.0                9.0              23.0  \n",
       "112625               16.0                8.0              12.0  \n",
       "112626               16.0                8.0              12.0  \n",
       "112627               16.0                8.0              12.0  \n",
       "112632               53.0                8.0              20.0  \n",
       "112633               53.0                8.0              20.0  \n",
       "112634               53.0                8.0              20.0  \n",
       "112635               19.0               15.0              15.0  \n",
       "112646               28.0               23.0              23.0  \n",
       "\n",
       "[13984 rows x 22 columns]"
      ]
     },
     "execution_count": 13,
     "metadata": {},
     "output_type": "execute_result"
    }
   ],
   "source": [
    "orders[orders.duplicated(['order_id'])]"
   ]
  },
  {
   "cell_type": "markdown",
   "metadata": {
    "_uuid": "ccc9f07754e13deac527c8274ddb23a422a3b6e7"
   },
   "source": [
    "<h3>Products and Freight value</h3>"
   ]
  },
  {
   "cell_type": "code",
   "execution_count": 14,
   "metadata": {
    "_kg_hide-input": true,
    "_uuid": "fe8fdcb31d2a31b5400b3ad0daa8771d23c23322"
   },
   "outputs": [
    {
     "data": {
      "image/png": "[encoded data removed]",
      "text/plain": [
       "<Figure size 864x288 with 2 Axes>"
      ]
     },
     "metadata": {
      "needs_background": "light"
     },
     "output_type": "display_data"
    },
    {
     "data": {
      "image/png": "[encoded data removed]",
      "text/plain": [
       "<Figure size 864x288 with 2 Axes>"
      ]
     },
     "metadata": {
      "needs_background": "light"
     },
     "output_type": "display_data"
    }
   ],
   "source": [
    "# Products value\n",
    "sum_value = orders.groupby('order_id')['price'].sum()\n",
    "plot_dist(sum_value, np.log(sum_value), 'Products value')\n",
    "# Freights value\n",
    "sum_value = orders.groupby('order_id')['freight_value'].sum()\n",
    "plot_dist(sum_value, sum_value.apply(lambda x: np.log(x) if x > 0 else 0), 'Freight value', color=\"#122aa5\")"
   ]
  },
  {
   "cell_type": "code",
   "execution_count": 15,
   "metadata": {},
   "outputs": [
    {
     "data": {
      "text/html": [
       "<div>\n",
       "<style scoped>\n",
       "    .dataframe tbody tr th:only-of-type {\n",
       "        vertical-align: middle;\n",
       "    }\n",
       "\n",
       "    .dataframe tbody tr th {\n",
       "        vertical-align: top;\n",
       "    }\n",
       "\n",
       "    .dataframe thead th {\n",
       "        text-align: right;\n",
       "    }\n",
       "</style>\n",
       "<table border=\"1\" class=\"dataframe\">\n",
       "  <thead>\n",
       "    <tr style=\"text-align: right;\">\n",
       "      <th></th>\n",
       "      <th>order_id</th>\n",
       "      <th>customer_id</th>\n",
       "      <th>order_status</th>\n",
       "      <th>order_purchase_timestamp</th>\n",
       "      <th>order_approved_at</th>\n",
       "      <th>order_delivered_carrier_date</th>\n",
       "      <th>order_delivered_customer_date</th>\n",
       "      <th>order_estimated_delivery_date</th>\n",
       "      <th>order_item_id</th>\n",
       "      <th>product_id</th>\n",
       "      <th>...</th>\n",
       "      <th>price</th>\n",
       "      <th>freight_value</th>\n",
       "      <th>product_category_name</th>\n",
       "      <th>product_name_lenght</th>\n",
       "      <th>product_description_lenght</th>\n",
       "      <th>product_photos_qty</th>\n",
       "      <th>product_weight_g</th>\n",
       "      <th>product_length_cm</th>\n",
       "      <th>product_height_cm</th>\n",
       "      <th>product_width_cm</th>\n",
       "    </tr>\n",
       "  </thead>\n",
       "  <tbody>\n",
       "    <tr>\n",
       "      <th>0</th>\n",
       "      <td>e481f51cbdc54678b7cc49136f2d6af7</td>\n",
       "      <td>9ef432eb6251297304e76186b10a928d</td>\n",
       "      <td>delivered</td>\n",
       "      <td>2017-10-02 10:56:33</td>\n",
       "      <td>2017-10-02 11:07:15</td>\n",
       "      <td>2017-10-04 19:55:00</td>\n",
       "      <td>2017-10-10 21:25:13</td>\n",
       "      <td>2017-10-18 00:00:00</td>\n",
       "      <td>1</td>\n",
       "      <td>87285b34884572647811a353c7ac498a</td>\n",
       "      <td>...</td>\n",
       "      <td>29.99</td>\n",
       "      <td>8.72</td>\n",
       "      <td>utilidades_domesticas</td>\n",
       "      <td>40.0</td>\n",
       "      <td>268.0</td>\n",
       "      <td>4.0</td>\n",
       "      <td>500.0</td>\n",
       "      <td>19.0</td>\n",
       "      <td>8.0</td>\n",
       "      <td>13.0</td>\n",
       "    </tr>\n",
       "    <tr>\n",
       "      <th>1</th>\n",
       "      <td>128e10d95713541c87cd1a2e48201934</td>\n",
       "      <td>a20e8105f23924cd00833fd87daa0831</td>\n",
       "      <td>delivered</td>\n",
       "      <td>2017-08-15 18:29:31</td>\n",
       "      <td>2017-08-15 20:05:16</td>\n",
       "      <td>2017-08-17 15:28:33</td>\n",
       "      <td>2017-08-18 14:44:43</td>\n",
       "      <td>2017-08-28 00:00:00</td>\n",
       "      <td>1</td>\n",
       "      <td>87285b34884572647811a353c7ac498a</td>\n",
       "      <td>...</td>\n",
       "      <td>29.99</td>\n",
       "      <td>7.78</td>\n",
       "      <td>utilidades_domesticas</td>\n",
       "      <td>40.0</td>\n",
       "      <td>268.0</td>\n",
       "      <td>4.0</td>\n",
       "      <td>500.0</td>\n",
       "      <td>19.0</td>\n",
       "      <td>8.0</td>\n",
       "      <td>13.0</td>\n",
       "    </tr>\n",
       "    <tr>\n",
       "      <th>2</th>\n",
       "      <td>0e7e841ddf8f8f2de2bad69267ecfbcf</td>\n",
       "      <td>26c7ac168e1433912a51b924fbd34d34</td>\n",
       "      <td>delivered</td>\n",
       "      <td>2017-08-02 18:24:47</td>\n",
       "      <td>2017-08-02 18:43:15</td>\n",
       "      <td>2017-08-04 17:35:43</td>\n",
       "      <td>2017-08-07 18:30:01</td>\n",
       "      <td>2017-08-15 00:00:00</td>\n",
       "      <td>1</td>\n",
       "      <td>87285b34884572647811a353c7ac498a</td>\n",
       "      <td>...</td>\n",
       "      <td>29.99</td>\n",
       "      <td>7.78</td>\n",
       "      <td>utilidades_domesticas</td>\n",
       "      <td>40.0</td>\n",
       "      <td>268.0</td>\n",
       "      <td>4.0</td>\n",
       "      <td>500.0</td>\n",
       "      <td>19.0</td>\n",
       "      <td>8.0</td>\n",
       "      <td>13.0</td>\n",
       "    </tr>\n",
       "    <tr>\n",
       "      <th>3</th>\n",
       "      <td>bfc39df4f36c3693ff3b63fcbea9e90a</td>\n",
       "      <td>53904ddbea91e1e92b2b3f1d09a7af86</td>\n",
       "      <td>delivered</td>\n",
       "      <td>2017-10-23 23:26:46</td>\n",
       "      <td>2017-10-25 02:14:11</td>\n",
       "      <td>2017-10-27 16:48:46</td>\n",
       "      <td>2017-11-07 18:04:59</td>\n",
       "      <td>2017-11-13 00:00:00</td>\n",
       "      <td>1</td>\n",
       "      <td>87285b34884572647811a353c7ac498a</td>\n",
       "      <td>...</td>\n",
       "      <td>29.99</td>\n",
       "      <td>14.10</td>\n",
       "      <td>utilidades_domesticas</td>\n",
       "      <td>40.0</td>\n",
       "      <td>268.0</td>\n",
       "      <td>4.0</td>\n",
       "      <td>500.0</td>\n",
       "      <td>19.0</td>\n",
       "      <td>8.0</td>\n",
       "      <td>13.0</td>\n",
       "    </tr>\n",
       "    <tr>\n",
       "      <th>4</th>\n",
       "      <td>53cdb2fc8bc7dce0b6741e2150273451</td>\n",
       "      <td>b0830fb4747a6c6d20dea0b8c802d7ef</td>\n",
       "      <td>delivered</td>\n",
       "      <td>2018-07-24 20:41:37</td>\n",
       "      <td>2018-07-26 03:24:27</td>\n",
       "      <td>2018-07-26 14:31:00</td>\n",
       "      <td>2018-08-07 15:27:45</td>\n",
       "      <td>2018-08-13 00:00:00</td>\n",
       "      <td>1</td>\n",
       "      <td>595fac2a385ac33a80bd5114aec74eb8</td>\n",
       "      <td>...</td>\n",
       "      <td>118.70</td>\n",
       "      <td>22.76</td>\n",
       "      <td>perfumaria</td>\n",
       "      <td>29.0</td>\n",
       "      <td>178.0</td>\n",
       "      <td>1.0</td>\n",
       "      <td>400.0</td>\n",
       "      <td>19.0</td>\n",
       "      <td>13.0</td>\n",
       "      <td>19.0</td>\n",
       "    </tr>\n",
       "  </tbody>\n",
       "</table>\n",
       "<p>5 rows × 22 columns</p>\n",
       "</div>"
      ],
      "text/plain": [
       "                           order_id                       customer_id  \\\n",
       "0  e481f51cbdc54678b7cc49136f2d6af7  9ef432eb6251297304e76186b10a928d   \n",
       "1  128e10d95713541c87cd1a2e48201934  a20e8105f23924cd00833fd87daa0831   \n",
       "2  0e7e841ddf8f8f2de2bad69267ecfbcf  26c7ac168e1433912a51b924fbd34d34   \n",
       "3  bfc39df4f36c3693ff3b63fcbea9e90a  53904ddbea91e1e92b2b3f1d09a7af86   \n",
       "4  53cdb2fc8bc7dce0b6741e2150273451  b0830fb4747a6c6d20dea0b8c802d7ef   \n",
       "\n",
       "  order_status order_purchase_timestamp    order_approved_at  \\\n",
       "0    delivered      2017-10-02 10:56:33  2017-10-02 11:07:15   \n",
       "1    delivered      2017-08-15 18:29:31  2017-08-15 20:05:16   \n",
       "2    delivered      2017-08-02 18:24:47  2017-08-02 18:43:15   \n",
       "3    delivered      2017-10-23 23:26:46  2017-10-25 02:14:11   \n",
       "4    delivered      2018-07-24 20:41:37  2018-07-26 03:24:27   \n",
       "\n",
       "  order_delivered_carrier_date order_delivered_customer_date  \\\n",
       "0          2017-10-04 19:55:00           2017-10-10 21:25:13   \n",
       "1          2017-08-17 15:28:33           2017-08-18 14:44:43   \n",
       "2          2017-08-04 17:35:43           2017-08-07 18:30:01   \n",
       "3          2017-10-27 16:48:46           2017-11-07 18:04:59   \n",
       "4          2018-07-26 14:31:00           2018-08-07 15:27:45   \n",
       "\n",
       "  order_estimated_delivery_date  order_item_id  \\\n",
       "0           2017-10-18 00:00:00              1   \n",
       "1           2017-08-28 00:00:00              1   \n",
       "2           2017-08-15 00:00:00              1   \n",
       "3           2017-11-13 00:00:00              1   \n",
       "4           2018-08-13 00:00:00              1   \n",
       "\n",
       "                         product_id        ...          price freight_value  \\\n",
       "0  87285b34884572647811a353c7ac498a        ...          29.99          8.72   \n",
       "1  87285b34884572647811a353c7ac498a        ...          29.99          7.78   \n",
       "2  87285b34884572647811a353c7ac498a        ...          29.99          7.78   \n",
       "3  87285b34884572647811a353c7ac498a        ...          29.99         14.10   \n",
       "4  595fac2a385ac33a80bd5114aec74eb8        ...         118.70         22.76   \n",
       "\n",
       "   product_category_name  product_name_lenght product_description_lenght  \\\n",
       "0  utilidades_domesticas                 40.0                      268.0   \n",
       "1  utilidades_domesticas                 40.0                      268.0   \n",
       "2  utilidades_domesticas                 40.0                      268.0   \n",
       "3  utilidades_domesticas                 40.0                      268.0   \n",
       "4             perfumaria                 29.0                      178.0   \n",
       "\n",
       "   product_photos_qty  product_weight_g  product_length_cm  product_height_cm  \\\n",
       "0                 4.0             500.0               19.0                8.0   \n",
       "1                 4.0             500.0               19.0                8.0   \n",
       "2                 4.0             500.0               19.0                8.0   \n",
       "3                 4.0             500.0               19.0                8.0   \n",
       "4                 1.0             400.0               19.0               13.0   \n",
       "\n",
       "   product_width_cm  \n",
       "0              13.0  \n",
       "1              13.0  \n",
       "2              13.0  \n",
       "3              13.0  \n",
       "4              19.0  \n",
       "\n",
       "[5 rows x 22 columns]"
      ]
     },
     "execution_count": 15,
     "metadata": {},
     "output_type": "execute_result"
    }
   ],
   "source": [
    "orders.head()"
   ]
  },
  {
   "cell_type": "code",
   "execution_count": 16,
   "metadata": {},
   "outputs": [
    {
     "data": {
      "text/html": [
       "<div>\n",
       "<style scoped>\n",
       "    .dataframe tbody tr th:only-of-type {\n",
       "        vertical-align: middle;\n",
       "    }\n",
       "\n",
       "    .dataframe tbody tr th {\n",
       "        vertical-align: top;\n",
       "    }\n",
       "\n",
       "    .dataframe thead th {\n",
       "        text-align: right;\n",
       "    }\n",
       "</style>\n",
       "<table border=\"1\" class=\"dataframe\">\n",
       "  <thead>\n",
       "    <tr style=\"text-align: right;\">\n",
       "      <th></th>\n",
       "      <th>order_id</th>\n",
       "      <th>customer_id</th>\n",
       "      <th>order_status</th>\n",
       "      <th>order_purchase_timestamp</th>\n",
       "      <th>order_approved_at</th>\n",
       "      <th>order_delivered_carrier_date</th>\n",
       "      <th>order_delivered_customer_date</th>\n",
       "      <th>order_estimated_delivery_date</th>\n",
       "      <th>order_item_id</th>\n",
       "      <th>product_id</th>\n",
       "      <th>...</th>\n",
       "      <th>price</th>\n",
       "      <th>freight_value</th>\n",
       "      <th>product_category_name</th>\n",
       "      <th>product_name_lenght</th>\n",
       "      <th>product_description_lenght</th>\n",
       "      <th>product_photos_qty</th>\n",
       "      <th>product_weight_g</th>\n",
       "      <th>product_length_cm</th>\n",
       "      <th>product_height_cm</th>\n",
       "      <th>product_width_cm</th>\n",
       "    </tr>\n",
       "  </thead>\n",
       "  <tbody>\n",
       "    <tr>\n",
       "      <th>0</th>\n",
       "      <td>e481f51cbdc54678b7cc49136f2d6af7</td>\n",
       "      <td>9ef432eb6251297304e76186b10a928d</td>\n",
       "      <td>delivered</td>\n",
       "      <td>2017-10-02 10:56:33</td>\n",
       "      <td>2017-10-02 11:07:15</td>\n",
       "      <td>2017-10-04 19:55:00</td>\n",
       "      <td>2017-10-10 21:25:13</td>\n",
       "      <td>2017-10-18 00:00:00</td>\n",
       "      <td>1</td>\n",
       "      <td>87285b34884572647811a353c7ac498a</td>\n",
       "      <td>...</td>\n",
       "      <td>29.99</td>\n",
       "      <td>8.72</td>\n",
       "      <td>utilidades_domesticas</td>\n",
       "      <td>40.0</td>\n",
       "      <td>268.0</td>\n",
       "      <td>4.0</td>\n",
       "      <td>500.0</td>\n",
       "      <td>19.0</td>\n",
       "      <td>8.0</td>\n",
       "      <td>13.0</td>\n",
       "    </tr>\n",
       "    <tr>\n",
       "      <th>1</th>\n",
       "      <td>128e10d95713541c87cd1a2e48201934</td>\n",
       "      <td>a20e8105f23924cd00833fd87daa0831</td>\n",
       "      <td>delivered</td>\n",
       "      <td>2017-08-15 18:29:31</td>\n",
       "      <td>2017-08-15 20:05:16</td>\n",
       "      <td>2017-08-17 15:28:33</td>\n",
       "      <td>2017-08-18 14:44:43</td>\n",
       "      <td>2017-08-28 00:00:00</td>\n",
       "      <td>1</td>\n",
       "      <td>87285b34884572647811a353c7ac498a</td>\n",
       "      <td>...</td>\n",
       "      <td>29.99</td>\n",
       "      <td>7.78</td>\n",
       "      <td>utilidades_domesticas</td>\n",
       "      <td>40.0</td>\n",
       "      <td>268.0</td>\n",
       "      <td>4.0</td>\n",
       "      <td>500.0</td>\n",
       "      <td>19.0</td>\n",
       "      <td>8.0</td>\n",
       "      <td>13.0</td>\n",
       "    </tr>\n",
       "    <tr>\n",
       "      <th>2</th>\n",
       "      <td>0e7e841ddf8f8f2de2bad69267ecfbcf</td>\n",
       "      <td>26c7ac168e1433912a51b924fbd34d34</td>\n",
       "      <td>delivered</td>\n",
       "      <td>2017-08-02 18:24:47</td>\n",
       "      <td>2017-08-02 18:43:15</td>\n",
       "      <td>2017-08-04 17:35:43</td>\n",
       "      <td>2017-08-07 18:30:01</td>\n",
       "      <td>2017-08-15 00:00:00</td>\n",
       "      <td>1</td>\n",
       "      <td>87285b34884572647811a353c7ac498a</td>\n",
       "      <td>...</td>\n",
       "      <td>29.99</td>\n",
       "      <td>7.78</td>\n",
       "      <td>utilidades_domesticas</td>\n",
       "      <td>40.0</td>\n",
       "      <td>268.0</td>\n",
       "      <td>4.0</td>\n",
       "      <td>500.0</td>\n",
       "      <td>19.0</td>\n",
       "      <td>8.0</td>\n",
       "      <td>13.0</td>\n",
       "    </tr>\n",
       "    <tr>\n",
       "      <th>3</th>\n",
       "      <td>bfc39df4f36c3693ff3b63fcbea9e90a</td>\n",
       "      <td>53904ddbea91e1e92b2b3f1d09a7af86</td>\n",
       "      <td>delivered</td>\n",
       "      <td>2017-10-23 23:26:46</td>\n",
       "      <td>2017-10-25 02:14:11</td>\n",
       "      <td>2017-10-27 16:48:46</td>\n",
       "      <td>2017-11-07 18:04:59</td>\n",
       "      <td>2017-11-13 00:00:00</td>\n",
       "      <td>1</td>\n",
       "      <td>87285b34884572647811a353c7ac498a</td>\n",
       "      <td>...</td>\n",
       "      <td>29.99</td>\n",
       "      <td>14.10</td>\n",
       "      <td>utilidades_domesticas</td>\n",
       "      <td>40.0</td>\n",
       "      <td>268.0</td>\n",
       "      <td>4.0</td>\n",
       "      <td>500.0</td>\n",
       "      <td>19.0</td>\n",
       "      <td>8.0</td>\n",
       "      <td>13.0</td>\n",
       "    </tr>\n",
       "    <tr>\n",
       "      <th>4</th>\n",
       "      <td>53cdb2fc8bc7dce0b6741e2150273451</td>\n",
       "      <td>b0830fb4747a6c6d20dea0b8c802d7ef</td>\n",
       "      <td>delivered</td>\n",
       "      <td>2018-07-24 20:41:37</td>\n",
       "      <td>2018-07-26 03:24:27</td>\n",
       "      <td>2018-07-26 14:31:00</td>\n",
       "      <td>2018-08-07 15:27:45</td>\n",
       "      <td>2018-08-13 00:00:00</td>\n",
       "      <td>1</td>\n",
       "      <td>595fac2a385ac33a80bd5114aec74eb8</td>\n",
       "      <td>...</td>\n",
       "      <td>118.70</td>\n",
       "      <td>22.76</td>\n",
       "      <td>perfumaria</td>\n",
       "      <td>29.0</td>\n",
       "      <td>178.0</td>\n",
       "      <td>1.0</td>\n",
       "      <td>400.0</td>\n",
       "      <td>19.0</td>\n",
       "      <td>13.0</td>\n",
       "      <td>19.0</td>\n",
       "    </tr>\n",
       "  </tbody>\n",
       "</table>\n",
       "<p>5 rows × 22 columns</p>\n",
       "</div>"
      ],
      "text/plain": [
       "                           order_id                       customer_id  \\\n",
       "0  e481f51cbdc54678b7cc49136f2d6af7  9ef432eb6251297304e76186b10a928d   \n",
       "1  128e10d95713541c87cd1a2e48201934  a20e8105f23924cd00833fd87daa0831   \n",
       "2  0e7e841ddf8f8f2de2bad69267ecfbcf  26c7ac168e1433912a51b924fbd34d34   \n",
       "3  bfc39df4f36c3693ff3b63fcbea9e90a  53904ddbea91e1e92b2b3f1d09a7af86   \n",
       "4  53cdb2fc8bc7dce0b6741e2150273451  b0830fb4747a6c6d20dea0b8c802d7ef   \n",
       "\n",
       "  order_status order_purchase_timestamp    order_approved_at  \\\n",
       "0    delivered      2017-10-02 10:56:33  2017-10-02 11:07:15   \n",
       "1    delivered      2017-08-15 18:29:31  2017-08-15 20:05:16   \n",
       "2    delivered      2017-08-02 18:24:47  2017-08-02 18:43:15   \n",
       "3    delivered      2017-10-23 23:26:46  2017-10-25 02:14:11   \n",
       "4    delivered      2018-07-24 20:41:37  2018-07-26 03:24:27   \n",
       "\n",
       "  order_delivered_carrier_date order_delivered_customer_date  \\\n",
       "0          2017-10-04 19:55:00           2017-10-10 21:25:13   \n",
       "1          2017-08-17 15:28:33           2017-08-18 14:44:43   \n",
       "2          2017-08-04 17:35:43           2017-08-07 18:30:01   \n",
       "3          2017-10-27 16:48:46           2017-11-07 18:04:59   \n",
       "4          2018-07-26 14:31:00           2018-08-07 15:27:45   \n",
       "\n",
       "  order_estimated_delivery_date  order_item_id  \\\n",
       "0           2017-10-18 00:00:00              1   \n",
       "1           2017-08-28 00:00:00              1   \n",
       "2           2017-08-15 00:00:00              1   \n",
       "3           2017-11-13 00:00:00              1   \n",
       "4           2018-08-13 00:00:00              1   \n",
       "\n",
       "                         product_id        ...          price freight_value  \\\n",
       "0  87285b34884572647811a353c7ac498a        ...          29.99          8.72   \n",
       "1  87285b34884572647811a353c7ac498a        ...          29.99          7.78   \n",
       "2  87285b34884572647811a353c7ac498a        ...          29.99          7.78   \n",
       "3  87285b34884572647811a353c7ac498a        ...          29.99         14.10   \n",
       "4  595fac2a385ac33a80bd5114aec74eb8        ...         118.70         22.76   \n",
       "\n",
       "   product_category_name  product_name_lenght product_description_lenght  \\\n",
       "0  utilidades_domesticas                 40.0                      268.0   \n",
       "1  utilidades_domesticas                 40.0                      268.0   \n",
       "2  utilidades_domesticas                 40.0                      268.0   \n",
       "3  utilidades_domesticas                 40.0                      268.0   \n",
       "4             perfumaria                 29.0                      178.0   \n",
       "\n",
       "   product_photos_qty  product_weight_g  product_length_cm  product_height_cm  \\\n",
       "0                 4.0             500.0               19.0                8.0   \n",
       "1                 4.0             500.0               19.0                8.0   \n",
       "2                 4.0             500.0               19.0                8.0   \n",
       "3                 4.0             500.0               19.0                8.0   \n",
       "4                 1.0             400.0               19.0               13.0   \n",
       "\n",
       "   product_width_cm  \n",
       "0              13.0  \n",
       "1              13.0  \n",
       "2              13.0  \n",
       "3              13.0  \n",
       "4              19.0  \n",
       "\n",
       "[5 rows x 22 columns]"
      ]
     },
     "execution_count": 16,
     "metadata": {},
     "output_type": "execute_result"
    }
   ],
   "source": [
    "orders.head()"
   ]
  },
  {
   "cell_type": "markdown",
   "metadata": {
    "_uuid": "dd141c2bc609d6133f160767496d10e8c1b1102a"
   },
   "source": [
    "<h3>Timeseries</h3>"
   ]
  },
  {
   "cell_type": "code",
   "execution_count": 17,
   "metadata": {
    "_kg_hide-input": true,
    "_uuid": "9aa0a5d923a29c7359110879afd7cbdd7dfe72fc"
   },
   "outputs": [
    {
     "data": {
      "application/vnd.plotly.v1+json": {
       "config": {
        "linkText": "Export to plot.ly",
        "plotlyServerURL": "https://plot.ly",
        "showLink": false
       },
       "data": [
        {
         "name": "Product value",
         "opacity": 0.8,
         "type": "scatter",
         "x": [
          "2016-09-04",
          "2016-09-05",
          "2016-09-15",
          "2016-10-02",
          "2016-10-03",
          "2016-10-04",
          "2016-10-05",
          "2016-10-06",
          "2016-10-07",
          "2016-10-08",
          "2016-10-09",
          "2016-10-10",
          "2016-12-23",
          "2017-01-05",
          "2017-01-06",
          "2017-01-07",
          "2017-01-08",
          "2017-01-09",
          "2017-01-10",
          "2017-01-11",
          "2017-01-12",
          "2017-01-13",
          "2017-01-14",
          "2017-01-15",
          "2017-01-16",
          "2017-01-17",
          "2017-01-18",
          "2017-01-19",
          "2017-01-20",
          "2017-01-21",
          "2017-01-22",
          "2017-01-23",
          "2017-01-24",
          "2017-01-25",
          "2017-01-26",
          "2017-01-27",
          "2017-01-28",
          "2017-01-29",
          "2017-01-30",
          "2017-01-31",
          "2017-02-01",
          "2017-02-02",
          "2017-02-03",
          "2017-02-04",
          "2017-02-05",
          "2017-02-06",
          "2017-02-07",
          "2017-02-08",
          "2017-02-09",
          "2017-02-10",
          "2017-02-11",
          "2017-02-12",
          "2017-02-13",
          "2017-02-14",
          "2017-02-15",
          "2017-02-16",
          "2017-02-17",
          "2017-02-18",
          "2017-02-19",
          "2017-02-20",
          "2017-02-21",
          "2017-02-22",
          "2017-02-23",
          "2017-02-24",
          "2017-02-25",
          "2017-02-26",
          "2017-02-27",
          "2017-02-28",
          "2017-03-01",
          "2017-03-02",
          "2017-03-03",
          "2017-03-04",
          "2017-03-05",
          "2017-03-06",
          "2017-03-07",
          "2017-03-08",
          "2017-03-09",
          "2017-03-10",
          "2017-03-11",
          "2017-03-12",
          "2017-03-13",
          "2017-03-14",
          "2017-03-15",
          "2017-03-16",
          "2017-03-17",
          "2017-03-18",
          "2017-03-19",
          "2017-03-20",
          "2017-03-21",
          "2017-03-22",
          "2017-03-23",
          "2017-03-24",
          "2017-03-25",
          "2017-03-26",
          "2017-03-27",
          "2017-03-28",
          "2017-03-29",
          "2017-03-30",
          "2017-03-31",
          "2017-04-01",
          "2017-04-02",
          "2017-04-03",
          "2017-04-04",
          "2017-04-05",
          "2017-04-06",
          "2017-04-07",
          "2017-04-08",
          "2017-04-09",
          "2017-04-10",
          "2017-04-11",
          "2017-04-12",
          "2017-04-13",
          "2017-04-14",
          "2017-04-15",
          "2017-04-16",
          "2017-04-17",
          "2017-04-18",
          "2017-04-19",
          "2017-04-20",
          "2017-04-21",
          "2017-04-22",
          "2017-04-23",
          "2017-04-24",
          "2017-04-25",
          "2017-04-26",
          "2017-04-27",
          "2017-04-28",
          "2017-04-29",
          "2017-04-30",
          "2017-05-01",
          "2017-05-02",
          "2017-05-03",
          "2017-05-04",
          "2017-05-05",
          "2017-05-06",
          "2017-05-07",
          "2017-05-08",
          "2017-05-09",
          "2017-05-10",
          "2017-05-11",
          "2017-05-12",
          "2017-05-13",
          "2017-05-14",
          "2017-05-15",
          "2017-05-16",
          "2017-05-17",
          "2017-05-18",
          "2017-05-19",
          "2017-05-20",
          "2017-05-21",
          "2017-05-22",
          "2017-05-23",
          "2017-05-24",
          "2017-05-25",
          "2017-05-26",
          "2017-05-27",
          "2017-05-28",
          "2017-05-29",
          "2017-05-30",
          "2017-05-31",
          "2017-06-01",
          "2017-06-02",
          "2017-06-03",
          "2017-06-04",
          "2017-06-05",
          "2017-06-06",
          "2017-06-07",
          "2017-06-08",
          "2017-06-09",
          "2017-06-10",
          "2017-06-11",
          "2017-06-12",
          "2017-06-13",
          "2017-06-14",
          "2017-06-15",
          "2017-06-16",
          "2017-06-17",
          "2017-06-18",
          "2017-06-19",
          "2017-06-20",
          "2017-06-21",
          "2017-06-22",
          "2017-06-23",
          "2017-06-24",
          "2017-06-25",
          "2017-06-26",
          "2017-06-27",
          "2017-06-28",
          "2017-06-29",
          "2017-06-30",
          "2017-07-01",
          "2017-07-02",
          "2017-07-03",
          "2017-07-04",
          "2017-07-05",
          "2017-07-06",
          "2017-07-07",
          "2017-07-08",
          "2017-07-09",
          "2017-07-10",
          "2017-07-11",
          "2017-07-12",
          "2017-07-13",
          "2017-07-14",
          "2017-07-15",
          "2017-07-16",
          "2017-07-17",
          "2017-07-18",
          "2017-07-19",
          "2017-07-20",
          "2017-07-21",
          "2017-07-22",
          "2017-07-23",
          "2017-07-24",
          "2017-07-25",
          "2017-07-26",
          "2017-07-27",
          "2017-07-28",
          "2017-07-29",
          "2017-07-30",
          "2017-07-31",
          "2017-08-01",
          "2017-08-02",
          "2017-08-03",
          "2017-08-04",
          "2017-08-05",
          "2017-08-06",
          "2017-08-07",
          "2017-08-08",
          "2017-08-09",
          "2017-08-10",
          "2017-08-11",
          "2017-08-12",
          "2017-08-13",
          "2017-08-14",
          "2017-08-15",
          "2017-08-16",
          "2017-08-17",
          "2017-08-18",
          "2017-08-19",
          "2017-08-20",
          "2017-08-21",
          "2017-08-22",
          "2017-08-23",
          "2017-08-24",
          "2017-08-25",
          "2017-08-26",
          "2017-08-27",
          "2017-08-28",
          "2017-08-29",
          "2017-08-30",
          "2017-08-31",
          "2017-09-01",
          "2017-09-02",
          "2017-09-03",
          "2017-09-04",
          "2017-09-05",
          "2017-09-06",
          "2017-09-07",
          "2017-09-08",
          "2017-09-09",
          "2017-09-10",
          "2017-09-11",
          "2017-09-12",
          "2017-09-13",
          "2017-09-14",
          "2017-09-15",
          "2017-09-16",
          "2017-09-17",
          "2017-09-18",
          "2017-09-19",
          "2017-09-20",
          "2017-09-21",
          "2017-09-22",
          "2017-09-23",
          "2017-09-24",
          "2017-09-25",
          "2017-09-26",
          "2017-09-27",
          "2017-09-28",
          "2017-09-29",
          "2017-09-30",
          "2017-10-01",
          "2017-10-02",
          "2017-10-03",
          "2017-10-04",
          "2017-10-05",
          "2017-10-06",
          "2017-10-07",
          "2017-10-08",
          "2017-10-09",
          "2017-10-10",
          "2017-10-11",
          "2017-10-12",
          "2017-10-13",
          "2017-10-14",
          "2017-10-15",
          "2017-10-16",
          "2017-10-17",
          "2017-10-18",
          "2017-10-19",
          "2017-10-20",
          "2017-10-21",
          "2017-10-22",
          "2017-10-23",
          "2017-10-24",
          "2017-10-25",
          "2017-10-26",
          "2017-10-27",
          "2017-10-28",
          "2017-10-29",
          "2017-10-30",
          "2017-10-31",
          "2017-11-01",
          "2017-11-02",
          "2017-11-03",
          "2017-11-04",
          "2017-11-05",
          "2017-11-06",
          "2017-11-07",
          "2017-11-08",
          "2017-11-09",
          "2017-11-10",
          "2017-11-11",
          "2017-11-12",
          "2017-11-13",
          "2017-11-14",
          "2017-11-15",
          "2017-11-16",
          "2017-11-17",
          "2017-11-18",
          "2017-11-19",
          "2017-11-20",
          "2017-11-21",
          "2017-11-22",
          "2017-11-23",
          "2017-11-24",
          "2017-11-25",
          "2017-11-26",
          "2017-11-27",
          "2017-11-28",
          "2017-11-29",
          "2017-11-30",
          "2017-12-01",
          "2017-12-02",
          "2017-12-03",
          "2017-12-04",
          "2017-12-05",
          "2017-12-06",
          "2017-12-07",
          "2017-12-08",
          "2017-12-09",
          "2017-12-10",
          "2017-12-11",
          "2017-12-12",
          "2017-12-13",
          "2017-12-14",
          "2017-12-15",
          "2017-12-16",
          "2017-12-17",
          "2017-12-18",
          "2017-12-19",
          "2017-12-20",
          "2017-12-21",
          "2017-12-22",
          "2017-12-23",
          "2017-12-24",
          "2017-12-25",
          "2017-12-26",
          "2017-12-27",
          "2017-12-28",
          "2017-12-29",
          "2017-12-30",
          "2017-12-31",
          "2018-01-01",
          "2018-01-02",
          "2018-01-03",
          "2018-01-04",
          "2018-01-05",
          "2018-01-06",
          "2018-01-07",
          "2018-01-08",
          "2018-01-09",
          "2018-01-10",
          "2018-01-11",
          "2018-01-12",
          "2018-01-13",
          "2018-01-14",
          "2018-01-15",
          "2018-01-16",
          "2018-01-17",
          "2018-01-18",
          "2018-01-19",
          "2018-01-20",
          "2018-01-21",
          "2018-01-22",
          "2018-01-23",
          "2018-01-24",
          "2018-01-25",
          "2018-01-26",
          "2018-01-27",
          "2018-01-28",
          "2018-01-29",
          "2018-01-30",
          "2018-01-31",
          "2018-02-01",
          "2018-02-02",
          "2018-02-03",
          "2018-02-04",
          "2018-02-05",
          "2018-02-06",
          "2018-02-07",
          "2018-02-08",
          "2018-02-09",
          "2018-02-10",
          "2018-02-11",
          "2018-02-12",
          "2018-02-13",
          "2018-02-14",
          "2018-02-15",
          "2018-02-16",
          "2018-02-17",
          "2018-02-18",
          "2018-02-19",
          "2018-02-20",
          "2018-02-21",
          "2018-02-22",
          "2018-02-23",
          "2018-02-24",
          "2018-02-25",
          "2018-02-26",
          "2018-02-27",
          "2018-02-28",
          "2018-03-01",
          "2018-03-02",
          "2018-03-03",
          "2018-03-04",
          "2018-03-05",
          "2018-03-06",
          "2018-03-07",
          "2018-03-08",
          "2018-03-09",
          "2018-03-10",
          "2018-03-11",
          "2018-03-12",
          "2018-03-13",
          "2018-03-14",
          "2018-03-15",
          "2018-03-16",
          "2018-03-17",
          "2018-03-18",
          "2018-03-19",
          "2018-03-20",
          "2018-03-21",
          "2018-03-22",
          "2018-03-23",
          "2018-03-24",
          "2018-03-25",
          "2018-03-26",
          "2018-03-27",
          "2018-03-28",
          "2018-03-29",
          "2018-03-30",
          "2018-03-31",
          "2018-04-01",
          "2018-04-02",
          "2018-04-03",
          "2018-04-04",
          "2018-04-05",
          "2018-04-06",
          "2018-04-07",
          "2018-04-08",
          "2018-04-09",
          "2018-04-10",
          "2018-04-11",
          "2018-04-12",
          "2018-04-13",
          "2018-04-14",
          "2018-04-15",
          "2018-04-16",
          "2018-04-17",
          "2018-04-18",
          "2018-04-19",
          "2018-04-20",
          "2018-04-21",
          "2018-04-22",
          "2018-04-23",
          "2018-04-24",
          "2018-04-25",
          "2018-04-26",
          "2018-04-27",
          "2018-04-28",
          "2018-04-29",
          "2018-04-30",
          "2018-05-01",
          "2018-05-02",
          "2018-05-03",
          "2018-05-04",
          "2018-05-05",
          "2018-05-06",
          "2018-05-07",
          "2018-05-08",
          "2018-05-09",
          "2018-05-10",
          "2018-05-11",
          "2018-05-12",
          "2018-05-13",
          "2018-05-14",
          "2018-05-15",
          "2018-05-16",
          "2018-05-17",
          "2018-05-18",
          "2018-05-19",
          "2018-05-20",
          "2018-05-21",
          "2018-05-22",
          "2018-05-23",
          "2018-05-24",
          "2018-05-25",
          "2018-05-26",
          "2018-05-27",
          "2018-05-28",
          "2018-05-29",
          "2018-05-30",
          "2018-05-31",
          "2018-06-01",
          "2018-06-02",
          "2018-06-03",
          "2018-06-04",
          "2018-06-05",
          "2018-06-06",
          "2018-06-07",
          "2018-06-08",
          "2018-06-09",
          "2018-06-10",
          "2018-06-11",
          "2018-06-12",
          "2018-06-13",
          "2018-06-14",
          "2018-06-15",
          "2018-06-16",
          "2018-06-17",
          "2018-06-18",
          "2018-06-19",
          "2018-06-20",
          "2018-06-21",
          "2018-06-22",
          "2018-06-23",
          "2018-06-24",
          "2018-06-25",
          "2018-06-26",
          "2018-06-27",
          "2018-06-28",
          "2018-06-29",
          "2018-06-30",
          "2018-07-01",
          "2018-07-02",
          "2018-07-03",
          "2018-07-04",
          "2018-07-05",
          "2018-07-06",
          "2018-07-07",
          "2018-07-08",
          "2018-07-09",
          "2018-07-10",
          "2018-07-11",
          "2018-07-12",
          "2018-07-13",
          "2018-07-14",
          "2018-07-15",
          "2018-07-16",
          "2018-07-17",
          "2018-07-18",
          "2018-07-19",
          "2018-07-20",
          "2018-07-21",
          "2018-07-22",
          "2018-07-23",
          "2018-07-24",
          "2018-07-25",
          "2018-07-26",
          "2018-07-27",
          "2018-07-28",
          "2018-07-29",
          "2018-07-30",
          "2018-07-31",
          "2018-08-01",
          "2018-08-02",
          "2018-08-03",
          "2018-08-04",
          "2018-08-05",
          "2018-08-06",
          "2018-08-07",
          "2018-08-08",
          "2018-08-09",
          "2018-08-10",
          "2018-08-11",
          "2018-08-12",
          "2018-08-13",
          "2018-08-14",
          "2018-08-15",
          "2018-08-16",
          "2018-08-17",
          "2018-08-18",
          "2018-08-19",
          "2018-08-20",
          "2018-08-21",
          "2018-08-22",
          "2018-08-23",
          "2018-08-24",
          "2018-08-25",
          "2018-08-26",
          "2018-08-27",
          "2018-08-28",
          "2018-08-29",
          "2018-09-03"
         ],
         "y": [
          72.89,
          59.5,
          134.97,
          100,
          463.48,
          9940.95999999999,
          8343.249999999993,
          7960.509999999994,
          7228.0499999999965,
          8441.849999999995,
          3336.99,
          3692.57,
          10.9,
          396.8999999999997,
          916.38,
          1351.9,
          709.58,
          673.79,
          1434.87,
          2776.1600000000003,
          2234.58,
          2505.5800000000004,
          1112.69,
          2199.570000000001,
          3307.9200000000005,
          3302.5300000000007,
          4032.36,
          3553.9500000000003,
          4035.8300000000004,
          2458.600000000001,
          3619.270000000001,
          6581.4699999999975,
          5955.169999999996,
          8977.229999999992,
          13157.65999999999,
          11432.94999999999,
          5211.009999999999,
          6457.659999999997,
          10801.129999999996,
          11116.129999999986,
          8219.749999999998,
          8917.639999999992,
          10183.739999999993,
          13968.15999999999,
          8503.789999999994,
          9539.439999999993,
          14143.479999999987,
          11958.269999999986,
          9190.28999999999,
          14222.639999999994,
          4307.56,
          15126.149999999994,
          10785.149999999989,
          12694.109999999988,
          6770.149999999998,
          6348.039999999995,
          6801.259999999995,
          7297.329999999994,
          3797.9000000000005,
          7878.2999999999965,
          8285.64,
          8033.049999999996,
          6940.8199999999915,
          6682.209999999996,
          4196.59,
          5446.679999999999,
          5844.120000000001,
          11220.759999999993,
          12555.409999999985,
          11376.999999999995,
          12364.439999999993,
          12658.509999999997,
          6954.619999999998,
          10336.639999999987,
          11883.519999999995,
          14612.459999999994,
          11705.539999999986,
          12358.869999999988,
          10852.969999999992,
          6612.159999999998,
          16958.04999999999,
          14243.659999999985,
          14999.329999999987,
          14269.779999999984,
          11970.399999999992,
          16433.819999999996,
          6649.339999999996,
          17096.489999999983,
          11349.129999999986,
          14188.969999999981,
          16375.549999999981,
          10177.869999999992,
          9423.039999999994,
          6320.949999999996,
          16356.96999999999,
          12373.10999999999,
          8660.539999999992,
          10025.599999999993,
          12199.559999999994,
          17697.369999999995,
          9129.879999999996,
          9156.759999999991,
          12301.649999999985,
          18902.939999999995,
          23168.89,
          13300.64999999999,
          8785.089999999997,
          8222.649999999994,
          11732.30999999999,
          8296.509999999995,
          8209.199999999993,
          9691.429999999995,
          8168.659999999995,
          8333.939999999999,
          5455.959999999998,
          9416.669999999993,
          21286.720000000012,
          12103.459999999986,
          13373.13999999999,
          8457.709999999994,
          12860.17999999999,
          10038.949999999992,
          15150.029999999988,
          14671.739999999987,
          15919.749999999984,
          10300.709999999992,
          15790.489999999985,
          11912.629999999997,
          8091.1599999999935,
          12580.269999999986,
          17640.199999999993,
          10053.559999999989,
          13508.549999999985,
          13969.759999999984,
          16219.97999999998,
          17167.86999999999,
          16148.409999999983,
          20837.05,
          20927.49000000003,
          18164.54999999999,
          12635.709999999988,
          9118.649999999994,
          15219.699999999986,
          17962.029999999995,
          21174.88000000001,
          18343.92999999999,
          18245.129999999986,
          18397.66999999998,
          10632.409999999993,
          17426.199999999997,
          25414.20000000004,
          17798.379999999994,
          23350.97000000005,
          15383.789999999985,
          10651.17999999999,
          14139.509999999987,
          9262.619999999986,
          18912.859999999986,
          14345.479999999987,
          20438.150000000012,
          19305.24999999999,
          19131.33,
          10450.34999999999,
          13863.229999999989,
          24184.55000000002,
          14589.149999999978,
          12771.659999999983,
          18503.07999999999,
          16051.349999999984,
          8220.349999999995,
          14303.559999999989,
          14803.109999999984,
          14016.089999999982,
          20441.67000000003,
          12737.669999999987,
          12908.22999999999,
          11264.769999999993,
          17836.160000000003,
          22764.83000000002,
          10968.329999999987,
          6183.649999999997,
          8826.80999999999,
          13282.97999999999,
          8325.649999999992,
          17646.179999999993,
          13414.759999999993,
          16681.609999999982,
          14655.819999999985,
          12169.52999999999,
          12736.889999999989,
          12151.749999999989,
          11489.439999999986,
          16611.049999999985,
          15484.239999999983,
          20789.56000000001,
          22223.720000000012,
          13662.86999999998,
          10206.859999999991,
          8197.379999999992,
          17326.929999999982,
          20213.790000000008,
          19180.22,
          14530.999999999984,
          18745.149999999983,
          10930.559999999983,
          13421.599999999995,
          21554.98000000001,
          28238.20000000005,
          16545.339999999982,
          19174.08000000001,
          13448.849999999984,
          11456.809999999989,
          12117.609999999988,
          19662.62000000001,
          17482.529999999988,
          11265.229999999987,
          15693.929999999982,
          20043.160000000003,
          15964.26999999998,
          12944.869999999983,
          17272.879999999986,
          21745.040000000005,
          18146.999999999985,
          19125.509999999987,
          18361.61999999999,
          11946.909999999989,
          14181.139999999985,
          23257.840000000037,
          18661.629999999994,
          20756.520000000015,
          19961.550000000007,
          20039.239999999998,
          13980.859999999986,
          12334.18999999999,
          18156.369999999988,
          23727.26000000004,
          23950.420000000006,
          18357.909999999985,
          17132.009999999987,
          12910.12999999999,
          12873.779999999992,
          22219.35000000004,
          16627.119999999977,
          15873.609999999999,
          13361.10999999998,
          15163.319999999983,
          10141.689999999991,
          13367.879999999986,
          22244.520000000015,
          33756.480000000054,
          30938.160000000084,
          20671.510000000028,
          28473.13000000006,
          18128.659999999993,
          27795.410000000058,
          24937.980000000054,
          20981.550000000003,
          25624.610000000033,
          16893.499999999985,
          11883.469999999988,
          15082.529999999993,
          17810.269999999993,
          23376.78000000001,
          27136.010000000064,
          27593.280000000006,
          22557.760000000035,
          18373.259999999995,
          21147.370000000003,
          19979.420000000002,
          28487.810000000063,
          20057.950000000008,
          22102.550000000025,
          19015.52999999999,
          16255.119999999977,
          10513.499999999989,
          13049.749999999989,
          17987.09999999999,
          21681.900000000005,
          20646.920000000024,
          23264.520000000022,
          30878.56000000003,
          12685.489999999985,
          18821.27,
          21764.650000000012,
          26118.570000000036,
          21197.699999999993,
          25517.520000000026,
          17084.669999999976,
          15376.01999999999,
          16539.00999999998,
          30337.790000000037,
          28151.130000000096,
          22669.37000000001,
          18754.229999999996,
          22881.190000000024,
          13528.819999999982,
          18751.850000000002,
          30580.16000000006,
          29675.770000000073,
          27257.790000000026,
          23223.71000000004,
          18626.199999999997,
          14982.449999999984,
          19786.81000000001,
          22278.100000000002,
          22071.27000000004,
          17507.059999999983,
          22573.150000000027,
          20377.580000000016,
          16483.60999999999,
          17267.75,
          20221.23,
          23813.00000000005,
          19383.610000000015,
          21263.73000000001,
          22844.050000000043,
          19169.069999999996,
          17327.439999999984,
          28600.29000000004,
          20829.710000000003,
          19240.51000000001,
          25053.340000000066,
          20223.84000000002,
          23292.070000000014,
          23087.260000000006,
          24391.970000000045,
          27049.68000000005,
          23711.290000000026,
          28268.820000000036,
          29209.070000000043,
          23233.300000000025,
          19955.559999999998,
          44284.470000000045,
          34316.64000000008,
          24962.570000000018,
          44712.88000000007,
          152653.73999999883,
          60923.48000000017,
          45315.28000000016,
          47923.660000000134,
          47886.5500000001,
          39834.75000000013,
          31322.740000000053,
          39981.91000000008,
          31208.130000000034,
          29262.92000000008,
          47348.520000000084,
          33632.37000000012,
          39198.74000000009,
          28055.78000000004,
          29847.460000000072,
          20027.04000000001,
          24695.790000000048,
          33990.3900000001,
          33468.710000000116,
          29601.280000000083,
          25286.230000000018,
          27382.20000000004,
          20296.280000000024,
          19312.40999999999,
          29162.11000000005,
          20615.990000000013,
          27958.53000000005,
          18572.219999999987,
          14935.299999999987,
          12875.049999999981,
          5759.0099999999975,
          10381.339999999991,
          20549.430000000015,
          17700.399999999994,
          15037.489999999976,
          16042.71999999998,
          13042.64999999999,
          8685.769999999993,
          6948.209999999994,
          25315.000000000022,
          31886.72000000006,
          34839.44000000006,
          27720.39000000004,
          27609.67000000003,
          29433.010000000057,
          38714.400000000096,
          30248.910000000065,
          38479.53000000011,
          40056.960000000094,
          30988.940000000093,
          28091.910000000058,
          30962.530000000053,
          38330.300000000054,
          44237.17000000004,
          36089.22000000006,
          27774.77000000004,
          29954.78000000006,
          22381.680000000022,
          23829.83000000003,
          37137.640000000116,
          34746.17000000008,
          31700.17000000006,
          29634.420000000053,
          33995.0000000001,
          22031.08000000002,
          24100.75000000001,
          30481.320000000043,
          29588.85000000007,
          32721.59000000008,
          30362.150000000074,
          27731.600000000053,
          23448.660000000003,
          23989.790000000015,
          37360.840000000084,
          34119.38000000007,
          31306.230000000043,
          27314.730000000032,
          30743.070000000058,
          21248.160000000003,
          22504.979999999992,
          23310.730000000018,
          23638.34000000004,
          37079.650000000096,
          32279.91000000008,
          26894.990000000056,
          24952.76000000005,
          24592.430000000022,
          28190.630000000034,
          36568.57000000008,
          32401.690000000075,
          32718.710000000116,
          28424.700000000077,
          24263.51000000003,
          29203.770000000062,
          43750.96000000006,
          40267.20000000007,
          45510.570000000065,
          39651.51000000011,
          31776.460000000094,
          26394.970000000045,
          32441.90000000005,
          38323.07000000007,
          39173.99000000007,
          36137.89000000008,
          28156.39000000007,
          28405.440000000057,
          26203.91000000004,
          31320.43000000005,
          30644.66000000006,
          36074.24000000008,
          23528.790000000037,
          44311.46000000007,
          32832.190000000126,
          20078.500000000004,
          31119.330000000045,
          44645.190000000075,
          35749.4700000001,
          39714.43000000005,
          31119.41000000008,
          29621.24000000006,
          23787.77000000001,
          25557.29000000006,
          35779.010000000075,
          34732.5600000001,
          29713.34000000004,
          28926.730000000032,
          22088.14000000001,
          25203.73000000001,
          29396.660000000047,
          40279.100000000086,
          36246.51000000006,
          37982.73000000009,
          36058.79000000009,
          27784.740000000016,
          25517.380000000016,
          23463.850000000028,
          49308.730000000054,
          27870.560000000016,
          40782.96000000009,
          34117.58000000007,
          31150.36000000005,
          18845.699999999997,
          30524.04000000009,
          40412.26000000007,
          36682.97000000008,
          39472.71000000006,
          43287.21000000005,
          28353.840000000062,
          18966.339999999997,
          27350.900000000052,
          37674.27000000007,
          43083.77000000007,
          40995.02000000007,
          31631.360000000066,
          40752.54000000007,
          23560.560000000038,
          19411.699999999997,
          35682.61000000005,
          33163.80000000005,
          38557.72000000008,
          42497.77000000008,
          39730.93000000008,
          28306.45000000003,
          28565.97000000007,
          54167.480000000054,
          47800.69000000006,
          43589.12000000011,
          51458.670000000035,
          37859.190000000104,
          29604.140000000054,
          31313.520000000077,
          53842.38000000015,
          41119.85000000007,
          56283.73000000005,
          31488.47000000005,
          31621.520000000048,
          25201.29000000003,
          19586.540000000005,
          25404.06000000005,
          27793.91000000004,
          17501.04999999999,
          20073.260000000006,
          15888.919999999982,
          14799.169999999987,
          12523.249999999987,
          26877.47000000002,
          25572.080000000024,
          19214.000000000004,
          25111.280000000024,
          32298.920000000067,
          25266.620000000024,
          28461.660000000058,
          28622.400000000056,
          30709.36000000004,
          26134.400000000052,
          37020.40000000006,
          26870.41000000005,
          29325.080000000016,
          25501.970000000067,
          49669.70000000006,
          40369.00000000009,
          34616.960000000094,
          27504.60000000006,
          26617.56000000002,
          24616.050000000025,
          17316.329999999987,
          34718.30000000004,
          34630.330000000045,
          28793.99000000005,
          27703.58000000004,
          24807.27000000001,
          17501.919999999987,
          24432.600000000035,
          36135.52000000007,
          30957.57000000007,
          26496.480000000025,
          32171.97000000004,
          20473.480000000018,
          15379.879999999988,
          24369.47000000003,
          23158.62000000003,
          26307.310000000023,
          35651.65000000008,
          28809.330000000034,
          19005.539999999983,
          9076.559999999989,
          14410.789999999992,
          19564.850000000028,
          18724.57,
          18519.98,
          28891.77000000002,
          27644.230000000036,
          22257.690000000006,
          30037.490000000034,
          31308.29000000007,
          30421.480000000036,
          41193.49000000006,
          38705.58000000006,
          32031.440000000093,
          21113.58,
          27753.420000000024,
          39911.22000000006,
          41525.7600000001,
          40417.500000000044,
          35292.72000000007,
          28371.750000000044,
          25210.12000000004,
          31434.080000000064,
          39070.66000000007,
          45316.28000000009,
          40553.80000000011,
          38462.260000000046,
          42075.18000000008,
          35511.96000000005,
          35583.76000000009,
          56427.390000000116,
          49178.980000000076,
          43333.0700000001,
          40040.2800000001,
          33424.730000000076,
          25960.93000000006,
          31524.21000000007,
          38613.130000000085,
          44192.840000000055,
          45574.04000000009,
          35670.61000000009,
          31730.67000000008,
          24340.950000000015,
          25487.390000000014,
          34479.50000000009,
          26323.060000000067,
          20297.130000000012,
          17030.86999999998,
          9633.60999999999,
          10599.409999999996,
          8070.709999999994,
          5345.909999999999,
          3673.909999999999,
          1546.0400000000002,
          145
         ]
        },
        {
         "name": "Freight value",
         "opacity": 0.8,
         "type": "scatter",
         "x": [
          "2016-09-04",
          "2016-09-05",
          "2016-09-15",
          "2016-10-02",
          "2016-10-03",
          "2016-10-04",
          "2016-10-05",
          "2016-10-06",
          "2016-10-07",
          "2016-10-08",
          "2016-10-09",
          "2016-10-10",
          "2016-12-23",
          "2017-01-05",
          "2017-01-06",
          "2017-01-07",
          "2017-01-08",
          "2017-01-09",
          "2017-01-10",
          "2017-01-11",
          "2017-01-12",
          "2017-01-13",
          "2017-01-14",
          "2017-01-15",
          "2017-01-16",
          "2017-01-17",
          "2017-01-18",
          "2017-01-19",
          "2017-01-20",
          "2017-01-21",
          "2017-01-22",
          "2017-01-23",
          "2017-01-24",
          "2017-01-25",
          "2017-01-26",
          "2017-01-27",
          "2017-01-28",
          "2017-01-29",
          "2017-01-30",
          "2017-01-31",
          "2017-02-01",
          "2017-02-02",
          "2017-02-03",
          "2017-02-04",
          "2017-02-05",
          "2017-02-06",
          "2017-02-07",
          "2017-02-08",
          "2017-02-09",
          "2017-02-10",
          "2017-02-11",
          "2017-02-12",
          "2017-02-13",
          "2017-02-14",
          "2017-02-15",
          "2017-02-16",
          "2017-02-17",
          "2017-02-18",
          "2017-02-19",
          "2017-02-20",
          "2017-02-21",
          "2017-02-22",
          "2017-02-23",
          "2017-02-24",
          "2017-02-25",
          "2017-02-26",
          "2017-02-27",
          "2017-02-28",
          "2017-03-01",
          "2017-03-02",
          "2017-03-03",
          "2017-03-04",
          "2017-03-05",
          "2017-03-06",
          "2017-03-07",
          "2017-03-08",
          "2017-03-09",
          "2017-03-10",
          "2017-03-11",
          "2017-03-12",
          "2017-03-13",
          "2017-03-14",
          "2017-03-15",
          "2017-03-16",
          "2017-03-17",
          "2017-03-18",
          "2017-03-19",
          "2017-03-20",
          "2017-03-21",
          "2017-03-22",
          "2017-03-23",
          "2017-03-24",
          "2017-03-25",
          "2017-03-26",
          "2017-03-27",
          "2017-03-28",
          "2017-03-29",
          "2017-03-30",
          "2017-03-31",
          "2017-04-01",
          "2017-04-02",
          "2017-04-03",
          "2017-04-04",
          "2017-04-05",
          "2017-04-06",
          "2017-04-07",
          "2017-04-08",
          "2017-04-09",
          "2017-04-10",
          "2017-04-11",
          "2017-04-12",
          "2017-04-13",
          "2017-04-14",
          "2017-04-15",
          "2017-04-16",
          "2017-04-17",
          "2017-04-18",
          "2017-04-19",
          "2017-04-20",
          "2017-04-21",
          "2017-04-22",
          "2017-04-23",
          "2017-04-24",
          "2017-04-25",
          "2017-04-26",
          "2017-04-27",
          "2017-04-28",
          "2017-04-29",
          "2017-04-30",
          "2017-05-01",
          "2017-05-02",
          "2017-05-03",
          "2017-05-04",
          "2017-05-05",
          "2017-05-06",
          "2017-05-07",
          "2017-05-08",
          "2017-05-09",
          "2017-05-10",
          "2017-05-11",
          "2017-05-12",
          "2017-05-13",
          "2017-05-14",
          "2017-05-15",
          "2017-05-16",
          "2017-05-17",
          "2017-05-18",
          "2017-05-19",
          "2017-05-20",
          "2017-05-21",
          "2017-05-22",
          "2017-05-23",
          "2017-05-24",
          "2017-05-25",
          "2017-05-26",
          "2017-05-27",
          "2017-05-28",
          "2017-05-29",
          "2017-05-30",
          "2017-05-31",
          "2017-06-01",
          "2017-06-02",
          "2017-06-03",
          "2017-06-04",
          "2017-06-05",
          "2017-06-06",
          "2017-06-07",
          "2017-06-08",
          "2017-06-09",
          "2017-06-10",
          "2017-06-11",
          "2017-06-12",
          "2017-06-13",
          "2017-06-14",
          "2017-06-15",
          "2017-06-16",
          "2017-06-17",
          "2017-06-18",
          "2017-06-19",
          "2017-06-20",
          "2017-06-21",
          "2017-06-22",
          "2017-06-23",
          "2017-06-24",
          "2017-06-25",
          "2017-06-26",
          "2017-06-27",
          "2017-06-28",
          "2017-06-29",
          "2017-06-30",
          "2017-07-01",
          "2017-07-02",
          "2017-07-03",
          "2017-07-04",
          "2017-07-05",
          "2017-07-06",
          "2017-07-07",
          "2017-07-08",
          "2017-07-09",
          "2017-07-10",
          "2017-07-11",
          "2017-07-12",
          "2017-07-13",
          "2017-07-14",
          "2017-07-15",
          "2017-07-16",
          "2017-07-17",
          "2017-07-18",
          "2017-07-19",
          "2017-07-20",
          "2017-07-21",
          "2017-07-22",
          "2017-07-23",
          "2017-07-24",
          "2017-07-25",
          "2017-07-26",
          "2017-07-27",
          "2017-07-28",
          "2017-07-29",
          "2017-07-30",
          "2017-07-31",
          "2017-08-01",
          "2017-08-02",
          "2017-08-03",
          "2017-08-04",
          "2017-08-05",
          "2017-08-06",
          "2017-08-07",
          "2017-08-08",
          "2017-08-09",
          "2017-08-10",
          "2017-08-11",
          "2017-08-12",
          "2017-08-13",
          "2017-08-14",
          "2017-08-15",
          "2017-08-16",
          "2017-08-17",
          "2017-08-18",
          "2017-08-19",
          "2017-08-20",
          "2017-08-21",
          "2017-08-22",
          "2017-08-23",
          "2017-08-24",
          "2017-08-25",
          "2017-08-26",
          "2017-08-27",
          "2017-08-28",
          "2017-08-29",
          "2017-08-30",
          "2017-08-31",
          "2017-09-01",
          "2017-09-02",
          "2017-09-03",
          "2017-09-04",
          "2017-09-05",
          "2017-09-06",
          "2017-09-07",
          "2017-09-08",
          "2017-09-09",
          "2017-09-10",
          "2017-09-11",
          "2017-09-12",
          "2017-09-13",
          "2017-09-14",
          "2017-09-15",
          "2017-09-16",
          "2017-09-17",
          "2017-09-18",
          "2017-09-19",
          "2017-09-20",
          "2017-09-21",
          "2017-09-22",
          "2017-09-23",
          "2017-09-24",
          "2017-09-25",
          "2017-09-26",
          "2017-09-27",
          "2017-09-28",
          "2017-09-29",
          "2017-09-30",
          "2017-10-01",
          "2017-10-02",
          "2017-10-03",
          "2017-10-04",
          "2017-10-05",
          "2017-10-06",
          "2017-10-07",
          "2017-10-08",
          "2017-10-09",
          "2017-10-10",
          "2017-10-11",
          "2017-10-12",
          "2017-10-13",
          "2017-10-14",
          "2017-10-15",
          "2017-10-16",
          "2017-10-17",
          "2017-10-18",
          "2017-10-19",
          "2017-10-20",
          "2017-10-21",
          "2017-10-22",
          "2017-10-23",
          "2017-10-24",
          "2017-10-25",
          "2017-10-26",
          "2017-10-27",
          "2017-10-28",
          "2017-10-29",
          "2017-10-30",
          "2017-10-31",
          "2017-11-01",
          "2017-11-02",
          "2017-11-03",
          "2017-11-04",
          "2017-11-05",
          "2017-11-06",
          "2017-11-07",
          "2017-11-08",
          "2017-11-09",
          "2017-11-10",
          "2017-11-11",
          "2017-11-12",
          "2017-11-13",
          "2017-11-14",
          "2017-11-15",
          "2017-11-16",
          "2017-11-17",
          "2017-11-18",
          "2017-11-19",
          "2017-11-20",
          "2017-11-21",
          "2017-11-22",
          "2017-11-23",
          "2017-11-24",
          "2017-11-25",
          "2017-11-26",
          "2017-11-27",
          "2017-11-28",
          "2017-11-29",
          "2017-11-30",
          "2017-12-01",
          "2017-12-02",
          "2017-12-03",
          "2017-12-04",
          "2017-12-05",
          "2017-12-06",
          "2017-12-07",
          "2017-12-08",
          "2017-12-09",
          "2017-12-10",
          "2017-12-11",
          "2017-12-12",
          "2017-12-13",
          "2017-12-14",
          "2017-12-15",
          "2017-12-16",
          "2017-12-17",
          "2017-12-18",
          "2017-12-19",
          "2017-12-20",
          "2017-12-21",
          "2017-12-22",
          "2017-12-23",
          "2017-12-24",
          "2017-12-25",
          "2017-12-26",
          "2017-12-27",
          "2017-12-28",
          "2017-12-29",
          "2017-12-30",
          "2017-12-31",
          "2018-01-01",
          "2018-01-02",
          "2018-01-03",
          "2018-01-04",
          "2018-01-05",
          "2018-01-06",
          "2018-01-07",
          "2018-01-08",
          "2018-01-09",
          "2018-01-10",
          "2018-01-11",
          "2018-01-12",
          "2018-01-13",
          "2018-01-14",
          "2018-01-15",
          "2018-01-16",
          "2018-01-17",
          "2018-01-18",
          "2018-01-19",
          "2018-01-20",
          "2018-01-21",
          "2018-01-22",
          "2018-01-23",
          "2018-01-24",
          "2018-01-25",
          "2018-01-26",
          "2018-01-27",
          "2018-01-28",
          "2018-01-29",
          "2018-01-30",
          "2018-01-31",
          "2018-02-01",
          "2018-02-02",
          "2018-02-03",
          "2018-02-04",
          "2018-02-05",
          "2018-02-06",
          "2018-02-07",
          "2018-02-08",
          "2018-02-09",
          "2018-02-10",
          "2018-02-11",
          "2018-02-12",
          "2018-02-13",
          "2018-02-14",
          "2018-02-15",
          "2018-02-16",
          "2018-02-17",
          "2018-02-18",
          "2018-02-19",
          "2018-02-20",
          "2018-02-21",
          "2018-02-22",
          "2018-02-23",
          "2018-02-24",
          "2018-02-25",
          "2018-02-26",
          "2018-02-27",
          "2018-02-28",
          "2018-03-01",
          "2018-03-02",
          "2018-03-03",
          "2018-03-04",
          "2018-03-05",
          "2018-03-06",
          "2018-03-07",
          "2018-03-08",
          "2018-03-09",
          "2018-03-10",
          "2018-03-11",
          "2018-03-12",
          "2018-03-13",
          "2018-03-14",
          "2018-03-15",
          "2018-03-16",
          "2018-03-17",
          "2018-03-18",
          "2018-03-19",
          "2018-03-20",
          "2018-03-21",
          "2018-03-22",
          "2018-03-23",
          "2018-03-24",
          "2018-03-25",
          "2018-03-26",
          "2018-03-27",
          "2018-03-28",
          "2018-03-29",
          "2018-03-30",
          "2018-03-31",
          "2018-04-01",
          "2018-04-02",
          "2018-04-03",
          "2018-04-04",
          "2018-04-05",
          "2018-04-06",
          "2018-04-07",
          "2018-04-08",
          "2018-04-09",
          "2018-04-10",
          "2018-04-11",
          "2018-04-12",
          "2018-04-13",
          "2018-04-14",
          "2018-04-15",
          "2018-04-16",
          "2018-04-17",
          "2018-04-18",
          "2018-04-19",
          "2018-04-20",
          "2018-04-21",
          "2018-04-22",
          "2018-04-23",
          "2018-04-24",
          "2018-04-25",
          "2018-04-26",
          "2018-04-27",
          "2018-04-28",
          "2018-04-29",
          "2018-04-30",
          "2018-05-01",
          "2018-05-02",
          "2018-05-03",
          "2018-05-04",
          "2018-05-05",
          "2018-05-06",
          "2018-05-07",
          "2018-05-08",
          "2018-05-09",
          "2018-05-10",
          "2018-05-11",
          "2018-05-12",
          "2018-05-13",
          "2018-05-14",
          "2018-05-15",
          "2018-05-16",
          "2018-05-17",
          "2018-05-18",
          "2018-05-19",
          "2018-05-20",
          "2018-05-21",
          "2018-05-22",
          "2018-05-23",
          "2018-05-24",
          "2018-05-25",
          "2018-05-26",
          "2018-05-27",
          "2018-05-28",
          "2018-05-29",
          "2018-05-30",
          "2018-05-31",
          "2018-06-01",
          "2018-06-02",
          "2018-06-03",
          "2018-06-04",
          "2018-06-05",
          "2018-06-06",
          "2018-06-07",
          "2018-06-08",
          "2018-06-09",
          "2018-06-10",
          "2018-06-11",
          "2018-06-12",
          "2018-06-13",
          "2018-06-14",
          "2018-06-15",
          "2018-06-16",
          "2018-06-17",
          "2018-06-18",
          "2018-06-19",
          "2018-06-20",
          "2018-06-21",
          "2018-06-22",
          "2018-06-23",
          "2018-06-24",
          "2018-06-25",
          "2018-06-26",
          "2018-06-27",
          "2018-06-28",
          "2018-06-29",
          "2018-06-30",
          "2018-07-01",
          "2018-07-02",
          "2018-07-03",
          "2018-07-04",
          "2018-07-05",
          "2018-07-06",
          "2018-07-07",
          "2018-07-08",
          "2018-07-09",
          "2018-07-10",
          "2018-07-11",
          "2018-07-12",
          "2018-07-13",
          "2018-07-14",
          "2018-07-15",
          "2018-07-16",
          "2018-07-17",
          "2018-07-18",
          "2018-07-19",
          "2018-07-20",
          "2018-07-21",
          "2018-07-22",
          "2018-07-23",
          "2018-07-24",
          "2018-07-25",
          "2018-07-26",
          "2018-07-27",
          "2018-07-28",
          "2018-07-29",
          "2018-07-30",
          "2018-07-31",
          "2018-08-01",
          "2018-08-02",
          "2018-08-03",
          "2018-08-04",
          "2018-08-05",
          "2018-08-06",
          "2018-08-07",
          "2018-08-08",
          "2018-08-09",
          "2018-08-10",
          "2018-08-11",
          "2018-08-12",
          "2018-08-13",
          "2018-08-14",
          "2018-08-15",
          "2018-08-16",
          "2018-08-17",
          "2018-08-18",
          "2018-08-19",
          "2018-08-20",
          "2018-08-21",
          "2018-08-22",
          "2018-08-23",
          "2018-08-24",
          "2018-08-25",
          "2018-08-26",
          "2018-08-27",
          "2018-08-28",
          "2018-08-29",
          "2018-09-03"
         ],
         "y": [
          63.34,
          15.56,
          8.49,
          9.34,
          131.66,
          1354.52,
          1302.6899999999991,
          1170.7200000000005,
          907.9199999999997,
          941.52,
          681.99,
          800.82,
          8.72,
          310.3700000000002,
          71.9,
          96.09,
          100.05,
          100.72,
          136.3,
          286.17,
          268.11,
          275.14,
          386.88,
          351.7699999999999,
          400.4799999999999,
          591.0799999999999,
          651.02,
          586.2099999999998,
          620.2199999999999,
          636.17,
          522.5999999999999,
          972.4199999999998,
          828.36,
          1362.9800000000005,
          1953.9699999999996,
          1323.2000000000003,
          672,
          703.0000000000002,
          1097.0000000000007,
          1571.4099999999994,
          1350.7399999999993,
          1557.6599999999996,
          1242.2500000000002,
          1749.0499999999997,
          1649.4500000000003,
          1545.3599999999994,
          2380.7299999999987,
          2068.669999999999,
          1653.8799999999992,
          1445.3600000000004,
          925.5900000000001,
          1520.18,
          2100.7199999999993,
          1648.89,
          1261.3699999999994,
          1107.2399999999998,
          1257.95,
          1153.81,
          679.7500000000003,
          1279,
          1047.8199999999997,
          1299.1600000000003,
          1628.7999999999995,
          1216.5399999999997,
          815.7200000000001,
          1049.7799999999997,
          987.1700000000001,
          1354.9599999999998,
          2099.2799999999993,
          1506.0600000000002,
          1554.7,
          1932.0300000000002,
          1495.6899999999994,
          2084.669999999999,
          1847.1200000000001,
          1975.9799999999996,
          2099.0699999999993,
          2160.0499999999997,
          1632.4500000000003,
          1241.02,
          2348.01,
          2299.32,
          2216.6,
          2379.9699999999993,
          1640.8799999999997,
          1504.6699999999994,
          1078.7399999999996,
          2510.81,
          1887.5899999999992,
          2201.1699999999987,
          2420.379999999999,
          1492.5799999999997,
          1641.23,
          1321.0799999999997,
          2375.6200000000003,
          2253.57,
          1548.5700000000002,
          1409.3999999999996,
          1545.9799999999998,
          1356.5400000000002,
          1475.92,
          1620.14,
          1851.339999999999,
          1871.6099999999992,
          2073.92,
          1743.0699999999993,
          1268.4900000000002,
          1466.7599999999998,
          1759.79,
          1506.0699999999997,
          1198.74,
          1522.4999999999998,
          1363.6999999999994,
          1057.62,
          1058.84,
          1348.8999999999996,
          2147.1399999999994,
          1837.79,
          2349.250000000001,
          1652.2599999999989,
          2005.2299999999998,
          1642.3700000000003,
          2561.55,
          2495.9200000000005,
          2776.3400000000006,
          2090.1799999999994,
          2272.8000000000006,
          1774.3900000000006,
          1345.8400000000001,
          2216.4999999999995,
          2667.569999999999,
          2082.82,
          2305.41,
          2372.75,
          2372.82,
          2556.5499999999997,
          2874.25,
          3049.069999999999,
          2322.41,
          3017.7000000000003,
          2467.8499999999995,
          1547.74,
          2321.2199999999975,
          3458.939999999999,
          3189.819999999998,
          3052.399999999999,
          2611.379999999999,
          3120.009999999998,
          1722.0599999999997,
          2942.3299999999977,
          3492.3999999999974,
          2818.6799999999976,
          3244.3399999999992,
          2402.8999999999983,
          1844.1399999999999,
          1917.8799999999999,
          1844.62,
          3114.659999999997,
          2335.589999999999,
          2832.999999999998,
          2457.0799999999986,
          2472.640000000001,
          1815.0899999999997,
          2035.2499999999995,
          2833.6100000000006,
          2718.8399999999983,
          2626.0099999999993,
          3597.3699999999976,
          2538.479999999999,
          1586.8300000000002,
          2305.87,
          2487.6599999999994,
          2563.3599999999983,
          2931.919999999999,
          2179.1399999999976,
          1869.4599999999998,
          1481.3799999999997,
          1897.5299999999993,
          3168.609999999999,
          3101.410000000001,
          1087.9300000000003,
          1782.2299999999996,
          2415.5199999999995,
          1688.0499999999995,
          3088.160000000001,
          1785.5600000000002,
          2894.35,
          2396.0299999999984,
          2105.5099999999993,
          2013.559999999999,
          1987.2500000000002,
          2183.29,
          2647.0600000000004,
          2456.3999999999987,
          3348.649999999999,
          3492.59,
          2543.9900000000007,
          1690.2100000000003,
          1878.3,
          3070.4100000000008,
          3656.78,
          3263.65,
          3455.749999999999,
          3088.1099999999974,
          2197.4999999999986,
          2583.6399999999985,
          3808.5699999999993,
          3948.13,
          3165.089999999998,
          3236.89,
          2336.809999999999,
          1861.7299999999996,
          1888.11,
          3197.519999999997,
          3080.9299999999967,
          2634.2500000000005,
          3035.149999999999,
          3233.1400000000003,
          2407.64,
          2396.809999999999,
          3165.789999999998,
          3668.290000000002,
          2975.2699999999986,
          3093.5299999999993,
          3267.9900000000002,
          2518.93,
          2783.969999999999,
          3371.5000000000014,
          2865.9199999999983,
          3261.4999999999986,
          3361.6600000000017,
          3280.559999999998,
          2213.2300000000005,
          2157.2599999999993,
          3431.829999999998,
          4213.41,
          4047.519999999999,
          3380.0399999999995,
          2893.8599999999988,
          2248.769999999998,
          2081.39,
          3800.370000000001,
          3122.3500000000004,
          2720.1799999999994,
          2621.3999999999987,
          2240.3999999999987,
          1912.96,
          2927.5800000000013,
          3452.0700000000006,
          3269.2100000000005,
          4026.490000000001,
          3023.48,
          3977.6499999999983,
          2350.52,
          3155.3799999999974,
          3447.239999999998,
          3547.419999999999,
          3197.22,
          2203.2599999999984,
          2639.9399999999996,
          2593.220000000001,
          3010.7299999999987,
          3608.869999999999,
          5100.929999999998,
          4284.410000000001,
          3944.750000000001,
          3183.4099999999994,
          2892.9399999999987,
          2846.6199999999994,
          4047.4400000000023,
          3367.7100000000005,
          3929.600000000001,
          3442.6599999999994,
          2779.8099999999977,
          1920.2900000000004,
          2467.940000000001,
          2957.489999999999,
          3559.7599999999993,
          3436.310000000001,
          3084.579999999998,
          2825.4400000000005,
          2193.6800000000003,
          3088.16,
          3413.649999999999,
          4270.5499999999965,
          3589.880000000001,
          3612.3099999999986,
          2913.8100000000004,
          2372.4899999999993,
          2885.079999999999,
          4651.740000000001,
          3814.33,
          3247.030000000002,
          3447.049999999999,
          3524.219999999999,
          2656.639999999998,
          2547.2999999999984,
          4527.470000000003,
          5080.499999999998,
          4244.069999999998,
          3685.8999999999987,
          2936.8800000000015,
          2569.5899999999983,
          3447.5599999999986,
          3557.4199999999983,
          3667.390000000002,
          3224.529999999999,
          3744.6200000000013,
          2774.87,
          2438.8699999999994,
          3015.8499999999995,
          3109.649999999999,
          3033.529999999999,
          2683.38,
          2819.209999999998,
          3192.100000000001,
          3125.7400000000007,
          3574.510000000001,
          4549.320000000001,
          3781.0100000000007,
          4022.37,
          3848.2999999999975,
          3379.729999999997,
          3378.8699999999967,
          3442.0499999999965,
          4942.269999999998,
          4307.1900000000005,
          3834.9600000000005,
          4649.269999999997,
          4983.1,
          3972.0800000000004,
          3357.0499999999993,
          5781.399999999999,
          4959.529999999999,
          4988.590000000003,
          6786.579999999999,
          25723.88999999999,
          10934.680000000013,
          8279.920000000004,
          8721.190000000006,
          8361.92000000001,
          7196.840000000003,
          5295.35,
          5991.909999999998,
          4505.049999999998,
          4944.5,
          6911.600000000004,
          5928.05,
          6291.480000000011,
          4865.099999999999,
          4514.760000000001,
          3612.479999999999,
          3921.4900000000007,
          5425.039999999995,
          5088.669999999997,
          4781.350000000003,
          4294.640000000004,
          4069.43,
          2610.7799999999984,
          2793.589999999997,
          4648.499999999996,
          3512.2999999999984,
          4046.14,
          2960.729999999998,
          2272.7399999999993,
          2482.0399999999995,
          1201.7799999999997,
          2280.8899999999994,
          3238.3099999999995,
          3327.1099999999997,
          2744.56,
          2722.9299999999994,
          2146.8399999999997,
          1498.2699999999995,
          1443.7099999999998,
          4095.510000000001,
          4859.359999999998,
          5076.720000000001,
          4506.97,
          4971.610000000005,
          4485.1100000000015,
          6454.249999999996,
          5152.4200000000055,
          6341.390000000002,
          6275.5399999999945,
          5944.029999999993,
          4587.920000000002,
          4426.300000000002,
          6648.429999999998,
          6856.800000000003,
          6052.310000000005,
          4984.620000000001,
          5310.049999999999,
          4569.649999999996,
          4063.959999999999,
          6257.4700000000075,
          5546.9999999999945,
          5199.190000000003,
          5054.86,
          5266.299999999998,
          3071.6900000000005,
          3406.47,
          5540.14,
          5773.879999999998,
          5047.8700000000035,
          5374.589999999996,
          4785.899999999992,
          4121.959999999998,
          4226.6900000000005,
          5836.120000000007,
          5727.340000000005,
          5026.100000000001,
          4498.3,
          4166.060000000004,
          3773.2199999999984,
          3438.990000000002,
          4298.799999999992,
          4486.77,
          6259.499999999996,
          5660.360000000003,
          4779.1399999999985,
          4461.7300000000005,
          4469.459999999997,
          5545.319999999997,
          5965.190000000001,
          5525.270000000001,
          5972.230000000001,
          4648.259999999997,
          4034.95,
          5727.120000000008,
          6361.120000000007,
          6809.779999999997,
          6749.980000000002,
          6537.740000000002,
          5597.070000000007,
          4972.1600000000035,
          4909.090000000003,
          7061.399999999999,
          6797.259999999993,
          6333.2699999999995,
          5685.729999999994,
          5311.069999999998,
          4597.229999999998,
          5297.92,
          5286.249999999999,
          6105.369999999995,
          4795.050000000003,
          7132.599999999998,
          5927.819999999998,
          3918.359999999999,
          4957.0499999999965,
          7936.560000000006,
          7138.449999999996,
          6719.529999999995,
          5870.38,
          5016.919999999997,
          3923.65,
          4635.499999999997,
          6176.670000000001,
          5897.64,
          4703.319999999999,
          4635.940000000002,
          4186.94,
          3849.439999999997,
          4792.340000000005,
          7689.230000000003,
          5824,
          5585.090000000001,
          6160.009999999991,
          4500.600000000001,
          3497.4899999999984,
          4413.830000000003,
          6474.09,
          4664.699999999999,
          6421.499999999991,
          5827.8099999999995,
          5290.17,
          3552.1700000000014,
          6034.149999999997,
          6947.220000000001,
          5929.8200000000015,
          6823.019999999997,
          6585.039999999998,
          4312.64,
          3499.55,
          4640.909999999999,
          6689.030000000004,
          6821.279999999999,
          6361.45,
          5281.4100000000035,
          6010.530000000003,
          3417.960000000001,
          3649.249999999999,
          5353.999999999996,
          5277.880000000002,
          6206.599999999995,
          7077.949999999993,
          5763.1699999999955,
          4301.700000000001,
          4428.259999999996,
          8292.729999999998,
          6919.39999999999,
          7379.520000000001,
          7413.219999999992,
          5390.819999999994,
          5108.229999999999,
          4888.7699999999995,
          8388.339999999991,
          8386.169999999996,
          8455.359999999993,
          4478.260000000002,
          4808.260000000003,
          3118.4399999999982,
          3499.5800000000013,
          4261.910000000003,
          4276.7699999999995,
          2761.2400000000007,
          2201.4100000000008,
          2248.450000000001,
          2114.92,
          2170.4300000000007,
          3427.4799999999996,
          3858.5500000000015,
          3315.080000000001,
          3045.24,
          4983.749999999996,
          3673.370000000001,
          4408.2400000000025,
          5704,
          5392.360000000001,
          6042.58,
          5655.979999999996,
          4926.789999999986,
          4708.689999999996,
          4786.279999999999,
          7643.5800000000045,
          6393.430000000001,
          6969.670000000006,
          5202.609999999998,
          4881.199999999996,
          4384.030000000001,
          3435.1900000000023,
          6305.100000000001,
          5383.270000000001,
          5536.28,
          5598.409999999997,
          3945.8900000000012,
          3679.1899999999982,
          5065.979999999999,
          5744.399999999996,
          6658.969999999992,
          6009.450000000003,
          6567.079999999994,
          4625.209999999997,
          3241.8199999999993,
          4691.2300000000005,
          6263.809999999998,
          5147.290000000003,
          5928.150000000002,
          5140.149999999999,
          3103.13,
          2200.6799999999994,
          3143.9499999999985,
          3557.320000000001,
          3522.1999999999985,
          3620.6399999999976,
          3677.9400000000005,
          4885.1699999999955,
          4169.330000000001,
          4451.910000000003,
          6469.840000000003,
          5336.9299999999985,
          7790.6600000000035,
          6205.660000000003,
          6030.410000000002,
          4388.5,
          5208.839999999999,
          8064.399999999999,
          6557.679999999997,
          7495.089999999997,
          6492.000000000003,
          4959.380000000004,
          4855.000000000005,
          5034.199999999996,
          6743.359999999998,
          8085.959999999999,
          7877.229999999999,
          7163.400000000001,
          7442.400000000001,
          5715.839999999998,
          6688.310000000003,
          9433.029999999995,
          9115.399999999992,
          8027.429999999995,
          6694.579999999999,
          6160.559999999996,
          4604.799999999999,
          5215.54,
          7263.780000000002,
          7278.5299999999925,
          6784.609999999994,
          6546.699999999997,
          5908.320000000001,
          4357.150000000003,
          4479.110000000002,
          5372.370000000002,
          4507.629999999995,
          3965.4799999999973,
          2509.69,
          1679.7799999999997,
          1138.3500000000001,
          1262.4499999999998,
          765.6999999999999,
          447.31,
          216.65999999999997,
          21.46
         ]
        }
       ],
       "layout": {
        "template": {
         "data": {
          "bar": [
           {
            "error_x": {
             "color": "#2a3f5f"
            },
            "error_y": {
             "color": "#2a3f5f"
            },
            "marker": {
             "line": {
              "color": "#E5ECF6",
              "width": 0.5
             }
            },
            "type": "bar"
           }
          ],
          "barpolar": [
           {
            "marker": {
             "line": {
              "color": "#E5ECF6",
              "width": 0.5
             }
            },
            "type": "barpolar"
           }
          ],
          "carpet": [
           {
            "aaxis": {
             "endlinecolor": "#2a3f5f",
             "gridcolor": "white",
             "linecolor": "white",
             "minorgridcolor": "white",
             "startlinecolor": "#2a3f5f"
            },
            "baxis": {
             "endlinecolor": "#2a3f5f",
             "gridcolor": "white",
             "linecolor": "white",
             "minorgridcolor": "white",
             "startlinecolor": "#2a3f5f"
            },
            "type": "carpet"
           }
          ],
          "choropleth": [
           {
            "colorbar": {
             "outlinewidth": 0,
             "ticks": ""
            },
            "type": "choropleth"
           }
          ],
          "contour": [
           {
            "colorbar": {
             "outlinewidth": 0,
             "ticks": ""
            },
            "colorscale": [
             [
              0,
              "#0d0887"
             ],
             [
              0.1111111111111111,
              "#46039f"
             ],
             [
              0.2222222222222222,
              "#7201a8"
             ],
             [
              0.3333333333333333,
              "#9c179e"
             ],
             [
              0.4444444444444444,
              "#bd3786"
             ],
             [
              0.5555555555555556,
              "#d8576b"
             ],
             [
              0.6666666666666666,
              "#ed7953"
             ],
             [
              0.7777777777777778,
              "#fb9f3a"
             ],
             [
              0.8888888888888888,
              "#fdca26"
             ],
             [
              1,
              "#f0f921"
             ]
            ],
            "type": "contour"
           }
          ],
          "contourcarpet": [
           {
            "colorbar": {
             "outlinewidth": 0,
             "ticks": ""
            },
            "type": "contourcarpet"
           }
          ],
          "heatmap": [
           {
            "colorbar": {
             "outlinewidth": 0,
             "ticks": ""
            },
            "colorscale": [
             [
              0,
              "#0d0887"
             ],
             [
              0.1111111111111111,
              "#46039f"
             ],
             [
              0.2222222222222222,
              "#7201a8"
             ],
             [
              0.3333333333333333,
              "#9c179e"
             ],
             [
              0.4444444444444444,
              "#bd3786"
             ],
             [
              0.5555555555555556,
              "#d8576b"
             ],
             [
              0.6666666666666666,
              "#ed7953"
             ],
             [
              0.7777777777777778,
              "#fb9f3a"
             ],
             [
              0.8888888888888888,
              "#fdca26"
             ],
             [
              1,
              "#f0f921"
             ]
            ],
            "type": "heatmap"
           }
          ],
          "heatmapgl": [
           {
            "colorbar": {
             "outlinewidth": 0,
             "ticks": ""
            },
            "colorscale": [
             [
              0,
              "#0d0887"
             ],
             [
              0.1111111111111111,
              "#46039f"
             ],
             [
              0.2222222222222222,
              "#7201a8"
             ],
             [
              0.3333333333333333,
              "#9c179e"
             ],
             [
              0.4444444444444444,
              "#bd3786"
             ],
             [
              0.5555555555555556,
              "#d8576b"
             ],
             [
              0.6666666666666666,
              "#ed7953"
             ],
             [
              0.7777777777777778,
              "#fb9f3a"
             ],
             [
              0.8888888888888888,
              "#fdca26"
             ],
             [
              1,
              "#f0f921"
             ]
            ],
            "type": "heatmapgl"
           }
          ],
          "histogram": [
           {
            "marker": {
             "colorbar": {
              "outlinewidth": 0,
              "ticks": ""
             }
            },
            "type": "histogram"
           }
          ],
          "histogram2d": [
           {
            "colorbar": {
             "outlinewidth": 0,
             "ticks": ""
            },
            "colorscale": [
             [
              0,
              "#0d0887"
             ],
             [
              0.1111111111111111,
              "#46039f"
             ],
             [
              0.2222222222222222,
              "#7201a8"
             ],
             [
              0.3333333333333333,
              "#9c179e"
             ],
             [
              0.4444444444444444,
              "#bd3786"
             ],
             [
              0.5555555555555556,
              "#d8576b"
             ],
             [
              0.6666666666666666,
              "#ed7953"
             ],
             [
              0.7777777777777778,
              "#fb9f3a"
             ],
             [
              0.8888888888888888,
              "#fdca26"
             ],
             [
              1,
              "#f0f921"
             ]
            ],
            "type": "histogram2d"
           }
          ],
          "histogram2dcontour": [
           {
            "colorbar": {
             "outlinewidth": 0,
             "ticks": ""
            },
            "colorscale": [
             [
              0,
              "#0d0887"
             ],
             [
              0.1111111111111111,
              "#46039f"
             ],
             [
              0.2222222222222222,
              "#7201a8"
             ],
             [
              0.3333333333333333,
              "#9c179e"
             ],
             [
              0.4444444444444444,
              "#bd3786"
             ],
             [
              0.5555555555555556,
              "#d8576b"
             ],
             [
              0.6666666666666666,
              "#ed7953"
             ],
             [
              0.7777777777777778,
              "#fb9f3a"
             ],
             [
              0.8888888888888888,
              "#fdca26"
             ],
             [
              1,
              "#f0f921"
             ]
            ],
            "type": "histogram2dcontour"
           }
          ],
          "mesh3d": [
           {
            "colorbar": {
             "outlinewidth": 0,
             "ticks": ""
            },
            "type": "mesh3d"
           }
          ],
          "parcoords": [
           {
            "line": {
             "colorbar": {
              "outlinewidth": 0,
              "ticks": ""
             }
            },
            "type": "parcoords"
           }
          ],
          "pie": [
           {
            "automargin": true,
            "type": "pie"
           }
          ],
          "scatter": [
           {
            "marker": {
             "colorbar": {
              "outlinewidth": 0,
              "ticks": ""
             }
            },
            "type": "scatter"
           }
          ],
          "scatter3d": [
           {
            "line": {
             "colorbar": {
              "outlinewidth": 0,
              "ticks": ""
             }
            },
            "marker": {
             "colorbar": {
              "outlinewidth": 0,
              "ticks": ""
             }
            },
            "type": "scatter3d"
           }
          ],
          "scattercarpet": [
           {
            "marker": {
             "colorbar": {
              "outlinewidth": 0,
              "ticks": ""
             }
            },
            "type": "scattercarpet"
           }
          ],
          "scattergeo": [
           {
            "marker": {
             "colorbar": {
              "outlinewidth": 0,
              "ticks": ""
             }
            },
            "type": "scattergeo"
           }
          ],
          "scattergl": [
           {
            "marker": {
             "colorbar": {
              "outlinewidth": 0,
              "ticks": ""
             }
            },
            "type": "scattergl"
           }
          ],
          "scattermapbox": [
           {
            "marker": {
             "colorbar": {
              "outlinewidth": 0,
              "ticks": ""
             }
            },
            "type": "scattermapbox"
           }
          ],
          "scatterpolar": [
           {
            "marker": {
             "colorbar": {
              "outlinewidth": 0,
              "ticks": ""
             }
            },
            "type": "scatterpolar"
           }
          ],
          "scatterpolargl": [
           {
            "marker": {
             "colorbar": {
              "outlinewidth": 0,
              "ticks": ""
             }
            },
            "type": "scatterpolargl"
           }
          ],
          "scatterternary": [
           {
            "marker": {
             "colorbar": {
              "outlinewidth": 0,
              "ticks": ""
             }
            },
            "type": "scatterternary"
           }
          ],
          "surface": [
           {
            "colorbar": {
             "outlinewidth": 0,
             "ticks": ""
            },
            "colorscale": [
             [
              0,
              "#0d0887"
             ],
             [
              0.1111111111111111,
              "#46039f"
             ],
             [
              0.2222222222222222,
              "#7201a8"
             ],
             [
              0.3333333333333333,
              "#9c179e"
             ],
             [
              0.4444444444444444,
              "#bd3786"
             ],
             [
              0.5555555555555556,
              "#d8576b"
             ],
             [
              0.6666666666666666,
              "#ed7953"
             ],
             [
              0.7777777777777778,
              "#fb9f3a"
             ],
             [
              0.8888888888888888,
              "#fdca26"
             ],
             [
              1,
              "#f0f921"
             ]
            ],
            "type": "surface"
           }
          ],
          "table": [
           {
            "cells": {
             "fill": {
              "color": "#EBF0F8"
             },
             "line": {
              "color": "white"
             }
            },
            "header": {
             "fill": {
              "color": "#C8D4E3"
             },
             "line": {
              "color": "white"
             }
            },
            "type": "table"
           }
          ]
         },
         "layout": {
          "annotationdefaults": {
           "arrowcolor": "#2a3f5f",
           "arrowhead": 0,
           "arrowwidth": 1
          },
          "coloraxis": {
           "colorbar": {
            "outlinewidth": 0,
            "ticks": ""
           }
          },
          "colorscale": {
           "diverging": [
            [
             0,
             "#8e0152"
            ],
            [
             0.1,
             "#c51b7d"
            ],
            [
             0.2,
             "#de77ae"
            ],
            [
             0.3,
             "#f1b6da"
            ],
            [
             0.4,
             "#fde0ef"
            ],
            [
             0.5,
             "#f7f7f7"
            ],
            [
             0.6,
             "#e6f5d0"
            ],
            [
             0.7,
             "#b8e186"
            ],
            [
             0.8,
             "#7fbc41"
            ],
            [
             0.9,
             "#4d9221"
            ],
            [
             1,
             "#276419"
            ]
           ],
           "sequential": [
            [
             0,
             "#0d0887"
            ],
            [
             0.1111111111111111,
             "#46039f"
            ],
            [
             0.2222222222222222,
             "#7201a8"
            ],
            [
             0.3333333333333333,
             "#9c179e"
            ],
            [
             0.4444444444444444,
             "#bd3786"
            ],
            [
             0.5555555555555556,
             "#d8576b"
            ],
            [
             0.6666666666666666,
             "#ed7953"
            ],
            [
             0.7777777777777778,
             "#fb9f3a"
            ],
            [
             0.8888888888888888,
             "#fdca26"
            ],
            [
             1,
             "#f0f921"
            ]
           ],
           "sequentialminus": [
            [
             0,
             "#0d0887"
            ],
            [
             0.1111111111111111,
             "#46039f"
            ],
            [
             0.2222222222222222,
             "#7201a8"
            ],
            [
             0.3333333333333333,
             "#9c179e"
            ],
            [
             0.4444444444444444,
             "#bd3786"
            ],
            [
             0.5555555555555556,
             "#d8576b"
            ],
            [
             0.6666666666666666,
             "#ed7953"
            ],
            [
             0.7777777777777778,
             "#fb9f3a"
            ],
            [
             0.8888888888888888,
             "#fdca26"
            ],
            [
             1,
             "#f0f921"
            ]
           ]
          },
          "colorway": [
           "#636efa",
           "#EF553B",
           "#00cc96",
           "#ab63fa",
           "#FFA15A",
           "#19d3f3",
           "#FF6692",
           "#B6E880",
           "#FF97FF",
           "#FECB52"
          ],
          "font": {
           "color": "#2a3f5f"
          },
          "geo": {
           "bgcolor": "white",
           "lakecolor": "white",
           "landcolor": "#E5ECF6",
           "showlakes": true,
           "showland": true,
           "subunitcolor": "white"
          },
          "hoverlabel": {
           "align": "left"
          },
          "hovermode": "closest",
          "mapbox": {
           "style": "light"
          },
          "paper_bgcolor": "white",
          "plot_bgcolor": "#E5ECF6",
          "polar": {
           "angularaxis": {
            "gridcolor": "white",
            "linecolor": "white",
            "ticks": ""
           },
           "bgcolor": "#E5ECF6",
           "radialaxis": {
            "gridcolor": "white",
            "linecolor": "white",
            "ticks": ""
           }
          },
          "scene": {
           "xaxis": {
            "backgroundcolor": "#E5ECF6",
            "gridcolor": "white",
            "gridwidth": 2,
            "linecolor": "white",
            "showbackground": true,
            "ticks": "",
            "zerolinecolor": "white"
           },
           "yaxis": {
            "backgroundcolor": "#E5ECF6",
            "gridcolor": "white",
            "gridwidth": 2,
            "linecolor": "white",
            "showbackground": true,
            "ticks": "",
            "zerolinecolor": "white"
           },
           "zaxis": {
            "backgroundcolor": "#E5ECF6",
            "gridcolor": "white",
            "gridwidth": 2,
            "linecolor": "white",
            "showbackground": true,
            "ticks": "",
            "zerolinecolor": "white"
           }
          },
          "shapedefaults": {
           "line": {
            "color": "#2a3f5f"
           }
          },
          "ternary": {
           "aaxis": {
            "gridcolor": "white",
            "linecolor": "white",
            "ticks": ""
           },
           "baxis": {
            "gridcolor": "white",
            "linecolor": "white",
            "ticks": ""
           },
           "bgcolor": "#E5ECF6",
           "caxis": {
            "gridcolor": "white",
            "linecolor": "white",
            "ticks": ""
           }
          },
          "title": {
           "x": 0.05
          },
          "xaxis": {
           "automargin": true,
           "gridcolor": "white",
           "linecolor": "white",
           "ticks": "",
           "title": {
            "standoff": 15
           },
           "zerolinecolor": "white",
           "zerolinewidth": 2
          },
          "yaxis": {
           "automargin": true,
           "gridcolor": "white",
           "linecolor": "white",
           "ticks": "",
           "title": {
            "standoff": 15
           },
           "zerolinecolor": "white",
           "zerolinewidth": 2
          }
         }
        },
        "title": {
         "text": "Product and freight value by date"
        },
        "xaxis": {
         "rangeselector": {
          "buttons": [
           {
            "count": 1,
            "label": "1m",
            "step": "month",
            "stepmode": "backward"
           },
           {
            "count": 6,
            "label": "6m",
            "step": "month",
            "stepmode": "backward"
           },
           {
            "count": 12,
            "label": "12m",
            "step": "month",
            "stepmode": "backward"
           },
           {
            "step": "all"
           }
          ]
         },
         "rangeslider": {
          "visible": true
         },
         "type": "date"
        }
       }
      },
      "text/html": [
       "<div>\n",
       "        \n",
       "        \n",
       "            <div id=\"dc780205-21e9-470b-bd08-9d5e3a68ca7c\" class=\"plotly-graph-div\" style=\"height:525px; width:100%;\"></div>\n",
       "            <script type=\"text/javascript\">\n",
       "                require([\"plotly\"], function(Plotly) {\n",
       "                    window.PLOTLYENV=window.PLOTLYENV || {};\n",
       "                    \n",
       "                if (document.getElementById(\"dc780205-21e9-470b-bd08-9d5e3a68ca7c\")) {\n",
       "                    Plotly.newPlot(\n",
       "                        'dc780205-21e9-470b-bd08-9d5e3a68ca7c',\n",
       "                        [{\"name\": \"Product value\", \"opacity\": 0.8, \"type\": \"scatter\", \"x\": [\"2016-09-04\", \"2016-09-05\", \"2016-09-15\", \"2016-10-02\", \"2016-10-03\", \"2016-10-04\", \"2016-10-05\", \"2016-10-06\", \"2016-10-07\", \"2016-10-08\", \"2016-10-09\", \"2016-10-10\", \"2016-12-23\", \"2017-01-05\", \"2017-01-06\", \"2017-01-07\", \"2017-01-08\", \"2017-01-09\", \"2017-01-10\", \"2017-01-11\", \"2017-01-12\", \"2017-01-13\", \"2017-01-14\", \"2017-01-15\", \"2017-01-16\", \"2017-01-17\", \"2017-01-18\", \"2017-01-19\", \"2017-01-20\", \"2017-01-21\", \"2017-01-22\", \"2017-01-23\", \"2017-01-24\", \"2017-01-25\", \"2017-01-26\", \"2017-01-27\", \"2017-01-28\", \"2017-01-29\", \"2017-01-30\", \"2017-01-31\", \"2017-02-01\", \"2017-02-02\", \"2017-02-03\", \"2017-02-04\", \"2017-02-05\", \"2017-02-06\", \"2017-02-07\", \"2017-02-08\", \"2017-02-09\", \"2017-02-10\", \"2017-02-11\", \"2017-02-12\", \"2017-02-13\", \"2017-02-14\", \"2017-02-15\", \"2017-02-16\", \"2017-02-17\", \"2017-02-18\", \"2017-02-19\", \"2017-02-20\", \"2017-02-21\", \"2017-02-22\", \"2017-02-23\", \"2017-02-24\", \"2017-02-25\", \"2017-02-26\", \"2017-02-27\", \"2017-02-28\", \"2017-03-01\", \"2017-03-02\", \"2017-03-03\", \"2017-03-04\", \"2017-03-05\", \"2017-03-06\", \"2017-03-07\", \"2017-03-08\", \"2017-03-09\", \"2017-03-10\", \"2017-03-11\", \"2017-03-12\", \"2017-03-13\", \"2017-03-14\", \"2017-03-15\", \"2017-03-16\", \"2017-03-17\", \"2017-03-18\", \"2017-03-19\", \"2017-03-20\", \"2017-03-21\", \"2017-03-22\", \"2017-03-23\", \"2017-03-24\", \"2017-03-25\", \"2017-03-26\", \"2017-03-27\", \"2017-03-28\", \"2017-03-29\", \"2017-03-30\", \"2017-03-31\", \"2017-04-01\", \"2017-04-02\", \"2017-04-03\", \"2017-04-04\", \"2017-04-05\", \"2017-04-06\", \"2017-04-07\", \"2017-04-08\", \"2017-04-09\", \"2017-04-10\", \"2017-04-11\", \"2017-04-12\", \"2017-04-13\", \"2017-04-14\", \"2017-04-15\", \"2017-04-16\", \"2017-04-17\", \"2017-04-18\", \"2017-04-19\", \"2017-04-20\", \"2017-04-21\", \"2017-04-22\", \"2017-04-23\", \"2017-04-24\", \"2017-04-25\", \"2017-04-26\", \"2017-04-27\", \"2017-04-28\", \"2017-04-29\", \"2017-04-30\", \"2017-05-01\", \"2017-05-02\", \"2017-05-03\", \"2017-05-04\", \"2017-05-05\", \"2017-05-06\", \"2017-05-07\", \"2017-05-08\", \"2017-05-09\", \"2017-05-10\", \"2017-05-11\", \"2017-05-12\", \"2017-05-13\", \"2017-05-14\", \"2017-05-15\", \"2017-05-16\", \"2017-05-17\", \"2017-05-18\", \"2017-05-19\", \"2017-05-20\", \"2017-05-21\", \"2017-05-22\", \"2017-05-23\", \"2017-05-24\", \"2017-05-25\", \"2017-05-26\", \"2017-05-27\", \"2017-05-28\", \"2017-05-29\", \"2017-05-30\", \"2017-05-31\", \"2017-06-01\", \"2017-06-02\", \"2017-06-03\", \"2017-06-04\", \"2017-06-05\", \"2017-06-06\", \"2017-06-07\", \"2017-06-08\", \"2017-06-09\", \"2017-06-10\", \"2017-06-11\", \"2017-06-12\", \"2017-06-13\", \"2017-06-14\", \"2017-06-15\", \"2017-06-16\", \"2017-06-17\", \"2017-06-18\", \"2017-06-19\", \"2017-06-20\", \"2017-06-21\", \"2017-06-22\", \"2017-06-23\", \"2017-06-24\", \"2017-06-25\", \"2017-06-26\", \"2017-06-27\", \"2017-06-28\", \"2017-06-29\", \"2017-06-30\", \"2017-07-01\", \"2017-07-02\", \"2017-07-03\", \"2017-07-04\", \"2017-07-05\", \"2017-07-06\", \"2017-07-07\", \"2017-07-08\", \"2017-07-09\", \"2017-07-10\", \"2017-07-11\", \"2017-07-12\", \"2017-07-13\", \"2017-07-14\", \"2017-07-15\", \"2017-07-16\", \"2017-07-17\", \"2017-07-18\", \"2017-07-19\", \"2017-07-20\", \"2017-07-21\", \"2017-07-22\", \"2017-07-23\", \"2017-07-24\", \"2017-07-25\", \"2017-07-26\", \"2017-07-27\", \"2017-07-28\", \"2017-07-29\", \"2017-07-30\", \"2017-07-31\", \"2017-08-01\", \"2017-08-02\", \"2017-08-03\", \"2017-08-04\", \"2017-08-05\", \"2017-08-06\", \"2017-08-07\", \"2017-08-08\", \"2017-08-09\", \"2017-08-10\", \"2017-08-11\", \"2017-08-12\", \"2017-08-13\", \"2017-08-14\", \"2017-08-15\", \"2017-08-16\", \"2017-08-17\", \"2017-08-18\", \"2017-08-19\", \"2017-08-20\", \"2017-08-21\", \"2017-08-22\", \"2017-08-23\", \"2017-08-24\", \"2017-08-25\", \"2017-08-26\", \"2017-08-27\", \"2017-08-28\", \"2017-08-29\", \"2017-08-30\", \"2017-08-31\", \"2017-09-01\", \"2017-09-02\", \"2017-09-03\", \"2017-09-04\", \"2017-09-05\", \"2017-09-06\", \"2017-09-07\", \"2017-09-08\", \"2017-09-09\", \"2017-09-10\", \"2017-09-11\", \"2017-09-12\", \"2017-09-13\", \"2017-09-14\", \"2017-09-15\", \"2017-09-16\", \"2017-09-17\", \"2017-09-18\", \"2017-09-19\", \"2017-09-20\", \"2017-09-21\", \"2017-09-22\", \"2017-09-23\", \"2017-09-24\", \"2017-09-25\", \"2017-09-26\", \"2017-09-27\", \"2017-09-28\", \"2017-09-29\", \"2017-09-30\", \"2017-10-01\", \"2017-10-02\", \"2017-10-03\", \"2017-10-04\", \"2017-10-05\", \"2017-10-06\", \"2017-10-07\", \"2017-10-08\", \"2017-10-09\", \"2017-10-10\", \"2017-10-11\", \"2017-10-12\", \"2017-10-13\", \"2017-10-14\", \"2017-10-15\", \"2017-10-16\", \"2017-10-17\", \"2017-10-18\", \"2017-10-19\", \"2017-10-20\", \"2017-10-21\", \"2017-10-22\", \"2017-10-23\", \"2017-10-24\", \"2017-10-25\", \"2017-10-26\", \"2017-10-27\", \"2017-10-28\", \"2017-10-29\", \"2017-10-30\", \"2017-10-31\", \"2017-11-01\", \"2017-11-02\", \"2017-11-03\", \"2017-11-04\", \"2017-11-05\", \"2017-11-06\", \"2017-11-07\", \"2017-11-08\", \"2017-11-09\", \"2017-11-10\", \"2017-11-11\", \"2017-11-12\", \"2017-11-13\", \"2017-11-14\", \"2017-11-15\", \"2017-11-16\", \"2017-11-17\", \"2017-11-18\", \"2017-11-19\", \"2017-11-20\", \"2017-11-21\", \"2017-11-22\", \"2017-11-23\", \"2017-11-24\", \"2017-11-25\", \"2017-11-26\", \"2017-11-27\", \"2017-11-28\", \"2017-11-29\", \"2017-11-30\", \"2017-12-01\", \"2017-12-02\", \"2017-12-03\", \"2017-12-04\", \"2017-12-05\", \"2017-12-06\", \"2017-12-07\", \"2017-12-08\", \"2017-12-09\", \"2017-12-10\", \"2017-12-11\", \"2017-12-12\", \"2017-12-13\", \"2017-12-14\", \"2017-12-15\", \"2017-12-16\", \"2017-12-17\", \"2017-12-18\", \"2017-12-19\", \"2017-12-20\", \"2017-12-21\", \"2017-12-22\", \"2017-12-23\", \"2017-12-24\", \"2017-12-25\", \"2017-12-26\", \"2017-12-27\", \"2017-12-28\", \"2017-12-29\", \"2017-12-30\", \"2017-12-31\", \"2018-01-01\", \"2018-01-02\", \"2018-01-03\", \"2018-01-04\", \"2018-01-05\", \"2018-01-06\", \"2018-01-07\", \"2018-01-08\", \"2018-01-09\", \"2018-01-10\", \"2018-01-11\", \"2018-01-12\", \"2018-01-13\", \"2018-01-14\", \"2018-01-15\", \"2018-01-16\", \"2018-01-17\", \"2018-01-18\", \"2018-01-19\", \"2018-01-20\", \"2018-01-21\", \"2018-01-22\", \"2018-01-23\", \"2018-01-24\", \"2018-01-25\", \"2018-01-26\", \"2018-01-27\", \"2018-01-28\", \"2018-01-29\", \"2018-01-30\", \"2018-01-31\", \"2018-02-01\", \"2018-02-02\", \"2018-02-03\", \"2018-02-04\", \"2018-02-05\", \"2018-02-06\", \"2018-02-07\", \"2018-02-08\", \"2018-02-09\", \"2018-02-10\", \"2018-02-11\", \"2018-02-12\", \"2018-02-13\", \"2018-02-14\", \"2018-02-15\", \"2018-02-16\", \"2018-02-17\", \"2018-02-18\", \"2018-02-19\", \"2018-02-20\", \"2018-02-21\", \"2018-02-22\", \"2018-02-23\", \"2018-02-24\", \"2018-02-25\", \"2018-02-26\", \"2018-02-27\", \"2018-02-28\", \"2018-03-01\", \"2018-03-02\", \"2018-03-03\", \"2018-03-04\", \"2018-03-05\", \"2018-03-06\", \"2018-03-07\", \"2018-03-08\", \"2018-03-09\", \"2018-03-10\", \"2018-03-11\", \"2018-03-12\", \"2018-03-13\", \"2018-03-14\", \"2018-03-15\", \"2018-03-16\", \"2018-03-17\", \"2018-03-18\", \"2018-03-19\", \"2018-03-20\", \"2018-03-21\", \"2018-03-22\", \"2018-03-23\", \"2018-03-24\", \"2018-03-25\", \"2018-03-26\", \"2018-03-27\", \"2018-03-28\", \"2018-03-29\", \"2018-03-30\", \"2018-03-31\", \"2018-04-01\", \"2018-04-02\", \"2018-04-03\", \"2018-04-04\", \"2018-04-05\", \"2018-04-06\", \"2018-04-07\", \"2018-04-08\", \"2018-04-09\", \"2018-04-10\", \"2018-04-11\", \"2018-04-12\", \"2018-04-13\", \"2018-04-14\", \"2018-04-15\", \"2018-04-16\", \"2018-04-17\", \"2018-04-18\", \"2018-04-19\", \"2018-04-20\", \"2018-04-21\", \"2018-04-22\", \"2018-04-23\", \"2018-04-24\", \"2018-04-25\", \"2018-04-26\", \"2018-04-27\", \"2018-04-28\", \"2018-04-29\", \"2018-04-30\", \"2018-05-01\", \"2018-05-02\", \"2018-05-03\", \"2018-05-04\", \"2018-05-05\", \"2018-05-06\", \"2018-05-07\", \"2018-05-08\", \"2018-05-09\", \"2018-05-10\", \"2018-05-11\", \"2018-05-12\", \"2018-05-13\", \"2018-05-14\", \"2018-05-15\", \"2018-05-16\", \"2018-05-17\", \"2018-05-18\", \"2018-05-19\", \"2018-05-20\", \"2018-05-21\", \"2018-05-22\", \"2018-05-23\", \"2018-05-24\", \"2018-05-25\", \"2018-05-26\", \"2018-05-27\", \"2018-05-28\", \"2018-05-29\", \"2018-05-30\", \"2018-05-31\", \"2018-06-01\", \"2018-06-02\", \"2018-06-03\", \"2018-06-04\", \"2018-06-05\", \"2018-06-06\", \"2018-06-07\", \"2018-06-08\", \"2018-06-09\", \"2018-06-10\", \"2018-06-11\", \"2018-06-12\", \"2018-06-13\", \"2018-06-14\", \"2018-06-15\", \"2018-06-16\", \"2018-06-17\", \"2018-06-18\", \"2018-06-19\", \"2018-06-20\", \"2018-06-21\", \"2018-06-22\", \"2018-06-23\", \"2018-06-24\", \"2018-06-25\", \"2018-06-26\", \"2018-06-27\", \"2018-06-28\", \"2018-06-29\", \"2018-06-30\", \"2018-07-01\", \"2018-07-02\", \"2018-07-03\", \"2018-07-04\", \"2018-07-05\", \"2018-07-06\", \"2018-07-07\", \"2018-07-08\", \"2018-07-09\", \"2018-07-10\", \"2018-07-11\", \"2018-07-12\", \"2018-07-13\", \"2018-07-14\", \"2018-07-15\", \"2018-07-16\", \"2018-07-17\", \"2018-07-18\", \"2018-07-19\", \"2018-07-20\", \"2018-07-21\", \"2018-07-22\", \"2018-07-23\", \"2018-07-24\", \"2018-07-25\", \"2018-07-26\", \"2018-07-27\", \"2018-07-28\", \"2018-07-29\", \"2018-07-30\", \"2018-07-31\", \"2018-08-01\", \"2018-08-02\", \"2018-08-03\", \"2018-08-04\", \"2018-08-05\", \"2018-08-06\", \"2018-08-07\", \"2018-08-08\", \"2018-08-09\", \"2018-08-10\", \"2018-08-11\", \"2018-08-12\", \"2018-08-13\", \"2018-08-14\", \"2018-08-15\", \"2018-08-16\", \"2018-08-17\", \"2018-08-18\", \"2018-08-19\", \"2018-08-20\", \"2018-08-21\", \"2018-08-22\", \"2018-08-23\", \"2018-08-24\", \"2018-08-25\", \"2018-08-26\", \"2018-08-27\", \"2018-08-28\", \"2018-08-29\", \"2018-09-03\"], \"y\": [72.89, 59.5, 134.97, 100.0, 463.48, 9940.95999999999, 8343.249999999993, 7960.509999999994, 7228.0499999999965, 8441.849999999995, 3336.99, 3692.57, 10.9, 396.8999999999997, 916.38, 1351.9, 709.58, 673.79, 1434.87, 2776.1600000000003, 2234.58, 2505.5800000000004, 1112.69, 2199.570000000001, 3307.9200000000005, 3302.5300000000007, 4032.36, 3553.9500000000003, 4035.8300000000004, 2458.600000000001, 3619.270000000001, 6581.4699999999975, 5955.169999999996, 8977.229999999992, 13157.65999999999, 11432.94999999999, 5211.009999999999, 6457.659999999997, 10801.129999999996, 11116.129999999986, 8219.749999999998, 8917.639999999992, 10183.739999999993, 13968.15999999999, 8503.789999999994, 9539.439999999993, 14143.479999999987, 11958.269999999986, 9190.28999999999, 14222.639999999994, 4307.56, 15126.149999999994, 10785.149999999989, 12694.109999999988, 6770.149999999998, 6348.039999999995, 6801.259999999995, 7297.329999999994, 3797.9000000000005, 7878.2999999999965, 8285.64, 8033.049999999996, 6940.8199999999915, 6682.209999999996, 4196.59, 5446.679999999999, 5844.120000000001, 11220.759999999993, 12555.409999999985, 11376.999999999995, 12364.439999999993, 12658.509999999997, 6954.619999999998, 10336.639999999987, 11883.519999999995, 14612.459999999994, 11705.539999999986, 12358.869999999988, 10852.969999999992, 6612.159999999998, 16958.04999999999, 14243.659999999985, 14999.329999999987, 14269.779999999984, 11970.399999999992, 16433.819999999996, 6649.339999999996, 17096.489999999983, 11349.129999999986, 14188.969999999981, 16375.549999999981, 10177.869999999992, 9423.039999999994, 6320.949999999996, 16356.96999999999, 12373.10999999999, 8660.539999999992, 10025.599999999993, 12199.559999999994, 17697.369999999995, 9129.879999999996, 9156.759999999991, 12301.649999999985, 18902.939999999995, 23168.89, 13300.64999999999, 8785.089999999997, 8222.649999999994, 11732.30999999999, 8296.509999999995, 8209.199999999993, 9691.429999999995, 8168.659999999995, 8333.939999999999, 5455.959999999998, 9416.669999999993, 21286.720000000012, 12103.459999999986, 13373.13999999999, 8457.709999999994, 12860.17999999999, 10038.949999999992, 15150.029999999988, 14671.739999999987, 15919.749999999984, 10300.709999999992, 15790.489999999985, 11912.629999999997, 8091.1599999999935, 12580.269999999986, 17640.199999999993, 10053.559999999989, 13508.549999999985, 13969.759999999984, 16219.97999999998, 17167.86999999999, 16148.409999999983, 20837.05, 20927.49000000003, 18164.54999999999, 12635.709999999988, 9118.649999999994, 15219.699999999986, 17962.029999999995, 21174.88000000001, 18343.92999999999, 18245.129999999986, 18397.66999999998, 10632.409999999993, 17426.199999999997, 25414.20000000004, 17798.379999999994, 23350.97000000005, 15383.789999999985, 10651.17999999999, 14139.509999999987, 9262.619999999986, 18912.859999999986, 14345.479999999987, 20438.150000000012, 19305.24999999999, 19131.33, 10450.34999999999, 13863.229999999989, 24184.55000000002, 14589.149999999978, 12771.659999999983, 18503.07999999999, 16051.349999999984, 8220.349999999995, 14303.559999999989, 14803.109999999984, 14016.089999999982, 20441.67000000003, 12737.669999999987, 12908.22999999999, 11264.769999999993, 17836.160000000003, 22764.83000000002, 10968.329999999987, 6183.649999999997, 8826.80999999999, 13282.97999999999, 8325.649999999992, 17646.179999999993, 13414.759999999993, 16681.609999999982, 14655.819999999985, 12169.52999999999, 12736.889999999989, 12151.749999999989, 11489.439999999986, 16611.049999999985, 15484.239999999983, 20789.56000000001, 22223.720000000012, 13662.86999999998, 10206.859999999991, 8197.379999999992, 17326.929999999982, 20213.790000000008, 19180.22, 14530.999999999984, 18745.149999999983, 10930.559999999983, 13421.599999999995, 21554.98000000001, 28238.20000000005, 16545.339999999982, 19174.08000000001, 13448.849999999984, 11456.809999999989, 12117.609999999988, 19662.62000000001, 17482.529999999988, 11265.229999999987, 15693.929999999982, 20043.160000000003, 15964.26999999998, 12944.869999999983, 17272.879999999986, 21745.040000000005, 18146.999999999985, 19125.509999999987, 18361.61999999999, 11946.909999999989, 14181.139999999985, 23257.840000000037, 18661.629999999994, 20756.520000000015, 19961.550000000007, 20039.239999999998, 13980.859999999986, 12334.18999999999, 18156.369999999988, 23727.26000000004, 23950.420000000006, 18357.909999999985, 17132.009999999987, 12910.12999999999, 12873.779999999992, 22219.35000000004, 16627.119999999977, 15873.609999999999, 13361.10999999998, 15163.319999999983, 10141.689999999991, 13367.879999999986, 22244.520000000015, 33756.480000000054, 30938.160000000084, 20671.510000000028, 28473.13000000006, 18128.659999999993, 27795.410000000058, 24937.980000000054, 20981.550000000003, 25624.610000000033, 16893.499999999985, 11883.469999999988, 15082.529999999993, 17810.269999999993, 23376.78000000001, 27136.010000000064, 27593.280000000006, 22557.760000000035, 18373.259999999995, 21147.370000000003, 19979.420000000002, 28487.810000000063, 20057.950000000008, 22102.550000000025, 19015.52999999999, 16255.119999999977, 10513.499999999989, 13049.749999999989, 17987.09999999999, 21681.900000000005, 20646.920000000024, 23264.520000000022, 30878.56000000003, 12685.489999999985, 18821.27, 21764.650000000012, 26118.570000000036, 21197.699999999993, 25517.520000000026, 17084.669999999976, 15376.01999999999, 16539.00999999998, 30337.790000000037, 28151.130000000096, 22669.37000000001, 18754.229999999996, 22881.190000000024, 13528.819999999982, 18751.850000000002, 30580.16000000006, 29675.770000000073, 27257.790000000026, 23223.71000000004, 18626.199999999997, 14982.449999999984, 19786.81000000001, 22278.100000000002, 22071.27000000004, 17507.059999999983, 22573.150000000027, 20377.580000000016, 16483.60999999999, 17267.75, 20221.23, 23813.00000000005, 19383.610000000015, 21263.73000000001, 22844.050000000043, 19169.069999999996, 17327.439999999984, 28600.29000000004, 20829.710000000003, 19240.51000000001, 25053.340000000066, 20223.84000000002, 23292.070000000014, 23087.260000000006, 24391.970000000045, 27049.68000000005, 23711.290000000026, 28268.820000000036, 29209.070000000043, 23233.300000000025, 19955.559999999998, 44284.470000000045, 34316.64000000008, 24962.570000000018, 44712.88000000007, 152653.73999999883, 60923.48000000017, 45315.28000000016, 47923.660000000134, 47886.5500000001, 39834.75000000013, 31322.740000000053, 39981.91000000008, 31208.130000000034, 29262.92000000008, 47348.520000000084, 33632.37000000012, 39198.74000000009, 28055.78000000004, 29847.460000000072, 20027.04000000001, 24695.790000000048, 33990.3900000001, 33468.710000000116, 29601.280000000083, 25286.230000000018, 27382.20000000004, 20296.280000000024, 19312.40999999999, 29162.11000000005, 20615.990000000013, 27958.53000000005, 18572.219999999987, 14935.299999999987, 12875.049999999981, 5759.0099999999975, 10381.339999999991, 20549.430000000015, 17700.399999999994, 15037.489999999976, 16042.71999999998, 13042.64999999999, 8685.769999999993, 6948.209999999994, 25315.000000000022, 31886.72000000006, 34839.44000000006, 27720.39000000004, 27609.67000000003, 29433.010000000057, 38714.400000000096, 30248.910000000065, 38479.53000000011, 40056.960000000094, 30988.940000000093, 28091.910000000058, 30962.530000000053, 38330.300000000054, 44237.17000000004, 36089.22000000006, 27774.77000000004, 29954.78000000006, 22381.680000000022, 23829.83000000003, 37137.640000000116, 34746.17000000008, 31700.17000000006, 29634.420000000053, 33995.0000000001, 22031.08000000002, 24100.75000000001, 30481.320000000043, 29588.85000000007, 32721.59000000008, 30362.150000000074, 27731.600000000053, 23448.660000000003, 23989.790000000015, 37360.840000000084, 34119.38000000007, 31306.230000000043, 27314.730000000032, 30743.070000000058, 21248.160000000003, 22504.979999999992, 23310.730000000018, 23638.34000000004, 37079.650000000096, 32279.91000000008, 26894.990000000056, 24952.76000000005, 24592.430000000022, 28190.630000000034, 36568.57000000008, 32401.690000000075, 32718.710000000116, 28424.700000000077, 24263.51000000003, 29203.770000000062, 43750.96000000006, 40267.20000000007, 45510.570000000065, 39651.51000000011, 31776.460000000094, 26394.970000000045, 32441.90000000005, 38323.07000000007, 39173.99000000007, 36137.89000000008, 28156.39000000007, 28405.440000000057, 26203.91000000004, 31320.43000000005, 30644.66000000006, 36074.24000000008, 23528.790000000037, 44311.46000000007, 32832.190000000126, 20078.500000000004, 31119.330000000045, 44645.190000000075, 35749.4700000001, 39714.43000000005, 31119.41000000008, 29621.24000000006, 23787.77000000001, 25557.29000000006, 35779.010000000075, 34732.5600000001, 29713.34000000004, 28926.730000000032, 22088.14000000001, 25203.73000000001, 29396.660000000047, 40279.100000000086, 36246.51000000006, 37982.73000000009, 36058.79000000009, 27784.740000000016, 25517.380000000016, 23463.850000000028, 49308.730000000054, 27870.560000000016, 40782.96000000009, 34117.58000000007, 31150.36000000005, 18845.699999999997, 30524.04000000009, 40412.26000000007, 36682.97000000008, 39472.71000000006, 43287.21000000005, 28353.840000000062, 18966.339999999997, 27350.900000000052, 37674.27000000007, 43083.77000000007, 40995.02000000007, 31631.360000000066, 40752.54000000007, 23560.560000000038, 19411.699999999997, 35682.61000000005, 33163.80000000005, 38557.72000000008, 42497.77000000008, 39730.93000000008, 28306.45000000003, 28565.97000000007, 54167.480000000054, 47800.69000000006, 43589.12000000011, 51458.670000000035, 37859.190000000104, 29604.140000000054, 31313.520000000077, 53842.38000000015, 41119.85000000007, 56283.73000000005, 31488.47000000005, 31621.520000000048, 25201.29000000003, 19586.540000000005, 25404.06000000005, 27793.91000000004, 17501.04999999999, 20073.260000000006, 15888.919999999982, 14799.169999999987, 12523.249999999987, 26877.47000000002, 25572.080000000024, 19214.000000000004, 25111.280000000024, 32298.920000000067, 25266.620000000024, 28461.660000000058, 28622.400000000056, 30709.36000000004, 26134.400000000052, 37020.40000000006, 26870.41000000005, 29325.080000000016, 25501.970000000067, 49669.70000000006, 40369.00000000009, 34616.960000000094, 27504.60000000006, 26617.56000000002, 24616.050000000025, 17316.329999999987, 34718.30000000004, 34630.330000000045, 28793.99000000005, 27703.58000000004, 24807.27000000001, 17501.919999999987, 24432.600000000035, 36135.52000000007, 30957.57000000007, 26496.480000000025, 32171.97000000004, 20473.480000000018, 15379.879999999988, 24369.47000000003, 23158.62000000003, 26307.310000000023, 35651.65000000008, 28809.330000000034, 19005.539999999983, 9076.559999999989, 14410.789999999992, 19564.850000000028, 18724.57, 18519.98, 28891.77000000002, 27644.230000000036, 22257.690000000006, 30037.490000000034, 31308.29000000007, 30421.480000000036, 41193.49000000006, 38705.58000000006, 32031.440000000093, 21113.58, 27753.420000000024, 39911.22000000006, 41525.7600000001, 40417.500000000044, 35292.72000000007, 28371.750000000044, 25210.12000000004, 31434.080000000064, 39070.66000000007, 45316.28000000009, 40553.80000000011, 38462.260000000046, 42075.18000000008, 35511.96000000005, 35583.76000000009, 56427.390000000116, 49178.980000000076, 43333.0700000001, 40040.2800000001, 33424.730000000076, 25960.93000000006, 31524.21000000007, 38613.130000000085, 44192.840000000055, 45574.04000000009, 35670.61000000009, 31730.67000000008, 24340.950000000015, 25487.390000000014, 34479.50000000009, 26323.060000000067, 20297.130000000012, 17030.86999999998, 9633.60999999999, 10599.409999999996, 8070.709999999994, 5345.909999999999, 3673.909999999999, 1546.0400000000002, 145.0]}, {\"name\": \"Freight value\", \"opacity\": 0.8, \"type\": \"scatter\", \"x\": [\"2016-09-04\", \"2016-09-05\", \"2016-09-15\", \"2016-10-02\", \"2016-10-03\", \"2016-10-04\", \"2016-10-05\", \"2016-10-06\", \"2016-10-07\", \"2016-10-08\", \"2016-10-09\", \"2016-10-10\", \"2016-12-23\", \"2017-01-05\", \"2017-01-06\", \"2017-01-07\", \"2017-01-08\", \"2017-01-09\", \"2017-01-10\", \"2017-01-11\", \"2017-01-12\", \"2017-01-13\", \"2017-01-14\", \"2017-01-15\", \"2017-01-16\", \"2017-01-17\", \"2017-01-18\", \"2017-01-19\", \"2017-01-20\", \"2017-01-21\", \"2017-01-22\", \"2017-01-23\", \"2017-01-24\", \"2017-01-25\", \"2017-01-26\", \"2017-01-27\", \"2017-01-28\", \"2017-01-29\", \"2017-01-30\", \"2017-01-31\", \"2017-02-01\", \"2017-02-02\", \"2017-02-03\", \"2017-02-04\", \"2017-02-05\", \"2017-02-06\", \"2017-02-07\", \"2017-02-08\", \"2017-02-09\", \"2017-02-10\", \"2017-02-11\", \"2017-02-12\", \"2017-02-13\", \"2017-02-14\", \"2017-02-15\", \"2017-02-16\", \"2017-02-17\", \"2017-02-18\", \"2017-02-19\", \"2017-02-20\", \"2017-02-21\", \"2017-02-22\", \"2017-02-23\", \"2017-02-24\", \"2017-02-25\", \"2017-02-26\", \"2017-02-27\", \"2017-02-28\", \"2017-03-01\", \"2017-03-02\", \"2017-03-03\", \"2017-03-04\", \"2017-03-05\", \"2017-03-06\", \"2017-03-07\", \"2017-03-08\", \"2017-03-09\", \"2017-03-10\", \"2017-03-11\", \"2017-03-12\", \"2017-03-13\", \"2017-03-14\", \"2017-03-15\", \"2017-03-16\", \"2017-03-17\", \"2017-03-18\", \"2017-03-19\", \"2017-03-20\", \"2017-03-21\", \"2017-03-22\", \"2017-03-23\", \"2017-03-24\", \"2017-03-25\", \"2017-03-26\", \"2017-03-27\", \"2017-03-28\", \"2017-03-29\", \"2017-03-30\", \"2017-03-31\", \"2017-04-01\", \"2017-04-02\", \"2017-04-03\", \"2017-04-04\", \"2017-04-05\", \"2017-04-06\", \"2017-04-07\", \"2017-04-08\", \"2017-04-09\", \"2017-04-10\", \"2017-04-11\", \"2017-04-12\", \"2017-04-13\", \"2017-04-14\", \"2017-04-15\", \"2017-04-16\", \"2017-04-17\", \"2017-04-18\", \"2017-04-19\", \"2017-04-20\", \"2017-04-21\", \"2017-04-22\", \"2017-04-23\", \"2017-04-24\", \"2017-04-25\", \"2017-04-26\", \"2017-04-27\", \"2017-04-28\", \"2017-04-29\", \"2017-04-30\", \"2017-05-01\", \"2017-05-02\", \"2017-05-03\", \"2017-05-04\", \"2017-05-05\", \"2017-05-06\", \"2017-05-07\", \"2017-05-08\", \"2017-05-09\", \"2017-05-10\", \"2017-05-11\", \"2017-05-12\", \"2017-05-13\", \"2017-05-14\", \"2017-05-15\", \"2017-05-16\", \"2017-05-17\", \"2017-05-18\", \"2017-05-19\", \"2017-05-20\", \"2017-05-21\", \"2017-05-22\", \"2017-05-23\", \"2017-05-24\", \"2017-05-25\", \"2017-05-26\", \"2017-05-27\", \"2017-05-28\", \"2017-05-29\", \"2017-05-30\", \"2017-05-31\", \"2017-06-01\", \"2017-06-02\", \"2017-06-03\", \"2017-06-04\", \"2017-06-05\", \"2017-06-06\", \"2017-06-07\", \"2017-06-08\", \"2017-06-09\", \"2017-06-10\", \"2017-06-11\", \"2017-06-12\", \"2017-06-13\", \"2017-06-14\", \"2017-06-15\", \"2017-06-16\", \"2017-06-17\", \"2017-06-18\", \"2017-06-19\", \"2017-06-20\", \"2017-06-21\", \"2017-06-22\", \"2017-06-23\", \"2017-06-24\", \"2017-06-25\", \"2017-06-26\", \"2017-06-27\", \"2017-06-28\", \"2017-06-29\", \"2017-06-30\", \"2017-07-01\", \"2017-07-02\", \"2017-07-03\", \"2017-07-04\", \"2017-07-05\", \"2017-07-06\", \"2017-07-07\", \"2017-07-08\", \"2017-07-09\", \"2017-07-10\", \"2017-07-11\", \"2017-07-12\", \"2017-07-13\", \"2017-07-14\", \"2017-07-15\", \"2017-07-16\", \"2017-07-17\", \"2017-07-18\", \"2017-07-19\", \"2017-07-20\", \"2017-07-21\", \"2017-07-22\", \"2017-07-23\", \"2017-07-24\", \"2017-07-25\", \"2017-07-26\", \"2017-07-27\", \"2017-07-28\", \"2017-07-29\", \"2017-07-30\", \"2017-07-31\", \"2017-08-01\", \"2017-08-02\", \"2017-08-03\", \"2017-08-04\", \"2017-08-05\", \"2017-08-06\", \"2017-08-07\", \"2017-08-08\", \"2017-08-09\", \"2017-08-10\", \"2017-08-11\", \"2017-08-12\", \"2017-08-13\", \"2017-08-14\", \"2017-08-15\", \"2017-08-16\", \"2017-08-17\", \"2017-08-18\", \"2017-08-19\", \"2017-08-20\", \"2017-08-21\", \"2017-08-22\", \"2017-08-23\", \"2017-08-24\", \"2017-08-25\", \"2017-08-26\", \"2017-08-27\", \"2017-08-28\", \"2017-08-29\", \"2017-08-30\", \"2017-08-31\", \"2017-09-01\", \"2017-09-02\", \"2017-09-03\", \"2017-09-04\", \"2017-09-05\", \"2017-09-06\", \"2017-09-07\", \"2017-09-08\", \"2017-09-09\", \"2017-09-10\", \"2017-09-11\", \"2017-09-12\", \"2017-09-13\", \"2017-09-14\", \"2017-09-15\", \"2017-09-16\", \"2017-09-17\", \"2017-09-18\", \"2017-09-19\", \"2017-09-20\", \"2017-09-21\", \"2017-09-22\", \"2017-09-23\", \"2017-09-24\", \"2017-09-25\", \"2017-09-26\", \"2017-09-27\", \"2017-09-28\", \"2017-09-29\", \"2017-09-30\", \"2017-10-01\", \"2017-10-02\", \"2017-10-03\", \"2017-10-04\", \"2017-10-05\", \"2017-10-06\", \"2017-10-07\", \"2017-10-08\", \"2017-10-09\", \"2017-10-10\", \"2017-10-11\", \"2017-10-12\", \"2017-10-13\", \"2017-10-14\", \"2017-10-15\", \"2017-10-16\", \"2017-10-17\", \"2017-10-18\", \"2017-10-19\", \"2017-10-20\", \"2017-10-21\", \"2017-10-22\", \"2017-10-23\", \"2017-10-24\", \"2017-10-25\", \"2017-10-26\", \"2017-10-27\", \"2017-10-28\", \"2017-10-29\", \"2017-10-30\", \"2017-10-31\", \"2017-11-01\", \"2017-11-02\", \"2017-11-03\", \"2017-11-04\", \"2017-11-05\", \"2017-11-06\", \"2017-11-07\", \"2017-11-08\", \"2017-11-09\", \"2017-11-10\", \"2017-11-11\", \"2017-11-12\", \"2017-11-13\", \"2017-11-14\", \"2017-11-15\", \"2017-11-16\", \"2017-11-17\", \"2017-11-18\", \"2017-11-19\", \"2017-11-20\", \"2017-11-21\", \"2017-11-22\", \"2017-11-23\", \"2017-11-24\", \"2017-11-25\", \"2017-11-26\", \"2017-11-27\", \"2017-11-28\", \"2017-11-29\", \"2017-11-30\", \"2017-12-01\", \"2017-12-02\", \"2017-12-03\", \"2017-12-04\", \"2017-12-05\", \"2017-12-06\", \"2017-12-07\", \"2017-12-08\", \"2017-12-09\", \"2017-12-10\", \"2017-12-11\", \"2017-12-12\", \"2017-12-13\", \"2017-12-14\", \"2017-12-15\", \"2017-12-16\", \"2017-12-17\", \"2017-12-18\", \"2017-12-19\", \"2017-12-20\", \"2017-12-21\", \"2017-12-22\", \"2017-12-23\", \"2017-12-24\", \"2017-12-25\", \"2017-12-26\", \"2017-12-27\", \"2017-12-28\", \"2017-12-29\", \"2017-12-30\", \"2017-12-31\", \"2018-01-01\", \"2018-01-02\", \"2018-01-03\", \"2018-01-04\", \"2018-01-05\", \"2018-01-06\", \"2018-01-07\", \"2018-01-08\", \"2018-01-09\", \"2018-01-10\", \"2018-01-11\", \"2018-01-12\", \"2018-01-13\", \"2018-01-14\", \"2018-01-15\", \"2018-01-16\", \"2018-01-17\", \"2018-01-18\", \"2018-01-19\", \"2018-01-20\", \"2018-01-21\", \"2018-01-22\", \"2018-01-23\", \"2018-01-24\", \"2018-01-25\", \"2018-01-26\", \"2018-01-27\", \"2018-01-28\", \"2018-01-29\", \"2018-01-30\", \"2018-01-31\", \"2018-02-01\", \"2018-02-02\", \"2018-02-03\", \"2018-02-04\", \"2018-02-05\", \"2018-02-06\", \"2018-02-07\", \"2018-02-08\", \"2018-02-09\", \"2018-02-10\", \"2018-02-11\", \"2018-02-12\", \"2018-02-13\", \"2018-02-14\", \"2018-02-15\", \"2018-02-16\", \"2018-02-17\", \"2018-02-18\", \"2018-02-19\", \"2018-02-20\", \"2018-02-21\", \"2018-02-22\", \"2018-02-23\", \"2018-02-24\", \"2018-02-25\", \"2018-02-26\", \"2018-02-27\", \"2018-02-28\", \"2018-03-01\", \"2018-03-02\", \"2018-03-03\", \"2018-03-04\", \"2018-03-05\", \"2018-03-06\", \"2018-03-07\", \"2018-03-08\", \"2018-03-09\", \"2018-03-10\", \"2018-03-11\", \"2018-03-12\", \"2018-03-13\", \"2018-03-14\", \"2018-03-15\", \"2018-03-16\", \"2018-03-17\", \"2018-03-18\", \"2018-03-19\", \"2018-03-20\", \"2018-03-21\", \"2018-03-22\", \"2018-03-23\", \"2018-03-24\", \"2018-03-25\", \"2018-03-26\", \"2018-03-27\", \"2018-03-28\", \"2018-03-29\", \"2018-03-30\", \"2018-03-31\", \"2018-04-01\", \"2018-04-02\", \"2018-04-03\", \"2018-04-04\", \"2018-04-05\", \"2018-04-06\", \"2018-04-07\", \"2018-04-08\", \"2018-04-09\", \"2018-04-10\", \"2018-04-11\", \"2018-04-12\", \"2018-04-13\", \"2018-04-14\", \"2018-04-15\", \"2018-04-16\", \"2018-04-17\", \"2018-04-18\", \"2018-04-19\", \"2018-04-20\", \"2018-04-21\", \"2018-04-22\", \"2018-04-23\", \"2018-04-24\", \"2018-04-25\", \"2018-04-26\", \"2018-04-27\", \"2018-04-28\", \"2018-04-29\", \"2018-04-30\", \"2018-05-01\", \"2018-05-02\", \"2018-05-03\", \"2018-05-04\", \"2018-05-05\", \"2018-05-06\", \"2018-05-07\", \"2018-05-08\", \"2018-05-09\", \"2018-05-10\", \"2018-05-11\", \"2018-05-12\", \"2018-05-13\", \"2018-05-14\", \"2018-05-15\", \"2018-05-16\", \"2018-05-17\", \"2018-05-18\", \"2018-05-19\", \"2018-05-20\", \"2018-05-21\", \"2018-05-22\", \"2018-05-23\", \"2018-05-24\", \"2018-05-25\", \"2018-05-26\", \"2018-05-27\", \"2018-05-28\", \"2018-05-29\", \"2018-05-30\", \"2018-05-31\", \"2018-06-01\", \"2018-06-02\", \"2018-06-03\", \"2018-06-04\", \"2018-06-05\", \"2018-06-06\", \"2018-06-07\", \"2018-06-08\", \"2018-06-09\", \"2018-06-10\", \"2018-06-11\", \"2018-06-12\", \"2018-06-13\", \"2018-06-14\", \"2018-06-15\", \"2018-06-16\", \"2018-06-17\", \"2018-06-18\", \"2018-06-19\", \"2018-06-20\", \"2018-06-21\", \"2018-06-22\", \"2018-06-23\", \"2018-06-24\", \"2018-06-25\", \"2018-06-26\", \"2018-06-27\", \"2018-06-28\", \"2018-06-29\", \"2018-06-30\", \"2018-07-01\", \"2018-07-02\", \"2018-07-03\", \"2018-07-04\", \"2018-07-05\", \"2018-07-06\", \"2018-07-07\", \"2018-07-08\", \"2018-07-09\", \"2018-07-10\", \"2018-07-11\", \"2018-07-12\", \"2018-07-13\", \"2018-07-14\", \"2018-07-15\", \"2018-07-16\", \"2018-07-17\", \"2018-07-18\", \"2018-07-19\", \"2018-07-20\", \"2018-07-21\", \"2018-07-22\", \"2018-07-23\", \"2018-07-24\", \"2018-07-25\", \"2018-07-26\", \"2018-07-27\", \"2018-07-28\", \"2018-07-29\", \"2018-07-30\", \"2018-07-31\", \"2018-08-01\", \"2018-08-02\", \"2018-08-03\", \"2018-08-04\", \"2018-08-05\", \"2018-08-06\", \"2018-08-07\", \"2018-08-08\", \"2018-08-09\", \"2018-08-10\", \"2018-08-11\", \"2018-08-12\", \"2018-08-13\", \"2018-08-14\", \"2018-08-15\", \"2018-08-16\", \"2018-08-17\", \"2018-08-18\", \"2018-08-19\", \"2018-08-20\", \"2018-08-21\", \"2018-08-22\", \"2018-08-23\", \"2018-08-24\", \"2018-08-25\", \"2018-08-26\", \"2018-08-27\", \"2018-08-28\", \"2018-08-29\", \"2018-09-03\"], \"y\": [63.34, 15.56, 8.49, 9.34, 131.66, 1354.52, 1302.6899999999991, 1170.7200000000005, 907.9199999999997, 941.52, 681.99, 800.82, 8.72, 310.3700000000002, 71.9, 96.09, 100.05, 100.72, 136.3, 286.17, 268.11, 275.14, 386.88, 351.7699999999999, 400.4799999999999, 591.0799999999999, 651.02, 586.2099999999998, 620.2199999999999, 636.17, 522.5999999999999, 972.4199999999998, 828.36, 1362.9800000000005, 1953.9699999999996, 1323.2000000000003, 672.0, 703.0000000000002, 1097.0000000000007, 1571.4099999999994, 1350.7399999999993, 1557.6599999999996, 1242.2500000000002, 1749.0499999999997, 1649.4500000000003, 1545.3599999999994, 2380.7299999999987, 2068.669999999999, 1653.8799999999992, 1445.3600000000004, 925.5900000000001, 1520.18, 2100.7199999999993, 1648.89, 1261.3699999999994, 1107.2399999999998, 1257.95, 1153.81, 679.7500000000003, 1279.0, 1047.8199999999997, 1299.1600000000003, 1628.7999999999995, 1216.5399999999997, 815.7200000000001, 1049.7799999999997, 987.1700000000001, 1354.9599999999998, 2099.2799999999993, 1506.0600000000002, 1554.7, 1932.0300000000002, 1495.6899999999994, 2084.669999999999, 1847.1200000000001, 1975.9799999999996, 2099.0699999999993, 2160.0499999999997, 1632.4500000000003, 1241.02, 2348.01, 2299.32, 2216.6, 2379.9699999999993, 1640.8799999999997, 1504.6699999999994, 1078.7399999999996, 2510.81, 1887.5899999999992, 2201.1699999999987, 2420.379999999999, 1492.5799999999997, 1641.23, 1321.0799999999997, 2375.6200000000003, 2253.57, 1548.5700000000002, 1409.3999999999996, 1545.9799999999998, 1356.5400000000002, 1475.92, 1620.14, 1851.339999999999, 1871.6099999999992, 2073.92, 1743.0699999999993, 1268.4900000000002, 1466.7599999999998, 1759.79, 1506.0699999999997, 1198.74, 1522.4999999999998, 1363.6999999999994, 1057.62, 1058.84, 1348.8999999999996, 2147.1399999999994, 1837.79, 2349.250000000001, 1652.2599999999989, 2005.2299999999998, 1642.3700000000003, 2561.55, 2495.9200000000005, 2776.3400000000006, 2090.1799999999994, 2272.8000000000006, 1774.3900000000006, 1345.8400000000001, 2216.4999999999995, 2667.569999999999, 2082.82, 2305.41, 2372.75, 2372.82, 2556.5499999999997, 2874.25, 3049.069999999999, 2322.41, 3017.7000000000003, 2467.8499999999995, 1547.74, 2321.2199999999975, 3458.939999999999, 3189.819999999998, 3052.399999999999, 2611.379999999999, 3120.009999999998, 1722.0599999999997, 2942.3299999999977, 3492.3999999999974, 2818.6799999999976, 3244.3399999999992, 2402.8999999999983, 1844.1399999999999, 1917.8799999999999, 1844.62, 3114.659999999997, 2335.589999999999, 2832.999999999998, 2457.0799999999986, 2472.640000000001, 1815.0899999999997, 2035.2499999999995, 2833.6100000000006, 2718.8399999999983, 2626.0099999999993, 3597.3699999999976, 2538.479999999999, 1586.8300000000002, 2305.87, 2487.6599999999994, 2563.3599999999983, 2931.919999999999, 2179.1399999999976, 1869.4599999999998, 1481.3799999999997, 1897.5299999999993, 3168.609999999999, 3101.410000000001, 1087.9300000000003, 1782.2299999999996, 2415.5199999999995, 1688.0499999999995, 3088.160000000001, 1785.5600000000002, 2894.35, 2396.0299999999984, 2105.5099999999993, 2013.559999999999, 1987.2500000000002, 2183.29, 2647.0600000000004, 2456.3999999999987, 3348.649999999999, 3492.59, 2543.9900000000007, 1690.2100000000003, 1878.3, 3070.4100000000008, 3656.78, 3263.65, 3455.749999999999, 3088.1099999999974, 2197.4999999999986, 2583.6399999999985, 3808.5699999999993, 3948.13, 3165.089999999998, 3236.89, 2336.809999999999, 1861.7299999999996, 1888.11, 3197.519999999997, 3080.9299999999967, 2634.2500000000005, 3035.149999999999, 3233.1400000000003, 2407.64, 2396.809999999999, 3165.789999999998, 3668.290000000002, 2975.2699999999986, 3093.5299999999993, 3267.9900000000002, 2518.93, 2783.969999999999, 3371.5000000000014, 2865.9199999999983, 3261.4999999999986, 3361.6600000000017, 3280.559999999998, 2213.2300000000005, 2157.2599999999993, 3431.829999999998, 4213.41, 4047.519999999999, 3380.0399999999995, 2893.8599999999988, 2248.769999999998, 2081.39, 3800.370000000001, 3122.3500000000004, 2720.1799999999994, 2621.3999999999987, 2240.3999999999987, 1912.96, 2927.5800000000013, 3452.0700000000006, 3269.2100000000005, 4026.490000000001, 3023.48, 3977.6499999999983, 2350.52, 3155.3799999999974, 3447.239999999998, 3547.419999999999, 3197.22, 2203.2599999999984, 2639.9399999999996, 2593.220000000001, 3010.7299999999987, 3608.869999999999, 5100.929999999998, 4284.410000000001, 3944.750000000001, 3183.4099999999994, 2892.9399999999987, 2846.6199999999994, 4047.4400000000023, 3367.7100000000005, 3929.600000000001, 3442.6599999999994, 2779.8099999999977, 1920.2900000000004, 2467.940000000001, 2957.489999999999, 3559.7599999999993, 3436.310000000001, 3084.579999999998, 2825.4400000000005, 2193.6800000000003, 3088.16, 3413.649999999999, 4270.5499999999965, 3589.880000000001, 3612.3099999999986, 2913.8100000000004, 2372.4899999999993, 2885.079999999999, 4651.740000000001, 3814.33, 3247.030000000002, 3447.049999999999, 3524.219999999999, 2656.639999999998, 2547.2999999999984, 4527.470000000003, 5080.499999999998, 4244.069999999998, 3685.8999999999987, 2936.8800000000015, 2569.5899999999983, 3447.5599999999986, 3557.4199999999983, 3667.390000000002, 3224.529999999999, 3744.6200000000013, 2774.87, 2438.8699999999994, 3015.8499999999995, 3109.649999999999, 3033.529999999999, 2683.38, 2819.209999999998, 3192.100000000001, 3125.7400000000007, 3574.510000000001, 4549.320000000001, 3781.0100000000007, 4022.37, 3848.2999999999975, 3379.729999999997, 3378.8699999999967, 3442.0499999999965, 4942.269999999998, 4307.1900000000005, 3834.9600000000005, 4649.269999999997, 4983.1, 3972.0800000000004, 3357.0499999999993, 5781.399999999999, 4959.529999999999, 4988.590000000003, 6786.579999999999, 25723.88999999999, 10934.680000000013, 8279.920000000004, 8721.190000000006, 8361.92000000001, 7196.840000000003, 5295.35, 5991.909999999998, 4505.049999999998, 4944.5, 6911.600000000004, 5928.05, 6291.480000000011, 4865.099999999999, 4514.760000000001, 3612.479999999999, 3921.4900000000007, 5425.039999999995, 5088.669999999997, 4781.350000000003, 4294.640000000004, 4069.43, 2610.7799999999984, 2793.589999999997, 4648.499999999996, 3512.2999999999984, 4046.14, 2960.729999999998, 2272.7399999999993, 2482.0399999999995, 1201.7799999999997, 2280.8899999999994, 3238.3099999999995, 3327.1099999999997, 2744.56, 2722.9299999999994, 2146.8399999999997, 1498.2699999999995, 1443.7099999999998, 4095.510000000001, 4859.359999999998, 5076.720000000001, 4506.97, 4971.610000000005, 4485.1100000000015, 6454.249999999996, 5152.4200000000055, 6341.390000000002, 6275.5399999999945, 5944.029999999993, 4587.920000000002, 4426.300000000002, 6648.429999999998, 6856.800000000003, 6052.310000000005, 4984.620000000001, 5310.049999999999, 4569.649999999996, 4063.959999999999, 6257.4700000000075, 5546.9999999999945, 5199.190000000003, 5054.86, 5266.299999999998, 3071.6900000000005, 3406.47, 5540.14, 5773.879999999998, 5047.8700000000035, 5374.589999999996, 4785.899999999992, 4121.959999999998, 4226.6900000000005, 5836.120000000007, 5727.340000000005, 5026.100000000001, 4498.3, 4166.060000000004, 3773.2199999999984, 3438.990000000002, 4298.799999999992, 4486.77, 6259.499999999996, 5660.360000000003, 4779.1399999999985, 4461.7300000000005, 4469.459999999997, 5545.319999999997, 5965.190000000001, 5525.270000000001, 5972.230000000001, 4648.259999999997, 4034.95, 5727.120000000008, 6361.120000000007, 6809.779999999997, 6749.980000000002, 6537.740000000002, 5597.070000000007, 4972.1600000000035, 4909.090000000003, 7061.399999999999, 6797.259999999993, 6333.2699999999995, 5685.729999999994, 5311.069999999998, 4597.229999999998, 5297.92, 5286.249999999999, 6105.369999999995, 4795.050000000003, 7132.599999999998, 5927.819999999998, 3918.359999999999, 4957.0499999999965, 7936.560000000006, 7138.449999999996, 6719.529999999995, 5870.38, 5016.919999999997, 3923.65, 4635.499999999997, 6176.670000000001, 5897.64, 4703.319999999999, 4635.940000000002, 4186.94, 3849.439999999997, 4792.340000000005, 7689.230000000003, 5824.0, 5585.090000000001, 6160.009999999991, 4500.600000000001, 3497.4899999999984, 4413.830000000003, 6474.09, 4664.699999999999, 6421.499999999991, 5827.8099999999995, 5290.17, 3552.1700000000014, 6034.149999999997, 6947.220000000001, 5929.8200000000015, 6823.019999999997, 6585.039999999998, 4312.64, 3499.55, 4640.909999999999, 6689.030000000004, 6821.279999999999, 6361.45, 5281.4100000000035, 6010.530000000003, 3417.960000000001, 3649.249999999999, 5353.999999999996, 5277.880000000002, 6206.599999999995, 7077.949999999993, 5763.1699999999955, 4301.700000000001, 4428.259999999996, 8292.729999999998, 6919.39999999999, 7379.520000000001, 7413.219999999992, 5390.819999999994, 5108.229999999999, 4888.7699999999995, 8388.339999999991, 8386.169999999996, 8455.359999999993, 4478.260000000002, 4808.260000000003, 3118.4399999999982, 3499.5800000000013, 4261.910000000003, 4276.7699999999995, 2761.2400000000007, 2201.4100000000008, 2248.450000000001, 2114.92, 2170.4300000000007, 3427.4799999999996, 3858.5500000000015, 3315.080000000001, 3045.24, 4983.749999999996, 3673.370000000001, 4408.2400000000025, 5704.0, 5392.360000000001, 6042.58, 5655.979999999996, 4926.789999999986, 4708.689999999996, 4786.279999999999, 7643.5800000000045, 6393.430000000001, 6969.670000000006, 5202.609999999998, 4881.199999999996, 4384.030000000001, 3435.1900000000023, 6305.100000000001, 5383.270000000001, 5536.28, 5598.409999999997, 3945.8900000000012, 3679.1899999999982, 5065.979999999999, 5744.399999999996, 6658.969999999992, 6009.450000000003, 6567.079999999994, 4625.209999999997, 3241.8199999999993, 4691.2300000000005, 6263.809999999998, 5147.290000000003, 5928.150000000002, 5140.149999999999, 3103.13, 2200.6799999999994, 3143.9499999999985, 3557.320000000001, 3522.1999999999985, 3620.6399999999976, 3677.9400000000005, 4885.1699999999955, 4169.330000000001, 4451.910000000003, 6469.840000000003, 5336.9299999999985, 7790.6600000000035, 6205.660000000003, 6030.410000000002, 4388.5, 5208.839999999999, 8064.399999999999, 6557.679999999997, 7495.089999999997, 6492.000000000003, 4959.380000000004, 4855.000000000005, 5034.199999999996, 6743.359999999998, 8085.959999999999, 7877.229999999999, 7163.400000000001, 7442.400000000001, 5715.839999999998, 6688.310000000003, 9433.029999999995, 9115.399999999992, 8027.429999999995, 6694.579999999999, 6160.559999999996, 4604.799999999999, 5215.54, 7263.780000000002, 7278.5299999999925, 6784.609999999994, 6546.699999999997, 5908.320000000001, 4357.150000000003, 4479.110000000002, 5372.370000000002, 4507.629999999995, 3965.4799999999973, 2509.69, 1679.7799999999997, 1138.3500000000001, 1262.4499999999998, 765.6999999999999, 447.31, 216.65999999999997, 21.46]}],\n",
       "                        {\"template\": {\"data\": {\"bar\": [{\"error_x\": {\"color\": \"#2a3f5f\"}, \"error_y\": {\"color\": \"#2a3f5f\"}, \"marker\": {\"line\": {\"color\": \"#E5ECF6\", \"width\": 0.5}}, \"type\": \"bar\"}], \"barpolar\": [{\"marker\": {\"line\": {\"color\": \"#E5ECF6\", \"width\": 0.5}}, \"type\": \"barpolar\"}], \"carpet\": [{\"aaxis\": {\"endlinecolor\": \"#2a3f5f\", \"gridcolor\": \"white\", \"linecolor\": \"white\", \"minorgridcolor\": \"white\", \"startlinecolor\": \"#2a3f5f\"}, \"baxis\": {\"endlinecolor\": \"#2a3f5f\", \"gridcolor\": \"white\", \"linecolor\": \"white\", \"minorgridcolor\": \"white\", \"startlinecolor\": \"#2a3f5f\"}, \"type\": \"carpet\"}], \"choropleth\": [{\"colorbar\": {\"outlinewidth\": 0, \"ticks\": \"\"}, \"type\": \"choropleth\"}], \"contour\": [{\"colorbar\": {\"outlinewidth\": 0, \"ticks\": \"\"}, \"colorscale\": [[0.0, \"#0d0887\"], [0.1111111111111111, \"#46039f\"], [0.2222222222222222, \"#7201a8\"], [0.3333333333333333, \"#9c179e\"], [0.4444444444444444, \"#bd3786\"], [0.5555555555555556, \"#d8576b\"], [0.6666666666666666, \"#ed7953\"], [0.7777777777777778, \"#fb9f3a\"], [0.8888888888888888, \"#fdca26\"], [1.0, \"#f0f921\"]], \"type\": \"contour\"}], \"contourcarpet\": [{\"colorbar\": {\"outlinewidth\": 0, \"ticks\": \"\"}, \"type\": \"contourcarpet\"}], \"heatmap\": [{\"colorbar\": {\"outlinewidth\": 0, \"ticks\": \"\"}, \"colorscale\": [[0.0, \"#0d0887\"], [0.1111111111111111, \"#46039f\"], [0.2222222222222222, \"#7201a8\"], [0.3333333333333333, \"#9c179e\"], [0.4444444444444444, \"#bd3786\"], [0.5555555555555556, \"#d8576b\"], [0.6666666666666666, \"#ed7953\"], [0.7777777777777778, \"#fb9f3a\"], [0.8888888888888888, \"#fdca26\"], [1.0, \"#f0f921\"]], \"type\": \"heatmap\"}], \"heatmapgl\": [{\"colorbar\": {\"outlinewidth\": 0, \"ticks\": \"\"}, \"colorscale\": [[0.0, \"#0d0887\"], [0.1111111111111111, \"#46039f\"], [0.2222222222222222, \"#7201a8\"], [0.3333333333333333, \"#9c179e\"], [0.4444444444444444, \"#bd3786\"], [0.5555555555555556, \"#d8576b\"], [0.6666666666666666, \"#ed7953\"], [0.7777777777777778, \"#fb9f3a\"], [0.8888888888888888, \"#fdca26\"], [1.0, \"#f0f921\"]], \"type\": \"heatmapgl\"}], \"histogram\": [{\"marker\": {\"colorbar\": {\"outlinewidth\": 0, \"ticks\": \"\"}}, \"type\": \"histogram\"}], \"histogram2d\": [{\"colorbar\": {\"outlinewidth\": 0, \"ticks\": \"\"}, \"colorscale\": [[0.0, \"#0d0887\"], [0.1111111111111111, \"#46039f\"], [0.2222222222222222, \"#7201a8\"], [0.3333333333333333, \"#9c179e\"], [0.4444444444444444, \"#bd3786\"], [0.5555555555555556, \"#d8576b\"], [0.6666666666666666, \"#ed7953\"], [0.7777777777777778, \"#fb9f3a\"], [0.8888888888888888, \"#fdca26\"], [1.0, \"#f0f921\"]], \"type\": \"histogram2d\"}], \"histogram2dcontour\": [{\"colorbar\": {\"outlinewidth\": 0, \"ticks\": \"\"}, \"colorscale\": [[0.0, \"#0d0887\"], [0.1111111111111111, \"#46039f\"], [0.2222222222222222, \"#7201a8\"], [0.3333333333333333, \"#9c179e\"], [0.4444444444444444, \"#bd3786\"], [0.5555555555555556, \"#d8576b\"], [0.6666666666666666, \"#ed7953\"], [0.7777777777777778, \"#fb9f3a\"], [0.8888888888888888, \"#fdca26\"], [1.0, \"#f0f921\"]], \"type\": \"histogram2dcontour\"}], \"mesh3d\": [{\"colorbar\": {\"outlinewidth\": 0, \"ticks\": \"\"}, \"type\": \"mesh3d\"}], \"parcoords\": [{\"line\": {\"colorbar\": {\"outlinewidth\": 0, \"ticks\": \"\"}}, \"type\": \"parcoords\"}], \"pie\": [{\"automargin\": true, \"type\": \"pie\"}], \"scatter\": [{\"marker\": {\"colorbar\": {\"outlinewidth\": 0, \"ticks\": \"\"}}, \"type\": \"scatter\"}], \"scatter3d\": [{\"line\": {\"colorbar\": {\"outlinewidth\": 0, \"ticks\": \"\"}}, \"marker\": {\"colorbar\": {\"outlinewidth\": 0, \"ticks\": \"\"}}, \"type\": \"scatter3d\"}], \"scattercarpet\": [{\"marker\": {\"colorbar\": {\"outlinewidth\": 0, \"ticks\": \"\"}}, \"type\": \"scattercarpet\"}], \"scattergeo\": [{\"marker\": {\"colorbar\": {\"outlinewidth\": 0, \"ticks\": \"\"}}, \"type\": \"scattergeo\"}], \"scattergl\": [{\"marker\": {\"colorbar\": {\"outlinewidth\": 0, \"ticks\": \"\"}}, \"type\": \"scattergl\"}], \"scattermapbox\": [{\"marker\": {\"colorbar\": {\"outlinewidth\": 0, \"ticks\": \"\"}}, \"type\": \"scattermapbox\"}], \"scatterpolar\": [{\"marker\": {\"colorbar\": {\"outlinewidth\": 0, \"ticks\": \"\"}}, \"type\": \"scatterpolar\"}], \"scatterpolargl\": [{\"marker\": {\"colorbar\": {\"outlinewidth\": 0, \"ticks\": \"\"}}, \"type\": \"scatterpolargl\"}], \"scatterternary\": [{\"marker\": {\"colorbar\": {\"outlinewidth\": 0, \"ticks\": \"\"}}, \"type\": \"scatterternary\"}], \"surface\": [{\"colorbar\": {\"outlinewidth\": 0, \"ticks\": \"\"}, \"colorscale\": [[0.0, \"#0d0887\"], [0.1111111111111111, \"#46039f\"], [0.2222222222222222, \"#7201a8\"], [0.3333333333333333, \"#9c179e\"], [0.4444444444444444, \"#bd3786\"], [0.5555555555555556, \"#d8576b\"], [0.6666666666666666, \"#ed7953\"], [0.7777777777777778, \"#fb9f3a\"], [0.8888888888888888, \"#fdca26\"], [1.0, \"#f0f921\"]], \"type\": \"surface\"}], \"table\": [{\"cells\": {\"fill\": {\"color\": \"#EBF0F8\"}, \"line\": {\"color\": \"white\"}}, \"header\": {\"fill\": {\"color\": \"#C8D4E3\"}, \"line\": {\"color\": \"white\"}}, \"type\": \"table\"}]}, \"layout\": {\"annotationdefaults\": {\"arrowcolor\": \"#2a3f5f\", \"arrowhead\": 0, \"arrowwidth\": 1}, \"coloraxis\": {\"colorbar\": {\"outlinewidth\": 0, \"ticks\": \"\"}}, \"colorscale\": {\"diverging\": [[0, \"#8e0152\"], [0.1, \"#c51b7d\"], [0.2, \"#de77ae\"], [0.3, \"#f1b6da\"], [0.4, \"#fde0ef\"], [0.5, \"#f7f7f7\"], [0.6, \"#e6f5d0\"], [0.7, \"#b8e186\"], [0.8, \"#7fbc41\"], [0.9, \"#4d9221\"], [1, \"#276419\"]], \"sequential\": [[0.0, \"#0d0887\"], [0.1111111111111111, \"#46039f\"], [0.2222222222222222, \"#7201a8\"], [0.3333333333333333, \"#9c179e\"], [0.4444444444444444, \"#bd3786\"], [0.5555555555555556, \"#d8576b\"], [0.6666666666666666, \"#ed7953\"], [0.7777777777777778, \"#fb9f3a\"], [0.8888888888888888, \"#fdca26\"], [1.0, \"#f0f921\"]], \"sequentialminus\": [[0.0, \"#0d0887\"], [0.1111111111111111, \"#46039f\"], [0.2222222222222222, \"#7201a8\"], [0.3333333333333333, \"#9c179e\"], [0.4444444444444444, \"#bd3786\"], [0.5555555555555556, \"#d8576b\"], [0.6666666666666666, \"#ed7953\"], [0.7777777777777778, \"#fb9f3a\"], [0.8888888888888888, \"#fdca26\"], [1.0, \"#f0f921\"]]}, \"colorway\": [\"#636efa\", \"#EF553B\", \"#00cc96\", \"#ab63fa\", \"#FFA15A\", \"#19d3f3\", \"#FF6692\", \"#B6E880\", \"#FF97FF\", \"#FECB52\"], \"font\": {\"color\": \"#2a3f5f\"}, \"geo\": {\"bgcolor\": \"white\", \"lakecolor\": \"white\", \"landcolor\": \"#E5ECF6\", \"showlakes\": true, \"showland\": true, \"subunitcolor\": \"white\"}, \"hoverlabel\": {\"align\": \"left\"}, \"hovermode\": \"closest\", \"mapbox\": {\"style\": \"light\"}, \"paper_bgcolor\": \"white\", \"plot_bgcolor\": \"#E5ECF6\", \"polar\": {\"angularaxis\": {\"gridcolor\": \"white\", \"linecolor\": \"white\", \"ticks\": \"\"}, \"bgcolor\": \"#E5ECF6\", \"radialaxis\": {\"gridcolor\": \"white\", \"linecolor\": \"white\", \"ticks\": \"\"}}, \"scene\": {\"xaxis\": {\"backgroundcolor\": \"#E5ECF6\", \"gridcolor\": \"white\", \"gridwidth\": 2, \"linecolor\": \"white\", \"showbackground\": true, \"ticks\": \"\", \"zerolinecolor\": \"white\"}, \"yaxis\": {\"backgroundcolor\": \"#E5ECF6\", \"gridcolor\": \"white\", \"gridwidth\": 2, \"linecolor\": \"white\", \"showbackground\": true, \"ticks\": \"\", \"zerolinecolor\": \"white\"}, \"zaxis\": {\"backgroundcolor\": \"#E5ECF6\", \"gridcolor\": \"white\", \"gridwidth\": 2, \"linecolor\": \"white\", \"showbackground\": true, \"ticks\": \"\", \"zerolinecolor\": \"white\"}}, \"shapedefaults\": {\"line\": {\"color\": \"#2a3f5f\"}}, \"ternary\": {\"aaxis\": {\"gridcolor\": \"white\", \"linecolor\": \"white\", \"ticks\": \"\"}, \"baxis\": {\"gridcolor\": \"white\", \"linecolor\": \"white\", \"ticks\": \"\"}, \"bgcolor\": \"#E5ECF6\", \"caxis\": {\"gridcolor\": \"white\", \"linecolor\": \"white\", \"ticks\": \"\"}}, \"title\": {\"x\": 0.05}, \"xaxis\": {\"automargin\": true, \"gridcolor\": \"white\", \"linecolor\": \"white\", \"ticks\": \"\", \"title\": {\"standoff\": 15}, \"zerolinecolor\": \"white\", \"zerolinewidth\": 2}, \"yaxis\": {\"automargin\": true, \"gridcolor\": \"white\", \"linecolor\": \"white\", \"ticks\": \"\", \"title\": {\"standoff\": 15}, \"zerolinecolor\": \"white\", \"zerolinewidth\": 2}}}, \"title\": {\"text\": \"Product and freight value by date\"}, \"xaxis\": {\"rangeselector\": {\"buttons\": [{\"count\": 1, \"label\": \"1m\", \"step\": \"month\", \"stepmode\": \"backward\"}, {\"count\": 6, \"label\": \"6m\", \"step\": \"month\", \"stepmode\": \"backward\"}, {\"count\": 12, \"label\": \"12m\", \"step\": \"month\", \"stepmode\": \"backward\"}, {\"step\": \"all\"}]}, \"rangeslider\": {\"visible\": true}, \"type\": \"date\"}},\n",
       "                        {\"responsive\": true}\n",
       "                    ).then(function(){\n",
       "                            \n",
       "var gd = document.getElementById('dc780205-21e9-470b-bd08-9d5e3a68ca7c');\n",
       "var x = new MutationObserver(function (mutations, observer) {{\n",
       "        var display = window.getComputedStyle(gd).display;\n",
       "        if (!display || display === 'none') {{\n",
       "            console.log([gd, 'removed!']);\n",
       "            Plotly.purge(gd);\n",
       "            observer.disconnect();\n",
       "        }}\n",
       "}});\n",
       "\n",
       "// Listen for the removal of the full notebook cells\n",
       "var notebookContainer = gd.closest('#notebook-container');\n",
       "if (notebookContainer) {{\n",
       "    x.observe(notebookContainer, {childList: true});\n",
       "}}\n",
       "\n",
       "// Listen for the clearing of the current output cell\n",
       "var outputEl = gd.closest('.output');\n",
       "if (outputEl) {{\n",
       "    x.observe(outputEl, {childList: true});\n",
       "}}\n",
       "\n",
       "                        })\n",
       "                };\n",
       "                });\n",
       "            </script>\n",
       "        </div>"
      ]
     },
     "metadata": {},
     "output_type": "display_data"
    },
    {
     "data": {
      "application/vnd.plotly.v1+json": {
       "config": {
        "linkText": "Export to plot.ly",
        "plotlyServerURL": "https://plot.ly",
        "showLink": false
       },
       "data": [
        {
         "type": "bar",
         "x": [
          "2016-09-30T00:00:00",
          "2016-10-31T00:00:00",
          "2016-11-30T00:00:00",
          "2016-12-31T00:00:00",
          "2017-01-31T00:00:00",
          "2017-02-28T00:00:00",
          "2017-03-31T00:00:00",
          "2017-04-30T00:00:00",
          "2017-05-31T00:00:00",
          "2017-06-30T00:00:00",
          "2017-07-31T00:00:00",
          "2017-08-31T00:00:00",
          "2017-09-30T00:00:00",
          "2017-10-31T00:00:00",
          "2017-11-30T00:00:00",
          "2017-12-31T00:00:00",
          "2018-01-31T00:00:00",
          "2018-02-28T00:00:00",
          "2018-03-31T00:00:00",
          "2018-04-30T00:00:00",
          "2018-05-31T00:00:00",
          "2018-06-30T00:00:00",
          "2018-07-31T00:00:00",
          "2018-08-31T00:00:00",
          "2018-09-30T00:00:00"
         ],
         "y": [
          267.36,
          49507.660000000156,
          0,
          10.9,
          120312.87,
          247303.01999999498,
          374344.30000000156,
          359927.23000000126,
          506071.14000000927,
          433038.60000000644,
          498031.48000001087,
          573971.6800000157,
          624401.6900000154,
          664219.4300000159,
          1010271.3700000346,
          743914.1700000209,
          950030.3600000404,
          844178.7100000294,
          983213.4400000315,
          996647.7500000299,
          996517.680000031,
          865124.3100000217,
          895507.2200000212,
          854686.3300000248,
          145
         ]
        }
       ],
       "layout": {
        "height": 420,
        "template": {
         "data": {
          "bar": [
           {
            "error_x": {
             "color": "#2a3f5f"
            },
            "error_y": {
             "color": "#2a3f5f"
            },
            "marker": {
             "line": {
              "color": "#E5ECF6",
              "width": 0.5
             }
            },
            "type": "bar"
           }
          ],
          "barpolar": [
           {
            "marker": {
             "line": {
              "color": "#E5ECF6",
              "width": 0.5
             }
            },
            "type": "barpolar"
           }
          ],
          "carpet": [
           {
            "aaxis": {
             "endlinecolor": "#2a3f5f",
             "gridcolor": "white",
             "linecolor": "white",
             "minorgridcolor": "white",
             "startlinecolor": "#2a3f5f"
            },
            "baxis": {
             "endlinecolor": "#2a3f5f",
             "gridcolor": "white",
             "linecolor": "white",
             "minorgridcolor": "white",
             "startlinecolor": "#2a3f5f"
            },
            "type": "carpet"
           }
          ],
          "choropleth": [
           {
            "colorbar": {
             "outlinewidth": 0,
             "ticks": ""
            },
            "type": "choropleth"
           }
          ],
          "contour": [
           {
            "colorbar": {
             "outlinewidth": 0,
             "ticks": ""
            },
            "colorscale": [
             [
              0,
              "#0d0887"
             ],
             [
              0.1111111111111111,
              "#46039f"
             ],
             [
              0.2222222222222222,
              "#7201a8"
             ],
             [
              0.3333333333333333,
              "#9c179e"
             ],
             [
              0.4444444444444444,
              "#bd3786"
             ],
             [
              0.5555555555555556,
              "#d8576b"
             ],
             [
              0.6666666666666666,
              "#ed7953"
             ],
             [
              0.7777777777777778,
              "#fb9f3a"
             ],
             [
              0.8888888888888888,
              "#fdca26"
             ],
             [
              1,
              "#f0f921"
             ]
            ],
            "type": "contour"
           }
          ],
          "contourcarpet": [
           {
            "colorbar": {
             "outlinewidth": 0,
             "ticks": ""
            },
            "type": "contourcarpet"
           }
          ],
          "heatmap": [
           {
            "colorbar": {
             "outlinewidth": 0,
             "ticks": ""
            },
            "colorscale": [
             [
              0,
              "#0d0887"
             ],
             [
              0.1111111111111111,
              "#46039f"
             ],
             [
              0.2222222222222222,
              "#7201a8"
             ],
             [
              0.3333333333333333,
              "#9c179e"
             ],
             [
              0.4444444444444444,
              "#bd3786"
             ],
             [
              0.5555555555555556,
              "#d8576b"
             ],
             [
              0.6666666666666666,
              "#ed7953"
             ],
             [
              0.7777777777777778,
              "#fb9f3a"
             ],
             [
              0.8888888888888888,
              "#fdca26"
             ],
             [
              1,
              "#f0f921"
             ]
            ],
            "type": "heatmap"
           }
          ],
          "heatmapgl": [
           {
            "colorbar": {
             "outlinewidth": 0,
             "ticks": ""
            },
            "colorscale": [
             [
              0,
              "#0d0887"
             ],
             [
              0.1111111111111111,
              "#46039f"
             ],
             [
              0.2222222222222222,
              "#7201a8"
             ],
             [
              0.3333333333333333,
              "#9c179e"
             ],
             [
              0.4444444444444444,
              "#bd3786"
             ],
             [
              0.5555555555555556,
              "#d8576b"
             ],
             [
              0.6666666666666666,
              "#ed7953"
             ],
             [
              0.7777777777777778,
              "#fb9f3a"
             ],
             [
              0.8888888888888888,
              "#fdca26"
             ],
             [
              1,
              "#f0f921"
             ]
            ],
            "type": "heatmapgl"
           }
          ],
          "histogram": [
           {
            "marker": {
             "colorbar": {
              "outlinewidth": 0,
              "ticks": ""
             }
            },
            "type": "histogram"
           }
          ],
          "histogram2d": [
           {
            "colorbar": {
             "outlinewidth": 0,
             "ticks": ""
            },
            "colorscale": [
             [
              0,
              "#0d0887"
             ],
             [
              0.1111111111111111,
              "#46039f"
             ],
             [
              0.2222222222222222,
              "#7201a8"
             ],
             [
              0.3333333333333333,
              "#9c179e"
             ],
             [
              0.4444444444444444,
              "#bd3786"
             ],
             [
              0.5555555555555556,
              "#d8576b"
             ],
             [
              0.6666666666666666,
              "#ed7953"
             ],
             [
              0.7777777777777778,
              "#fb9f3a"
             ],
             [
              0.8888888888888888,
              "#fdca26"
             ],
             [
              1,
              "#f0f921"
             ]
            ],
            "type": "histogram2d"
           }
          ],
          "histogram2dcontour": [
           {
            "colorbar": {
             "outlinewidth": 0,
             "ticks": ""
            },
            "colorscale": [
             [
              0,
              "#0d0887"
             ],
             [
              0.1111111111111111,
              "#46039f"
             ],
             [
              0.2222222222222222,
              "#7201a8"
             ],
             [
              0.3333333333333333,
              "#9c179e"
             ],
             [
              0.4444444444444444,
              "#bd3786"
             ],
             [
              0.5555555555555556,
              "#d8576b"
             ],
             [
              0.6666666666666666,
              "#ed7953"
             ],
             [
              0.7777777777777778,
              "#fb9f3a"
             ],
             [
              0.8888888888888888,
              "#fdca26"
             ],
             [
              1,
              "#f0f921"
             ]
            ],
            "type": "histogram2dcontour"
           }
          ],
          "mesh3d": [
           {
            "colorbar": {
             "outlinewidth": 0,
             "ticks": ""
            },
            "type": "mesh3d"
           }
          ],
          "parcoords": [
           {
            "line": {
             "colorbar": {
              "outlinewidth": 0,
              "ticks": ""
             }
            },
            "type": "parcoords"
           }
          ],
          "pie": [
           {
            "automargin": true,
            "type": "pie"
           }
          ],
          "scatter": [
           {
            "marker": {
             "colorbar": {
              "outlinewidth": 0,
              "ticks": ""
             }
            },
            "type": "scatter"
           }
          ],
          "scatter3d": [
           {
            "line": {
             "colorbar": {
              "outlinewidth": 0,
              "ticks": ""
             }
            },
            "marker": {
             "colorbar": {
              "outlinewidth": 0,
              "ticks": ""
             }
            },
            "type": "scatter3d"
           }
          ],
          "scattercarpet": [
           {
            "marker": {
             "colorbar": {
              "outlinewidth": 0,
              "ticks": ""
             }
            },
            "type": "scattercarpet"
           }
          ],
          "scattergeo": [
           {
            "marker": {
             "colorbar": {
              "outlinewidth": 0,
              "ticks": ""
             }
            },
            "type": "scattergeo"
           }
          ],
          "scattergl": [
           {
            "marker": {
             "colorbar": {
              "outlinewidth": 0,
              "ticks": ""
             }
            },
            "type": "scattergl"
           }
          ],
          "scattermapbox": [
           {
            "marker": {
             "colorbar": {
              "outlinewidth": 0,
              "ticks": ""
             }
            },
            "type": "scattermapbox"
           }
          ],
          "scatterpolar": [
           {
            "marker": {
             "colorbar": {
              "outlinewidth": 0,
              "ticks": ""
             }
            },
            "type": "scatterpolar"
           }
          ],
          "scatterpolargl": [
           {
            "marker": {
             "colorbar": {
              "outlinewidth": 0,
              "ticks": ""
             }
            },
            "type": "scatterpolargl"
           }
          ],
          "scatterternary": [
           {
            "marker": {
             "colorbar": {
              "outlinewidth": 0,
              "ticks": ""
             }
            },
            "type": "scatterternary"
           }
          ],
          "surface": [
           {
            "colorbar": {
             "outlinewidth": 0,
             "ticks": ""
            },
            "colorscale": [
             [
              0,
              "#0d0887"
             ],
             [
              0.1111111111111111,
              "#46039f"
             ],
             [
              0.2222222222222222,
              "#7201a8"
             ],
             [
              0.3333333333333333,
              "#9c179e"
             ],
             [
              0.4444444444444444,
              "#bd3786"
             ],
             [
              0.5555555555555556,
              "#d8576b"
             ],
             [
              0.6666666666666666,
              "#ed7953"
             ],
             [
              0.7777777777777778,
              "#fb9f3a"
             ],
             [
              0.8888888888888888,
              "#fdca26"
             ],
             [
              1,
              "#f0f921"
             ]
            ],
            "type": "surface"
           }
          ],
          "table": [
           {
            "cells": {
             "fill": {
              "color": "#EBF0F8"
             },
             "line": {
              "color": "white"
             }
            },
            "header": {
             "fill": {
              "color": "#C8D4E3"
             },
             "line": {
              "color": "white"
             }
            },
            "type": "table"
           }
          ]
         },
         "layout": {
          "annotationdefaults": {
           "arrowcolor": "#2a3f5f",
           "arrowhead": 0,
           "arrowwidth": 1
          },
          "coloraxis": {
           "colorbar": {
            "outlinewidth": 0,
            "ticks": ""
           }
          },
          "colorscale": {
           "diverging": [
            [
             0,
             "#8e0152"
            ],
            [
             0.1,
             "#c51b7d"
            ],
            [
             0.2,
             "#de77ae"
            ],
            [
             0.3,
             "#f1b6da"
            ],
            [
             0.4,
             "#fde0ef"
            ],
            [
             0.5,
             "#f7f7f7"
            ],
            [
             0.6,
             "#e6f5d0"
            ],
            [
             0.7,
             "#b8e186"
            ],
            [
             0.8,
             "#7fbc41"
            ],
            [
             0.9,
             "#4d9221"
            ],
            [
             1,
             "#276419"
            ]
           ],
           "sequential": [
            [
             0,
             "#0d0887"
            ],
            [
             0.1111111111111111,
             "#46039f"
            ],
            [
             0.2222222222222222,
             "#7201a8"
            ],
            [
             0.3333333333333333,
             "#9c179e"
            ],
            [
             0.4444444444444444,
             "#bd3786"
            ],
            [
             0.5555555555555556,
             "#d8576b"
            ],
            [
             0.6666666666666666,
             "#ed7953"
            ],
            [
             0.7777777777777778,
             "#fb9f3a"
            ],
            [
             0.8888888888888888,
             "#fdca26"
            ],
            [
             1,
             "#f0f921"
            ]
           ],
           "sequentialminus": [
            [
             0,
             "#0d0887"
            ],
            [
             0.1111111111111111,
             "#46039f"
            ],
            [
             0.2222222222222222,
             "#7201a8"
            ],
            [
             0.3333333333333333,
             "#9c179e"
            ],
            [
             0.4444444444444444,
             "#bd3786"
            ],
            [
             0.5555555555555556,
             "#d8576b"
            ],
            [
             0.6666666666666666,
             "#ed7953"
            ],
            [
             0.7777777777777778,
             "#fb9f3a"
            ],
            [
             0.8888888888888888,
             "#fdca26"
            ],
            [
             1,
             "#f0f921"
            ]
           ]
          },
          "colorway": [
           "#636efa",
           "#EF553B",
           "#00cc96",
           "#ab63fa",
           "#FFA15A",
           "#19d3f3",
           "#FF6692",
           "#B6E880",
           "#FF97FF",
           "#FECB52"
          ],
          "font": {
           "color": "#2a3f5f"
          },
          "geo": {
           "bgcolor": "white",
           "lakecolor": "white",
           "landcolor": "#E5ECF6",
           "showlakes": true,
           "showland": true,
           "subunitcolor": "white"
          },
          "hoverlabel": {
           "align": "left"
          },
          "hovermode": "closest",
          "mapbox": {
           "style": "light"
          },
          "paper_bgcolor": "white",
          "plot_bgcolor": "#E5ECF6",
          "polar": {
           "angularaxis": {
            "gridcolor": "white",
            "linecolor": "white",
            "ticks": ""
           },
           "bgcolor": "#E5ECF6",
           "radialaxis": {
            "gridcolor": "white",
            "linecolor": "white",
            "ticks": ""
           }
          },
          "scene": {
           "xaxis": {
            "backgroundcolor": "#E5ECF6",
            "gridcolor": "white",
            "gridwidth": 2,
            "linecolor": "white",
            "showbackground": true,
            "ticks": "",
            "zerolinecolor": "white"
           },
           "yaxis": {
            "backgroundcolor": "#E5ECF6",
            "gridcolor": "white",
            "gridwidth": 2,
            "linecolor": "white",
            "showbackground": true,
            "ticks": "",
            "zerolinecolor": "white"
           },
           "zaxis": {
            "backgroundcolor": "#E5ECF6",
            "gridcolor": "white",
            "gridwidth": 2,
            "linecolor": "white",
            "showbackground": true,
            "ticks": "",
            "zerolinecolor": "white"
           }
          },
          "shapedefaults": {
           "line": {
            "color": "#2a3f5f"
           }
          },
          "ternary": {
           "aaxis": {
            "gridcolor": "white",
            "linecolor": "white",
            "ticks": ""
           },
           "baxis": {
            "gridcolor": "white",
            "linecolor": "white",
            "ticks": ""
           },
           "bgcolor": "#E5ECF6",
           "caxis": {
            "gridcolor": "white",
            "linecolor": "white",
            "ticks": ""
           }
          },
          "title": {
           "x": 0.05
          },
          "xaxis": {
           "automargin": true,
           "gridcolor": "white",
           "linecolor": "white",
           "ticks": "",
           "title": {
            "standoff": 15
           },
           "zerolinecolor": "white",
           "zerolinewidth": 2
          },
          "yaxis": {
           "automargin": true,
           "gridcolor": "white",
           "linecolor": "white",
           "ticks": "",
           "title": {
            "standoff": 15
           },
           "zerolinecolor": "white",
           "zerolinewidth": 2
          }
         }
        },
        "title": {
         "text": "Sales per month (product value)"
        },
        "width": 800
       }
      },
      "text/html": [
       "<div>\n",
       "        \n",
       "        \n",
       "            <div id=\"80bd8b89-2b07-464a-993e-c8414918c17c\" class=\"plotly-graph-div\" style=\"height:420px; width:800px;\"></div>\n",
       "            <script type=\"text/javascript\">\n",
       "                require([\"plotly\"], function(Plotly) {\n",
       "                    window.PLOTLYENV=window.PLOTLYENV || {};\n",
       "                    \n",
       "                if (document.getElementById(\"80bd8b89-2b07-464a-993e-c8414918c17c\")) {\n",
       "                    Plotly.newPlot(\n",
       "                        '80bd8b89-2b07-464a-993e-c8414918c17c',\n",
       "                        [{\"type\": \"bar\", \"x\": [\"2016-09-30T00:00:00\", \"2016-10-31T00:00:00\", \"2016-11-30T00:00:00\", \"2016-12-31T00:00:00\", \"2017-01-31T00:00:00\", \"2017-02-28T00:00:00\", \"2017-03-31T00:00:00\", \"2017-04-30T00:00:00\", \"2017-05-31T00:00:00\", \"2017-06-30T00:00:00\", \"2017-07-31T00:00:00\", \"2017-08-31T00:00:00\", \"2017-09-30T00:00:00\", \"2017-10-31T00:00:00\", \"2017-11-30T00:00:00\", \"2017-12-31T00:00:00\", \"2018-01-31T00:00:00\", \"2018-02-28T00:00:00\", \"2018-03-31T00:00:00\", \"2018-04-30T00:00:00\", \"2018-05-31T00:00:00\", \"2018-06-30T00:00:00\", \"2018-07-31T00:00:00\", \"2018-08-31T00:00:00\", \"2018-09-30T00:00:00\"], \"y\": [267.36, 49507.660000000156, 0.0, 10.9, 120312.87, 247303.01999999498, 374344.30000000156, 359927.23000000126, 506071.14000000927, 433038.60000000644, 498031.48000001087, 573971.6800000157, 624401.6900000154, 664219.4300000159, 1010271.3700000346, 743914.1700000209, 950030.3600000404, 844178.7100000294, 983213.4400000315, 996647.7500000299, 996517.680000031, 865124.3100000217, 895507.2200000212, 854686.3300000248, 145.0]}],\n",
       "                        {\"height\": 420, \"template\": {\"data\": {\"bar\": [{\"error_x\": {\"color\": \"#2a3f5f\"}, \"error_y\": {\"color\": \"#2a3f5f\"}, \"marker\": {\"line\": {\"color\": \"#E5ECF6\", \"width\": 0.5}}, \"type\": \"bar\"}], \"barpolar\": [{\"marker\": {\"line\": {\"color\": \"#E5ECF6\", \"width\": 0.5}}, \"type\": \"barpolar\"}], \"carpet\": [{\"aaxis\": {\"endlinecolor\": \"#2a3f5f\", \"gridcolor\": \"white\", \"linecolor\": \"white\", \"minorgridcolor\": \"white\", \"startlinecolor\": \"#2a3f5f\"}, \"baxis\": {\"endlinecolor\": \"#2a3f5f\", \"gridcolor\": \"white\", \"linecolor\": \"white\", \"minorgridcolor\": \"white\", \"startlinecolor\": \"#2a3f5f\"}, \"type\": \"carpet\"}], \"choropleth\": [{\"colorbar\": {\"outlinewidth\": 0, \"ticks\": \"\"}, \"type\": \"choropleth\"}], \"contour\": [{\"colorbar\": {\"outlinewidth\": 0, \"ticks\": \"\"}, \"colorscale\": [[0.0, \"#0d0887\"], [0.1111111111111111, \"#46039f\"], [0.2222222222222222, \"#7201a8\"], [0.3333333333333333, \"#9c179e\"], [0.4444444444444444, \"#bd3786\"], [0.5555555555555556, \"#d8576b\"], [0.6666666666666666, \"#ed7953\"], [0.7777777777777778, \"#fb9f3a\"], [0.8888888888888888, \"#fdca26\"], [1.0, \"#f0f921\"]], \"type\": \"contour\"}], \"contourcarpet\": [{\"colorbar\": {\"outlinewidth\": 0, \"ticks\": \"\"}, \"type\": \"contourcarpet\"}], \"heatmap\": [{\"colorbar\": {\"outlinewidth\": 0, \"ticks\": \"\"}, \"colorscale\": [[0.0, \"#0d0887\"], [0.1111111111111111, \"#46039f\"], [0.2222222222222222, \"#7201a8\"], [0.3333333333333333, \"#9c179e\"], [0.4444444444444444, \"#bd3786\"], [0.5555555555555556, \"#d8576b\"], [0.6666666666666666, \"#ed7953\"], [0.7777777777777778, \"#fb9f3a\"], [0.8888888888888888, \"#fdca26\"], [1.0, \"#f0f921\"]], \"type\": \"heatmap\"}], \"heatmapgl\": [{\"colorbar\": {\"outlinewidth\": 0, \"ticks\": \"\"}, \"colorscale\": [[0.0, \"#0d0887\"], [0.1111111111111111, \"#46039f\"], [0.2222222222222222, \"#7201a8\"], [0.3333333333333333, \"#9c179e\"], [0.4444444444444444, \"#bd3786\"], [0.5555555555555556, \"#d8576b\"], [0.6666666666666666, \"#ed7953\"], [0.7777777777777778, \"#fb9f3a\"], [0.8888888888888888, \"#fdca26\"], [1.0, \"#f0f921\"]], \"type\": \"heatmapgl\"}], \"histogram\": [{\"marker\": {\"colorbar\": {\"outlinewidth\": 0, \"ticks\": \"\"}}, \"type\": \"histogram\"}], \"histogram2d\": [{\"colorbar\": {\"outlinewidth\": 0, \"ticks\": \"\"}, \"colorscale\": [[0.0, \"#0d0887\"], [0.1111111111111111, \"#46039f\"], [0.2222222222222222, \"#7201a8\"], [0.3333333333333333, \"#9c179e\"], [0.4444444444444444, \"#bd3786\"], [0.5555555555555556, \"#d8576b\"], [0.6666666666666666, \"#ed7953\"], [0.7777777777777778, \"#fb9f3a\"], [0.8888888888888888, \"#fdca26\"], [1.0, \"#f0f921\"]], \"type\": \"histogram2d\"}], \"histogram2dcontour\": [{\"colorbar\": {\"outlinewidth\": 0, \"ticks\": \"\"}, \"colorscale\": [[0.0, \"#0d0887\"], [0.1111111111111111, \"#46039f\"], [0.2222222222222222, \"#7201a8\"], [0.3333333333333333, \"#9c179e\"], [0.4444444444444444, \"#bd3786\"], [0.5555555555555556, \"#d8576b\"], [0.6666666666666666, \"#ed7953\"], [0.7777777777777778, \"#fb9f3a\"], [0.8888888888888888, \"#fdca26\"], [1.0, \"#f0f921\"]], \"type\": \"histogram2dcontour\"}], \"mesh3d\": [{\"colorbar\": {\"outlinewidth\": 0, \"ticks\": \"\"}, \"type\": \"mesh3d\"}], \"parcoords\": [{\"line\": {\"colorbar\": {\"outlinewidth\": 0, \"ticks\": \"\"}}, \"type\": \"parcoords\"}], \"pie\": [{\"automargin\": true, \"type\": \"pie\"}], \"scatter\": [{\"marker\": {\"colorbar\": {\"outlinewidth\": 0, \"ticks\": \"\"}}, \"type\": \"scatter\"}], \"scatter3d\": [{\"line\": {\"colorbar\": {\"outlinewidth\": 0, \"ticks\": \"\"}}, \"marker\": {\"colorbar\": {\"outlinewidth\": 0, \"ticks\": \"\"}}, \"type\": \"scatter3d\"}], \"scattercarpet\": [{\"marker\": {\"colorbar\": {\"outlinewidth\": 0, \"ticks\": \"\"}}, \"type\": \"scattercarpet\"}], \"scattergeo\": [{\"marker\": {\"colorbar\": {\"outlinewidth\": 0, \"ticks\": \"\"}}, \"type\": \"scattergeo\"}], \"scattergl\": [{\"marker\": {\"colorbar\": {\"outlinewidth\": 0, \"ticks\": \"\"}}, \"type\": \"scattergl\"}], \"scattermapbox\": [{\"marker\": {\"colorbar\": {\"outlinewidth\": 0, \"ticks\": \"\"}}, \"type\": \"scattermapbox\"}], \"scatterpolar\": [{\"marker\": {\"colorbar\": {\"outlinewidth\": 0, \"ticks\": \"\"}}, \"type\": \"scatterpolar\"}], \"scatterpolargl\": [{\"marker\": {\"colorbar\": {\"outlinewidth\": 0, \"ticks\": \"\"}}, \"type\": \"scatterpolargl\"}], \"scatterternary\": [{\"marker\": {\"colorbar\": {\"outlinewidth\": 0, \"ticks\": \"\"}}, \"type\": \"scatterternary\"}], \"surface\": [{\"colorbar\": {\"outlinewidth\": 0, \"ticks\": \"\"}, \"colorscale\": [[0.0, \"#0d0887\"], [0.1111111111111111, \"#46039f\"], [0.2222222222222222, \"#7201a8\"], [0.3333333333333333, \"#9c179e\"], [0.4444444444444444, \"#bd3786\"], [0.5555555555555556, \"#d8576b\"], [0.6666666666666666, \"#ed7953\"], [0.7777777777777778, \"#fb9f3a\"], [0.8888888888888888, \"#fdca26\"], [1.0, \"#f0f921\"]], \"type\": \"surface\"}], \"table\": [{\"cells\": {\"fill\": {\"color\": \"#EBF0F8\"}, \"line\": {\"color\": \"white\"}}, \"header\": {\"fill\": {\"color\": \"#C8D4E3\"}, \"line\": {\"color\": \"white\"}}, \"type\": \"table\"}]}, \"layout\": {\"annotationdefaults\": {\"arrowcolor\": \"#2a3f5f\", \"arrowhead\": 0, \"arrowwidth\": 1}, \"coloraxis\": {\"colorbar\": {\"outlinewidth\": 0, \"ticks\": \"\"}}, \"colorscale\": {\"diverging\": [[0, \"#8e0152\"], [0.1, \"#c51b7d\"], [0.2, \"#de77ae\"], [0.3, \"#f1b6da\"], [0.4, \"#fde0ef\"], [0.5, \"#f7f7f7\"], [0.6, \"#e6f5d0\"], [0.7, \"#b8e186\"], [0.8, \"#7fbc41\"], [0.9, \"#4d9221\"], [1, \"#276419\"]], \"sequential\": [[0.0, \"#0d0887\"], [0.1111111111111111, \"#46039f\"], [0.2222222222222222, \"#7201a8\"], [0.3333333333333333, \"#9c179e\"], [0.4444444444444444, \"#bd3786\"], [0.5555555555555556, \"#d8576b\"], [0.6666666666666666, \"#ed7953\"], [0.7777777777777778, \"#fb9f3a\"], [0.8888888888888888, \"#fdca26\"], [1.0, \"#f0f921\"]], \"sequentialminus\": [[0.0, \"#0d0887\"], [0.1111111111111111, \"#46039f\"], [0.2222222222222222, \"#7201a8\"], [0.3333333333333333, \"#9c179e\"], [0.4444444444444444, \"#bd3786\"], [0.5555555555555556, \"#d8576b\"], [0.6666666666666666, \"#ed7953\"], [0.7777777777777778, \"#fb9f3a\"], [0.8888888888888888, \"#fdca26\"], [1.0, \"#f0f921\"]]}, \"colorway\": [\"#636efa\", \"#EF553B\", \"#00cc96\", \"#ab63fa\", \"#FFA15A\", \"#19d3f3\", \"#FF6692\", \"#B6E880\", \"#FF97FF\", \"#FECB52\"], \"font\": {\"color\": \"#2a3f5f\"}, \"geo\": {\"bgcolor\": \"white\", \"lakecolor\": \"white\", \"landcolor\": \"#E5ECF6\", \"showlakes\": true, \"showland\": true, \"subunitcolor\": \"white\"}, \"hoverlabel\": {\"align\": \"left\"}, \"hovermode\": \"closest\", \"mapbox\": {\"style\": \"light\"}, \"paper_bgcolor\": \"white\", \"plot_bgcolor\": \"#E5ECF6\", \"polar\": {\"angularaxis\": {\"gridcolor\": \"white\", \"linecolor\": \"white\", \"ticks\": \"\"}, \"bgcolor\": \"#E5ECF6\", \"radialaxis\": {\"gridcolor\": \"white\", \"linecolor\": \"white\", \"ticks\": \"\"}}, \"scene\": {\"xaxis\": {\"backgroundcolor\": \"#E5ECF6\", \"gridcolor\": \"white\", \"gridwidth\": 2, \"linecolor\": \"white\", \"showbackground\": true, \"ticks\": \"\", \"zerolinecolor\": \"white\"}, \"yaxis\": {\"backgroundcolor\": \"#E5ECF6\", \"gridcolor\": \"white\", \"gridwidth\": 2, \"linecolor\": \"white\", \"showbackground\": true, \"ticks\": \"\", \"zerolinecolor\": \"white\"}, \"zaxis\": {\"backgroundcolor\": \"#E5ECF6\", \"gridcolor\": \"white\", \"gridwidth\": 2, \"linecolor\": \"white\", \"showbackground\": true, \"ticks\": \"\", \"zerolinecolor\": \"white\"}}, \"shapedefaults\": {\"line\": {\"color\": \"#2a3f5f\"}}, \"ternary\": {\"aaxis\": {\"gridcolor\": \"white\", \"linecolor\": \"white\", \"ticks\": \"\"}, \"baxis\": {\"gridcolor\": \"white\", \"linecolor\": \"white\", \"ticks\": \"\"}, \"bgcolor\": \"#E5ECF6\", \"caxis\": {\"gridcolor\": \"white\", \"linecolor\": \"white\", \"ticks\": \"\"}}, \"title\": {\"x\": 0.05}, \"xaxis\": {\"automargin\": true, \"gridcolor\": \"white\", \"linecolor\": \"white\", \"ticks\": \"\", \"title\": {\"standoff\": 15}, \"zerolinecolor\": \"white\", \"zerolinewidth\": 2}, \"yaxis\": {\"automargin\": true, \"gridcolor\": \"white\", \"linecolor\": \"white\", \"ticks\": \"\", \"title\": {\"standoff\": 15}, \"zerolinecolor\": \"white\", \"zerolinewidth\": 2}}}, \"title\": {\"text\": \"Sales per month (product value)\"}, \"width\": 800},\n",
       "                        {\"responsive\": true}\n",
       "                    ).then(function(){\n",
       "                            \n",
       "var gd = document.getElementById('80bd8b89-2b07-464a-993e-c8414918c17c');\n",
       "var x = new MutationObserver(function (mutations, observer) {{\n",
       "        var display = window.getComputedStyle(gd).display;\n",
       "        if (!display || display === 'none') {{\n",
       "            console.log([gd, 'removed!']);\n",
       "            Plotly.purge(gd);\n",
       "            observer.disconnect();\n",
       "        }}\n",
       "}});\n",
       "\n",
       "// Listen for the removal of the full notebook cells\n",
       "var notebookContainer = gd.closest('#notebook-container');\n",
       "if (notebookContainer) {{\n",
       "    x.observe(notebookContainer, {childList: true});\n",
       "}}\n",
       "\n",
       "// Listen for the clearing of the current output cell\n",
       "var outputEl = gd.closest('.output');\n",
       "if (outputEl) {{\n",
       "    x.observe(outputEl, {childList: true});\n",
       "}}\n",
       "\n",
       "                        })\n",
       "                };\n",
       "                });\n",
       "            </script>\n",
       "        </div>"
      ]
     },
     "metadata": {},
     "output_type": "display_data"
    }
   ],
   "source": [
    "# Product value by date\n",
    "orders['datetime'] =  pd.to_datetime(orders['order_purchase_timestamp'])\n",
    "value_date = orders.groupby([orders['datetime'].dt.date])['price'].sum()\n",
    "freight_date = orders.groupby([orders['datetime'].dt.date])['freight_value'].sum()\n",
    "# Plot timeseries\n",
    "trace0 = go.Scatter(x=value_date.index.astype(str), y=value_date.values, opacity = 0.8, name='Product value')\n",
    "trace1 = go.Scatter(x=freight_date.index.astype(str), y=freight_date.values, opacity = 0.8, name='Freight value')\n",
    "layout = dict(\n",
    "    title= \"Product and freight value by date\",\n",
    "    xaxis=dict(\n",
    "        rangeselector=dict(\n",
    "            buttons=list([\n",
    "                dict(count=1, label='1m', step='month', stepmode='backward'),\n",
    "                dict(count=6, label='6m', step='month', stepmode='backward'),\n",
    "                dict(count=12, label='12m', step='month', stepmode='backward'),\n",
    "                dict(step='all')\n",
    "            ])\n",
    "        ),\n",
    "        rangeslider=dict(visible = True),\n",
    "        type='date'\n",
    "    )\n",
    ")\n",
    "fig = dict(data= [trace0, trace1], layout=layout)\n",
    "iplot(fig)\n",
    "\n",
    "# Sales for month\n",
    "value_month = orders[['datetime', 'price']].copy()\n",
    "value_month.set_index('datetime', inplace=True)\n",
    "value_month = value_month.groupby(pd.Grouper(freq=\"M\"))['price'].sum()\n",
    "trace = go.Bar(x= value_month.index, y= value_month.values)\n",
    "layout = go.Layout(title='Sales per month (product value)', height=420, width=800)\n",
    "fig = go.Figure(data=[trace], layout=layout)\n",
    "iplot(fig)"
   ]
  },
  {
   "cell_type": "markdown",
   "metadata": {
    "_uuid": "2edf20bfb21472fd3af23d95a053ecd94dc59892"
   },
   "source": [
    "Some inferences:\n",
    "* There is a huge spike in Nov 24 due to Black Friday\n",
    "* Sales are weak after Dec 20 (end-year holidays)\n",
    "* In 2016, there are some sales in october, but almost any in the following months\n",
    "* There is a spike in products value in Jul 18, but not in freigth"
   ]
  },
  {
   "cell_type": "markdown",
   "metadata": {
    "_uuid": "4afe8276230d3e8128abe05db661302b88787788"
   },
   "source": [
    "<h3>Product category</h3>\n",
    "\n",
    "There are 71 different categories with names in portuguese. The english names are avaliable in the translation csv file."
   ]
  },
  {
   "cell_type": "code",
   "execution_count": 18,
   "metadata": {},
   "outputs": [
    {
     "data": {
      "text/html": [
       "<div>\n",
       "<style scoped>\n",
       "    .dataframe tbody tr th:only-of-type {\n",
       "        vertical-align: middle;\n",
       "    }\n",
       "\n",
       "    .dataframe tbody tr th {\n",
       "        vertical-align: top;\n",
       "    }\n",
       "\n",
       "    .dataframe thead th {\n",
       "        text-align: right;\n",
       "    }\n",
       "</style>\n",
       "<table border=\"1\" class=\"dataframe\">\n",
       "  <thead>\n",
       "    <tr style=\"text-align: right;\">\n",
       "      <th></th>\n",
       "      <th>order_id</th>\n",
       "      <th>customer_id</th>\n",
       "      <th>order_status</th>\n",
       "      <th>order_purchase_timestamp</th>\n",
       "      <th>order_approved_at</th>\n",
       "      <th>order_delivered_carrier_date</th>\n",
       "      <th>order_delivered_customer_date</th>\n",
       "      <th>order_estimated_delivery_date</th>\n",
       "      <th>order_item_id</th>\n",
       "      <th>product_id</th>\n",
       "      <th>...</th>\n",
       "      <th>freight_value</th>\n",
       "      <th>product_category_name</th>\n",
       "      <th>product_name_lenght</th>\n",
       "      <th>product_description_lenght</th>\n",
       "      <th>product_photos_qty</th>\n",
       "      <th>product_weight_g</th>\n",
       "      <th>product_length_cm</th>\n",
       "      <th>product_height_cm</th>\n",
       "      <th>product_width_cm</th>\n",
       "      <th>datetime</th>\n",
       "    </tr>\n",
       "  </thead>\n",
       "  <tbody>\n",
       "    <tr>\n",
       "      <th>0</th>\n",
       "      <td>e481f51cbdc54678b7cc49136f2d6af7</td>\n",
       "      <td>9ef432eb6251297304e76186b10a928d</td>\n",
       "      <td>delivered</td>\n",
       "      <td>2017-10-02 10:56:33</td>\n",
       "      <td>2017-10-02 11:07:15</td>\n",
       "      <td>2017-10-04 19:55:00</td>\n",
       "      <td>2017-10-10 21:25:13</td>\n",
       "      <td>2017-10-18 00:00:00</td>\n",
       "      <td>1</td>\n",
       "      <td>87285b34884572647811a353c7ac498a</td>\n",
       "      <td>...</td>\n",
       "      <td>8.72</td>\n",
       "      <td>utilidades_domesticas</td>\n",
       "      <td>40.0</td>\n",
       "      <td>268.0</td>\n",
       "      <td>4.0</td>\n",
       "      <td>500.0</td>\n",
       "      <td>19.0</td>\n",
       "      <td>8.0</td>\n",
       "      <td>13.0</td>\n",
       "      <td>2017-10-02 10:56:33</td>\n",
       "    </tr>\n",
       "    <tr>\n",
       "      <th>1</th>\n",
       "      <td>128e10d95713541c87cd1a2e48201934</td>\n",
       "      <td>a20e8105f23924cd00833fd87daa0831</td>\n",
       "      <td>delivered</td>\n",
       "      <td>2017-08-15 18:29:31</td>\n",
       "      <td>2017-08-15 20:05:16</td>\n",
       "      <td>2017-08-17 15:28:33</td>\n",
       "      <td>2017-08-18 14:44:43</td>\n",
       "      <td>2017-08-28 00:00:00</td>\n",
       "      <td>1</td>\n",
       "      <td>87285b34884572647811a353c7ac498a</td>\n",
       "      <td>...</td>\n",
       "      <td>7.78</td>\n",
       "      <td>utilidades_domesticas</td>\n",
       "      <td>40.0</td>\n",
       "      <td>268.0</td>\n",
       "      <td>4.0</td>\n",
       "      <td>500.0</td>\n",
       "      <td>19.0</td>\n",
       "      <td>8.0</td>\n",
       "      <td>13.0</td>\n",
       "      <td>2017-08-15 18:29:31</td>\n",
       "    </tr>\n",
       "    <tr>\n",
       "      <th>2</th>\n",
       "      <td>0e7e841ddf8f8f2de2bad69267ecfbcf</td>\n",
       "      <td>26c7ac168e1433912a51b924fbd34d34</td>\n",
       "      <td>delivered</td>\n",
       "      <td>2017-08-02 18:24:47</td>\n",
       "      <td>2017-08-02 18:43:15</td>\n",
       "      <td>2017-08-04 17:35:43</td>\n",
       "      <td>2017-08-07 18:30:01</td>\n",
       "      <td>2017-08-15 00:00:00</td>\n",
       "      <td>1</td>\n",
       "      <td>87285b34884572647811a353c7ac498a</td>\n",
       "      <td>...</td>\n",
       "      <td>7.78</td>\n",
       "      <td>utilidades_domesticas</td>\n",
       "      <td>40.0</td>\n",
       "      <td>268.0</td>\n",
       "      <td>4.0</td>\n",
       "      <td>500.0</td>\n",
       "      <td>19.0</td>\n",
       "      <td>8.0</td>\n",
       "      <td>13.0</td>\n",
       "      <td>2017-08-02 18:24:47</td>\n",
       "    </tr>\n",
       "    <tr>\n",
       "      <th>3</th>\n",
       "      <td>bfc39df4f36c3693ff3b63fcbea9e90a</td>\n",
       "      <td>53904ddbea91e1e92b2b3f1d09a7af86</td>\n",
       "      <td>delivered</td>\n",
       "      <td>2017-10-23 23:26:46</td>\n",
       "      <td>2017-10-25 02:14:11</td>\n",
       "      <td>2017-10-27 16:48:46</td>\n",
       "      <td>2017-11-07 18:04:59</td>\n",
       "      <td>2017-11-13 00:00:00</td>\n",
       "      <td>1</td>\n",
       "      <td>87285b34884572647811a353c7ac498a</td>\n",
       "      <td>...</td>\n",
       "      <td>14.10</td>\n",
       "      <td>utilidades_domesticas</td>\n",
       "      <td>40.0</td>\n",
       "      <td>268.0</td>\n",
       "      <td>4.0</td>\n",
       "      <td>500.0</td>\n",
       "      <td>19.0</td>\n",
       "      <td>8.0</td>\n",
       "      <td>13.0</td>\n",
       "      <td>2017-10-23 23:26:46</td>\n",
       "    </tr>\n",
       "    <tr>\n",
       "      <th>4</th>\n",
       "      <td>53cdb2fc8bc7dce0b6741e2150273451</td>\n",
       "      <td>b0830fb4747a6c6d20dea0b8c802d7ef</td>\n",
       "      <td>delivered</td>\n",
       "      <td>2018-07-24 20:41:37</td>\n",
       "      <td>2018-07-26 03:24:27</td>\n",
       "      <td>2018-07-26 14:31:00</td>\n",
       "      <td>2018-08-07 15:27:45</td>\n",
       "      <td>2018-08-13 00:00:00</td>\n",
       "      <td>1</td>\n",
       "      <td>595fac2a385ac33a80bd5114aec74eb8</td>\n",
       "      <td>...</td>\n",
       "      <td>22.76</td>\n",
       "      <td>perfumaria</td>\n",
       "      <td>29.0</td>\n",
       "      <td>178.0</td>\n",
       "      <td>1.0</td>\n",
       "      <td>400.0</td>\n",
       "      <td>19.0</td>\n",
       "      <td>13.0</td>\n",
       "      <td>19.0</td>\n",
       "      <td>2018-07-24 20:41:37</td>\n",
       "    </tr>\n",
       "  </tbody>\n",
       "</table>\n",
       "<p>5 rows × 23 columns</p>\n",
       "</div>"
      ],
      "text/plain": [
       "                           order_id                       customer_id  \\\n",
       "0  e481f51cbdc54678b7cc49136f2d6af7  9ef432eb6251297304e76186b10a928d   \n",
       "1  128e10d95713541c87cd1a2e48201934  a20e8105f23924cd00833fd87daa0831   \n",
       "2  0e7e841ddf8f8f2de2bad69267ecfbcf  26c7ac168e1433912a51b924fbd34d34   \n",
       "3  bfc39df4f36c3693ff3b63fcbea9e90a  53904ddbea91e1e92b2b3f1d09a7af86   \n",
       "4  53cdb2fc8bc7dce0b6741e2150273451  b0830fb4747a6c6d20dea0b8c802d7ef   \n",
       "\n",
       "  order_status order_purchase_timestamp    order_approved_at  \\\n",
       "0    delivered      2017-10-02 10:56:33  2017-10-02 11:07:15   \n",
       "1    delivered      2017-08-15 18:29:31  2017-08-15 20:05:16   \n",
       "2    delivered      2017-08-02 18:24:47  2017-08-02 18:43:15   \n",
       "3    delivered      2017-10-23 23:26:46  2017-10-25 02:14:11   \n",
       "4    delivered      2018-07-24 20:41:37  2018-07-26 03:24:27   \n",
       "\n",
       "  order_delivered_carrier_date order_delivered_customer_date  \\\n",
       "0          2017-10-04 19:55:00           2017-10-10 21:25:13   \n",
       "1          2017-08-17 15:28:33           2017-08-18 14:44:43   \n",
       "2          2017-08-04 17:35:43           2017-08-07 18:30:01   \n",
       "3          2017-10-27 16:48:46           2017-11-07 18:04:59   \n",
       "4          2018-07-26 14:31:00           2018-08-07 15:27:45   \n",
       "\n",
       "  order_estimated_delivery_date  order_item_id  \\\n",
       "0           2017-10-18 00:00:00              1   \n",
       "1           2017-08-28 00:00:00              1   \n",
       "2           2017-08-15 00:00:00              1   \n",
       "3           2017-11-13 00:00:00              1   \n",
       "4           2018-08-13 00:00:00              1   \n",
       "\n",
       "                         product_id         ...         freight_value  \\\n",
       "0  87285b34884572647811a353c7ac498a         ...                  8.72   \n",
       "1  87285b34884572647811a353c7ac498a         ...                  7.78   \n",
       "2  87285b34884572647811a353c7ac498a         ...                  7.78   \n",
       "3  87285b34884572647811a353c7ac498a         ...                 14.10   \n",
       "4  595fac2a385ac33a80bd5114aec74eb8         ...                 22.76   \n",
       "\n",
       "   product_category_name  product_name_lenght  product_description_lenght  \\\n",
       "0  utilidades_domesticas                 40.0                       268.0   \n",
       "1  utilidades_domesticas                 40.0                       268.0   \n",
       "2  utilidades_domesticas                 40.0                       268.0   \n",
       "3  utilidades_domesticas                 40.0                       268.0   \n",
       "4             perfumaria                 29.0                       178.0   \n",
       "\n",
       "  product_photos_qty  product_weight_g  product_length_cm  product_height_cm  \\\n",
       "0                4.0             500.0               19.0                8.0   \n",
       "1                4.0             500.0               19.0                8.0   \n",
       "2                4.0             500.0               19.0                8.0   \n",
       "3                4.0             500.0               19.0                8.0   \n",
       "4                1.0             400.0               19.0               13.0   \n",
       "\n",
       "   product_width_cm            datetime  \n",
       "0              13.0 2017-10-02 10:56:33  \n",
       "1              13.0 2017-08-15 18:29:31  \n",
       "2              13.0 2017-08-02 18:24:47  \n",
       "3              13.0 2017-10-23 23:26:46  \n",
       "4              19.0 2018-07-24 20:41:37  \n",
       "\n",
       "[5 rows x 23 columns]"
      ]
     },
     "execution_count": 18,
     "metadata": {},
     "output_type": "execute_result"
    }
   ],
   "source": [
    "orders.head()"
   ]
  },
  {
   "cell_type": "code",
   "execution_count": 19,
   "metadata": {
    "_kg_hide-input": true,
    "_uuid": "c56bc10c15368d1c0dfdec33a40b20fedcedd0cb"
   },
   "outputs": [
    {
     "name": "stderr",
     "output_type": "stream",
     "text": [
      "/Users/juliafreitas/anaconda3/envs/denox_python36/lib/python3.6/site-packages/plotly/tools.py:465: DeprecationWarning:\n",
      "\n",
      "plotly.tools.make_subplots is deprecated, please use plotly.subplots.make_subplots instead\n",
      "\n"
     ]
    },
    {
     "data": {
      "application/vnd.plotly.v1+json": {
       "config": {
        "linkText": "Export to plot.ly",
        "plotlyServerURL": "https://plot.ly",
        "showLink": false
       },
       "data": [
        {
         "marker": {
          "color": "rgb(49,130,189)"
         },
         "name": "Number of orders",
         "orientation": "h",
         "type": "bar",
         "x": [
          1092,
          1137,
          1691,
          1947,
          2031,
          2517,
          2767,
          3065,
          3419,
          3796,
          4117,
          4235,
          4347,
          4545,
          5991,
          6964,
          7827,
          8334,
          8641,
          9670,
          11115,
          11799
         ],
         "xaxis": "x",
         "y": [
          "luggage_accessories",
          "consoles_games",
          "office_furniture",
          "pet_shop",
          "fashion_bags_accessories",
          "stationery",
          "electronics",
          "baby",
          "perfumery",
          "cool_stuff",
          "toys",
          "auto",
          "garden_tools",
          "telephony",
          "watches_gifts",
          "housewares",
          "computers_accessories",
          "furniture_decor",
          "sports_leisure",
          "health_beauty",
          "bed_bath_table",
          null
         ],
         "yaxis": "y"
        },
        {
         "marker": {
          "color": "rgb(204,204,204)"
         },
         "name": "Total value",
         "orientation": "h",
         "type": "bar",
         "x": [
          140429.9799999989,
          157465.21999999907,
          273960.6999999977,
          214315.40999999703,
          152823.53999999832,
          230943.2299999962,
          160246.73999999915,
          411764.8900000022,
          399124.870000005,
          635290.8500000058,
          483946.60000000725,
          592720.1100000079,
          485256.4599999966,
          323667.5299999919,
          1205005.6800000046,
          632248.6600000256,
          911954.3200000239,
          729762.4900000313,
          988048.9700000394,
          1258681.3399999754,
          1036988.6800000692,
          null
         ],
         "xaxis": "x2",
         "y": [
          "luggage_accessories",
          "consoles_games",
          "office_furniture",
          "pet_shop",
          "fashion_bags_accessories",
          "stationery",
          "electronics",
          "baby",
          "perfumery",
          "cool_stuff",
          "toys",
          "auto",
          "garden_tools",
          "telephony",
          "watches_gifts",
          "housewares",
          "computers_accessories",
          "furniture_decor",
          "sports_leisure",
          "health_beauty",
          "bed_bath_table",
          null
         ],
         "yaxis": "y2"
        }
       ],
       "layout": {
        "height": 1000,
        "legend": {
         "orientation": "h"
        },
        "margin": {
         "b": 100,
         "l": 150,
         "r": 10,
         "t": 100
        },
        "template": {
         "data": {
          "bar": [
           {
            "error_x": {
             "color": "#2a3f5f"
            },
            "error_y": {
             "color": "#2a3f5f"
            },
            "marker": {
             "line": {
              "color": "#E5ECF6",
              "width": 0.5
             }
            },
            "type": "bar"
           }
          ],
          "barpolar": [
           {
            "marker": {
             "line": {
              "color": "#E5ECF6",
              "width": 0.5
             }
            },
            "type": "barpolar"
           }
          ],
          "carpet": [
           {
            "aaxis": {
             "endlinecolor": "#2a3f5f",
             "gridcolor": "white",
             "linecolor": "white",
             "minorgridcolor": "white",
             "startlinecolor": "#2a3f5f"
            },
            "baxis": {
             "endlinecolor": "#2a3f5f",
             "gridcolor": "white",
             "linecolor": "white",
             "minorgridcolor": "white",
             "startlinecolor": "#2a3f5f"
            },
            "type": "carpet"
           }
          ],
          "choropleth": [
           {
            "colorbar": {
             "outlinewidth": 0,
             "ticks": ""
            },
            "type": "choropleth"
           }
          ],
          "contour": [
           {
            "colorbar": {
             "outlinewidth": 0,
             "ticks": ""
            },
            "colorscale": [
             [
              0,
              "#0d0887"
             ],
             [
              0.1111111111111111,
              "#46039f"
             ],
             [
              0.2222222222222222,
              "#7201a8"
             ],
             [
              0.3333333333333333,
              "#9c179e"
             ],
             [
              0.4444444444444444,
              "#bd3786"
             ],
             [
              0.5555555555555556,
              "#d8576b"
             ],
             [
              0.6666666666666666,
              "#ed7953"
             ],
             [
              0.7777777777777778,
              "#fb9f3a"
             ],
             [
              0.8888888888888888,
              "#fdca26"
             ],
             [
              1,
              "#f0f921"
             ]
            ],
            "type": "contour"
           }
          ],
          "contourcarpet": [
           {
            "colorbar": {
             "outlinewidth": 0,
             "ticks": ""
            },
            "type": "contourcarpet"
           }
          ],
          "heatmap": [
           {
            "colorbar": {
             "outlinewidth": 0,
             "ticks": ""
            },
            "colorscale": [
             [
              0,
              "#0d0887"
             ],
             [
              0.1111111111111111,
              "#46039f"
             ],
             [
              0.2222222222222222,
              "#7201a8"
             ],
             [
              0.3333333333333333,
              "#9c179e"
             ],
             [
              0.4444444444444444,
              "#bd3786"
             ],
             [
              0.5555555555555556,
              "#d8576b"
             ],
             [
              0.6666666666666666,
              "#ed7953"
             ],
             [
              0.7777777777777778,
              "#fb9f3a"
             ],
             [
              0.8888888888888888,
              "#fdca26"
             ],
             [
              1,
              "#f0f921"
             ]
            ],
            "type": "heatmap"
           }
          ],
          "heatmapgl": [
           {
            "colorbar": {
             "outlinewidth": 0,
             "ticks": ""
            },
            "colorscale": [
             [
              0,
              "#0d0887"
             ],
             [
              0.1111111111111111,
              "#46039f"
             ],
             [
              0.2222222222222222,
              "#7201a8"
             ],
             [
              0.3333333333333333,
              "#9c179e"
             ],
             [
              0.4444444444444444,
              "#bd3786"
             ],
             [
              0.5555555555555556,
              "#d8576b"
             ],
             [
              0.6666666666666666,
              "#ed7953"
             ],
             [
              0.7777777777777778,
              "#fb9f3a"
             ],
             [
              0.8888888888888888,
              "#fdca26"
             ],
             [
              1,
              "#f0f921"
             ]
            ],
            "type": "heatmapgl"
           }
          ],
          "histogram": [
           {
            "marker": {
             "colorbar": {
              "outlinewidth": 0,
              "ticks": ""
             }
            },
            "type": "histogram"
           }
          ],
          "histogram2d": [
           {
            "colorbar": {
             "outlinewidth": 0,
             "ticks": ""
            },
            "colorscale": [
             [
              0,
              "#0d0887"
             ],
             [
              0.1111111111111111,
              "#46039f"
             ],
             [
              0.2222222222222222,
              "#7201a8"
             ],
             [
              0.3333333333333333,
              "#9c179e"
             ],
             [
              0.4444444444444444,
              "#bd3786"
             ],
             [
              0.5555555555555556,
              "#d8576b"
             ],
             [
              0.6666666666666666,
              "#ed7953"
             ],
             [
              0.7777777777777778,
              "#fb9f3a"
             ],
             [
              0.8888888888888888,
              "#fdca26"
             ],
             [
              1,
              "#f0f921"
             ]
            ],
            "type": "histogram2d"
           }
          ],
          "histogram2dcontour": [
           {
            "colorbar": {
             "outlinewidth": 0,
             "ticks": ""
            },
            "colorscale": [
             [
              0,
              "#0d0887"
             ],
             [
              0.1111111111111111,
              "#46039f"
             ],
             [
              0.2222222222222222,
              "#7201a8"
             ],
             [
              0.3333333333333333,
              "#9c179e"
             ],
             [
              0.4444444444444444,
              "#bd3786"
             ],
             [
              0.5555555555555556,
              "#d8576b"
             ],
             [
              0.6666666666666666,
              "#ed7953"
             ],
             [
              0.7777777777777778,
              "#fb9f3a"
             ],
             [
              0.8888888888888888,
              "#fdca26"
             ],
             [
              1,
              "#f0f921"
             ]
            ],
            "type": "histogram2dcontour"
           }
          ],
          "mesh3d": [
           {
            "colorbar": {
             "outlinewidth": 0,
             "ticks": ""
            },
            "type": "mesh3d"
           }
          ],
          "parcoords": [
           {
            "line": {
             "colorbar": {
              "outlinewidth": 0,
              "ticks": ""
             }
            },
            "type": "parcoords"
           }
          ],
          "pie": [
           {
            "automargin": true,
            "type": "pie"
           }
          ],
          "scatter": [
           {
            "marker": {
             "colorbar": {
              "outlinewidth": 0,
              "ticks": ""
             }
            },
            "type": "scatter"
           }
          ],
          "scatter3d": [
           {
            "line": {
             "colorbar": {
              "outlinewidth": 0,
              "ticks": ""
             }
            },
            "marker": {
             "colorbar": {
              "outlinewidth": 0,
              "ticks": ""
             }
            },
            "type": "scatter3d"
           }
          ],
          "scattercarpet": [
           {
            "marker": {
             "colorbar": {
              "outlinewidth": 0,
              "ticks": ""
             }
            },
            "type": "scattercarpet"
           }
          ],
          "scattergeo": [
           {
            "marker": {
             "colorbar": {
              "outlinewidth": 0,
              "ticks": ""
             }
            },
            "type": "scattergeo"
           }
          ],
          "scattergl": [
           {
            "marker": {
             "colorbar": {
              "outlinewidth": 0,
              "ticks": ""
             }
            },
            "type": "scattergl"
           }
          ],
          "scattermapbox": [
           {
            "marker": {
             "colorbar": {
              "outlinewidth": 0,
              "ticks": ""
             }
            },
            "type": "scattermapbox"
           }
          ],
          "scatterpolar": [
           {
            "marker": {
             "colorbar": {
              "outlinewidth": 0,
              "ticks": ""
             }
            },
            "type": "scatterpolar"
           }
          ],
          "scatterpolargl": [
           {
            "marker": {
             "colorbar": {
              "outlinewidth": 0,
              "ticks": ""
             }
            },
            "type": "scatterpolargl"
           }
          ],
          "scatterternary": [
           {
            "marker": {
             "colorbar": {
              "outlinewidth": 0,
              "ticks": ""
             }
            },
            "type": "scatterternary"
           }
          ],
          "surface": [
           {
            "colorbar": {
             "outlinewidth": 0,
             "ticks": ""
            },
            "colorscale": [
             [
              0,
              "#0d0887"
             ],
             [
              0.1111111111111111,
              "#46039f"
             ],
             [
              0.2222222222222222,
              "#7201a8"
             ],
             [
              0.3333333333333333,
              "#9c179e"
             ],
             [
              0.4444444444444444,
              "#bd3786"
             ],
             [
              0.5555555555555556,
              "#d8576b"
             ],
             [
              0.6666666666666666,
              "#ed7953"
             ],
             [
              0.7777777777777778,
              "#fb9f3a"
             ],
             [
              0.8888888888888888,
              "#fdca26"
             ],
             [
              1,
              "#f0f921"
             ]
            ],
            "type": "surface"
           }
          ],
          "table": [
           {
            "cells": {
             "fill": {
              "color": "#EBF0F8"
             },
             "line": {
              "color": "white"
             }
            },
            "header": {
             "fill": {
              "color": "#C8D4E3"
             },
             "line": {
              "color": "white"
             }
            },
            "type": "table"
           }
          ]
         },
         "layout": {
          "annotationdefaults": {
           "arrowcolor": "#2a3f5f",
           "arrowhead": 0,
           "arrowwidth": 1
          },
          "coloraxis": {
           "colorbar": {
            "outlinewidth": 0,
            "ticks": ""
           }
          },
          "colorscale": {
           "diverging": [
            [
             0,
             "#8e0152"
            ],
            [
             0.1,
             "#c51b7d"
            ],
            [
             0.2,
             "#de77ae"
            ],
            [
             0.3,
             "#f1b6da"
            ],
            [
             0.4,
             "#fde0ef"
            ],
            [
             0.5,
             "#f7f7f7"
            ],
            [
             0.6,
             "#e6f5d0"
            ],
            [
             0.7,
             "#b8e186"
            ],
            [
             0.8,
             "#7fbc41"
            ],
            [
             0.9,
             "#4d9221"
            ],
            [
             1,
             "#276419"
            ]
           ],
           "sequential": [
            [
             0,
             "#0d0887"
            ],
            [
             0.1111111111111111,
             "#46039f"
            ],
            [
             0.2222222222222222,
             "#7201a8"
            ],
            [
             0.3333333333333333,
             "#9c179e"
            ],
            [
             0.4444444444444444,
             "#bd3786"
            ],
            [
             0.5555555555555556,
             "#d8576b"
            ],
            [
             0.6666666666666666,
             "#ed7953"
            ],
            [
             0.7777777777777778,
             "#fb9f3a"
            ],
            [
             0.8888888888888888,
             "#fdca26"
            ],
            [
             1,
             "#f0f921"
            ]
           ],
           "sequentialminus": [
            [
             0,
             "#0d0887"
            ],
            [
             0.1111111111111111,
             "#46039f"
            ],
            [
             0.2222222222222222,
             "#7201a8"
            ],
            [
             0.3333333333333333,
             "#9c179e"
            ],
            [
             0.4444444444444444,
             "#bd3786"
            ],
            [
             0.5555555555555556,
             "#d8576b"
            ],
            [
             0.6666666666666666,
             "#ed7953"
            ],
            [
             0.7777777777777778,
             "#fb9f3a"
            ],
            [
             0.8888888888888888,
             "#fdca26"
            ],
            [
             1,
             "#f0f921"
            ]
           ]
          },
          "colorway": [
           "#636efa",
           "#EF553B",
           "#00cc96",
           "#ab63fa",
           "#FFA15A",
           "#19d3f3",
           "#FF6692",
           "#B6E880",
           "#FF97FF",
           "#FECB52"
          ],
          "font": {
           "color": "#2a3f5f"
          },
          "geo": {
           "bgcolor": "white",
           "lakecolor": "white",
           "landcolor": "#E5ECF6",
           "showlakes": true,
           "showland": true,
           "subunitcolor": "white"
          },
          "hoverlabel": {
           "align": "left"
          },
          "hovermode": "closest",
          "mapbox": {
           "style": "light"
          },
          "paper_bgcolor": "white",
          "plot_bgcolor": "#E5ECF6",
          "polar": {
           "angularaxis": {
            "gridcolor": "white",
            "linecolor": "white",
            "ticks": ""
           },
           "bgcolor": "#E5ECF6",
           "radialaxis": {
            "gridcolor": "white",
            "linecolor": "white",
            "ticks": ""
           }
          },
          "scene": {
           "xaxis": {
            "backgroundcolor": "#E5ECF6",
            "gridcolor": "white",
            "gridwidth": 2,
            "linecolor": "white",
            "showbackground": true,
            "ticks": "",
            "zerolinecolor": "white"
           },
           "yaxis": {
            "backgroundcolor": "#E5ECF6",
            "gridcolor": "white",
            "gridwidth": 2,
            "linecolor": "white",
            "showbackground": true,
            "ticks": "",
            "zerolinecolor": "white"
           },
           "zaxis": {
            "backgroundcolor": "#E5ECF6",
            "gridcolor": "white",
            "gridwidth": 2,
            "linecolor": "white",
            "showbackground": true,
            "ticks": "",
            "zerolinecolor": "white"
           }
          },
          "shapedefaults": {
           "line": {
            "color": "#2a3f5f"
           }
          },
          "ternary": {
           "aaxis": {
            "gridcolor": "white",
            "linecolor": "white",
            "ticks": ""
           },
           "baxis": {
            "gridcolor": "white",
            "linecolor": "white",
            "ticks": ""
           },
           "bgcolor": "#E5ECF6",
           "caxis": {
            "gridcolor": "white",
            "linecolor": "white",
            "ticks": ""
           }
          },
          "title": {
           "x": 0.05
          },
          "xaxis": {
           "automargin": true,
           "gridcolor": "white",
           "linecolor": "white",
           "ticks": "",
           "title": {
            "standoff": 15
           },
           "zerolinecolor": "white",
           "zerolinewidth": 2
          },
          "yaxis": {
           "automargin": true,
           "gridcolor": "white",
           "linecolor": "white",
           "ticks": "",
           "title": {
            "standoff": 15
           },
           "zerolinecolor": "white",
           "zerolinewidth": 2
          }
         }
        },
        "title": {
         "text": "Products category"
        },
        "width": 800,
        "xaxis": {
         "anchor": "y",
         "domain": [
          0,
          0.4
         ],
         "title": {
          "text": "Orders by category"
         }
        },
        "xaxis2": {
         "anchor": "y2",
         "domain": [
          0.6,
          1
         ],
         "title": {
          "text": "Products value by category"
         }
        },
        "yaxis": {
         "anchor": "x",
         "domain": [
          0,
          1
         ]
        },
        "yaxis2": {
         "anchor": "x2",
         "domain": [
          0,
          1
         ]
        }
       }
      },
      "text/html": [
       "<div>\n",
       "        \n",
       "        \n",
       "            <div id=\"9989dd56-4bf0-4538-8e39-4fc3f08db608\" class=\"plotly-graph-div\" style=\"height:1000px; width:800px;\"></div>\n",
       "            <script type=\"text/javascript\">\n",
       "                require([\"plotly\"], function(Plotly) {\n",
       "                    window.PLOTLYENV=window.PLOTLYENV || {};\n",
       "                    \n",
       "                if (document.getElementById(\"9989dd56-4bf0-4538-8e39-4fc3f08db608\")) {\n",
       "                    Plotly.newPlot(\n",
       "                        '9989dd56-4bf0-4538-8e39-4fc3f08db608',\n",
       "                        [{\"marker\": {\"color\": \"rgb(49,130,189)\"}, \"name\": \"Number of orders\", \"orientation\": \"h\", \"type\": \"bar\", \"x\": [1092, 1137, 1691, 1947, 2031, 2517, 2767, 3065, 3419, 3796, 4117, 4235, 4347, 4545, 5991, 6964, 7827, 8334, 8641, 9670, 11115, 11799], \"xaxis\": \"x\", \"y\": [\"luggage_accessories\", \"consoles_games\", \"office_furniture\", \"pet_shop\", \"fashion_bags_accessories\", \"stationery\", \"electronics\", \"baby\", \"perfumery\", \"cool_stuff\", \"toys\", \"auto\", \"garden_tools\", \"telephony\", \"watches_gifts\", \"housewares\", \"computers_accessories\", \"furniture_decor\", \"sports_leisure\", \"health_beauty\", \"bed_bath_table\", null], \"yaxis\": \"y\"}, {\"marker\": {\"color\": \"rgb(204,204,204)\"}, \"name\": \"Total value\", \"orientation\": \"h\", \"type\": \"bar\", \"x\": [140429.9799999989, 157465.21999999907, 273960.6999999977, 214315.40999999703, 152823.53999999832, 230943.2299999962, 160246.73999999915, 411764.8900000022, 399124.870000005, 635290.8500000058, 483946.60000000725, 592720.1100000079, 485256.4599999966, 323667.5299999919, 1205005.6800000046, 632248.6600000256, 911954.3200000239, 729762.4900000313, 988048.9700000394, 1258681.3399999754, 1036988.6800000692, null], \"xaxis\": \"x2\", \"y\": [\"luggage_accessories\", \"consoles_games\", \"office_furniture\", \"pet_shop\", \"fashion_bags_accessories\", \"stationery\", \"electronics\", \"baby\", \"perfumery\", \"cool_stuff\", \"toys\", \"auto\", \"garden_tools\", \"telephony\", \"watches_gifts\", \"housewares\", \"computers_accessories\", \"furniture_decor\", \"sports_leisure\", \"health_beauty\", \"bed_bath_table\", null], \"yaxis\": \"y2\"}],\n",
       "                        {\"height\": 1000, \"legend\": {\"orientation\": \"h\"}, \"margin\": {\"b\": 100, \"l\": 150, \"r\": 10, \"t\": 100}, \"template\": {\"data\": {\"bar\": [{\"error_x\": {\"color\": \"#2a3f5f\"}, \"error_y\": {\"color\": \"#2a3f5f\"}, \"marker\": {\"line\": {\"color\": \"#E5ECF6\", \"width\": 0.5}}, \"type\": \"bar\"}], \"barpolar\": [{\"marker\": {\"line\": {\"color\": \"#E5ECF6\", \"width\": 0.5}}, \"type\": \"barpolar\"}], \"carpet\": [{\"aaxis\": {\"endlinecolor\": \"#2a3f5f\", \"gridcolor\": \"white\", \"linecolor\": \"white\", \"minorgridcolor\": \"white\", \"startlinecolor\": \"#2a3f5f\"}, \"baxis\": {\"endlinecolor\": \"#2a3f5f\", \"gridcolor\": \"white\", \"linecolor\": \"white\", \"minorgridcolor\": \"white\", \"startlinecolor\": \"#2a3f5f\"}, \"type\": \"carpet\"}], \"choropleth\": [{\"colorbar\": {\"outlinewidth\": 0, \"ticks\": \"\"}, \"type\": \"choropleth\"}], \"contour\": [{\"colorbar\": {\"outlinewidth\": 0, \"ticks\": \"\"}, \"colorscale\": [[0.0, \"#0d0887\"], [0.1111111111111111, \"#46039f\"], [0.2222222222222222, \"#7201a8\"], [0.3333333333333333, \"#9c179e\"], [0.4444444444444444, \"#bd3786\"], [0.5555555555555556, \"#d8576b\"], [0.6666666666666666, \"#ed7953\"], [0.7777777777777778, \"#fb9f3a\"], [0.8888888888888888, \"#fdca26\"], [1.0, \"#f0f921\"]], \"type\": \"contour\"}], \"contourcarpet\": [{\"colorbar\": {\"outlinewidth\": 0, \"ticks\": \"\"}, \"type\": \"contourcarpet\"}], \"heatmap\": [{\"colorbar\": {\"outlinewidth\": 0, \"ticks\": \"\"}, \"colorscale\": [[0.0, \"#0d0887\"], [0.1111111111111111, \"#46039f\"], [0.2222222222222222, \"#7201a8\"], [0.3333333333333333, \"#9c179e\"], [0.4444444444444444, \"#bd3786\"], [0.5555555555555556, \"#d8576b\"], [0.6666666666666666, \"#ed7953\"], [0.7777777777777778, \"#fb9f3a\"], [0.8888888888888888, \"#fdca26\"], [1.0, \"#f0f921\"]], \"type\": \"heatmap\"}], \"heatmapgl\": [{\"colorbar\": {\"outlinewidth\": 0, \"ticks\": \"\"}, \"colorscale\": [[0.0, \"#0d0887\"], [0.1111111111111111, \"#46039f\"], [0.2222222222222222, \"#7201a8\"], [0.3333333333333333, \"#9c179e\"], [0.4444444444444444, \"#bd3786\"], [0.5555555555555556, \"#d8576b\"], [0.6666666666666666, \"#ed7953\"], [0.7777777777777778, \"#fb9f3a\"], [0.8888888888888888, \"#fdca26\"], [1.0, \"#f0f921\"]], \"type\": \"heatmapgl\"}], \"histogram\": [{\"marker\": {\"colorbar\": {\"outlinewidth\": 0, \"ticks\": \"\"}}, \"type\": \"histogram\"}], \"histogram2d\": [{\"colorbar\": {\"outlinewidth\": 0, \"ticks\": \"\"}, \"colorscale\": [[0.0, \"#0d0887\"], [0.1111111111111111, \"#46039f\"], [0.2222222222222222, \"#7201a8\"], [0.3333333333333333, \"#9c179e\"], [0.4444444444444444, \"#bd3786\"], [0.5555555555555556, \"#d8576b\"], [0.6666666666666666, \"#ed7953\"], [0.7777777777777778, \"#fb9f3a\"], [0.8888888888888888, \"#fdca26\"], [1.0, \"#f0f921\"]], \"type\": \"histogram2d\"}], \"histogram2dcontour\": [{\"colorbar\": {\"outlinewidth\": 0, \"ticks\": \"\"}, \"colorscale\": [[0.0, \"#0d0887\"], [0.1111111111111111, \"#46039f\"], [0.2222222222222222, \"#7201a8\"], [0.3333333333333333, \"#9c179e\"], [0.4444444444444444, \"#bd3786\"], [0.5555555555555556, \"#d8576b\"], [0.6666666666666666, \"#ed7953\"], [0.7777777777777778, \"#fb9f3a\"], [0.8888888888888888, \"#fdca26\"], [1.0, \"#f0f921\"]], \"type\": \"histogram2dcontour\"}], \"mesh3d\": [{\"colorbar\": {\"outlinewidth\": 0, \"ticks\": \"\"}, \"type\": \"mesh3d\"}], \"parcoords\": [{\"line\": {\"colorbar\": {\"outlinewidth\": 0, \"ticks\": \"\"}}, \"type\": \"parcoords\"}], \"pie\": [{\"automargin\": true, \"type\": \"pie\"}], \"scatter\": [{\"marker\": {\"colorbar\": {\"outlinewidth\": 0, \"ticks\": \"\"}}, \"type\": \"scatter\"}], \"scatter3d\": [{\"line\": {\"colorbar\": {\"outlinewidth\": 0, \"ticks\": \"\"}}, \"marker\": {\"colorbar\": {\"outlinewidth\": 0, \"ticks\": \"\"}}, \"type\": \"scatter3d\"}], \"scattercarpet\": [{\"marker\": {\"colorbar\": {\"outlinewidth\": 0, \"ticks\": \"\"}}, \"type\": \"scattercarpet\"}], \"scattergeo\": [{\"marker\": {\"colorbar\": {\"outlinewidth\": 0, \"ticks\": \"\"}}, \"type\": \"scattergeo\"}], \"scattergl\": [{\"marker\": {\"colorbar\": {\"outlinewidth\": 0, \"ticks\": \"\"}}, \"type\": \"scattergl\"}], \"scattermapbox\": [{\"marker\": {\"colorbar\": {\"outlinewidth\": 0, \"ticks\": \"\"}}, \"type\": \"scattermapbox\"}], \"scatterpolar\": [{\"marker\": {\"colorbar\": {\"outlinewidth\": 0, \"ticks\": \"\"}}, \"type\": \"scatterpolar\"}], \"scatterpolargl\": [{\"marker\": {\"colorbar\": {\"outlinewidth\": 0, \"ticks\": \"\"}}, \"type\": \"scatterpolargl\"}], \"scatterternary\": [{\"marker\": {\"colorbar\": {\"outlinewidth\": 0, \"ticks\": \"\"}}, \"type\": \"scatterternary\"}], \"surface\": [{\"colorbar\": {\"outlinewidth\": 0, \"ticks\": \"\"}, \"colorscale\": [[0.0, \"#0d0887\"], [0.1111111111111111, \"#46039f\"], [0.2222222222222222, \"#7201a8\"], [0.3333333333333333, \"#9c179e\"], [0.4444444444444444, \"#bd3786\"], [0.5555555555555556, \"#d8576b\"], [0.6666666666666666, \"#ed7953\"], [0.7777777777777778, \"#fb9f3a\"], [0.8888888888888888, \"#fdca26\"], [1.0, \"#f0f921\"]], \"type\": \"surface\"}], \"table\": [{\"cells\": {\"fill\": {\"color\": \"#EBF0F8\"}, \"line\": {\"color\": \"white\"}}, \"header\": {\"fill\": {\"color\": \"#C8D4E3\"}, \"line\": {\"color\": \"white\"}}, \"type\": \"table\"}]}, \"layout\": {\"annotationdefaults\": {\"arrowcolor\": \"#2a3f5f\", \"arrowhead\": 0, \"arrowwidth\": 1}, \"coloraxis\": {\"colorbar\": {\"outlinewidth\": 0, \"ticks\": \"\"}}, \"colorscale\": {\"diverging\": [[0, \"#8e0152\"], [0.1, \"#c51b7d\"], [0.2, \"#de77ae\"], [0.3, \"#f1b6da\"], [0.4, \"#fde0ef\"], [0.5, \"#f7f7f7\"], [0.6, \"#e6f5d0\"], [0.7, \"#b8e186\"], [0.8, \"#7fbc41\"], [0.9, \"#4d9221\"], [1, \"#276419\"]], \"sequential\": [[0.0, \"#0d0887\"], [0.1111111111111111, \"#46039f\"], [0.2222222222222222, \"#7201a8\"], [0.3333333333333333, \"#9c179e\"], [0.4444444444444444, \"#bd3786\"], [0.5555555555555556, \"#d8576b\"], [0.6666666666666666, \"#ed7953\"], [0.7777777777777778, \"#fb9f3a\"], [0.8888888888888888, \"#fdca26\"], [1.0, \"#f0f921\"]], \"sequentialminus\": [[0.0, \"#0d0887\"], [0.1111111111111111, \"#46039f\"], [0.2222222222222222, \"#7201a8\"], [0.3333333333333333, \"#9c179e\"], [0.4444444444444444, \"#bd3786\"], [0.5555555555555556, \"#d8576b\"], [0.6666666666666666, \"#ed7953\"], [0.7777777777777778, \"#fb9f3a\"], [0.8888888888888888, \"#fdca26\"], [1.0, \"#f0f921\"]]}, \"colorway\": [\"#636efa\", \"#EF553B\", \"#00cc96\", \"#ab63fa\", \"#FFA15A\", \"#19d3f3\", \"#FF6692\", \"#B6E880\", \"#FF97FF\", \"#FECB52\"], \"font\": {\"color\": \"#2a3f5f\"}, \"geo\": {\"bgcolor\": \"white\", \"lakecolor\": \"white\", \"landcolor\": \"#E5ECF6\", \"showlakes\": true, \"showland\": true, \"subunitcolor\": \"white\"}, \"hoverlabel\": {\"align\": \"left\"}, \"hovermode\": \"closest\", \"mapbox\": {\"style\": \"light\"}, \"paper_bgcolor\": \"white\", \"plot_bgcolor\": \"#E5ECF6\", \"polar\": {\"angularaxis\": {\"gridcolor\": \"white\", \"linecolor\": \"white\", \"ticks\": \"\"}, \"bgcolor\": \"#E5ECF6\", \"radialaxis\": {\"gridcolor\": \"white\", \"linecolor\": \"white\", \"ticks\": \"\"}}, \"scene\": {\"xaxis\": {\"backgroundcolor\": \"#E5ECF6\", \"gridcolor\": \"white\", \"gridwidth\": 2, \"linecolor\": \"white\", \"showbackground\": true, \"ticks\": \"\", \"zerolinecolor\": \"white\"}, \"yaxis\": {\"backgroundcolor\": \"#E5ECF6\", \"gridcolor\": \"white\", \"gridwidth\": 2, \"linecolor\": \"white\", \"showbackground\": true, \"ticks\": \"\", \"zerolinecolor\": \"white\"}, \"zaxis\": {\"backgroundcolor\": \"#E5ECF6\", \"gridcolor\": \"white\", \"gridwidth\": 2, \"linecolor\": \"white\", \"showbackground\": true, \"ticks\": \"\", \"zerolinecolor\": \"white\"}}, \"shapedefaults\": {\"line\": {\"color\": \"#2a3f5f\"}}, \"ternary\": {\"aaxis\": {\"gridcolor\": \"white\", \"linecolor\": \"white\", \"ticks\": \"\"}, \"baxis\": {\"gridcolor\": \"white\", \"linecolor\": \"white\", \"ticks\": \"\"}, \"bgcolor\": \"#E5ECF6\", \"caxis\": {\"gridcolor\": \"white\", \"linecolor\": \"white\", \"ticks\": \"\"}}, \"title\": {\"x\": 0.05}, \"xaxis\": {\"automargin\": true, \"gridcolor\": \"white\", \"linecolor\": \"white\", \"ticks\": \"\", \"title\": {\"standoff\": 15}, \"zerolinecolor\": \"white\", \"zerolinewidth\": 2}, \"yaxis\": {\"automargin\": true, \"gridcolor\": \"white\", \"linecolor\": \"white\", \"ticks\": \"\", \"title\": {\"standoff\": 15}, \"zerolinecolor\": \"white\", \"zerolinewidth\": 2}}}, \"title\": {\"text\": \"Products category\"}, \"width\": 800, \"xaxis\": {\"anchor\": \"y\", \"domain\": [0, 0.4], \"title\": {\"text\": \"Orders by category\"}}, \"xaxis2\": {\"anchor\": \"y2\", \"domain\": [0.6, 1], \"title\": {\"text\": \"Products value by category\"}}, \"yaxis\": {\"anchor\": \"x\", \"domain\": [0.0, 1.0]}, \"yaxis2\": {\"anchor\": \"x2\", \"domain\": [0.0, 1.0]}},\n",
       "                        {\"responsive\": true}\n",
       "                    ).then(function(){\n",
       "                            \n",
       "var gd = document.getElementById('9989dd56-4bf0-4538-8e39-4fc3f08db608');\n",
       "var x = new MutationObserver(function (mutations, observer) {{\n",
       "        var display = window.getComputedStyle(gd).display;\n",
       "        if (!display || display === 'none') {{\n",
       "            console.log([gd, 'removed!']);\n",
       "            Plotly.purge(gd);\n",
       "            observer.disconnect();\n",
       "        }}\n",
       "}});\n",
       "\n",
       "// Listen for the removal of the full notebook cells\n",
       "var notebookContainer = gd.closest('#notebook-container');\n",
       "if (notebookContainer) {{\n",
       "    x.observe(notebookContainer, {childList: true});\n",
       "}}\n",
       "\n",
       "// Listen for the clearing of the current output cell\n",
       "var outputEl = gd.closest('.output');\n",
       "if (outputEl) {{\n",
       "    x.observe(outputEl, {childList: true});\n",
       "}}\n",
       "\n",
       "                        })\n",
       "                };\n",
       "                });\n",
       "            </script>\n",
       "        </div>"
      ]
     },
     "metadata": {},
     "output_type": "display_data"
    }
   ],
   "source": [
    "# Orders by category (less 1000 orders grouped into others)\n",
    "orders_count = orders.groupby('product_category_name').size()\n",
    "orders_count['others'] = orders_count[orders_count < 1000].sum()\n",
    "orders_count = orders_count[orders_count >= 1000].sort_values(ascending=True)\n",
    "orders_value = orders.groupby('product_category_name')['price'].sum()\n",
    "orders_value = orders_value[orders_count.index]\n",
    "translation = pd.Series(translation.product_category_name_english.values, index=translation.product_category_name)\n",
    "\n",
    "trace0 = go.Bar(\n",
    "    y=translation[orders_count.index],\n",
    "    x=orders_count.values,\n",
    "    name='Number of orders',\n",
    "    orientation='h',\n",
    "    marker=dict(color='rgb(49,130,189)')\n",
    ")\n",
    "trace1 = go.Bar(\n",
    "    y=translation[orders_value.index],\n",
    "    x=orders_value.values,\n",
    "    name='Total value',\n",
    "    orientation='h',\n",
    "    marker=dict(color='rgb(204,204,204)')\n",
    ")\n",
    "fig = tools.make_subplots(rows=1, cols=2, print_grid=False)\n",
    "fig.append_trace(trace0, 1, 1)\n",
    "fig.append_trace(trace1, 1, 2)\n",
    "\n",
    "fig['layout'].update(\n",
    "    height=1000,\n",
    "    width=800,\n",
    "    title='Products category',\n",
    "    margin=dict(l=150, r=10, t=100, b=100),\n",
    "    legend=dict(orientation=\"h\")\n",
    ")\n",
    "fig['layout']['xaxis1'].update(title='Orders by category', domain=[0, 0.40])\n",
    "fig['layout']['xaxis2'].update(title='Products value by category', domain=[0.6, 1])\n",
    "iplot(fig)"
   ]
  },
  {
   "cell_type": "markdown",
   "metadata": {
    "_uuid": "86b9531b58cb0be2bd35be45f88e6f243c1201b7"
   },
   "source": [
    "<h3>Items and Sellers for order</h3>"
   ]
  },
  {
   "cell_type": "code",
   "execution_count": 20,
   "metadata": {},
   "outputs": [
    {
     "data": {
      "text/html": [
       "<div>\n",
       "<style scoped>\n",
       "    .dataframe tbody tr th:only-of-type {\n",
       "        vertical-align: middle;\n",
       "    }\n",
       "\n",
       "    .dataframe tbody tr th {\n",
       "        vertical-align: top;\n",
       "    }\n",
       "\n",
       "    .dataframe thead th {\n",
       "        text-align: right;\n",
       "    }\n",
       "</style>\n",
       "<table border=\"1\" class=\"dataframe\">\n",
       "  <thead>\n",
       "    <tr style=\"text-align: right;\">\n",
       "      <th></th>\n",
       "      <th>order_id</th>\n",
       "      <th>customer_id</th>\n",
       "      <th>order_status</th>\n",
       "      <th>order_purchase_timestamp</th>\n",
       "      <th>order_approved_at</th>\n",
       "      <th>order_delivered_carrier_date</th>\n",
       "      <th>order_delivered_customer_date</th>\n",
       "      <th>order_estimated_delivery_date</th>\n",
       "      <th>order_item_id</th>\n",
       "      <th>product_id</th>\n",
       "      <th>...</th>\n",
       "      <th>freight_value</th>\n",
       "      <th>product_category_name</th>\n",
       "      <th>product_name_lenght</th>\n",
       "      <th>product_description_lenght</th>\n",
       "      <th>product_photos_qty</th>\n",
       "      <th>product_weight_g</th>\n",
       "      <th>product_length_cm</th>\n",
       "      <th>product_height_cm</th>\n",
       "      <th>product_width_cm</th>\n",
       "      <th>datetime</th>\n",
       "    </tr>\n",
       "  </thead>\n",
       "  <tbody>\n",
       "    <tr>\n",
       "      <th>0</th>\n",
       "      <td>e481f51cbdc54678b7cc49136f2d6af7</td>\n",
       "      <td>9ef432eb6251297304e76186b10a928d</td>\n",
       "      <td>delivered</td>\n",
       "      <td>2017-10-02 10:56:33</td>\n",
       "      <td>2017-10-02 11:07:15</td>\n",
       "      <td>2017-10-04 19:55:00</td>\n",
       "      <td>2017-10-10 21:25:13</td>\n",
       "      <td>2017-10-18 00:00:00</td>\n",
       "      <td>1</td>\n",
       "      <td>87285b34884572647811a353c7ac498a</td>\n",
       "      <td>...</td>\n",
       "      <td>8.72</td>\n",
       "      <td>utilidades_domesticas</td>\n",
       "      <td>40.0</td>\n",
       "      <td>268.0</td>\n",
       "      <td>4.0</td>\n",
       "      <td>500.0</td>\n",
       "      <td>19.0</td>\n",
       "      <td>8.0</td>\n",
       "      <td>13.0</td>\n",
       "      <td>2017-10-02 10:56:33</td>\n",
       "    </tr>\n",
       "    <tr>\n",
       "      <th>1</th>\n",
       "      <td>128e10d95713541c87cd1a2e48201934</td>\n",
       "      <td>a20e8105f23924cd00833fd87daa0831</td>\n",
       "      <td>delivered</td>\n",
       "      <td>2017-08-15 18:29:31</td>\n",
       "      <td>2017-08-15 20:05:16</td>\n",
       "      <td>2017-08-17 15:28:33</td>\n",
       "      <td>2017-08-18 14:44:43</td>\n",
       "      <td>2017-08-28 00:00:00</td>\n",
       "      <td>1</td>\n",
       "      <td>87285b34884572647811a353c7ac498a</td>\n",
       "      <td>...</td>\n",
       "      <td>7.78</td>\n",
       "      <td>utilidades_domesticas</td>\n",
       "      <td>40.0</td>\n",
       "      <td>268.0</td>\n",
       "      <td>4.0</td>\n",
       "      <td>500.0</td>\n",
       "      <td>19.0</td>\n",
       "      <td>8.0</td>\n",
       "      <td>13.0</td>\n",
       "      <td>2017-08-15 18:29:31</td>\n",
       "    </tr>\n",
       "    <tr>\n",
       "      <th>2</th>\n",
       "      <td>0e7e841ddf8f8f2de2bad69267ecfbcf</td>\n",
       "      <td>26c7ac168e1433912a51b924fbd34d34</td>\n",
       "      <td>delivered</td>\n",
       "      <td>2017-08-02 18:24:47</td>\n",
       "      <td>2017-08-02 18:43:15</td>\n",
       "      <td>2017-08-04 17:35:43</td>\n",
       "      <td>2017-08-07 18:30:01</td>\n",
       "      <td>2017-08-15 00:00:00</td>\n",
       "      <td>1</td>\n",
       "      <td>87285b34884572647811a353c7ac498a</td>\n",
       "      <td>...</td>\n",
       "      <td>7.78</td>\n",
       "      <td>utilidades_domesticas</td>\n",
       "      <td>40.0</td>\n",
       "      <td>268.0</td>\n",
       "      <td>4.0</td>\n",
       "      <td>500.0</td>\n",
       "      <td>19.0</td>\n",
       "      <td>8.0</td>\n",
       "      <td>13.0</td>\n",
       "      <td>2017-08-02 18:24:47</td>\n",
       "    </tr>\n",
       "    <tr>\n",
       "      <th>3</th>\n",
       "      <td>bfc39df4f36c3693ff3b63fcbea9e90a</td>\n",
       "      <td>53904ddbea91e1e92b2b3f1d09a7af86</td>\n",
       "      <td>delivered</td>\n",
       "      <td>2017-10-23 23:26:46</td>\n",
       "      <td>2017-10-25 02:14:11</td>\n",
       "      <td>2017-10-27 16:48:46</td>\n",
       "      <td>2017-11-07 18:04:59</td>\n",
       "      <td>2017-11-13 00:00:00</td>\n",
       "      <td>1</td>\n",
       "      <td>87285b34884572647811a353c7ac498a</td>\n",
       "      <td>...</td>\n",
       "      <td>14.10</td>\n",
       "      <td>utilidades_domesticas</td>\n",
       "      <td>40.0</td>\n",
       "      <td>268.0</td>\n",
       "      <td>4.0</td>\n",
       "      <td>500.0</td>\n",
       "      <td>19.0</td>\n",
       "      <td>8.0</td>\n",
       "      <td>13.0</td>\n",
       "      <td>2017-10-23 23:26:46</td>\n",
       "    </tr>\n",
       "    <tr>\n",
       "      <th>4</th>\n",
       "      <td>53cdb2fc8bc7dce0b6741e2150273451</td>\n",
       "      <td>b0830fb4747a6c6d20dea0b8c802d7ef</td>\n",
       "      <td>delivered</td>\n",
       "      <td>2018-07-24 20:41:37</td>\n",
       "      <td>2018-07-26 03:24:27</td>\n",
       "      <td>2018-07-26 14:31:00</td>\n",
       "      <td>2018-08-07 15:27:45</td>\n",
       "      <td>2018-08-13 00:00:00</td>\n",
       "      <td>1</td>\n",
       "      <td>595fac2a385ac33a80bd5114aec74eb8</td>\n",
       "      <td>...</td>\n",
       "      <td>22.76</td>\n",
       "      <td>perfumaria</td>\n",
       "      <td>29.0</td>\n",
       "      <td>178.0</td>\n",
       "      <td>1.0</td>\n",
       "      <td>400.0</td>\n",
       "      <td>19.0</td>\n",
       "      <td>13.0</td>\n",
       "      <td>19.0</td>\n",
       "      <td>2018-07-24 20:41:37</td>\n",
       "    </tr>\n",
       "  </tbody>\n",
       "</table>\n",
       "<p>5 rows × 23 columns</p>\n",
       "</div>"
      ],
      "text/plain": [
       "                           order_id                       customer_id  \\\n",
       "0  e481f51cbdc54678b7cc49136f2d6af7  9ef432eb6251297304e76186b10a928d   \n",
       "1  128e10d95713541c87cd1a2e48201934  a20e8105f23924cd00833fd87daa0831   \n",
       "2  0e7e841ddf8f8f2de2bad69267ecfbcf  26c7ac168e1433912a51b924fbd34d34   \n",
       "3  bfc39df4f36c3693ff3b63fcbea9e90a  53904ddbea91e1e92b2b3f1d09a7af86   \n",
       "4  53cdb2fc8bc7dce0b6741e2150273451  b0830fb4747a6c6d20dea0b8c802d7ef   \n",
       "\n",
       "  order_status order_purchase_timestamp    order_approved_at  \\\n",
       "0    delivered      2017-10-02 10:56:33  2017-10-02 11:07:15   \n",
       "1    delivered      2017-08-15 18:29:31  2017-08-15 20:05:16   \n",
       "2    delivered      2017-08-02 18:24:47  2017-08-02 18:43:15   \n",
       "3    delivered      2017-10-23 23:26:46  2017-10-25 02:14:11   \n",
       "4    delivered      2018-07-24 20:41:37  2018-07-26 03:24:27   \n",
       "\n",
       "  order_delivered_carrier_date order_delivered_customer_date  \\\n",
       "0          2017-10-04 19:55:00           2017-10-10 21:25:13   \n",
       "1          2017-08-17 15:28:33           2017-08-18 14:44:43   \n",
       "2          2017-08-04 17:35:43           2017-08-07 18:30:01   \n",
       "3          2017-10-27 16:48:46           2017-11-07 18:04:59   \n",
       "4          2018-07-26 14:31:00           2018-08-07 15:27:45   \n",
       "\n",
       "  order_estimated_delivery_date  order_item_id  \\\n",
       "0           2017-10-18 00:00:00              1   \n",
       "1           2017-08-28 00:00:00              1   \n",
       "2           2017-08-15 00:00:00              1   \n",
       "3           2017-11-13 00:00:00              1   \n",
       "4           2018-08-13 00:00:00              1   \n",
       "\n",
       "                         product_id         ...         freight_value  \\\n",
       "0  87285b34884572647811a353c7ac498a         ...                  8.72   \n",
       "1  87285b34884572647811a353c7ac498a         ...                  7.78   \n",
       "2  87285b34884572647811a353c7ac498a         ...                  7.78   \n",
       "3  87285b34884572647811a353c7ac498a         ...                 14.10   \n",
       "4  595fac2a385ac33a80bd5114aec74eb8         ...                 22.76   \n",
       "\n",
       "   product_category_name  product_name_lenght  product_description_lenght  \\\n",
       "0  utilidades_domesticas                 40.0                       268.0   \n",
       "1  utilidades_domesticas                 40.0                       268.0   \n",
       "2  utilidades_domesticas                 40.0                       268.0   \n",
       "3  utilidades_domesticas                 40.0                       268.0   \n",
       "4             perfumaria                 29.0                       178.0   \n",
       "\n",
       "  product_photos_qty  product_weight_g  product_length_cm  product_height_cm  \\\n",
       "0                4.0             500.0               19.0                8.0   \n",
       "1                4.0             500.0               19.0                8.0   \n",
       "2                4.0             500.0               19.0                8.0   \n",
       "3                4.0             500.0               19.0                8.0   \n",
       "4                1.0             400.0               19.0               13.0   \n",
       "\n",
       "   product_width_cm            datetime  \n",
       "0              13.0 2017-10-02 10:56:33  \n",
       "1              13.0 2017-08-15 18:29:31  \n",
       "2              13.0 2017-08-02 18:24:47  \n",
       "3              13.0 2017-10-23 23:26:46  \n",
       "4              19.0 2018-07-24 20:41:37  \n",
       "\n",
       "[5 rows x 23 columns]"
      ]
     },
     "execution_count": 20,
     "metadata": {},
     "output_type": "execute_result"
    }
   ],
   "source": [
    "orders.head()"
   ]
  },
  {
   "cell_type": "markdown",
   "metadata": {
    "_uuid": "506c9310bd987e94fbd227aa67ae61fc216d6a75"
   },
   "source": [
    "<h3>Product name and description</h3>"
   ]
  },
  {
   "cell_type": "code",
   "execution_count": 21,
   "metadata": {
    "scrolled": true
   },
   "outputs": [
    {
     "data": {
      "text/html": [
       "<div>\n",
       "<style scoped>\n",
       "    .dataframe tbody tr th:only-of-type {\n",
       "        vertical-align: middle;\n",
       "    }\n",
       "\n",
       "    .dataframe tbody tr th {\n",
       "        vertical-align: top;\n",
       "    }\n",
       "\n",
       "    .dataframe thead th {\n",
       "        text-align: right;\n",
       "    }\n",
       "</style>\n",
       "<table border=\"1\" class=\"dataframe\">\n",
       "  <thead>\n",
       "    <tr style=\"text-align: right;\">\n",
       "      <th></th>\n",
       "      <th>product_id</th>\n",
       "      <th>product_category_name</th>\n",
       "      <th>product_name_lenght</th>\n",
       "      <th>product_description_lenght</th>\n",
       "      <th>product_photos_qty</th>\n",
       "      <th>product_weight_g</th>\n",
       "      <th>product_length_cm</th>\n",
       "      <th>product_height_cm</th>\n",
       "      <th>product_width_cm</th>\n",
       "    </tr>\n",
       "  </thead>\n",
       "  <tbody>\n",
       "    <tr>\n",
       "      <th>0</th>\n",
       "      <td>1e9e8ef04dbcff4541ed26657ea517e5</td>\n",
       "      <td>perfumaria</td>\n",
       "      <td>40.0</td>\n",
       "      <td>287.0</td>\n",
       "      <td>1.0</td>\n",
       "      <td>225.0</td>\n",
       "      <td>16.0</td>\n",
       "      <td>10.0</td>\n",
       "      <td>14.0</td>\n",
       "    </tr>\n",
       "    <tr>\n",
       "      <th>1</th>\n",
       "      <td>3aa071139cb16b67ca9e5dea641aaa2f</td>\n",
       "      <td>artes</td>\n",
       "      <td>44.0</td>\n",
       "      <td>276.0</td>\n",
       "      <td>1.0</td>\n",
       "      <td>1000.0</td>\n",
       "      <td>30.0</td>\n",
       "      <td>18.0</td>\n",
       "      <td>20.0</td>\n",
       "    </tr>\n",
       "    <tr>\n",
       "      <th>2</th>\n",
       "      <td>96bd76ec8810374ed1b65e291975717f</td>\n",
       "      <td>esporte_lazer</td>\n",
       "      <td>46.0</td>\n",
       "      <td>250.0</td>\n",
       "      <td>1.0</td>\n",
       "      <td>154.0</td>\n",
       "      <td>18.0</td>\n",
       "      <td>9.0</td>\n",
       "      <td>15.0</td>\n",
       "    </tr>\n",
       "    <tr>\n",
       "      <th>3</th>\n",
       "      <td>cef67bcfe19066a932b7673e239eb23d</td>\n",
       "      <td>bebes</td>\n",
       "      <td>27.0</td>\n",
       "      <td>261.0</td>\n",
       "      <td>1.0</td>\n",
       "      <td>371.0</td>\n",
       "      <td>26.0</td>\n",
       "      <td>4.0</td>\n",
       "      <td>26.0</td>\n",
       "    </tr>\n",
       "    <tr>\n",
       "      <th>4</th>\n",
       "      <td>9dc1a7de274444849c219cff195d0b71</td>\n",
       "      <td>utilidades_domesticas</td>\n",
       "      <td>37.0</td>\n",
       "      <td>402.0</td>\n",
       "      <td>4.0</td>\n",
       "      <td>625.0</td>\n",
       "      <td>20.0</td>\n",
       "      <td>17.0</td>\n",
       "      <td>13.0</td>\n",
       "    </tr>\n",
       "    <tr>\n",
       "      <th>5</th>\n",
       "      <td>41d3672d4792049fa1779bb35283ed13</td>\n",
       "      <td>instrumentos_musicais</td>\n",
       "      <td>60.0</td>\n",
       "      <td>745.0</td>\n",
       "      <td>1.0</td>\n",
       "      <td>200.0</td>\n",
       "      <td>38.0</td>\n",
       "      <td>5.0</td>\n",
       "      <td>11.0</td>\n",
       "    </tr>\n",
       "    <tr>\n",
       "      <th>6</th>\n",
       "      <td>732bd381ad09e530fe0a5f457d81becb</td>\n",
       "      <td>cool_stuff</td>\n",
       "      <td>56.0</td>\n",
       "      <td>1272.0</td>\n",
       "      <td>4.0</td>\n",
       "      <td>18350.0</td>\n",
       "      <td>70.0</td>\n",
       "      <td>24.0</td>\n",
       "      <td>44.0</td>\n",
       "    </tr>\n",
       "    <tr>\n",
       "      <th>7</th>\n",
       "      <td>2548af3e6e77a690cf3eb6368e9ab61e</td>\n",
       "      <td>moveis_decoracao</td>\n",
       "      <td>56.0</td>\n",
       "      <td>184.0</td>\n",
       "      <td>2.0</td>\n",
       "      <td>900.0</td>\n",
       "      <td>40.0</td>\n",
       "      <td>8.0</td>\n",
       "      <td>40.0</td>\n",
       "    </tr>\n",
       "    <tr>\n",
       "      <th>8</th>\n",
       "      <td>37cc742be07708b53a98702e77a21a02</td>\n",
       "      <td>eletrodomesticos</td>\n",
       "      <td>57.0</td>\n",
       "      <td>163.0</td>\n",
       "      <td>1.0</td>\n",
       "      <td>400.0</td>\n",
       "      <td>27.0</td>\n",
       "      <td>13.0</td>\n",
       "      <td>17.0</td>\n",
       "    </tr>\n",
       "    <tr>\n",
       "      <th>9</th>\n",
       "      <td>8c92109888e8cdf9d66dc7e463025574</td>\n",
       "      <td>brinquedos</td>\n",
       "      <td>36.0</td>\n",
       "      <td>1156.0</td>\n",
       "      <td>1.0</td>\n",
       "      <td>600.0</td>\n",
       "      <td>17.0</td>\n",
       "      <td>10.0</td>\n",
       "      <td>12.0</td>\n",
       "    </tr>\n",
       "    <tr>\n",
       "      <th>10</th>\n",
       "      <td>14aa47b7fe5c25522b47b4b29c98dcb9</td>\n",
       "      <td>cama_mesa_banho</td>\n",
       "      <td>54.0</td>\n",
       "      <td>630.0</td>\n",
       "      <td>1.0</td>\n",
       "      <td>1100.0</td>\n",
       "      <td>16.0</td>\n",
       "      <td>10.0</td>\n",
       "      <td>16.0</td>\n",
       "    </tr>\n",
       "    <tr>\n",
       "      <th>11</th>\n",
       "      <td>03b63c5fc16691530586ae020c345514</td>\n",
       "      <td>bebes</td>\n",
       "      <td>49.0</td>\n",
       "      <td>728.0</td>\n",
       "      <td>4.0</td>\n",
       "      <td>7150.0</td>\n",
       "      <td>50.0</td>\n",
       "      <td>19.0</td>\n",
       "      <td>45.0</td>\n",
       "    </tr>\n",
       "    <tr>\n",
       "      <th>12</th>\n",
       "      <td>cf55509ea8edaaac1d28fdb16e48fc22</td>\n",
       "      <td>instrumentos_musicais</td>\n",
       "      <td>43.0</td>\n",
       "      <td>1827.0</td>\n",
       "      <td>3.0</td>\n",
       "      <td>250.0</td>\n",
       "      <td>17.0</td>\n",
       "      <td>7.0</td>\n",
       "      <td>17.0</td>\n",
       "    </tr>\n",
       "    <tr>\n",
       "      <th>13</th>\n",
       "      <td>7bb6f29c2be57716194f96496660c7c2</td>\n",
       "      <td>moveis_decoracao</td>\n",
       "      <td>51.0</td>\n",
       "      <td>2083.0</td>\n",
       "      <td>2.0</td>\n",
       "      <td>600.0</td>\n",
       "      <td>68.0</td>\n",
       "      <td>11.0</td>\n",
       "      <td>13.0</td>\n",
       "    </tr>\n",
       "    <tr>\n",
       "      <th>14</th>\n",
       "      <td>eb31436580a610f202c859463d8c7415</td>\n",
       "      <td>construcao_ferramentas_seguranca</td>\n",
       "      <td>59.0</td>\n",
       "      <td>1602.0</td>\n",
       "      <td>4.0</td>\n",
       "      <td>200.0</td>\n",
       "      <td>17.0</td>\n",
       "      <td>7.0</td>\n",
       "      <td>17.0</td>\n",
       "    </tr>\n",
       "    <tr>\n",
       "      <th>15</th>\n",
       "      <td>3bb7f144022e6732727d8d838a7b13b3</td>\n",
       "      <td>esporte_lazer</td>\n",
       "      <td>22.0</td>\n",
       "      <td>3021.0</td>\n",
       "      <td>1.0</td>\n",
       "      <td>800.0</td>\n",
       "      <td>16.0</td>\n",
       "      <td>2.0</td>\n",
       "      <td>11.0</td>\n",
       "    </tr>\n",
       "    <tr>\n",
       "      <th>16</th>\n",
       "      <td>6a2fb4dd53d2cdb88e0432f1284a004c</td>\n",
       "      <td>perfumaria</td>\n",
       "      <td>39.0</td>\n",
       "      <td>346.0</td>\n",
       "      <td>2.0</td>\n",
       "      <td>400.0</td>\n",
       "      <td>27.0</td>\n",
       "      <td>5.0</td>\n",
       "      <td>20.0</td>\n",
       "    </tr>\n",
       "    <tr>\n",
       "      <th>17</th>\n",
       "      <td>a1b71017a84f92fd8da4aeefba108a24</td>\n",
       "      <td>informatica_acessorios</td>\n",
       "      <td>59.0</td>\n",
       "      <td>636.0</td>\n",
       "      <td>1.0</td>\n",
       "      <td>900.0</td>\n",
       "      <td>40.0</td>\n",
       "      <td>15.0</td>\n",
       "      <td>20.0</td>\n",
       "    </tr>\n",
       "    <tr>\n",
       "      <th>18</th>\n",
       "      <td>a0736b92e52f6cead290e30b578413b6</td>\n",
       "      <td>moveis_decoracao</td>\n",
       "      <td>56.0</td>\n",
       "      <td>296.0</td>\n",
       "      <td>2.0</td>\n",
       "      <td>1700.0</td>\n",
       "      <td>100.0</td>\n",
       "      <td>7.0</td>\n",
       "      <td>15.0</td>\n",
       "    </tr>\n",
       "    <tr>\n",
       "      <th>19</th>\n",
       "      <td>f53103a77d9cf245e579ea37e5ec51f0</td>\n",
       "      <td>cama_mesa_banho</td>\n",
       "      <td>52.0</td>\n",
       "      <td>206.0</td>\n",
       "      <td>1.0</td>\n",
       "      <td>500.0</td>\n",
       "      <td>16.0</td>\n",
       "      <td>10.0</td>\n",
       "      <td>16.0</td>\n",
       "    </tr>\n",
       "    <tr>\n",
       "      <th>20</th>\n",
       "      <td>1c1890ba1779090cd54008a3c3302921</td>\n",
       "      <td>moveis_decoracao</td>\n",
       "      <td>27.0</td>\n",
       "      <td>158.0</td>\n",
       "      <td>4.0</td>\n",
       "      <td>2550.0</td>\n",
       "      <td>29.0</td>\n",
       "      <td>24.0</td>\n",
       "      <td>45.0</td>\n",
       "    </tr>\n",
       "    <tr>\n",
       "      <th>21</th>\n",
       "      <td>518ef5de2c2b3a255e326a4594ba15d9</td>\n",
       "      <td>cama_mesa_banho</td>\n",
       "      <td>27.0</td>\n",
       "      <td>329.0</td>\n",
       "      <td>2.0</td>\n",
       "      <td>800.0</td>\n",
       "      <td>36.0</td>\n",
       "      <td>8.0</td>\n",
       "      <td>16.0</td>\n",
       "    </tr>\n",
       "    <tr>\n",
       "      <th>22</th>\n",
       "      <td>e3e020af31d4d89d2602272b315c3f6e</td>\n",
       "      <td>beleza_saude</td>\n",
       "      <td>58.0</td>\n",
       "      <td>1987.0</td>\n",
       "      <td>3.0</td>\n",
       "      <td>75.0</td>\n",
       "      <td>21.0</td>\n",
       "      <td>7.0</td>\n",
       "      <td>13.0</td>\n",
       "    </tr>\n",
       "    <tr>\n",
       "      <th>23</th>\n",
       "      <td>8b41fbc2b984a12030090112324d1bc4</td>\n",
       "      <td>bebes</td>\n",
       "      <td>55.0</td>\n",
       "      <td>1627.0</td>\n",
       "      <td>1.0</td>\n",
       "      <td>500.0</td>\n",
       "      <td>20.0</td>\n",
       "      <td>13.0</td>\n",
       "      <td>13.0</td>\n",
       "    </tr>\n",
       "    <tr>\n",
       "      <th>24</th>\n",
       "      <td>d03bd02af9fff4b98f1c972315e5e9ef</td>\n",
       "      <td>moveis_decoracao</td>\n",
       "      <td>56.0</td>\n",
       "      <td>209.0</td>\n",
       "      <td>1.0</td>\n",
       "      <td>1800.0</td>\n",
       "      <td>40.0</td>\n",
       "      <td>10.0</td>\n",
       "      <td>30.0</td>\n",
       "    </tr>\n",
       "    <tr>\n",
       "      <th>25</th>\n",
       "      <td>8ba4f2a4ae695d26e5626c1bf710975e</td>\n",
       "      <td>utilidades_domesticas</td>\n",
       "      <td>52.0</td>\n",
       "      <td>968.0</td>\n",
       "      <td>1.0</td>\n",
       "      <td>900.0</td>\n",
       "      <td>50.0</td>\n",
       "      <td>5.0</td>\n",
       "      <td>50.0</td>\n",
       "    </tr>\n",
       "    <tr>\n",
       "      <th>26</th>\n",
       "      <td>f6574524b07d5bb753bab6f35abe2d06</td>\n",
       "      <td>malas_acessorios</td>\n",
       "      <td>52.0</td>\n",
       "      <td>573.0</td>\n",
       "      <td>5.0</td>\n",
       "      <td>3600.0</td>\n",
       "      <td>35.0</td>\n",
       "      <td>25.0</td>\n",
       "      <td>50.0</td>\n",
       "    </tr>\n",
       "    <tr>\n",
       "      <th>27</th>\n",
       "      <td>c78b767da00efb70c1bcccab87c28cd5</td>\n",
       "      <td>informatica_acessorios</td>\n",
       "      <td>35.0</td>\n",
       "      <td>1101.0</td>\n",
       "      <td>2.0</td>\n",
       "      <td>300.0</td>\n",
       "      <td>42.0</td>\n",
       "      <td>2.0</td>\n",
       "      <td>30.0</td>\n",
       "    </tr>\n",
       "    <tr>\n",
       "      <th>28</th>\n",
       "      <td>a0253d43394dd4da9a5d7b1f546f1a32</td>\n",
       "      <td>informatica_acessorios</td>\n",
       "      <td>59.0</td>\n",
       "      <td>1890.0</td>\n",
       "      <td>2.0</td>\n",
       "      <td>740.0</td>\n",
       "      <td>23.0</td>\n",
       "      <td>13.0</td>\n",
       "      <td>13.0</td>\n",
       "    </tr>\n",
       "    <tr>\n",
       "      <th>29</th>\n",
       "      <td>051b9ff13dd55c0a6655a15ff296f80d</td>\n",
       "      <td>esporte_lazer</td>\n",
       "      <td>50.0</td>\n",
       "      <td>529.0</td>\n",
       "      <td>2.0</td>\n",
       "      <td>3600.0</td>\n",
       "      <td>62.0</td>\n",
       "      <td>23.0</td>\n",
       "      <td>23.0</td>\n",
       "    </tr>\n",
       "    <tr>\n",
       "      <th>...</th>\n",
       "      <td>...</td>\n",
       "      <td>...</td>\n",
       "      <td>...</td>\n",
       "      <td>...</td>\n",
       "      <td>...</td>\n",
       "      <td>...</td>\n",
       "      <td>...</td>\n",
       "      <td>...</td>\n",
       "      <td>...</td>\n",
       "    </tr>\n",
       "    <tr>\n",
       "      <th>32921</th>\n",
       "      <td>2b6535d32c6996c9478c131a8ff17a05</td>\n",
       "      <td>construcao_ferramentas_seguranca</td>\n",
       "      <td>50.0</td>\n",
       "      <td>428.0</td>\n",
       "      <td>2.0</td>\n",
       "      <td>333.0</td>\n",
       "      <td>16.0</td>\n",
       "      <td>9.0</td>\n",
       "      <td>10.0</td>\n",
       "    </tr>\n",
       "    <tr>\n",
       "      <th>32922</th>\n",
       "      <td>29c5f56bdaf7929e981f654f1a2f79ec</td>\n",
       "      <td>utilidades_domesticas</td>\n",
       "      <td>36.0</td>\n",
       "      <td>316.0</td>\n",
       "      <td>4.0</td>\n",
       "      <td>700.0</td>\n",
       "      <td>18.0</td>\n",
       "      <td>18.0</td>\n",
       "      <td>18.0</td>\n",
       "    </tr>\n",
       "    <tr>\n",
       "      <th>32923</th>\n",
       "      <td>7088744b00831b410bd17716cb578f39</td>\n",
       "      <td>informatica_acessorios</td>\n",
       "      <td>51.0</td>\n",
       "      <td>311.0</td>\n",
       "      <td>1.0</td>\n",
       "      <td>1013.0</td>\n",
       "      <td>30.0</td>\n",
       "      <td>15.0</td>\n",
       "      <td>16.0</td>\n",
       "    </tr>\n",
       "    <tr>\n",
       "      <th>32924</th>\n",
       "      <td>8e5e831d742acedb1758e90e18974231</td>\n",
       "      <td>automotivo</td>\n",
       "      <td>55.0</td>\n",
       "      <td>520.0</td>\n",
       "      <td>1.0</td>\n",
       "      <td>550.0</td>\n",
       "      <td>20.0</td>\n",
       "      <td>15.0</td>\n",
       "      <td>15.0</td>\n",
       "    </tr>\n",
       "    <tr>\n",
       "      <th>32925</th>\n",
       "      <td>056b837251897cfc6f46d3643bad614f</td>\n",
       "      <td>ferramentas_jardim</td>\n",
       "      <td>52.0</td>\n",
       "      <td>471.0</td>\n",
       "      <td>4.0</td>\n",
       "      <td>1150.0</td>\n",
       "      <td>17.0</td>\n",
       "      <td>8.0</td>\n",
       "      <td>31.0</td>\n",
       "    </tr>\n",
       "    <tr>\n",
       "      <th>32926</th>\n",
       "      <td>c1cf541d5b33a4b04ddc1c3be7aa1c86</td>\n",
       "      <td>beleza_saude</td>\n",
       "      <td>51.0</td>\n",
       "      <td>781.0</td>\n",
       "      <td>2.0</td>\n",
       "      <td>150.0</td>\n",
       "      <td>35.0</td>\n",
       "      <td>2.0</td>\n",
       "      <td>26.0</td>\n",
       "    </tr>\n",
       "    <tr>\n",
       "      <th>32927</th>\n",
       "      <td>1669a8ef7e316417da468a3599115231</td>\n",
       "      <td>fashion_bolsas_e_acessorios</td>\n",
       "      <td>56.0</td>\n",
       "      <td>321.0</td>\n",
       "      <td>3.0</td>\n",
       "      <td>100.0</td>\n",
       "      <td>20.0</td>\n",
       "      <td>20.0</td>\n",
       "      <td>12.0</td>\n",
       "    </tr>\n",
       "    <tr>\n",
       "      <th>32928</th>\n",
       "      <td>1cf2ac38c34884acf7e61b5a66d4987c</td>\n",
       "      <td>relogios_presentes</td>\n",
       "      <td>35.0</td>\n",
       "      <td>209.0</td>\n",
       "      <td>2.0</td>\n",
       "      <td>300.0</td>\n",
       "      <td>20.0</td>\n",
       "      <td>12.0</td>\n",
       "      <td>15.0</td>\n",
       "    </tr>\n",
       "    <tr>\n",
       "      <th>32929</th>\n",
       "      <td>01cb96c64e8e35f29826a58963f6ecc5</td>\n",
       "      <td>construcao_ferramentas_iluminacao</td>\n",
       "      <td>39.0</td>\n",
       "      <td>990.0</td>\n",
       "      <td>2.0</td>\n",
       "      <td>7100.0</td>\n",
       "      <td>43.0</td>\n",
       "      <td>23.0</td>\n",
       "      <td>43.0</td>\n",
       "    </tr>\n",
       "    <tr>\n",
       "      <th>32930</th>\n",
       "      <td>5bde14b0ba42a788655c3ebf4ba54597</td>\n",
       "      <td>cama_mesa_banho</td>\n",
       "      <td>44.0</td>\n",
       "      <td>1054.0</td>\n",
       "      <td>1.0</td>\n",
       "      <td>1500.0</td>\n",
       "      <td>31.0</td>\n",
       "      <td>21.0</td>\n",
       "      <td>26.0</td>\n",
       "    </tr>\n",
       "    <tr>\n",
       "      <th>32931</th>\n",
       "      <td>9ce4603565c839785b24a7e95e28f4eb</td>\n",
       "      <td>cool_stuff</td>\n",
       "      <td>40.0</td>\n",
       "      <td>1516.0</td>\n",
       "      <td>2.0</td>\n",
       "      <td>800.0</td>\n",
       "      <td>22.0</td>\n",
       "      <td>15.0</td>\n",
       "      <td>27.0</td>\n",
       "    </tr>\n",
       "    <tr>\n",
       "      <th>32932</th>\n",
       "      <td>0bf1dea484fbb8cdfa09e2767ce30574</td>\n",
       "      <td>alimentos</td>\n",
       "      <td>53.0</td>\n",
       "      <td>225.0</td>\n",
       "      <td>1.0</td>\n",
       "      <td>1920.0</td>\n",
       "      <td>37.0</td>\n",
       "      <td>6.0</td>\n",
       "      <td>32.0</td>\n",
       "    </tr>\n",
       "    <tr>\n",
       "      <th>32933</th>\n",
       "      <td>6f79d50d852c044e3f7f0954d13aeacf</td>\n",
       "      <td>moveis_decoracao</td>\n",
       "      <td>53.0</td>\n",
       "      <td>194.0</td>\n",
       "      <td>11.0</td>\n",
       "      <td>1100.0</td>\n",
       "      <td>31.0</td>\n",
       "      <td>11.0</td>\n",
       "      <td>26.0</td>\n",
       "    </tr>\n",
       "    <tr>\n",
       "      <th>32934</th>\n",
       "      <td>1060d9ab6b911bfce1439c25afcd790b</td>\n",
       "      <td>informatica_acessorios</td>\n",
       "      <td>39.0</td>\n",
       "      <td>1257.0</td>\n",
       "      <td>1.0</td>\n",
       "      <td>130.0</td>\n",
       "      <td>16.0</td>\n",
       "      <td>13.0</td>\n",
       "      <td>13.0</td>\n",
       "    </tr>\n",
       "    <tr>\n",
       "      <th>32935</th>\n",
       "      <td>d4484cc239fbd0ac671ab04d931edc66</td>\n",
       "      <td>bebes</td>\n",
       "      <td>42.0</td>\n",
       "      <td>414.0</td>\n",
       "      <td>2.0</td>\n",
       "      <td>150.0</td>\n",
       "      <td>23.0</td>\n",
       "      <td>15.0</td>\n",
       "      <td>15.0</td>\n",
       "    </tr>\n",
       "    <tr>\n",
       "      <th>32936</th>\n",
       "      <td>4e1d2ef2974c85d82582edfe594a4f57</td>\n",
       "      <td>esporte_lazer</td>\n",
       "      <td>43.0</td>\n",
       "      <td>191.0</td>\n",
       "      <td>4.0</td>\n",
       "      <td>300.0</td>\n",
       "      <td>25.0</td>\n",
       "      <td>10.0</td>\n",
       "      <td>20.0</td>\n",
       "    </tr>\n",
       "    <tr>\n",
       "      <th>32937</th>\n",
       "      <td>d218a47759ef0d1db44044934909b88b</td>\n",
       "      <td>telefonia</td>\n",
       "      <td>50.0</td>\n",
       "      <td>778.0</td>\n",
       "      <td>1.0</td>\n",
       "      <td>350.0</td>\n",
       "      <td>17.0</td>\n",
       "      <td>11.0</td>\n",
       "      <td>11.0</td>\n",
       "    </tr>\n",
       "    <tr>\n",
       "      <th>32938</th>\n",
       "      <td>59dae5028ffa06d8f0151bf1fa97b7e6</td>\n",
       "      <td>informatica_acessorios</td>\n",
       "      <td>38.0</td>\n",
       "      <td>433.0</td>\n",
       "      <td>1.0</td>\n",
       "      <td>1100.0</td>\n",
       "      <td>36.0</td>\n",
       "      <td>15.0</td>\n",
       "      <td>25.0</td>\n",
       "    </tr>\n",
       "    <tr>\n",
       "      <th>32939</th>\n",
       "      <td>4508e088c4a07e0ad64f6fa3751e314a</td>\n",
       "      <td>esporte_lazer</td>\n",
       "      <td>45.0</td>\n",
       "      <td>1931.0</td>\n",
       "      <td>1.0</td>\n",
       "      <td>330.0</td>\n",
       "      <td>24.0</td>\n",
       "      <td>20.0</td>\n",
       "      <td>16.0</td>\n",
       "    </tr>\n",
       "    <tr>\n",
       "      <th>32940</th>\n",
       "      <td>dfec64aac9b864b2807a7be33222b75f</td>\n",
       "      <td>cama_mesa_banho</td>\n",
       "      <td>58.0</td>\n",
       "      <td>252.0</td>\n",
       "      <td>4.0</td>\n",
       "      <td>850.0</td>\n",
       "      <td>38.0</td>\n",
       "      <td>7.0</td>\n",
       "      <td>28.0</td>\n",
       "    </tr>\n",
       "    <tr>\n",
       "      <th>32941</th>\n",
       "      <td>6ec96c91757fad0aecafc0ee7f262dcc</td>\n",
       "      <td>bebes</td>\n",
       "      <td>62.0</td>\n",
       "      <td>1417.0</td>\n",
       "      <td>1.0</td>\n",
       "      <td>9550.0</td>\n",
       "      <td>36.0</td>\n",
       "      <td>35.0</td>\n",
       "      <td>35.0</td>\n",
       "    </tr>\n",
       "    <tr>\n",
       "      <th>32942</th>\n",
       "      <td>16280ca280a86fee2ba3c928ed04439f</td>\n",
       "      <td>moveis_decoracao</td>\n",
       "      <td>64.0</td>\n",
       "      <td>236.0</td>\n",
       "      <td>11.0</td>\n",
       "      <td>2200.0</td>\n",
       "      <td>31.0</td>\n",
       "      <td>11.0</td>\n",
       "      <td>26.0</td>\n",
       "    </tr>\n",
       "    <tr>\n",
       "      <th>32943</th>\n",
       "      <td>3becff10d1deb92b02f2a1ee62a04524</td>\n",
       "      <td>informatica_acessorios</td>\n",
       "      <td>54.0</td>\n",
       "      <td>1520.0</td>\n",
       "      <td>2.0</td>\n",
       "      <td>6150.0</td>\n",
       "      <td>30.0</td>\n",
       "      <td>30.0</td>\n",
       "      <td>20.0</td>\n",
       "    </tr>\n",
       "    <tr>\n",
       "      <th>32944</th>\n",
       "      <td>1a14237ecc2fe3772b55c8d4e11ccb35</td>\n",
       "      <td>moveis_decoracao</td>\n",
       "      <td>58.0</td>\n",
       "      <td>1405.0</td>\n",
       "      <td>3.0</td>\n",
       "      <td>150.0</td>\n",
       "      <td>35.0</td>\n",
       "      <td>2.0</td>\n",
       "      <td>25.0</td>\n",
       "    </tr>\n",
       "    <tr>\n",
       "      <th>32945</th>\n",
       "      <td>c4e71b64511b959455e2107fe7859020</td>\n",
       "      <td>utilidades_domesticas</td>\n",
       "      <td>59.0</td>\n",
       "      <td>1371.0</td>\n",
       "      <td>2.0</td>\n",
       "      <td>200.0</td>\n",
       "      <td>18.0</td>\n",
       "      <td>15.0</td>\n",
       "      <td>15.0</td>\n",
       "    </tr>\n",
       "    <tr>\n",
       "      <th>32946</th>\n",
       "      <td>a0b7d5a992ccda646f2d34e418fff5a0</td>\n",
       "      <td>moveis_decoracao</td>\n",
       "      <td>45.0</td>\n",
       "      <td>67.0</td>\n",
       "      <td>2.0</td>\n",
       "      <td>12300.0</td>\n",
       "      <td>40.0</td>\n",
       "      <td>40.0</td>\n",
       "      <td>40.0</td>\n",
       "    </tr>\n",
       "    <tr>\n",
       "      <th>32947</th>\n",
       "      <td>bf4538d88321d0fd4412a93c974510e6</td>\n",
       "      <td>construcao_ferramentas_iluminacao</td>\n",
       "      <td>41.0</td>\n",
       "      <td>971.0</td>\n",
       "      <td>1.0</td>\n",
       "      <td>1700.0</td>\n",
       "      <td>16.0</td>\n",
       "      <td>19.0</td>\n",
       "      <td>16.0</td>\n",
       "    </tr>\n",
       "    <tr>\n",
       "      <th>32948</th>\n",
       "      <td>9a7c6041fa9592d9d9ef6cfe62a71f8c</td>\n",
       "      <td>cama_mesa_banho</td>\n",
       "      <td>50.0</td>\n",
       "      <td>799.0</td>\n",
       "      <td>1.0</td>\n",
       "      <td>1400.0</td>\n",
       "      <td>27.0</td>\n",
       "      <td>7.0</td>\n",
       "      <td>27.0</td>\n",
       "    </tr>\n",
       "    <tr>\n",
       "      <th>32949</th>\n",
       "      <td>83808703fc0706a22e264b9d75f04a2e</td>\n",
       "      <td>informatica_acessorios</td>\n",
       "      <td>60.0</td>\n",
       "      <td>156.0</td>\n",
       "      <td>2.0</td>\n",
       "      <td>700.0</td>\n",
       "      <td>31.0</td>\n",
       "      <td>13.0</td>\n",
       "      <td>20.0</td>\n",
       "    </tr>\n",
       "    <tr>\n",
       "      <th>32950</th>\n",
       "      <td>106392145fca363410d287a815be6de4</td>\n",
       "      <td>cama_mesa_banho</td>\n",
       "      <td>58.0</td>\n",
       "      <td>309.0</td>\n",
       "      <td>1.0</td>\n",
       "      <td>2083.0</td>\n",
       "      <td>12.0</td>\n",
       "      <td>2.0</td>\n",
       "      <td>7.0</td>\n",
       "    </tr>\n",
       "  </tbody>\n",
       "</table>\n",
       "<p>32951 rows × 9 columns</p>\n",
       "</div>"
      ],
      "text/plain": [
       "                             product_id              product_category_name  \\\n",
       "0      1e9e8ef04dbcff4541ed26657ea517e5                         perfumaria   \n",
       "1      3aa071139cb16b67ca9e5dea641aaa2f                              artes   \n",
       "2      96bd76ec8810374ed1b65e291975717f                      esporte_lazer   \n",
       "3      cef67bcfe19066a932b7673e239eb23d                              bebes   \n",
       "4      9dc1a7de274444849c219cff195d0b71              utilidades_domesticas   \n",
       "5      41d3672d4792049fa1779bb35283ed13              instrumentos_musicais   \n",
       "6      732bd381ad09e530fe0a5f457d81becb                         cool_stuff   \n",
       "7      2548af3e6e77a690cf3eb6368e9ab61e                   moveis_decoracao   \n",
       "8      37cc742be07708b53a98702e77a21a02                   eletrodomesticos   \n",
       "9      8c92109888e8cdf9d66dc7e463025574                         brinquedos   \n",
       "10     14aa47b7fe5c25522b47b4b29c98dcb9                    cama_mesa_banho   \n",
       "11     03b63c5fc16691530586ae020c345514                              bebes   \n",
       "12     cf55509ea8edaaac1d28fdb16e48fc22              instrumentos_musicais   \n",
       "13     7bb6f29c2be57716194f96496660c7c2                   moveis_decoracao   \n",
       "14     eb31436580a610f202c859463d8c7415   construcao_ferramentas_seguranca   \n",
       "15     3bb7f144022e6732727d8d838a7b13b3                      esporte_lazer   \n",
       "16     6a2fb4dd53d2cdb88e0432f1284a004c                         perfumaria   \n",
       "17     a1b71017a84f92fd8da4aeefba108a24             informatica_acessorios   \n",
       "18     a0736b92e52f6cead290e30b578413b6                   moveis_decoracao   \n",
       "19     f53103a77d9cf245e579ea37e5ec51f0                    cama_mesa_banho   \n",
       "20     1c1890ba1779090cd54008a3c3302921                   moveis_decoracao   \n",
       "21     518ef5de2c2b3a255e326a4594ba15d9                    cama_mesa_banho   \n",
       "22     e3e020af31d4d89d2602272b315c3f6e                       beleza_saude   \n",
       "23     8b41fbc2b984a12030090112324d1bc4                              bebes   \n",
       "24     d03bd02af9fff4b98f1c972315e5e9ef                   moveis_decoracao   \n",
       "25     8ba4f2a4ae695d26e5626c1bf710975e              utilidades_domesticas   \n",
       "26     f6574524b07d5bb753bab6f35abe2d06                   malas_acessorios   \n",
       "27     c78b767da00efb70c1bcccab87c28cd5             informatica_acessorios   \n",
       "28     a0253d43394dd4da9a5d7b1f546f1a32             informatica_acessorios   \n",
       "29     051b9ff13dd55c0a6655a15ff296f80d                      esporte_lazer   \n",
       "...                                 ...                                ...   \n",
       "32921  2b6535d32c6996c9478c131a8ff17a05   construcao_ferramentas_seguranca   \n",
       "32922  29c5f56bdaf7929e981f654f1a2f79ec              utilidades_domesticas   \n",
       "32923  7088744b00831b410bd17716cb578f39             informatica_acessorios   \n",
       "32924  8e5e831d742acedb1758e90e18974231                         automotivo   \n",
       "32925  056b837251897cfc6f46d3643bad614f                 ferramentas_jardim   \n",
       "32926  c1cf541d5b33a4b04ddc1c3be7aa1c86                       beleza_saude   \n",
       "32927  1669a8ef7e316417da468a3599115231        fashion_bolsas_e_acessorios   \n",
       "32928  1cf2ac38c34884acf7e61b5a66d4987c                 relogios_presentes   \n",
       "32929  01cb96c64e8e35f29826a58963f6ecc5  construcao_ferramentas_iluminacao   \n",
       "32930  5bde14b0ba42a788655c3ebf4ba54597                    cama_mesa_banho   \n",
       "32931  9ce4603565c839785b24a7e95e28f4eb                         cool_stuff   \n",
       "32932  0bf1dea484fbb8cdfa09e2767ce30574                          alimentos   \n",
       "32933  6f79d50d852c044e3f7f0954d13aeacf                   moveis_decoracao   \n",
       "32934  1060d9ab6b911bfce1439c25afcd790b             informatica_acessorios   \n",
       "32935  d4484cc239fbd0ac671ab04d931edc66                              bebes   \n",
       "32936  4e1d2ef2974c85d82582edfe594a4f57                      esporte_lazer   \n",
       "32937  d218a47759ef0d1db44044934909b88b                          telefonia   \n",
       "32938  59dae5028ffa06d8f0151bf1fa97b7e6             informatica_acessorios   \n",
       "32939  4508e088c4a07e0ad64f6fa3751e314a                      esporte_lazer   \n",
       "32940  dfec64aac9b864b2807a7be33222b75f                    cama_mesa_banho   \n",
       "32941  6ec96c91757fad0aecafc0ee7f262dcc                              bebes   \n",
       "32942  16280ca280a86fee2ba3c928ed04439f                   moveis_decoracao   \n",
       "32943  3becff10d1deb92b02f2a1ee62a04524             informatica_acessorios   \n",
       "32944  1a14237ecc2fe3772b55c8d4e11ccb35                   moveis_decoracao   \n",
       "32945  c4e71b64511b959455e2107fe7859020              utilidades_domesticas   \n",
       "32946  a0b7d5a992ccda646f2d34e418fff5a0                   moveis_decoracao   \n",
       "32947  bf4538d88321d0fd4412a93c974510e6  construcao_ferramentas_iluminacao   \n",
       "32948  9a7c6041fa9592d9d9ef6cfe62a71f8c                    cama_mesa_banho   \n",
       "32949  83808703fc0706a22e264b9d75f04a2e             informatica_acessorios   \n",
       "32950  106392145fca363410d287a815be6de4                    cama_mesa_banho   \n",
       "\n",
       "       product_name_lenght  product_description_lenght  product_photos_qty  \\\n",
       "0                     40.0                       287.0                 1.0   \n",
       "1                     44.0                       276.0                 1.0   \n",
       "2                     46.0                       250.0                 1.0   \n",
       "3                     27.0                       261.0                 1.0   \n",
       "4                     37.0                       402.0                 4.0   \n",
       "5                     60.0                       745.0                 1.0   \n",
       "6                     56.0                      1272.0                 4.0   \n",
       "7                     56.0                       184.0                 2.0   \n",
       "8                     57.0                       163.0                 1.0   \n",
       "9                     36.0                      1156.0                 1.0   \n",
       "10                    54.0                       630.0                 1.0   \n",
       "11                    49.0                       728.0                 4.0   \n",
       "12                    43.0                      1827.0                 3.0   \n",
       "13                    51.0                      2083.0                 2.0   \n",
       "14                    59.0                      1602.0                 4.0   \n",
       "15                    22.0                      3021.0                 1.0   \n",
       "16                    39.0                       346.0                 2.0   \n",
       "17                    59.0                       636.0                 1.0   \n",
       "18                    56.0                       296.0                 2.0   \n",
       "19                    52.0                       206.0                 1.0   \n",
       "20                    27.0                       158.0                 4.0   \n",
       "21                    27.0                       329.0                 2.0   \n",
       "22                    58.0                      1987.0                 3.0   \n",
       "23                    55.0                      1627.0                 1.0   \n",
       "24                    56.0                       209.0                 1.0   \n",
       "25                    52.0                       968.0                 1.0   \n",
       "26                    52.0                       573.0                 5.0   \n",
       "27                    35.0                      1101.0                 2.0   \n",
       "28                    59.0                      1890.0                 2.0   \n",
       "29                    50.0                       529.0                 2.0   \n",
       "...                    ...                         ...                 ...   \n",
       "32921                 50.0                       428.0                 2.0   \n",
       "32922                 36.0                       316.0                 4.0   \n",
       "32923                 51.0                       311.0                 1.0   \n",
       "32924                 55.0                       520.0                 1.0   \n",
       "32925                 52.0                       471.0                 4.0   \n",
       "32926                 51.0                       781.0                 2.0   \n",
       "32927                 56.0                       321.0                 3.0   \n",
       "32928                 35.0                       209.0                 2.0   \n",
       "32929                 39.0                       990.0                 2.0   \n",
       "32930                 44.0                      1054.0                 1.0   \n",
       "32931                 40.0                      1516.0                 2.0   \n",
       "32932                 53.0                       225.0                 1.0   \n",
       "32933                 53.0                       194.0                11.0   \n",
       "32934                 39.0                      1257.0                 1.0   \n",
       "32935                 42.0                       414.0                 2.0   \n",
       "32936                 43.0                       191.0                 4.0   \n",
       "32937                 50.0                       778.0                 1.0   \n",
       "32938                 38.0                       433.0                 1.0   \n",
       "32939                 45.0                      1931.0                 1.0   \n",
       "32940                 58.0                       252.0                 4.0   \n",
       "32941                 62.0                      1417.0                 1.0   \n",
       "32942                 64.0                       236.0                11.0   \n",
       "32943                 54.0                      1520.0                 2.0   \n",
       "32944                 58.0                      1405.0                 3.0   \n",
       "32945                 59.0                      1371.0                 2.0   \n",
       "32946                 45.0                        67.0                 2.0   \n",
       "32947                 41.0                       971.0                 1.0   \n",
       "32948                 50.0                       799.0                 1.0   \n",
       "32949                 60.0                       156.0                 2.0   \n",
       "32950                 58.0                       309.0                 1.0   \n",
       "\n",
       "       product_weight_g  product_length_cm  product_height_cm  \\\n",
       "0                 225.0               16.0               10.0   \n",
       "1                1000.0               30.0               18.0   \n",
       "2                 154.0               18.0                9.0   \n",
       "3                 371.0               26.0                4.0   \n",
       "4                 625.0               20.0               17.0   \n",
       "5                 200.0               38.0                5.0   \n",
       "6               18350.0               70.0               24.0   \n",
       "7                 900.0               40.0                8.0   \n",
       "8                 400.0               27.0               13.0   \n",
       "9                 600.0               17.0               10.0   \n",
       "10               1100.0               16.0               10.0   \n",
       "11               7150.0               50.0               19.0   \n",
       "12                250.0               17.0                7.0   \n",
       "13                600.0               68.0               11.0   \n",
       "14                200.0               17.0                7.0   \n",
       "15                800.0               16.0                2.0   \n",
       "16                400.0               27.0                5.0   \n",
       "17                900.0               40.0               15.0   \n",
       "18               1700.0              100.0                7.0   \n",
       "19                500.0               16.0               10.0   \n",
       "20               2550.0               29.0               24.0   \n",
       "21                800.0               36.0                8.0   \n",
       "22                 75.0               21.0                7.0   \n",
       "23                500.0               20.0               13.0   \n",
       "24               1800.0               40.0               10.0   \n",
       "25                900.0               50.0                5.0   \n",
       "26               3600.0               35.0               25.0   \n",
       "27                300.0               42.0                2.0   \n",
       "28                740.0               23.0               13.0   \n",
       "29               3600.0               62.0               23.0   \n",
       "...                 ...                ...                ...   \n",
       "32921             333.0               16.0                9.0   \n",
       "32922             700.0               18.0               18.0   \n",
       "32923            1013.0               30.0               15.0   \n",
       "32924             550.0               20.0               15.0   \n",
       "32925            1150.0               17.0                8.0   \n",
       "32926             150.0               35.0                2.0   \n",
       "32927             100.0               20.0               20.0   \n",
       "32928             300.0               20.0               12.0   \n",
       "32929            7100.0               43.0               23.0   \n",
       "32930            1500.0               31.0               21.0   \n",
       "32931             800.0               22.0               15.0   \n",
       "32932            1920.0               37.0                6.0   \n",
       "32933            1100.0               31.0               11.0   \n",
       "32934             130.0               16.0               13.0   \n",
       "32935             150.0               23.0               15.0   \n",
       "32936             300.0               25.0               10.0   \n",
       "32937             350.0               17.0               11.0   \n",
       "32938            1100.0               36.0               15.0   \n",
       "32939             330.0               24.0               20.0   \n",
       "32940             850.0               38.0                7.0   \n",
       "32941            9550.0               36.0               35.0   \n",
       "32942            2200.0               31.0               11.0   \n",
       "32943            6150.0               30.0               30.0   \n",
       "32944             150.0               35.0                2.0   \n",
       "32945             200.0               18.0               15.0   \n",
       "32946           12300.0               40.0               40.0   \n",
       "32947            1700.0               16.0               19.0   \n",
       "32948            1400.0               27.0                7.0   \n",
       "32949             700.0               31.0               13.0   \n",
       "32950            2083.0               12.0                2.0   \n",
       "\n",
       "       product_width_cm  \n",
       "0                  14.0  \n",
       "1                  20.0  \n",
       "2                  15.0  \n",
       "3                  26.0  \n",
       "4                  13.0  \n",
       "5                  11.0  \n",
       "6                  44.0  \n",
       "7                  40.0  \n",
       "8                  17.0  \n",
       "9                  12.0  \n",
       "10                 16.0  \n",
       "11                 45.0  \n",
       "12                 17.0  \n",
       "13                 13.0  \n",
       "14                 17.0  \n",
       "15                 11.0  \n",
       "16                 20.0  \n",
       "17                 20.0  \n",
       "18                 15.0  \n",
       "19                 16.0  \n",
       "20                 45.0  \n",
       "21                 16.0  \n",
       "22                 13.0  \n",
       "23                 13.0  \n",
       "24                 30.0  \n",
       "25                 50.0  \n",
       "26                 50.0  \n",
       "27                 30.0  \n",
       "28                 13.0  \n",
       "29                 23.0  \n",
       "...                 ...  \n",
       "32921              10.0  \n",
       "32922              18.0  \n",
       "32923              16.0  \n",
       "32924              15.0  \n",
       "32925              31.0  \n",
       "32926              26.0  \n",
       "32927              12.0  \n",
       "32928              15.0  \n",
       "32929              43.0  \n",
       "32930              26.0  \n",
       "32931              27.0  \n",
       "32932              32.0  \n",
       "32933              26.0  \n",
       "32934              13.0  \n",
       "32935              15.0  \n",
       "32936              20.0  \n",
       "32937              11.0  \n",
       "32938              25.0  \n",
       "32939              16.0  \n",
       "32940              28.0  \n",
       "32941              35.0  \n",
       "32942              26.0  \n",
       "32943              20.0  \n",
       "32944              25.0  \n",
       "32945              15.0  \n",
       "32946              40.0  \n",
       "32947              16.0  \n",
       "32948              27.0  \n",
       "32949              20.0  \n",
       "32950               7.0  \n",
       "\n",
       "[32951 rows x 9 columns]"
      ]
     },
     "execution_count": 21,
     "metadata": {},
     "output_type": "execute_result"
    }
   ],
   "source": [
    "products"
   ]
  },
  {
   "cell_type": "code",
   "execution_count": 22,
   "metadata": {
    "_kg_hide-input": true,
    "_uuid": "685ca09ab11fb93ab7976204885ecd151fe04257"
   },
   "outputs": [
    {
     "data": {
      "image/png": "[encoded data removed]",
      "text/plain": [
       "<Figure size 864x288 with 2 Axes>"
      ]
     },
     "metadata": {
      "needs_background": "light"
     },
     "output_type": "display_data"
    }
   ],
   "source": [
    "#product_name_lenght\tproduct_description_lenght\tproduct_photos_qty\n",
    "fig, axis = plt.subplots(1, 2, figsize=(12,4))\n",
    "axis[0].set_title(\"Produt name lenght\")\n",
    "axis[1].set_title(\"Product description lenght\")\n",
    "ax1 = sns.distplot(products['product_name_lenght'], color=\"#D84E30\", ax=axis[0]) #rgba(204,204,204,1)', 'rgba(222,45,38,0.8)'\n",
    "ax2 = sns.distplot(products['product_description_lenght'], color=\"#7E7270\", ax=axis[1]) #\"#D84E30\""
   ]
  },
  {
   "cell_type": "markdown",
   "metadata": {
    "_uuid": "59c481a55d2e5b6a527e1467998ec9a4b7b31a51"
   },
   "source": [
    "<h3>Number of photos</h3>"
   ]
  },
  {
   "cell_type": "code",
   "execution_count": 23,
   "metadata": {
    "_kg_hide-input": true,
    "_uuid": "54bd04f415d170fa3ed0db32449d3192856c33cb"
   },
   "outputs": [
    {
     "name": "stderr",
     "output_type": "stream",
     "text": [
      "/Users/juliafreitas/anaconda3/envs/denox_python36/lib/python3.6/site-packages/plotly/tools.py:465: DeprecationWarning:\n",
      "\n",
      "plotly.tools.make_subplots is deprecated, please use plotly.subplots.make_subplots instead\n",
      "\n"
     ]
    },
    {
     "data": {
      "application/vnd.plotly.v1+json": {
       "config": {
        "linkText": "Export to plot.ly",
        "plotlyServerURL": "https://plot.ly",
        "showLink": false
       },
       "data": [
        {
         "marker": {
          "color": "rgba(222,45,38,0.8)"
         },
         "name": "Number of Orders",
         "type": "bar",
         "x": [
          1,
          2,
          3,
          4,
          5,
          6,
          7,
          8,
          9,
          10,
          11,
          12,
          13,
          14,
          15,
          17,
          18,
          19,
          20
         ],
         "xaxis": "x",
         "y": [
          56028,
          21963,
          12392,
          8437,
          5368,
          3786,
          1501,
          727,
          313,
          342,
          71,
          53,
          30,
          6,
          12,
          11,
          4,
          2,
          1
         ],
         "yaxis": "y"
        },
        {
         "marker": {
          "color": "rgba(204,204,204, 0.8)"
         },
         "name": "Produt mean value",
         "type": "bar",
         "x": [
          1,
          2,
          3,
          4,
          5,
          6,
          7,
          8,
          9,
          10,
          11,
          12,
          13,
          14,
          15,
          17,
          18,
          19,
          20
         ],
         "xaxis": "x2",
         "y": [
          113.72182872853942,
          111.51805217865268,
          135.83388315040943,
          145.61600805973666,
          135.6912518628942,
          131.93073164289603,
          158.61549633577494,
          149.07148555708318,
          128.75996805111856,
          150.63383040935707,
          75.2432394366197,
          48.150566037735885,
          41.226,
          250.145,
          86.98083333333334,
          76.45454545454548,
          88.6,
          138.94,
          110.27
         ],
         "yaxis": "y2"
        }
       ],
       "layout": {
        "height": 400,
        "legend": {
         "orientation": "h"
        },
        "template": {
         "data": {
          "bar": [
           {
            "error_x": {
             "color": "#2a3f5f"
            },
            "error_y": {
             "color": "#2a3f5f"
            },
            "marker": {
             "line": {
              "color": "#E5ECF6",
              "width": 0.5
             }
            },
            "type": "bar"
           }
          ],
          "barpolar": [
           {
            "marker": {
             "line": {
              "color": "#E5ECF6",
              "width": 0.5
             }
            },
            "type": "barpolar"
           }
          ],
          "carpet": [
           {
            "aaxis": {
             "endlinecolor": "#2a3f5f",
             "gridcolor": "white",
             "linecolor": "white",
             "minorgridcolor": "white",
             "startlinecolor": "#2a3f5f"
            },
            "baxis": {
             "endlinecolor": "#2a3f5f",
             "gridcolor": "white",
             "linecolor": "white",
             "minorgridcolor": "white",
             "startlinecolor": "#2a3f5f"
            },
            "type": "carpet"
           }
          ],
          "choropleth": [
           {
            "colorbar": {
             "outlinewidth": 0,
             "ticks": ""
            },
            "type": "choropleth"
           }
          ],
          "contour": [
           {
            "colorbar": {
             "outlinewidth": 0,
             "ticks": ""
            },
            "colorscale": [
             [
              0,
              "#0d0887"
             ],
             [
              0.1111111111111111,
              "#46039f"
             ],
             [
              0.2222222222222222,
              "#7201a8"
             ],
             [
              0.3333333333333333,
              "#9c179e"
             ],
             [
              0.4444444444444444,
              "#bd3786"
             ],
             [
              0.5555555555555556,
              "#d8576b"
             ],
             [
              0.6666666666666666,
              "#ed7953"
             ],
             [
              0.7777777777777778,
              "#fb9f3a"
             ],
             [
              0.8888888888888888,
              "#fdca26"
             ],
             [
              1,
              "#f0f921"
             ]
            ],
            "type": "contour"
           }
          ],
          "contourcarpet": [
           {
            "colorbar": {
             "outlinewidth": 0,
             "ticks": ""
            },
            "type": "contourcarpet"
           }
          ],
          "heatmap": [
           {
            "colorbar": {
             "outlinewidth": 0,
             "ticks": ""
            },
            "colorscale": [
             [
              0,
              "#0d0887"
             ],
             [
              0.1111111111111111,
              "#46039f"
             ],
             [
              0.2222222222222222,
              "#7201a8"
             ],
             [
              0.3333333333333333,
              "#9c179e"
             ],
             [
              0.4444444444444444,
              "#bd3786"
             ],
             [
              0.5555555555555556,
              "#d8576b"
             ],
             [
              0.6666666666666666,
              "#ed7953"
             ],
             [
              0.7777777777777778,
              "#fb9f3a"
             ],
             [
              0.8888888888888888,
              "#fdca26"
             ],
             [
              1,
              "#f0f921"
             ]
            ],
            "type": "heatmap"
           }
          ],
          "heatmapgl": [
           {
            "colorbar": {
             "outlinewidth": 0,
             "ticks": ""
            },
            "colorscale": [
             [
              0,
              "#0d0887"
             ],
             [
              0.1111111111111111,
              "#46039f"
             ],
             [
              0.2222222222222222,
              "#7201a8"
             ],
             [
              0.3333333333333333,
              "#9c179e"
             ],
             [
              0.4444444444444444,
              "#bd3786"
             ],
             [
              0.5555555555555556,
              "#d8576b"
             ],
             [
              0.6666666666666666,
              "#ed7953"
             ],
             [
              0.7777777777777778,
              "#fb9f3a"
             ],
             [
              0.8888888888888888,
              "#fdca26"
             ],
             [
              1,
              "#f0f921"
             ]
            ],
            "type": "heatmapgl"
           }
          ],
          "histogram": [
           {
            "marker": {
             "colorbar": {
              "outlinewidth": 0,
              "ticks": ""
             }
            },
            "type": "histogram"
           }
          ],
          "histogram2d": [
           {
            "colorbar": {
             "outlinewidth": 0,
             "ticks": ""
            },
            "colorscale": [
             [
              0,
              "#0d0887"
             ],
             [
              0.1111111111111111,
              "#46039f"
             ],
             [
              0.2222222222222222,
              "#7201a8"
             ],
             [
              0.3333333333333333,
              "#9c179e"
             ],
             [
              0.4444444444444444,
              "#bd3786"
             ],
             [
              0.5555555555555556,
              "#d8576b"
             ],
             [
              0.6666666666666666,
              "#ed7953"
             ],
             [
              0.7777777777777778,
              "#fb9f3a"
             ],
             [
              0.8888888888888888,
              "#fdca26"
             ],
             [
              1,
              "#f0f921"
             ]
            ],
            "type": "histogram2d"
           }
          ],
          "histogram2dcontour": [
           {
            "colorbar": {
             "outlinewidth": 0,
             "ticks": ""
            },
            "colorscale": [
             [
              0,
              "#0d0887"
             ],
             [
              0.1111111111111111,
              "#46039f"
             ],
             [
              0.2222222222222222,
              "#7201a8"
             ],
             [
              0.3333333333333333,
              "#9c179e"
             ],
             [
              0.4444444444444444,
              "#bd3786"
             ],
             [
              0.5555555555555556,
              "#d8576b"
             ],
             [
              0.6666666666666666,
              "#ed7953"
             ],
             [
              0.7777777777777778,
              "#fb9f3a"
             ],
             [
              0.8888888888888888,
              "#fdca26"
             ],
             [
              1,
              "#f0f921"
             ]
            ],
            "type": "histogram2dcontour"
           }
          ],
          "mesh3d": [
           {
            "colorbar": {
             "outlinewidth": 0,
             "ticks": ""
            },
            "type": "mesh3d"
           }
          ],
          "parcoords": [
           {
            "line": {
             "colorbar": {
              "outlinewidth": 0,
              "ticks": ""
             }
            },
            "type": "parcoords"
           }
          ],
          "pie": [
           {
            "automargin": true,
            "type": "pie"
           }
          ],
          "scatter": [
           {
            "marker": {
             "colorbar": {
              "outlinewidth": 0,
              "ticks": ""
             }
            },
            "type": "scatter"
           }
          ],
          "scatter3d": [
           {
            "line": {
             "colorbar": {
              "outlinewidth": 0,
              "ticks": ""
             }
            },
            "marker": {
             "colorbar": {
              "outlinewidth": 0,
              "ticks": ""
             }
            },
            "type": "scatter3d"
           }
          ],
          "scattercarpet": [
           {
            "marker": {
             "colorbar": {
              "outlinewidth": 0,
              "ticks": ""
             }
            },
            "type": "scattercarpet"
           }
          ],
          "scattergeo": [
           {
            "marker": {
             "colorbar": {
              "outlinewidth": 0,
              "ticks": ""
             }
            },
            "type": "scattergeo"
           }
          ],
          "scattergl": [
           {
            "marker": {
             "colorbar": {
              "outlinewidth": 0,
              "ticks": ""
             }
            },
            "type": "scattergl"
           }
          ],
          "scattermapbox": [
           {
            "marker": {
             "colorbar": {
              "outlinewidth": 0,
              "ticks": ""
             }
            },
            "type": "scattermapbox"
           }
          ],
          "scatterpolar": [
           {
            "marker": {
             "colorbar": {
              "outlinewidth": 0,
              "ticks": ""
             }
            },
            "type": "scatterpolar"
           }
          ],
          "scatterpolargl": [
           {
            "marker": {
             "colorbar": {
              "outlinewidth": 0,
              "ticks": ""
             }
            },
            "type": "scatterpolargl"
           }
          ],
          "scatterternary": [
           {
            "marker": {
             "colorbar": {
              "outlinewidth": 0,
              "ticks": ""
             }
            },
            "type": "scatterternary"
           }
          ],
          "surface": [
           {
            "colorbar": {
             "outlinewidth": 0,
             "ticks": ""
            },
            "colorscale": [
             [
              0,
              "#0d0887"
             ],
             [
              0.1111111111111111,
              "#46039f"
             ],
             [
              0.2222222222222222,
              "#7201a8"
             ],
             [
              0.3333333333333333,
              "#9c179e"
             ],
             [
              0.4444444444444444,
              "#bd3786"
             ],
             [
              0.5555555555555556,
              "#d8576b"
             ],
             [
              0.6666666666666666,
              "#ed7953"
             ],
             [
              0.7777777777777778,
              "#fb9f3a"
             ],
             [
              0.8888888888888888,
              "#fdca26"
             ],
             [
              1,
              "#f0f921"
             ]
            ],
            "type": "surface"
           }
          ],
          "table": [
           {
            "cells": {
             "fill": {
              "color": "#EBF0F8"
             },
             "line": {
              "color": "white"
             }
            },
            "header": {
             "fill": {
              "color": "#C8D4E3"
             },
             "line": {
              "color": "white"
             }
            },
            "type": "table"
           }
          ]
         },
         "layout": {
          "annotationdefaults": {
           "arrowcolor": "#2a3f5f",
           "arrowhead": 0,
           "arrowwidth": 1
          },
          "coloraxis": {
           "colorbar": {
            "outlinewidth": 0,
            "ticks": ""
           }
          },
          "colorscale": {
           "diverging": [
            [
             0,
             "#8e0152"
            ],
            [
             0.1,
             "#c51b7d"
            ],
            [
             0.2,
             "#de77ae"
            ],
            [
             0.3,
             "#f1b6da"
            ],
            [
             0.4,
             "#fde0ef"
            ],
            [
             0.5,
             "#f7f7f7"
            ],
            [
             0.6,
             "#e6f5d0"
            ],
            [
             0.7,
             "#b8e186"
            ],
            [
             0.8,
             "#7fbc41"
            ],
            [
             0.9,
             "#4d9221"
            ],
            [
             1,
             "#276419"
            ]
           ],
           "sequential": [
            [
             0,
             "#0d0887"
            ],
            [
             0.1111111111111111,
             "#46039f"
            ],
            [
             0.2222222222222222,
             "#7201a8"
            ],
            [
             0.3333333333333333,
             "#9c179e"
            ],
            [
             0.4444444444444444,
             "#bd3786"
            ],
            [
             0.5555555555555556,
             "#d8576b"
            ],
            [
             0.6666666666666666,
             "#ed7953"
            ],
            [
             0.7777777777777778,
             "#fb9f3a"
            ],
            [
             0.8888888888888888,
             "#fdca26"
            ],
            [
             1,
             "#f0f921"
            ]
           ],
           "sequentialminus": [
            [
             0,
             "#0d0887"
            ],
            [
             0.1111111111111111,
             "#46039f"
            ],
            [
             0.2222222222222222,
             "#7201a8"
            ],
            [
             0.3333333333333333,
             "#9c179e"
            ],
            [
             0.4444444444444444,
             "#bd3786"
            ],
            [
             0.5555555555555556,
             "#d8576b"
            ],
            [
             0.6666666666666666,
             "#ed7953"
            ],
            [
             0.7777777777777778,
             "#fb9f3a"
            ],
            [
             0.8888888888888888,
             "#fdca26"
            ],
            [
             1,
             "#f0f921"
            ]
           ]
          },
          "colorway": [
           "#636efa",
           "#EF553B",
           "#00cc96",
           "#ab63fa",
           "#FFA15A",
           "#19d3f3",
           "#FF6692",
           "#B6E880",
           "#FF97FF",
           "#FECB52"
          ],
          "font": {
           "color": "#2a3f5f"
          },
          "geo": {
           "bgcolor": "white",
           "lakecolor": "white",
           "landcolor": "#E5ECF6",
           "showlakes": true,
           "showland": true,
           "subunitcolor": "white"
          },
          "hoverlabel": {
           "align": "left"
          },
          "hovermode": "closest",
          "mapbox": {
           "style": "light"
          },
          "paper_bgcolor": "white",
          "plot_bgcolor": "#E5ECF6",
          "polar": {
           "angularaxis": {
            "gridcolor": "white",
            "linecolor": "white",
            "ticks": ""
           },
           "bgcolor": "#E5ECF6",
           "radialaxis": {
            "gridcolor": "white",
            "linecolor": "white",
            "ticks": ""
           }
          },
          "scene": {
           "xaxis": {
            "backgroundcolor": "#E5ECF6",
            "gridcolor": "white",
            "gridwidth": 2,
            "linecolor": "white",
            "showbackground": true,
            "ticks": "",
            "zerolinecolor": "white"
           },
           "yaxis": {
            "backgroundcolor": "#E5ECF6",
            "gridcolor": "white",
            "gridwidth": 2,
            "linecolor": "white",
            "showbackground": true,
            "ticks": "",
            "zerolinecolor": "white"
           },
           "zaxis": {
            "backgroundcolor": "#E5ECF6",
            "gridcolor": "white",
            "gridwidth": 2,
            "linecolor": "white",
            "showbackground": true,
            "ticks": "",
            "zerolinecolor": "white"
           }
          },
          "shapedefaults": {
           "line": {
            "color": "#2a3f5f"
           }
          },
          "ternary": {
           "aaxis": {
            "gridcolor": "white",
            "linecolor": "white",
            "ticks": ""
           },
           "baxis": {
            "gridcolor": "white",
            "linecolor": "white",
            "ticks": ""
           },
           "bgcolor": "#E5ECF6",
           "caxis": {
            "gridcolor": "white",
            "linecolor": "white",
            "ticks": ""
           }
          },
          "title": {
           "x": 0.05
          },
          "xaxis": {
           "automargin": true,
           "gridcolor": "white",
           "linecolor": "white",
           "ticks": "",
           "title": {
            "standoff": 15
           },
           "zerolinecolor": "white",
           "zerolinewidth": 2
          },
          "yaxis": {
           "automargin": true,
           "gridcolor": "white",
           "linecolor": "white",
           "ticks": "",
           "title": {
            "standoff": 15
           },
           "zerolinecolor": "white",
           "zerolinewidth": 2
          }
         }
        },
        "title": {
         "text": "Photo quantity"
        },
        "width": 800,
        "xaxis": {
         "anchor": "y",
         "domain": [
          0,
          0.45
         ]
        },
        "xaxis2": {
         "anchor": "y2",
         "domain": [
          0.55,
          1
         ]
        },
        "yaxis": {
         "anchor": "x",
         "domain": [
          0,
          1
         ]
        },
        "yaxis2": {
         "anchor": "x2",
         "domain": [
          0,
          1
         ]
        }
       }
      },
      "text/html": [
       "<div>\n",
       "        \n",
       "        \n",
       "            <div id=\"6f8e7ad5-4eef-4ab2-aa63-2350ff2e8ed8\" class=\"plotly-graph-div\" style=\"height:400px; width:800px;\"></div>\n",
       "            <script type=\"text/javascript\">\n",
       "                require([\"plotly\"], function(Plotly) {\n",
       "                    window.PLOTLYENV=window.PLOTLYENV || {};\n",
       "                    \n",
       "                if (document.getElementById(\"6f8e7ad5-4eef-4ab2-aa63-2350ff2e8ed8\")) {\n",
       "                    Plotly.newPlot(\n",
       "                        '6f8e7ad5-4eef-4ab2-aa63-2350ff2e8ed8',\n",
       "                        [{\"marker\": {\"color\": \"rgba(222,45,38,0.8)\"}, \"name\": \"Number of Orders\", \"type\": \"bar\", \"x\": [1.0, 2.0, 3.0, 4.0, 5.0, 6.0, 7.0, 8.0, 9.0, 10.0, 11.0, 12.0, 13.0, 14.0, 15.0, 17.0, 18.0, 19.0, 20.0], \"xaxis\": \"x\", \"y\": [56028, 21963, 12392, 8437, 5368, 3786, 1501, 727, 313, 342, 71, 53, 30, 6, 12, 11, 4, 2, 1], \"yaxis\": \"y\"}, {\"marker\": {\"color\": \"rgba(204,204,204, 0.8)\"}, \"name\": \"Produt mean value\", \"type\": \"bar\", \"x\": [1.0, 2.0, 3.0, 4.0, 5.0, 6.0, 7.0, 8.0, 9.0, 10.0, 11.0, 12.0, 13.0, 14.0, 15.0, 17.0, 18.0, 19.0, 20.0], \"xaxis\": \"x2\", \"y\": [113.72182872853942, 111.51805217865268, 135.83388315040943, 145.61600805973666, 135.6912518628942, 131.93073164289603, 158.61549633577494, 149.07148555708318, 128.75996805111856, 150.63383040935707, 75.2432394366197, 48.150566037735885, 41.226, 250.145, 86.98083333333334, 76.45454545454548, 88.6, 138.94, 110.27], \"yaxis\": \"y2\"}],\n",
       "                        {\"height\": 400, \"legend\": {\"orientation\": \"h\"}, \"template\": {\"data\": {\"bar\": [{\"error_x\": {\"color\": \"#2a3f5f\"}, \"error_y\": {\"color\": \"#2a3f5f\"}, \"marker\": {\"line\": {\"color\": \"#E5ECF6\", \"width\": 0.5}}, \"type\": \"bar\"}], \"barpolar\": [{\"marker\": {\"line\": {\"color\": \"#E5ECF6\", \"width\": 0.5}}, \"type\": \"barpolar\"}], \"carpet\": [{\"aaxis\": {\"endlinecolor\": \"#2a3f5f\", \"gridcolor\": \"white\", \"linecolor\": \"white\", \"minorgridcolor\": \"white\", \"startlinecolor\": \"#2a3f5f\"}, \"baxis\": {\"endlinecolor\": \"#2a3f5f\", \"gridcolor\": \"white\", \"linecolor\": \"white\", \"minorgridcolor\": \"white\", \"startlinecolor\": \"#2a3f5f\"}, \"type\": \"carpet\"}], \"choropleth\": [{\"colorbar\": {\"outlinewidth\": 0, \"ticks\": \"\"}, \"type\": \"choropleth\"}], \"contour\": [{\"colorbar\": {\"outlinewidth\": 0, \"ticks\": \"\"}, \"colorscale\": [[0.0, \"#0d0887\"], [0.1111111111111111, \"#46039f\"], [0.2222222222222222, \"#7201a8\"], [0.3333333333333333, \"#9c179e\"], [0.4444444444444444, \"#bd3786\"], [0.5555555555555556, \"#d8576b\"], [0.6666666666666666, \"#ed7953\"], [0.7777777777777778, \"#fb9f3a\"], [0.8888888888888888, \"#fdca26\"], [1.0, \"#f0f921\"]], \"type\": \"contour\"}], \"contourcarpet\": [{\"colorbar\": {\"outlinewidth\": 0, \"ticks\": \"\"}, \"type\": \"contourcarpet\"}], \"heatmap\": [{\"colorbar\": {\"outlinewidth\": 0, \"ticks\": \"\"}, \"colorscale\": [[0.0, \"#0d0887\"], [0.1111111111111111, \"#46039f\"], [0.2222222222222222, \"#7201a8\"], [0.3333333333333333, \"#9c179e\"], [0.4444444444444444, \"#bd3786\"], [0.5555555555555556, \"#d8576b\"], [0.6666666666666666, \"#ed7953\"], [0.7777777777777778, \"#fb9f3a\"], [0.8888888888888888, \"#fdca26\"], [1.0, \"#f0f921\"]], \"type\": \"heatmap\"}], \"heatmapgl\": [{\"colorbar\": {\"outlinewidth\": 0, \"ticks\": \"\"}, \"colorscale\": [[0.0, \"#0d0887\"], [0.1111111111111111, \"#46039f\"], [0.2222222222222222, \"#7201a8\"], [0.3333333333333333, \"#9c179e\"], [0.4444444444444444, \"#bd3786\"], [0.5555555555555556, \"#d8576b\"], [0.6666666666666666, \"#ed7953\"], [0.7777777777777778, \"#fb9f3a\"], [0.8888888888888888, \"#fdca26\"], [1.0, \"#f0f921\"]], \"type\": \"heatmapgl\"}], \"histogram\": [{\"marker\": {\"colorbar\": {\"outlinewidth\": 0, \"ticks\": \"\"}}, \"type\": \"histogram\"}], \"histogram2d\": [{\"colorbar\": {\"outlinewidth\": 0, \"ticks\": \"\"}, \"colorscale\": [[0.0, \"#0d0887\"], [0.1111111111111111, \"#46039f\"], [0.2222222222222222, \"#7201a8\"], [0.3333333333333333, \"#9c179e\"], [0.4444444444444444, \"#bd3786\"], [0.5555555555555556, \"#d8576b\"], [0.6666666666666666, \"#ed7953\"], [0.7777777777777778, \"#fb9f3a\"], [0.8888888888888888, \"#fdca26\"], [1.0, \"#f0f921\"]], \"type\": \"histogram2d\"}], \"histogram2dcontour\": [{\"colorbar\": {\"outlinewidth\": 0, \"ticks\": \"\"}, \"colorscale\": [[0.0, \"#0d0887\"], [0.1111111111111111, \"#46039f\"], [0.2222222222222222, \"#7201a8\"], [0.3333333333333333, \"#9c179e\"], [0.4444444444444444, \"#bd3786\"], [0.5555555555555556, \"#d8576b\"], [0.6666666666666666, \"#ed7953\"], [0.7777777777777778, \"#fb9f3a\"], [0.8888888888888888, \"#fdca26\"], [1.0, \"#f0f921\"]], \"type\": \"histogram2dcontour\"}], \"mesh3d\": [{\"colorbar\": {\"outlinewidth\": 0, \"ticks\": \"\"}, \"type\": \"mesh3d\"}], \"parcoords\": [{\"line\": {\"colorbar\": {\"outlinewidth\": 0, \"ticks\": \"\"}}, \"type\": \"parcoords\"}], \"pie\": [{\"automargin\": true, \"type\": \"pie\"}], \"scatter\": [{\"marker\": {\"colorbar\": {\"outlinewidth\": 0, \"ticks\": \"\"}}, \"type\": \"scatter\"}], \"scatter3d\": [{\"line\": {\"colorbar\": {\"outlinewidth\": 0, \"ticks\": \"\"}}, \"marker\": {\"colorbar\": {\"outlinewidth\": 0, \"ticks\": \"\"}}, \"type\": \"scatter3d\"}], \"scattercarpet\": [{\"marker\": {\"colorbar\": {\"outlinewidth\": 0, \"ticks\": \"\"}}, \"type\": \"scattercarpet\"}], \"scattergeo\": [{\"marker\": {\"colorbar\": {\"outlinewidth\": 0, \"ticks\": \"\"}}, \"type\": \"scattergeo\"}], \"scattergl\": [{\"marker\": {\"colorbar\": {\"outlinewidth\": 0, \"ticks\": \"\"}}, \"type\": \"scattergl\"}], \"scattermapbox\": [{\"marker\": {\"colorbar\": {\"outlinewidth\": 0, \"ticks\": \"\"}}, \"type\": \"scattermapbox\"}], \"scatterpolar\": [{\"marker\": {\"colorbar\": {\"outlinewidth\": 0, \"ticks\": \"\"}}, \"type\": \"scatterpolar\"}], \"scatterpolargl\": [{\"marker\": {\"colorbar\": {\"outlinewidth\": 0, \"ticks\": \"\"}}, \"type\": \"scatterpolargl\"}], \"scatterternary\": [{\"marker\": {\"colorbar\": {\"outlinewidth\": 0, \"ticks\": \"\"}}, \"type\": \"scatterternary\"}], \"surface\": [{\"colorbar\": {\"outlinewidth\": 0, \"ticks\": \"\"}, \"colorscale\": [[0.0, \"#0d0887\"], [0.1111111111111111, \"#46039f\"], [0.2222222222222222, \"#7201a8\"], [0.3333333333333333, \"#9c179e\"], [0.4444444444444444, \"#bd3786\"], [0.5555555555555556, \"#d8576b\"], [0.6666666666666666, \"#ed7953\"], [0.7777777777777778, \"#fb9f3a\"], [0.8888888888888888, \"#fdca26\"], [1.0, \"#f0f921\"]], \"type\": \"surface\"}], \"table\": [{\"cells\": {\"fill\": {\"color\": \"#EBF0F8\"}, \"line\": {\"color\": \"white\"}}, \"header\": {\"fill\": {\"color\": \"#C8D4E3\"}, \"line\": {\"color\": \"white\"}}, \"type\": \"table\"}]}, \"layout\": {\"annotationdefaults\": {\"arrowcolor\": \"#2a3f5f\", \"arrowhead\": 0, \"arrowwidth\": 1}, \"coloraxis\": {\"colorbar\": {\"outlinewidth\": 0, \"ticks\": \"\"}}, \"colorscale\": {\"diverging\": [[0, \"#8e0152\"], [0.1, \"#c51b7d\"], [0.2, \"#de77ae\"], [0.3, \"#f1b6da\"], [0.4, \"#fde0ef\"], [0.5, \"#f7f7f7\"], [0.6, \"#e6f5d0\"], [0.7, \"#b8e186\"], [0.8, \"#7fbc41\"], [0.9, \"#4d9221\"], [1, \"#276419\"]], \"sequential\": [[0.0, \"#0d0887\"], [0.1111111111111111, \"#46039f\"], [0.2222222222222222, \"#7201a8\"], [0.3333333333333333, \"#9c179e\"], [0.4444444444444444, \"#bd3786\"], [0.5555555555555556, \"#d8576b\"], [0.6666666666666666, \"#ed7953\"], [0.7777777777777778, \"#fb9f3a\"], [0.8888888888888888, \"#fdca26\"], [1.0, \"#f0f921\"]], \"sequentialminus\": [[0.0, \"#0d0887\"], [0.1111111111111111, \"#46039f\"], [0.2222222222222222, \"#7201a8\"], [0.3333333333333333, \"#9c179e\"], [0.4444444444444444, \"#bd3786\"], [0.5555555555555556, \"#d8576b\"], [0.6666666666666666, \"#ed7953\"], [0.7777777777777778, \"#fb9f3a\"], [0.8888888888888888, \"#fdca26\"], [1.0, \"#f0f921\"]]}, \"colorway\": [\"#636efa\", \"#EF553B\", \"#00cc96\", \"#ab63fa\", \"#FFA15A\", \"#19d3f3\", \"#FF6692\", \"#B6E880\", \"#FF97FF\", \"#FECB52\"], \"font\": {\"color\": \"#2a3f5f\"}, \"geo\": {\"bgcolor\": \"white\", \"lakecolor\": \"white\", \"landcolor\": \"#E5ECF6\", \"showlakes\": true, \"showland\": true, \"subunitcolor\": \"white\"}, \"hoverlabel\": {\"align\": \"left\"}, \"hovermode\": \"closest\", \"mapbox\": {\"style\": \"light\"}, \"paper_bgcolor\": \"white\", \"plot_bgcolor\": \"#E5ECF6\", \"polar\": {\"angularaxis\": {\"gridcolor\": \"white\", \"linecolor\": \"white\", \"ticks\": \"\"}, \"bgcolor\": \"#E5ECF6\", \"radialaxis\": {\"gridcolor\": \"white\", \"linecolor\": \"white\", \"ticks\": \"\"}}, \"scene\": {\"xaxis\": {\"backgroundcolor\": \"#E5ECF6\", \"gridcolor\": \"white\", \"gridwidth\": 2, \"linecolor\": \"white\", \"showbackground\": true, \"ticks\": \"\", \"zerolinecolor\": \"white\"}, \"yaxis\": {\"backgroundcolor\": \"#E5ECF6\", \"gridcolor\": \"white\", \"gridwidth\": 2, \"linecolor\": \"white\", \"showbackground\": true, \"ticks\": \"\", \"zerolinecolor\": \"white\"}, \"zaxis\": {\"backgroundcolor\": \"#E5ECF6\", \"gridcolor\": \"white\", \"gridwidth\": 2, \"linecolor\": \"white\", \"showbackground\": true, \"ticks\": \"\", \"zerolinecolor\": \"white\"}}, \"shapedefaults\": {\"line\": {\"color\": \"#2a3f5f\"}}, \"ternary\": {\"aaxis\": {\"gridcolor\": \"white\", \"linecolor\": \"white\", \"ticks\": \"\"}, \"baxis\": {\"gridcolor\": \"white\", \"linecolor\": \"white\", \"ticks\": \"\"}, \"bgcolor\": \"#E5ECF6\", \"caxis\": {\"gridcolor\": \"white\", \"linecolor\": \"white\", \"ticks\": \"\"}}, \"title\": {\"x\": 0.05}, \"xaxis\": {\"automargin\": true, \"gridcolor\": \"white\", \"linecolor\": \"white\", \"ticks\": \"\", \"title\": {\"standoff\": 15}, \"zerolinecolor\": \"white\", \"zerolinewidth\": 2}, \"yaxis\": {\"automargin\": true, \"gridcolor\": \"white\", \"linecolor\": \"white\", \"ticks\": \"\", \"title\": {\"standoff\": 15}, \"zerolinecolor\": \"white\", \"zerolinewidth\": 2}}}, \"title\": {\"text\": \"Photo quantity\"}, \"width\": 800, \"xaxis\": {\"anchor\": \"y\", \"domain\": [0.0, 0.45]}, \"xaxis2\": {\"anchor\": \"y2\", \"domain\": [0.55, 1.0]}, \"yaxis\": {\"anchor\": \"x\", \"domain\": [0.0, 1.0]}, \"yaxis2\": {\"anchor\": \"x2\", \"domain\": [0.0, 1.0]}},\n",
       "                        {\"responsive\": true}\n",
       "                    ).then(function(){\n",
       "                            \n",
       "var gd = document.getElementById('6f8e7ad5-4eef-4ab2-aa63-2350ff2e8ed8');\n",
       "var x = new MutationObserver(function (mutations, observer) {{\n",
       "        var display = window.getComputedStyle(gd).display;\n",
       "        if (!display || display === 'none') {{\n",
       "            console.log([gd, 'removed!']);\n",
       "            Plotly.purge(gd);\n",
       "            observer.disconnect();\n",
       "        }}\n",
       "}});\n",
       "\n",
       "// Listen for the removal of the full notebook cells\n",
       "var notebookContainer = gd.closest('#notebook-container');\n",
       "if (notebookContainer) {{\n",
       "    x.observe(notebookContainer, {childList: true});\n",
       "}}\n",
       "\n",
       "// Listen for the clearing of the current output cell\n",
       "var outputEl = gd.closest('.output');\n",
       "if (outputEl) {{\n",
       "    x.observe(outputEl, {childList: true});\n",
       "}}\n",
       "\n",
       "                        })\n",
       "                };\n",
       "                });\n",
       "            </script>\n",
       "        </div>"
      ]
     },
     "metadata": {},
     "output_type": "display_data"
    }
   ],
   "source": [
    "photo_qty = orders.groupby('product_photos_qty').size()\n",
    "photo_value = orders.groupby('product_photos_qty')['price'].mean()\n",
    "trace0 = go.Bar(\n",
    "    x=photo_qty.index,\n",
    "    y=photo_qty.values,\n",
    "    name='Number of Orders',\n",
    "    marker=dict(color='rgba(222,45,38,0.8)')\n",
    ")\n",
    "trace1 = go.Bar(\n",
    "    x=photo_value.index,\n",
    "    y=photo_value.values,\n",
    "    name='Produt mean value',\n",
    "    marker=dict(color='rgba(204,204,204, 0.8)')\n",
    ")\n",
    "fig = tools.make_subplots(rows=1, cols=2, print_grid=False)\n",
    "fig.append_trace(trace0, 1, 1)\n",
    "fig.append_trace(trace1, 1, 2)\n",
    "\n",
    "fig['layout'].update(height=400, width=800, title='Photo quantity',\n",
    "                     legend=dict(orientation=\"h\"))\n",
    "#fig['layout']['xaxis1'].update(title='photo quantity', domain=[0, 0.40])\n",
    "#fig['layout']['xaxis2'].update(title='photo quantity', domain=[0.6, 1])\n",
    "iplot(fig)"
   ]
  },
  {
   "cell_type": "markdown",
   "metadata": {
    "_uuid": "8d700964af2ce1a6853bccc98cf309391f8c30c1"
   },
   "source": [
    "<h3>Delivery time</h3>"
   ]
  },
  {
   "cell_type": "code",
   "execution_count": 24,
   "metadata": {},
   "outputs": [
    {
     "data": {
      "text/plain": [
       "Index(['order_id', 'customer_id', 'order_status', 'order_purchase_timestamp',\n",
       "       'order_approved_at', 'order_delivered_carrier_date',\n",
       "       'order_delivered_customer_date', 'order_estimated_delivery_date',\n",
       "       'order_item_id', 'product_id', 'seller_id', 'shipping_limit_date',\n",
       "       'price', 'freight_value', 'product_category_name',\n",
       "       'product_name_lenght', 'product_description_lenght',\n",
       "       'product_photos_qty', 'product_weight_g', 'product_length_cm',\n",
       "       'product_height_cm', 'product_width_cm', 'datetime'],\n",
       "      dtype='object')"
      ]
     },
     "execution_count": 24,
     "metadata": {},
     "output_type": "execute_result"
    }
   ],
   "source": [
    "orders.columns"
   ]
  },
  {
   "cell_type": "code",
   "execution_count": 25,
   "metadata": {
    "_kg_hide-input": true,
    "_uuid": "529f2400170b1fcc2a5a3baed15df7b6149c5049",
    "scrolled": true
   },
   "outputs": [
    {
     "data": {
      "image/png": "[encoded data removed]",
      "text/plain": [
       "<Figure size 720x288 with 1 Axes>"
      ]
     },
     "metadata": {
      "needs_background": "light"
     },
     "output_type": "display_data"
    }
   ],
   "source": [
    "# Convert columns to datetime\n",
    "orders['order_purchase_timestamp'] = pd.to_datetime(orders['order_purchase_timestamp'])\n",
    "orders['order_approved_at'] = pd.to_datetime(orders['order_approved_at'])\n",
    "orders['order_estimated_delivery_date'] = pd.to_datetime(orders['order_estimated_delivery_date'])\n",
    "orders['order_delivered_customer_date'] = pd.to_datetime(orders['order_delivered_customer_date'])\n",
    "# Calculate differences in hours\n",
    "orders['delivery_time'] = (orders['order_delivered_customer_date'] - orders['order_approved_at']).dt.total_seconds() / 86400\n",
    "orders['estimated_delivery_time'] = (orders['order_estimated_delivery_date'] - orders['order_approved_at']).dt.total_seconds() / 86400\n",
    "# Delivery estimated time and actual delivery time\n",
    "plt.figure(figsize=(10,4))\n",
    "plt.title(\"Delivery time in days\")\n",
    "ax1 = sns.kdeplot(orders['delivery_time'].dropna(), color=\"#D84E30\", label='Delivery time')\n",
    "ax2 = sns.kdeplot(orders['estimated_delivery_time'].dropna(), color=\"#7E7270\", label='Estimated delivery time')"
   ]
  },
  {
   "cell_type": "markdown",
   "metadata": {
    "_uuid": "a57261c02b3a44454e9c64e0958b00fba3fadb22"
   },
   "source": [
    "There are some outliers for the delivery time. In the next plot the delivery time was limited to two months and the x-axis is the review score:"
   ]
  },
  {
   "cell_type": "markdown",
   "metadata": {
    "_uuid": "12264994beec9ca5a65b44fee841173295b81ff4"
   },
   "source": [
    "<h2>4. Geolocation</h2>\n",
    "\n",
    "This dataset has three times more rows"
   ]
  },
  {
   "cell_type": "code",
   "execution_count": 26,
   "metadata": {
    "_uuid": "a59413b5ef2152af53b579a42907cb4fcf097646"
   },
   "outputs": [
    {
     "name": "stdout",
     "output_type": "stream",
     "text": [
      "DataFrame shape: (1000163, 5)\n"
     ]
    },
    {
     "data": {
      "text/html": [
       "<div>\n",
       "<style scoped>\n",
       "    .dataframe tbody tr th:only-of-type {\n",
       "        vertical-align: middle;\n",
       "    }\n",
       "\n",
       "    .dataframe tbody tr th {\n",
       "        vertical-align: top;\n",
       "    }\n",
       "\n",
       "    .dataframe thead th {\n",
       "        text-align: right;\n",
       "    }\n",
       "</style>\n",
       "<table border=\"1\" class=\"dataframe\">\n",
       "  <thead>\n",
       "    <tr style=\"text-align: right;\">\n",
       "      <th></th>\n",
       "      <th>geolocation_zip_code_prefix</th>\n",
       "      <th>geolocation_lat</th>\n",
       "      <th>geolocation_lng</th>\n",
       "      <th>geolocation_city</th>\n",
       "      <th>geolocation_state</th>\n",
       "    </tr>\n",
       "  </thead>\n",
       "  <tbody>\n",
       "    <tr>\n",
       "      <th>0</th>\n",
       "      <td>1037</td>\n",
       "      <td>-23.545621</td>\n",
       "      <td>-46.639292</td>\n",
       "      <td>sao paulo</td>\n",
       "      <td>SP</td>\n",
       "    </tr>\n",
       "    <tr>\n",
       "      <th>1</th>\n",
       "      <td>1046</td>\n",
       "      <td>-23.546081</td>\n",
       "      <td>-46.644820</td>\n",
       "      <td>sao paulo</td>\n",
       "      <td>SP</td>\n",
       "    </tr>\n",
       "    <tr>\n",
       "      <th>2</th>\n",
       "      <td>1046</td>\n",
       "      <td>-23.546129</td>\n",
       "      <td>-46.642951</td>\n",
       "      <td>sao paulo</td>\n",
       "      <td>SP</td>\n",
       "    </tr>\n",
       "  </tbody>\n",
       "</table>\n",
       "</div>"
      ],
      "text/plain": [
       "   geolocation_zip_code_prefix  geolocation_lat  geolocation_lng  \\\n",
       "0                         1037       -23.545621       -46.639292   \n",
       "1                         1046       -23.546081       -46.644820   \n",
       "2                         1046       -23.546129       -46.642951   \n",
       "\n",
       "  geolocation_city geolocation_state  \n",
       "0        sao paulo                SP  \n",
       "1        sao paulo                SP  \n",
       "2        sao paulo                SP  "
      ]
     },
     "execution_count": 26,
     "metadata": {},
     "output_type": "execute_result"
    }
   ],
   "source": [
    "print(\"DataFrame shape:\", geo.shape)\n",
    "geo.head(3)"
   ]
  },
  {
   "cell_type": "markdown",
   "metadata": {
    "_uuid": "117ba5e88607d63ef452ce648c2e8947199e84fc"
   },
   "source": [
    "<h3>State and City</h3>"
   ]
  },
  {
   "cell_type": "code",
   "execution_count": 27,
   "metadata": {
    "_kg_hide-input": true,
    "_uuid": "19e76b01f28104a9fab1965e9f1bcc7300e639d2"
   },
   "outputs": [
    {
     "data": {
      "application/vnd.plotly.v1+json": {
       "config": {
        "linkText": "Export to plot.ly",
        "plotlyServerURL": "https://plot.ly",
        "showLink": false
       },
       "data": [
        {
         "marker": {
          "color": "rgba(204,204,204, 0.9)"
         },
         "type": "bar",
         "x": [
          "SP",
          "MG",
          "RJ",
          "RS",
          "PR",
          "SC",
          "BA",
          "GO",
          "ES",
          "PE",
          "DF",
          "MT",
          "CE",
          "PA",
          "MS",
          "others"
         ],
         "y": [
          404268,
          126336,
          121169,
          61851,
          57859,
          38328,
          36045,
          20139,
          16748,
          16432,
          12986,
          12031,
          11674,
          10853,
          10431,
          43013
         ]
        }
       ],
       "layout": {
        "height": 400,
        "template": {
         "data": {
          "bar": [
           {
            "error_x": {
             "color": "#2a3f5f"
            },
            "error_y": {
             "color": "#2a3f5f"
            },
            "marker": {
             "line": {
              "color": "#E5ECF6",
              "width": 0.5
             }
            },
            "type": "bar"
           }
          ],
          "barpolar": [
           {
            "marker": {
             "line": {
              "color": "#E5ECF6",
              "width": 0.5
             }
            },
            "type": "barpolar"
           }
          ],
          "carpet": [
           {
            "aaxis": {
             "endlinecolor": "#2a3f5f",
             "gridcolor": "white",
             "linecolor": "white",
             "minorgridcolor": "white",
             "startlinecolor": "#2a3f5f"
            },
            "baxis": {
             "endlinecolor": "#2a3f5f",
             "gridcolor": "white",
             "linecolor": "white",
             "minorgridcolor": "white",
             "startlinecolor": "#2a3f5f"
            },
            "type": "carpet"
           }
          ],
          "choropleth": [
           {
            "colorbar": {
             "outlinewidth": 0,
             "ticks": ""
            },
            "type": "choropleth"
           }
          ],
          "contour": [
           {
            "colorbar": {
             "outlinewidth": 0,
             "ticks": ""
            },
            "colorscale": [
             [
              0,
              "#0d0887"
             ],
             [
              0.1111111111111111,
              "#46039f"
             ],
             [
              0.2222222222222222,
              "#7201a8"
             ],
             [
              0.3333333333333333,
              "#9c179e"
             ],
             [
              0.4444444444444444,
              "#bd3786"
             ],
             [
              0.5555555555555556,
              "#d8576b"
             ],
             [
              0.6666666666666666,
              "#ed7953"
             ],
             [
              0.7777777777777778,
              "#fb9f3a"
             ],
             [
              0.8888888888888888,
              "#fdca26"
             ],
             [
              1,
              "#f0f921"
             ]
            ],
            "type": "contour"
           }
          ],
          "contourcarpet": [
           {
            "colorbar": {
             "outlinewidth": 0,
             "ticks": ""
            },
            "type": "contourcarpet"
           }
          ],
          "heatmap": [
           {
            "colorbar": {
             "outlinewidth": 0,
             "ticks": ""
            },
            "colorscale": [
             [
              0,
              "#0d0887"
             ],
             [
              0.1111111111111111,
              "#46039f"
             ],
             [
              0.2222222222222222,
              "#7201a8"
             ],
             [
              0.3333333333333333,
              "#9c179e"
             ],
             [
              0.4444444444444444,
              "#bd3786"
             ],
             [
              0.5555555555555556,
              "#d8576b"
             ],
             [
              0.6666666666666666,
              "#ed7953"
             ],
             [
              0.7777777777777778,
              "#fb9f3a"
             ],
             [
              0.8888888888888888,
              "#fdca26"
             ],
             [
              1,
              "#f0f921"
             ]
            ],
            "type": "heatmap"
           }
          ],
          "heatmapgl": [
           {
            "colorbar": {
             "outlinewidth": 0,
             "ticks": ""
            },
            "colorscale": [
             [
              0,
              "#0d0887"
             ],
             [
              0.1111111111111111,
              "#46039f"
             ],
             [
              0.2222222222222222,
              "#7201a8"
             ],
             [
              0.3333333333333333,
              "#9c179e"
             ],
             [
              0.4444444444444444,
              "#bd3786"
             ],
             [
              0.5555555555555556,
              "#d8576b"
             ],
             [
              0.6666666666666666,
              "#ed7953"
             ],
             [
              0.7777777777777778,
              "#fb9f3a"
             ],
             [
              0.8888888888888888,
              "#fdca26"
             ],
             [
              1,
              "#f0f921"
             ]
            ],
            "type": "heatmapgl"
           }
          ],
          "histogram": [
           {
            "marker": {
             "colorbar": {
              "outlinewidth": 0,
              "ticks": ""
             }
            },
            "type": "histogram"
           }
          ],
          "histogram2d": [
           {
            "colorbar": {
             "outlinewidth": 0,
             "ticks": ""
            },
            "colorscale": [
             [
              0,
              "#0d0887"
             ],
             [
              0.1111111111111111,
              "#46039f"
             ],
             [
              0.2222222222222222,
              "#7201a8"
             ],
             [
              0.3333333333333333,
              "#9c179e"
             ],
             [
              0.4444444444444444,
              "#bd3786"
             ],
             [
              0.5555555555555556,
              "#d8576b"
             ],
             [
              0.6666666666666666,
              "#ed7953"
             ],
             [
              0.7777777777777778,
              "#fb9f3a"
             ],
             [
              0.8888888888888888,
              "#fdca26"
             ],
             [
              1,
              "#f0f921"
             ]
            ],
            "type": "histogram2d"
           }
          ],
          "histogram2dcontour": [
           {
            "colorbar": {
             "outlinewidth": 0,
             "ticks": ""
            },
            "colorscale": [
             [
              0,
              "#0d0887"
             ],
             [
              0.1111111111111111,
              "#46039f"
             ],
             [
              0.2222222222222222,
              "#7201a8"
             ],
             [
              0.3333333333333333,
              "#9c179e"
             ],
             [
              0.4444444444444444,
              "#bd3786"
             ],
             [
              0.5555555555555556,
              "#d8576b"
             ],
             [
              0.6666666666666666,
              "#ed7953"
             ],
             [
              0.7777777777777778,
              "#fb9f3a"
             ],
             [
              0.8888888888888888,
              "#fdca26"
             ],
             [
              1,
              "#f0f921"
             ]
            ],
            "type": "histogram2dcontour"
           }
          ],
          "mesh3d": [
           {
            "colorbar": {
             "outlinewidth": 0,
             "ticks": ""
            },
            "type": "mesh3d"
           }
          ],
          "parcoords": [
           {
            "line": {
             "colorbar": {
              "outlinewidth": 0,
              "ticks": ""
             }
            },
            "type": "parcoords"
           }
          ],
          "pie": [
           {
            "automargin": true,
            "type": "pie"
           }
          ],
          "scatter": [
           {
            "marker": {
             "colorbar": {
              "outlinewidth": 0,
              "ticks": ""
             }
            },
            "type": "scatter"
           }
          ],
          "scatter3d": [
           {
            "line": {
             "colorbar": {
              "outlinewidth": 0,
              "ticks": ""
             }
            },
            "marker": {
             "colorbar": {
              "outlinewidth": 0,
              "ticks": ""
             }
            },
            "type": "scatter3d"
           }
          ],
          "scattercarpet": [
           {
            "marker": {
             "colorbar": {
              "outlinewidth": 0,
              "ticks": ""
             }
            },
            "type": "scattercarpet"
           }
          ],
          "scattergeo": [
           {
            "marker": {
             "colorbar": {
              "outlinewidth": 0,
              "ticks": ""
             }
            },
            "type": "scattergeo"
           }
          ],
          "scattergl": [
           {
            "marker": {
             "colorbar": {
              "outlinewidth": 0,
              "ticks": ""
             }
            },
            "type": "scattergl"
           }
          ],
          "scattermapbox": [
           {
            "marker": {
             "colorbar": {
              "outlinewidth": 0,
              "ticks": ""
             }
            },
            "type": "scattermapbox"
           }
          ],
          "scatterpolar": [
           {
            "marker": {
             "colorbar": {
              "outlinewidth": 0,
              "ticks": ""
             }
            },
            "type": "scatterpolar"
           }
          ],
          "scatterpolargl": [
           {
            "marker": {
             "colorbar": {
              "outlinewidth": 0,
              "ticks": ""
             }
            },
            "type": "scatterpolargl"
           }
          ],
          "scatterternary": [
           {
            "marker": {
             "colorbar": {
              "outlinewidth": 0,
              "ticks": ""
             }
            },
            "type": "scatterternary"
           }
          ],
          "surface": [
           {
            "colorbar": {
             "outlinewidth": 0,
             "ticks": ""
            },
            "colorscale": [
             [
              0,
              "#0d0887"
             ],
             [
              0.1111111111111111,
              "#46039f"
             ],
             [
              0.2222222222222222,
              "#7201a8"
             ],
             [
              0.3333333333333333,
              "#9c179e"
             ],
             [
              0.4444444444444444,
              "#bd3786"
             ],
             [
              0.5555555555555556,
              "#d8576b"
             ],
             [
              0.6666666666666666,
              "#ed7953"
             ],
             [
              0.7777777777777778,
              "#fb9f3a"
             ],
             [
              0.8888888888888888,
              "#fdca26"
             ],
             [
              1,
              "#f0f921"
             ]
            ],
            "type": "surface"
           }
          ],
          "table": [
           {
            "cells": {
             "fill": {
              "color": "#EBF0F8"
             },
             "line": {
              "color": "white"
             }
            },
            "header": {
             "fill": {
              "color": "#C8D4E3"
             },
             "line": {
              "color": "white"
             }
            },
            "type": "table"
           }
          ]
         },
         "layout": {
          "annotationdefaults": {
           "arrowcolor": "#2a3f5f",
           "arrowhead": 0,
           "arrowwidth": 1
          },
          "coloraxis": {
           "colorbar": {
            "outlinewidth": 0,
            "ticks": ""
           }
          },
          "colorscale": {
           "diverging": [
            [
             0,
             "#8e0152"
            ],
            [
             0.1,
             "#c51b7d"
            ],
            [
             0.2,
             "#de77ae"
            ],
            [
             0.3,
             "#f1b6da"
            ],
            [
             0.4,
             "#fde0ef"
            ],
            [
             0.5,
             "#f7f7f7"
            ],
            [
             0.6,
             "#e6f5d0"
            ],
            [
             0.7,
             "#b8e186"
            ],
            [
             0.8,
             "#7fbc41"
            ],
            [
             0.9,
             "#4d9221"
            ],
            [
             1,
             "#276419"
            ]
           ],
           "sequential": [
            [
             0,
             "#0d0887"
            ],
            [
             0.1111111111111111,
             "#46039f"
            ],
            [
             0.2222222222222222,
             "#7201a8"
            ],
            [
             0.3333333333333333,
             "#9c179e"
            ],
            [
             0.4444444444444444,
             "#bd3786"
            ],
            [
             0.5555555555555556,
             "#d8576b"
            ],
            [
             0.6666666666666666,
             "#ed7953"
            ],
            [
             0.7777777777777778,
             "#fb9f3a"
            ],
            [
             0.8888888888888888,
             "#fdca26"
            ],
            [
             1,
             "#f0f921"
            ]
           ],
           "sequentialminus": [
            [
             0,
             "#0d0887"
            ],
            [
             0.1111111111111111,
             "#46039f"
            ],
            [
             0.2222222222222222,
             "#7201a8"
            ],
            [
             0.3333333333333333,
             "#9c179e"
            ],
            [
             0.4444444444444444,
             "#bd3786"
            ],
            [
             0.5555555555555556,
             "#d8576b"
            ],
            [
             0.6666666666666666,
             "#ed7953"
            ],
            [
             0.7777777777777778,
             "#fb9f3a"
            ],
            [
             0.8888888888888888,
             "#fdca26"
            ],
            [
             1,
             "#f0f921"
            ]
           ]
          },
          "colorway": [
           "#636efa",
           "#EF553B",
           "#00cc96",
           "#ab63fa",
           "#FFA15A",
           "#19d3f3",
           "#FF6692",
           "#B6E880",
           "#FF97FF",
           "#FECB52"
          ],
          "font": {
           "color": "#2a3f5f"
          },
          "geo": {
           "bgcolor": "white",
           "lakecolor": "white",
           "landcolor": "#E5ECF6",
           "showlakes": true,
           "showland": true,
           "subunitcolor": "white"
          },
          "hoverlabel": {
           "align": "left"
          },
          "hovermode": "closest",
          "mapbox": {
           "style": "light"
          },
          "paper_bgcolor": "white",
          "plot_bgcolor": "#E5ECF6",
          "polar": {
           "angularaxis": {
            "gridcolor": "white",
            "linecolor": "white",
            "ticks": ""
           },
           "bgcolor": "#E5ECF6",
           "radialaxis": {
            "gridcolor": "white",
            "linecolor": "white",
            "ticks": ""
           }
          },
          "scene": {
           "xaxis": {
            "backgroundcolor": "#E5ECF6",
            "gridcolor": "white",
            "gridwidth": 2,
            "linecolor": "white",
            "showbackground": true,
            "ticks": "",
            "zerolinecolor": "white"
           },
           "yaxis": {
            "backgroundcolor": "#E5ECF6",
            "gridcolor": "white",
            "gridwidth": 2,
            "linecolor": "white",
            "showbackground": true,
            "ticks": "",
            "zerolinecolor": "white"
           },
           "zaxis": {
            "backgroundcolor": "#E5ECF6",
            "gridcolor": "white",
            "gridwidth": 2,
            "linecolor": "white",
            "showbackground": true,
            "ticks": "",
            "zerolinecolor": "white"
           }
          },
          "shapedefaults": {
           "line": {
            "color": "#2a3f5f"
           }
          },
          "ternary": {
           "aaxis": {
            "gridcolor": "white",
            "linecolor": "white",
            "ticks": ""
           },
           "baxis": {
            "gridcolor": "white",
            "linecolor": "white",
            "ticks": ""
           },
           "bgcolor": "#E5ECF6",
           "caxis": {
            "gridcolor": "white",
            "linecolor": "white",
            "ticks": ""
           }
          },
          "title": {
           "x": 0.05
          },
          "xaxis": {
           "automargin": true,
           "gridcolor": "white",
           "linecolor": "white",
           "ticks": "",
           "title": {
            "standoff": 15
           },
           "zerolinecolor": "white",
           "zerolinewidth": 2
          },
          "yaxis": {
           "automargin": true,
           "gridcolor": "white",
           "linecolor": "white",
           "ticks": "",
           "title": {
            "standoff": 15
           },
           "zerolinecolor": "white",
           "zerolinewidth": 2
          }
         }
        },
        "title": {
         "text": "Number of rows for each state"
        },
        "width": 800
       }
      },
      "text/html": [
       "<div>\n",
       "        \n",
       "        \n",
       "            <div id=\"5dc92987-5267-461d-a885-a139ad8ed69e\" class=\"plotly-graph-div\" style=\"height:400px; width:800px;\"></div>\n",
       "            <script type=\"text/javascript\">\n",
       "                require([\"plotly\"], function(Plotly) {\n",
       "                    window.PLOTLYENV=window.PLOTLYENV || {};\n",
       "                    \n",
       "                if (document.getElementById(\"5dc92987-5267-461d-a885-a139ad8ed69e\")) {\n",
       "                    Plotly.newPlot(\n",
       "                        '5dc92987-5267-461d-a885-a139ad8ed69e',\n",
       "                        [{\"marker\": {\"color\": \"rgba(204,204,204, 0.9)\"}, \"type\": \"bar\", \"x\": [\"SP\", \"MG\", \"RJ\", \"RS\", \"PR\", \"SC\", \"BA\", \"GO\", \"ES\", \"PE\", \"DF\", \"MT\", \"CE\", \"PA\", \"MS\", \"others\"], \"y\": [404268, 126336, 121169, 61851, 57859, 38328, 36045, 20139, 16748, 16432, 12986, 12031, 11674, 10853, 10431, 43013]}],\n",
       "                        {\"height\": 400, \"template\": {\"data\": {\"bar\": [{\"error_x\": {\"color\": \"#2a3f5f\"}, \"error_y\": {\"color\": \"#2a3f5f\"}, \"marker\": {\"line\": {\"color\": \"#E5ECF6\", \"width\": 0.5}}, \"type\": \"bar\"}], \"barpolar\": [{\"marker\": {\"line\": {\"color\": \"#E5ECF6\", \"width\": 0.5}}, \"type\": \"barpolar\"}], \"carpet\": [{\"aaxis\": {\"endlinecolor\": \"#2a3f5f\", \"gridcolor\": \"white\", \"linecolor\": \"white\", \"minorgridcolor\": \"white\", \"startlinecolor\": \"#2a3f5f\"}, \"baxis\": {\"endlinecolor\": \"#2a3f5f\", \"gridcolor\": \"white\", \"linecolor\": \"white\", \"minorgridcolor\": \"white\", \"startlinecolor\": \"#2a3f5f\"}, \"type\": \"carpet\"}], \"choropleth\": [{\"colorbar\": {\"outlinewidth\": 0, \"ticks\": \"\"}, \"type\": \"choropleth\"}], \"contour\": [{\"colorbar\": {\"outlinewidth\": 0, \"ticks\": \"\"}, \"colorscale\": [[0.0, \"#0d0887\"], [0.1111111111111111, \"#46039f\"], [0.2222222222222222, \"#7201a8\"], [0.3333333333333333, \"#9c179e\"], [0.4444444444444444, \"#bd3786\"], [0.5555555555555556, \"#d8576b\"], [0.6666666666666666, \"#ed7953\"], [0.7777777777777778, \"#fb9f3a\"], [0.8888888888888888, \"#fdca26\"], [1.0, \"#f0f921\"]], \"type\": \"contour\"}], \"contourcarpet\": [{\"colorbar\": {\"outlinewidth\": 0, \"ticks\": \"\"}, \"type\": \"contourcarpet\"}], \"heatmap\": [{\"colorbar\": {\"outlinewidth\": 0, \"ticks\": \"\"}, \"colorscale\": [[0.0, \"#0d0887\"], [0.1111111111111111, \"#46039f\"], [0.2222222222222222, \"#7201a8\"], [0.3333333333333333, \"#9c179e\"], [0.4444444444444444, \"#bd3786\"], [0.5555555555555556, \"#d8576b\"], [0.6666666666666666, \"#ed7953\"], [0.7777777777777778, \"#fb9f3a\"], [0.8888888888888888, \"#fdca26\"], [1.0, \"#f0f921\"]], \"type\": \"heatmap\"}], \"heatmapgl\": [{\"colorbar\": {\"outlinewidth\": 0, \"ticks\": \"\"}, \"colorscale\": [[0.0, \"#0d0887\"], [0.1111111111111111, \"#46039f\"], [0.2222222222222222, \"#7201a8\"], [0.3333333333333333, \"#9c179e\"], [0.4444444444444444, \"#bd3786\"], [0.5555555555555556, \"#d8576b\"], [0.6666666666666666, \"#ed7953\"], [0.7777777777777778, \"#fb9f3a\"], [0.8888888888888888, \"#fdca26\"], [1.0, \"#f0f921\"]], \"type\": \"heatmapgl\"}], \"histogram\": [{\"marker\": {\"colorbar\": {\"outlinewidth\": 0, \"ticks\": \"\"}}, \"type\": \"histogram\"}], \"histogram2d\": [{\"colorbar\": {\"outlinewidth\": 0, \"ticks\": \"\"}, \"colorscale\": [[0.0, \"#0d0887\"], [0.1111111111111111, \"#46039f\"], [0.2222222222222222, \"#7201a8\"], [0.3333333333333333, \"#9c179e\"], [0.4444444444444444, \"#bd3786\"], [0.5555555555555556, \"#d8576b\"], [0.6666666666666666, \"#ed7953\"], [0.7777777777777778, \"#fb9f3a\"], [0.8888888888888888, \"#fdca26\"], [1.0, \"#f0f921\"]], \"type\": \"histogram2d\"}], \"histogram2dcontour\": [{\"colorbar\": {\"outlinewidth\": 0, \"ticks\": \"\"}, \"colorscale\": [[0.0, \"#0d0887\"], [0.1111111111111111, \"#46039f\"], [0.2222222222222222, \"#7201a8\"], [0.3333333333333333, \"#9c179e\"], [0.4444444444444444, \"#bd3786\"], [0.5555555555555556, \"#d8576b\"], [0.6666666666666666, \"#ed7953\"], [0.7777777777777778, \"#fb9f3a\"], [0.8888888888888888, \"#fdca26\"], [1.0, \"#f0f921\"]], \"type\": \"histogram2dcontour\"}], \"mesh3d\": [{\"colorbar\": {\"outlinewidth\": 0, \"ticks\": \"\"}, \"type\": \"mesh3d\"}], \"parcoords\": [{\"line\": {\"colorbar\": {\"outlinewidth\": 0, \"ticks\": \"\"}}, \"type\": \"parcoords\"}], \"pie\": [{\"automargin\": true, \"type\": \"pie\"}], \"scatter\": [{\"marker\": {\"colorbar\": {\"outlinewidth\": 0, \"ticks\": \"\"}}, \"type\": \"scatter\"}], \"scatter3d\": [{\"line\": {\"colorbar\": {\"outlinewidth\": 0, \"ticks\": \"\"}}, \"marker\": {\"colorbar\": {\"outlinewidth\": 0, \"ticks\": \"\"}}, \"type\": \"scatter3d\"}], \"scattercarpet\": [{\"marker\": {\"colorbar\": {\"outlinewidth\": 0, \"ticks\": \"\"}}, \"type\": \"scattercarpet\"}], \"scattergeo\": [{\"marker\": {\"colorbar\": {\"outlinewidth\": 0, \"ticks\": \"\"}}, \"type\": \"scattergeo\"}], \"scattergl\": [{\"marker\": {\"colorbar\": {\"outlinewidth\": 0, \"ticks\": \"\"}}, \"type\": \"scattergl\"}], \"scattermapbox\": [{\"marker\": {\"colorbar\": {\"outlinewidth\": 0, \"ticks\": \"\"}}, \"type\": \"scattermapbox\"}], \"scatterpolar\": [{\"marker\": {\"colorbar\": {\"outlinewidth\": 0, \"ticks\": \"\"}}, \"type\": \"scatterpolar\"}], \"scatterpolargl\": [{\"marker\": {\"colorbar\": {\"outlinewidth\": 0, \"ticks\": \"\"}}, \"type\": \"scatterpolargl\"}], \"scatterternary\": [{\"marker\": {\"colorbar\": {\"outlinewidth\": 0, \"ticks\": \"\"}}, \"type\": \"scatterternary\"}], \"surface\": [{\"colorbar\": {\"outlinewidth\": 0, \"ticks\": \"\"}, \"colorscale\": [[0.0, \"#0d0887\"], [0.1111111111111111, \"#46039f\"], [0.2222222222222222, \"#7201a8\"], [0.3333333333333333, \"#9c179e\"], [0.4444444444444444, \"#bd3786\"], [0.5555555555555556, \"#d8576b\"], [0.6666666666666666, \"#ed7953\"], [0.7777777777777778, \"#fb9f3a\"], [0.8888888888888888, \"#fdca26\"], [1.0, \"#f0f921\"]], \"type\": \"surface\"}], \"table\": [{\"cells\": {\"fill\": {\"color\": \"#EBF0F8\"}, \"line\": {\"color\": \"white\"}}, \"header\": {\"fill\": {\"color\": \"#C8D4E3\"}, \"line\": {\"color\": \"white\"}}, \"type\": \"table\"}]}, \"layout\": {\"annotationdefaults\": {\"arrowcolor\": \"#2a3f5f\", \"arrowhead\": 0, \"arrowwidth\": 1}, \"coloraxis\": {\"colorbar\": {\"outlinewidth\": 0, \"ticks\": \"\"}}, \"colorscale\": {\"diverging\": [[0, \"#8e0152\"], [0.1, \"#c51b7d\"], [0.2, \"#de77ae\"], [0.3, \"#f1b6da\"], [0.4, \"#fde0ef\"], [0.5, \"#f7f7f7\"], [0.6, \"#e6f5d0\"], [0.7, \"#b8e186\"], [0.8, \"#7fbc41\"], [0.9, \"#4d9221\"], [1, \"#276419\"]], \"sequential\": [[0.0, \"#0d0887\"], [0.1111111111111111, \"#46039f\"], [0.2222222222222222, \"#7201a8\"], [0.3333333333333333, \"#9c179e\"], [0.4444444444444444, \"#bd3786\"], [0.5555555555555556, \"#d8576b\"], [0.6666666666666666, \"#ed7953\"], [0.7777777777777778, \"#fb9f3a\"], [0.8888888888888888, \"#fdca26\"], [1.0, \"#f0f921\"]], \"sequentialminus\": [[0.0, \"#0d0887\"], [0.1111111111111111, \"#46039f\"], [0.2222222222222222, \"#7201a8\"], [0.3333333333333333, \"#9c179e\"], [0.4444444444444444, \"#bd3786\"], [0.5555555555555556, \"#d8576b\"], [0.6666666666666666, \"#ed7953\"], [0.7777777777777778, \"#fb9f3a\"], [0.8888888888888888, \"#fdca26\"], [1.0, \"#f0f921\"]]}, \"colorway\": [\"#636efa\", \"#EF553B\", \"#00cc96\", \"#ab63fa\", \"#FFA15A\", \"#19d3f3\", \"#FF6692\", \"#B6E880\", \"#FF97FF\", \"#FECB52\"], \"font\": {\"color\": \"#2a3f5f\"}, \"geo\": {\"bgcolor\": \"white\", \"lakecolor\": \"white\", \"landcolor\": \"#E5ECF6\", \"showlakes\": true, \"showland\": true, \"subunitcolor\": \"white\"}, \"hoverlabel\": {\"align\": \"left\"}, \"hovermode\": \"closest\", \"mapbox\": {\"style\": \"light\"}, \"paper_bgcolor\": \"white\", \"plot_bgcolor\": \"#E5ECF6\", \"polar\": {\"angularaxis\": {\"gridcolor\": \"white\", \"linecolor\": \"white\", \"ticks\": \"\"}, \"bgcolor\": \"#E5ECF6\", \"radialaxis\": {\"gridcolor\": \"white\", \"linecolor\": \"white\", \"ticks\": \"\"}}, \"scene\": {\"xaxis\": {\"backgroundcolor\": \"#E5ECF6\", \"gridcolor\": \"white\", \"gridwidth\": 2, \"linecolor\": \"white\", \"showbackground\": true, \"ticks\": \"\", \"zerolinecolor\": \"white\"}, \"yaxis\": {\"backgroundcolor\": \"#E5ECF6\", \"gridcolor\": \"white\", \"gridwidth\": 2, \"linecolor\": \"white\", \"showbackground\": true, \"ticks\": \"\", \"zerolinecolor\": \"white\"}, \"zaxis\": {\"backgroundcolor\": \"#E5ECF6\", \"gridcolor\": \"white\", \"gridwidth\": 2, \"linecolor\": \"white\", \"showbackground\": true, \"ticks\": \"\", \"zerolinecolor\": \"white\"}}, \"shapedefaults\": {\"line\": {\"color\": \"#2a3f5f\"}}, \"ternary\": {\"aaxis\": {\"gridcolor\": \"white\", \"linecolor\": \"white\", \"ticks\": \"\"}, \"baxis\": {\"gridcolor\": \"white\", \"linecolor\": \"white\", \"ticks\": \"\"}, \"bgcolor\": \"#E5ECF6\", \"caxis\": {\"gridcolor\": \"white\", \"linecolor\": \"white\", \"ticks\": \"\"}}, \"title\": {\"x\": 0.05}, \"xaxis\": {\"automargin\": true, \"gridcolor\": \"white\", \"linecolor\": \"white\", \"ticks\": \"\", \"title\": {\"standoff\": 15}, \"zerolinecolor\": \"white\", \"zerolinewidth\": 2}, \"yaxis\": {\"automargin\": true, \"gridcolor\": \"white\", \"linecolor\": \"white\", \"ticks\": \"\", \"title\": {\"standoff\": 15}, \"zerolinecolor\": \"white\", \"zerolinewidth\": 2}}}, \"title\": {\"text\": \"Number of rows for each state\"}, \"width\": 800},\n",
       "                        {\"responsive\": true}\n",
       "                    ).then(function(){\n",
       "                            \n",
       "var gd = document.getElementById('5dc92987-5267-461d-a885-a139ad8ed69e');\n",
       "var x = new MutationObserver(function (mutations, observer) {{\n",
       "        var display = window.getComputedStyle(gd).display;\n",
       "        if (!display || display === 'none') {{\n",
       "            console.log([gd, 'removed!']);\n",
       "            Plotly.purge(gd);\n",
       "            observer.disconnect();\n",
       "        }}\n",
       "}});\n",
       "\n",
       "// Listen for the removal of the full notebook cells\n",
       "var notebookContainer = gd.closest('#notebook-container');\n",
       "if (notebookContainer) {{\n",
       "    x.observe(notebookContainer, {childList: true});\n",
       "}}\n",
       "\n",
       "// Listen for the clearing of the current output cell\n",
       "var outputEl = gd.closest('.output');\n",
       "if (outputEl) {{\n",
       "    x.observe(outputEl, {childList: true});\n",
       "}}\n",
       "\n",
       "                        })\n",
       "                };\n",
       "                });\n",
       "            </script>\n",
       "        </div>"
      ]
     },
     "metadata": {},
     "output_type": "display_data"
    }
   ],
   "source": [
    "count_state = geo['geolocation_state'].value_counts()\n",
    "count_state['others'] = count_state[count_state < 10000].sum()\n",
    "trace = go.Bar(\n",
    "    x= count_state[count_state >= 10000].index,\n",
    "    y= count_state[count_state >= 10000].values,\n",
    "    marker=dict(color='rgba(204,204,204, 0.9)')\n",
    ")\n",
    "layout = go.Layout(title='Number of rows for each state', height=400, width=800)\n",
    "fig = go.Figure(data=[trace], layout=layout)\n",
    "iplot(fig, filename='color-bar')"
   ]
  },
  {
   "cell_type": "code",
   "execution_count": 28,
   "metadata": {
    "_kg_hide-input": true,
    "_uuid": "d7bd89b65c16d154515b55666c94ea6f8d0b4076"
   },
   "outputs": [
    {
     "data": {
      "application/vnd.plotly.v1+json": {
       "config": {
        "linkText": "Export to plot.ly",
        "plotlyServerURL": "https://plot.ly",
        "showLink": false
       },
       "data": [
        {
         "marker": {
          "color": "rgba(222,45,38,0.8)"
         },
         "type": "bar",
         "x": [
          "sao paulo",
          "rio de janeiro",
          "belo horizonte",
          "são paulo",
          "curitiba",
          "porto alegre",
          "salvador",
          "guarulhos",
          "brasilia",
          "sao bernardo do campo",
          "osasco",
          "santo andre",
          "niteroi",
          "recife",
          "goiania",
          "fortaleza",
          "campinas",
          "sorocaba",
          "santos",
          "barueri",
          "juiz de fora",
          "contagem",
          "campo grande",
          "ribeirao preto",
          "florianopolis",
          "nova iguacu",
          "mogi das cruzes",
          "belem",
          "sao jose dos campos",
          "sao goncalo",
          "uberlandia",
          "vitoria",
          "duque de caxias",
          "bauru",
          "sao jose do rio preto",
          "londrina",
          "carapicuiba",
          "others"
         ],
         "y": [
          135800,
          62151,
          27805,
          24918,
          16593,
          13521,
          11865,
          11340,
          10470,
          8112,
          7658,
          6863,
          6534,
          6168,
          5661,
          5538,
          5479,
          5361,
          5000,
          4971,
          4679,
          4395,
          4332,
          4187,
          4148,
          4022,
          3913,
          3789,
          3759,
          3601,
          3520,
          3478,
          3444,
          3270,
          3190,
          3144,
          3041,
          554443
         ]
        }
       ],
       "layout": {
        "height": 400,
        "template": {
         "data": {
          "bar": [
           {
            "error_x": {
             "color": "#2a3f5f"
            },
            "error_y": {
             "color": "#2a3f5f"
            },
            "marker": {
             "line": {
              "color": "#E5ECF6",
              "width": 0.5
             }
            },
            "type": "bar"
           }
          ],
          "barpolar": [
           {
            "marker": {
             "line": {
              "color": "#E5ECF6",
              "width": 0.5
             }
            },
            "type": "barpolar"
           }
          ],
          "carpet": [
           {
            "aaxis": {
             "endlinecolor": "#2a3f5f",
             "gridcolor": "white",
             "linecolor": "white",
             "minorgridcolor": "white",
             "startlinecolor": "#2a3f5f"
            },
            "baxis": {
             "endlinecolor": "#2a3f5f",
             "gridcolor": "white",
             "linecolor": "white",
             "minorgridcolor": "white",
             "startlinecolor": "#2a3f5f"
            },
            "type": "carpet"
           }
          ],
          "choropleth": [
           {
            "colorbar": {
             "outlinewidth": 0,
             "ticks": ""
            },
            "type": "choropleth"
           }
          ],
          "contour": [
           {
            "colorbar": {
             "outlinewidth": 0,
             "ticks": ""
            },
            "colorscale": [
             [
              0,
              "#0d0887"
             ],
             [
              0.1111111111111111,
              "#46039f"
             ],
             [
              0.2222222222222222,
              "#7201a8"
             ],
             [
              0.3333333333333333,
              "#9c179e"
             ],
             [
              0.4444444444444444,
              "#bd3786"
             ],
             [
              0.5555555555555556,
              "#d8576b"
             ],
             [
              0.6666666666666666,
              "#ed7953"
             ],
             [
              0.7777777777777778,
              "#fb9f3a"
             ],
             [
              0.8888888888888888,
              "#fdca26"
             ],
             [
              1,
              "#f0f921"
             ]
            ],
            "type": "contour"
           }
          ],
          "contourcarpet": [
           {
            "colorbar": {
             "outlinewidth": 0,
             "ticks": ""
            },
            "type": "contourcarpet"
           }
          ],
          "heatmap": [
           {
            "colorbar": {
             "outlinewidth": 0,
             "ticks": ""
            },
            "colorscale": [
             [
              0,
              "#0d0887"
             ],
             [
              0.1111111111111111,
              "#46039f"
             ],
             [
              0.2222222222222222,
              "#7201a8"
             ],
             [
              0.3333333333333333,
              "#9c179e"
             ],
             [
              0.4444444444444444,
              "#bd3786"
             ],
             [
              0.5555555555555556,
              "#d8576b"
             ],
             [
              0.6666666666666666,
              "#ed7953"
             ],
             [
              0.7777777777777778,
              "#fb9f3a"
             ],
             [
              0.8888888888888888,
              "#fdca26"
             ],
             [
              1,
              "#f0f921"
             ]
            ],
            "type": "heatmap"
           }
          ],
          "heatmapgl": [
           {
            "colorbar": {
             "outlinewidth": 0,
             "ticks": ""
            },
            "colorscale": [
             [
              0,
              "#0d0887"
             ],
             [
              0.1111111111111111,
              "#46039f"
             ],
             [
              0.2222222222222222,
              "#7201a8"
             ],
             [
              0.3333333333333333,
              "#9c179e"
             ],
             [
              0.4444444444444444,
              "#bd3786"
             ],
             [
              0.5555555555555556,
              "#d8576b"
             ],
             [
              0.6666666666666666,
              "#ed7953"
             ],
             [
              0.7777777777777778,
              "#fb9f3a"
             ],
             [
              0.8888888888888888,
              "#fdca26"
             ],
             [
              1,
              "#f0f921"
             ]
            ],
            "type": "heatmapgl"
           }
          ],
          "histogram": [
           {
            "marker": {
             "colorbar": {
              "outlinewidth": 0,
              "ticks": ""
             }
            },
            "type": "histogram"
           }
          ],
          "histogram2d": [
           {
            "colorbar": {
             "outlinewidth": 0,
             "ticks": ""
            },
            "colorscale": [
             [
              0,
              "#0d0887"
             ],
             [
              0.1111111111111111,
              "#46039f"
             ],
             [
              0.2222222222222222,
              "#7201a8"
             ],
             [
              0.3333333333333333,
              "#9c179e"
             ],
             [
              0.4444444444444444,
              "#bd3786"
             ],
             [
              0.5555555555555556,
              "#d8576b"
             ],
             [
              0.6666666666666666,
              "#ed7953"
             ],
             [
              0.7777777777777778,
              "#fb9f3a"
             ],
             [
              0.8888888888888888,
              "#fdca26"
             ],
             [
              1,
              "#f0f921"
             ]
            ],
            "type": "histogram2d"
           }
          ],
          "histogram2dcontour": [
           {
            "colorbar": {
             "outlinewidth": 0,
             "ticks": ""
            },
            "colorscale": [
             [
              0,
              "#0d0887"
             ],
             [
              0.1111111111111111,
              "#46039f"
             ],
             [
              0.2222222222222222,
              "#7201a8"
             ],
             [
              0.3333333333333333,
              "#9c179e"
             ],
             [
              0.4444444444444444,
              "#bd3786"
             ],
             [
              0.5555555555555556,
              "#d8576b"
             ],
             [
              0.6666666666666666,
              "#ed7953"
             ],
             [
              0.7777777777777778,
              "#fb9f3a"
             ],
             [
              0.8888888888888888,
              "#fdca26"
             ],
             [
              1,
              "#f0f921"
             ]
            ],
            "type": "histogram2dcontour"
           }
          ],
          "mesh3d": [
           {
            "colorbar": {
             "outlinewidth": 0,
             "ticks": ""
            },
            "type": "mesh3d"
           }
          ],
          "parcoords": [
           {
            "line": {
             "colorbar": {
              "outlinewidth": 0,
              "ticks": ""
             }
            },
            "type": "parcoords"
           }
          ],
          "pie": [
           {
            "automargin": true,
            "type": "pie"
           }
          ],
          "scatter": [
           {
            "marker": {
             "colorbar": {
              "outlinewidth": 0,
              "ticks": ""
             }
            },
            "type": "scatter"
           }
          ],
          "scatter3d": [
           {
            "line": {
             "colorbar": {
              "outlinewidth": 0,
              "ticks": ""
             }
            },
            "marker": {
             "colorbar": {
              "outlinewidth": 0,
              "ticks": ""
             }
            },
            "type": "scatter3d"
           }
          ],
          "scattercarpet": [
           {
            "marker": {
             "colorbar": {
              "outlinewidth": 0,
              "ticks": ""
             }
            },
            "type": "scattercarpet"
           }
          ],
          "scattergeo": [
           {
            "marker": {
             "colorbar": {
              "outlinewidth": 0,
              "ticks": ""
             }
            },
            "type": "scattergeo"
           }
          ],
          "scattergl": [
           {
            "marker": {
             "colorbar": {
              "outlinewidth": 0,
              "ticks": ""
             }
            },
            "type": "scattergl"
           }
          ],
          "scattermapbox": [
           {
            "marker": {
             "colorbar": {
              "outlinewidth": 0,
              "ticks": ""
             }
            },
            "type": "scattermapbox"
           }
          ],
          "scatterpolar": [
           {
            "marker": {
             "colorbar": {
              "outlinewidth": 0,
              "ticks": ""
             }
            },
            "type": "scatterpolar"
           }
          ],
          "scatterpolargl": [
           {
            "marker": {
             "colorbar": {
              "outlinewidth": 0,
              "ticks": ""
             }
            },
            "type": "scatterpolargl"
           }
          ],
          "scatterternary": [
           {
            "marker": {
             "colorbar": {
              "outlinewidth": 0,
              "ticks": ""
             }
            },
            "type": "scatterternary"
           }
          ],
          "surface": [
           {
            "colorbar": {
             "outlinewidth": 0,
             "ticks": ""
            },
            "colorscale": [
             [
              0,
              "#0d0887"
             ],
             [
              0.1111111111111111,
              "#46039f"
             ],
             [
              0.2222222222222222,
              "#7201a8"
             ],
             [
              0.3333333333333333,
              "#9c179e"
             ],
             [
              0.4444444444444444,
              "#bd3786"
             ],
             [
              0.5555555555555556,
              "#d8576b"
             ],
             [
              0.6666666666666666,
              "#ed7953"
             ],
             [
              0.7777777777777778,
              "#fb9f3a"
             ],
             [
              0.8888888888888888,
              "#fdca26"
             ],
             [
              1,
              "#f0f921"
             ]
            ],
            "type": "surface"
           }
          ],
          "table": [
           {
            "cells": {
             "fill": {
              "color": "#EBF0F8"
             },
             "line": {
              "color": "white"
             }
            },
            "header": {
             "fill": {
              "color": "#C8D4E3"
             },
             "line": {
              "color": "white"
             }
            },
            "type": "table"
           }
          ]
         },
         "layout": {
          "annotationdefaults": {
           "arrowcolor": "#2a3f5f",
           "arrowhead": 0,
           "arrowwidth": 1
          },
          "coloraxis": {
           "colorbar": {
            "outlinewidth": 0,
            "ticks": ""
           }
          },
          "colorscale": {
           "diverging": [
            [
             0,
             "#8e0152"
            ],
            [
             0.1,
             "#c51b7d"
            ],
            [
             0.2,
             "#de77ae"
            ],
            [
             0.3,
             "#f1b6da"
            ],
            [
             0.4,
             "#fde0ef"
            ],
            [
             0.5,
             "#f7f7f7"
            ],
            [
             0.6,
             "#e6f5d0"
            ],
            [
             0.7,
             "#b8e186"
            ],
            [
             0.8,
             "#7fbc41"
            ],
            [
             0.9,
             "#4d9221"
            ],
            [
             1,
             "#276419"
            ]
           ],
           "sequential": [
            [
             0,
             "#0d0887"
            ],
            [
             0.1111111111111111,
             "#46039f"
            ],
            [
             0.2222222222222222,
             "#7201a8"
            ],
            [
             0.3333333333333333,
             "#9c179e"
            ],
            [
             0.4444444444444444,
             "#bd3786"
            ],
            [
             0.5555555555555556,
             "#d8576b"
            ],
            [
             0.6666666666666666,
             "#ed7953"
            ],
            [
             0.7777777777777778,
             "#fb9f3a"
            ],
            [
             0.8888888888888888,
             "#fdca26"
            ],
            [
             1,
             "#f0f921"
            ]
           ],
           "sequentialminus": [
            [
             0,
             "#0d0887"
            ],
            [
             0.1111111111111111,
             "#46039f"
            ],
            [
             0.2222222222222222,
             "#7201a8"
            ],
            [
             0.3333333333333333,
             "#9c179e"
            ],
            [
             0.4444444444444444,
             "#bd3786"
            ],
            [
             0.5555555555555556,
             "#d8576b"
            ],
            [
             0.6666666666666666,
             "#ed7953"
            ],
            [
             0.7777777777777778,
             "#fb9f3a"
            ],
            [
             0.8888888888888888,
             "#fdca26"
            ],
            [
             1,
             "#f0f921"
            ]
           ]
          },
          "colorway": [
           "#636efa",
           "#EF553B",
           "#00cc96",
           "#ab63fa",
           "#FFA15A",
           "#19d3f3",
           "#FF6692",
           "#B6E880",
           "#FF97FF",
           "#FECB52"
          ],
          "font": {
           "color": "#2a3f5f"
          },
          "geo": {
           "bgcolor": "white",
           "lakecolor": "white",
           "landcolor": "#E5ECF6",
           "showlakes": true,
           "showland": true,
           "subunitcolor": "white"
          },
          "hoverlabel": {
           "align": "left"
          },
          "hovermode": "closest",
          "mapbox": {
           "style": "light"
          },
          "paper_bgcolor": "white",
          "plot_bgcolor": "#E5ECF6",
          "polar": {
           "angularaxis": {
            "gridcolor": "white",
            "linecolor": "white",
            "ticks": ""
           },
           "bgcolor": "#E5ECF6",
           "radialaxis": {
            "gridcolor": "white",
            "linecolor": "white",
            "ticks": ""
           }
          },
          "scene": {
           "xaxis": {
            "backgroundcolor": "#E5ECF6",
            "gridcolor": "white",
            "gridwidth": 2,
            "linecolor": "white",
            "showbackground": true,
            "ticks": "",
            "zerolinecolor": "white"
           },
           "yaxis": {
            "backgroundcolor": "#E5ECF6",
            "gridcolor": "white",
            "gridwidth": 2,
            "linecolor": "white",
            "showbackground": true,
            "ticks": "",
            "zerolinecolor": "white"
           },
           "zaxis": {
            "backgroundcolor": "#E5ECF6",
            "gridcolor": "white",
            "gridwidth": 2,
            "linecolor": "white",
            "showbackground": true,
            "ticks": "",
            "zerolinecolor": "white"
           }
          },
          "shapedefaults": {
           "line": {
            "color": "#2a3f5f"
           }
          },
          "ternary": {
           "aaxis": {
            "gridcolor": "white",
            "linecolor": "white",
            "ticks": ""
           },
           "baxis": {
            "gridcolor": "white",
            "linecolor": "white",
            "ticks": ""
           },
           "bgcolor": "#E5ECF6",
           "caxis": {
            "gridcolor": "white",
            "linecolor": "white",
            "ticks": ""
           }
          },
          "title": {
           "x": 0.05
          },
          "xaxis": {
           "automargin": true,
           "gridcolor": "white",
           "linecolor": "white",
           "ticks": "",
           "title": {
            "standoff": 15
           },
           "zerolinecolor": "white",
           "zerolinewidth": 2
          },
          "yaxis": {
           "automargin": true,
           "gridcolor": "white",
           "linecolor": "white",
           "ticks": "",
           "title": {
            "standoff": 15
           },
           "zerolinecolor": "white",
           "zerolinewidth": 2
          }
         }
        },
        "title": {
         "text": "Number of rows for each city"
        },
        "width": 800
       }
      },
      "text/html": [
       "<div>\n",
       "        \n",
       "        \n",
       "            <div id=\"a2bf70bb-97be-478d-b948-246ef06550a2\" class=\"plotly-graph-div\" style=\"height:400px; width:800px;\"></div>\n",
       "            <script type=\"text/javascript\">\n",
       "                require([\"plotly\"], function(Plotly) {\n",
       "                    window.PLOTLYENV=window.PLOTLYENV || {};\n",
       "                    \n",
       "                if (document.getElementById(\"a2bf70bb-97be-478d-b948-246ef06550a2\")) {\n",
       "                    Plotly.newPlot(\n",
       "                        'a2bf70bb-97be-478d-b948-246ef06550a2',\n",
       "                        [{\"marker\": {\"color\": \"rgba(222,45,38,0.8)\"}, \"type\": \"bar\", \"x\": [\"sao paulo\", \"rio de janeiro\", \"belo horizonte\", \"s\\u00e3o paulo\", \"curitiba\", \"porto alegre\", \"salvador\", \"guarulhos\", \"brasilia\", \"sao bernardo do campo\", \"osasco\", \"santo andre\", \"niteroi\", \"recife\", \"goiania\", \"fortaleza\", \"campinas\", \"sorocaba\", \"santos\", \"barueri\", \"juiz de fora\", \"contagem\", \"campo grande\", \"ribeirao preto\", \"florianopolis\", \"nova iguacu\", \"mogi das cruzes\", \"belem\", \"sao jose dos campos\", \"sao goncalo\", \"uberlandia\", \"vitoria\", \"duque de caxias\", \"bauru\", \"sao jose do rio preto\", \"londrina\", \"carapicuiba\", \"others\"], \"y\": [135800, 62151, 27805, 24918, 16593, 13521, 11865, 11340, 10470, 8112, 7658, 6863, 6534, 6168, 5661, 5538, 5479, 5361, 5000, 4971, 4679, 4395, 4332, 4187, 4148, 4022, 3913, 3789, 3759, 3601, 3520, 3478, 3444, 3270, 3190, 3144, 3041, 554443]}],\n",
       "                        {\"height\": 400, \"template\": {\"data\": {\"bar\": [{\"error_x\": {\"color\": \"#2a3f5f\"}, \"error_y\": {\"color\": \"#2a3f5f\"}, \"marker\": {\"line\": {\"color\": \"#E5ECF6\", \"width\": 0.5}}, \"type\": \"bar\"}], \"barpolar\": [{\"marker\": {\"line\": {\"color\": \"#E5ECF6\", \"width\": 0.5}}, \"type\": \"barpolar\"}], \"carpet\": [{\"aaxis\": {\"endlinecolor\": \"#2a3f5f\", \"gridcolor\": \"white\", \"linecolor\": \"white\", \"minorgridcolor\": \"white\", \"startlinecolor\": \"#2a3f5f\"}, \"baxis\": {\"endlinecolor\": \"#2a3f5f\", \"gridcolor\": \"white\", \"linecolor\": \"white\", \"minorgridcolor\": \"white\", \"startlinecolor\": \"#2a3f5f\"}, \"type\": \"carpet\"}], \"choropleth\": [{\"colorbar\": {\"outlinewidth\": 0, \"ticks\": \"\"}, \"type\": \"choropleth\"}], \"contour\": [{\"colorbar\": {\"outlinewidth\": 0, \"ticks\": \"\"}, \"colorscale\": [[0.0, \"#0d0887\"], [0.1111111111111111, \"#46039f\"], [0.2222222222222222, \"#7201a8\"], [0.3333333333333333, \"#9c179e\"], [0.4444444444444444, \"#bd3786\"], [0.5555555555555556, \"#d8576b\"], [0.6666666666666666, \"#ed7953\"], [0.7777777777777778, \"#fb9f3a\"], [0.8888888888888888, \"#fdca26\"], [1.0, \"#f0f921\"]], \"type\": \"contour\"}], \"contourcarpet\": [{\"colorbar\": {\"outlinewidth\": 0, \"ticks\": \"\"}, \"type\": \"contourcarpet\"}], \"heatmap\": [{\"colorbar\": {\"outlinewidth\": 0, \"ticks\": \"\"}, \"colorscale\": [[0.0, \"#0d0887\"], [0.1111111111111111, \"#46039f\"], [0.2222222222222222, \"#7201a8\"], [0.3333333333333333, \"#9c179e\"], [0.4444444444444444, \"#bd3786\"], [0.5555555555555556, \"#d8576b\"], [0.6666666666666666, \"#ed7953\"], [0.7777777777777778, \"#fb9f3a\"], [0.8888888888888888, \"#fdca26\"], [1.0, \"#f0f921\"]], \"type\": \"heatmap\"}], \"heatmapgl\": [{\"colorbar\": {\"outlinewidth\": 0, \"ticks\": \"\"}, \"colorscale\": [[0.0, \"#0d0887\"], [0.1111111111111111, \"#46039f\"], [0.2222222222222222, \"#7201a8\"], [0.3333333333333333, \"#9c179e\"], [0.4444444444444444, \"#bd3786\"], [0.5555555555555556, \"#d8576b\"], [0.6666666666666666, \"#ed7953\"], [0.7777777777777778, \"#fb9f3a\"], [0.8888888888888888, \"#fdca26\"], [1.0, \"#f0f921\"]], \"type\": \"heatmapgl\"}], \"histogram\": [{\"marker\": {\"colorbar\": {\"outlinewidth\": 0, \"ticks\": \"\"}}, \"type\": \"histogram\"}], \"histogram2d\": [{\"colorbar\": {\"outlinewidth\": 0, \"ticks\": \"\"}, \"colorscale\": [[0.0, \"#0d0887\"], [0.1111111111111111, \"#46039f\"], [0.2222222222222222, \"#7201a8\"], [0.3333333333333333, \"#9c179e\"], [0.4444444444444444, \"#bd3786\"], [0.5555555555555556, \"#d8576b\"], [0.6666666666666666, \"#ed7953\"], [0.7777777777777778, \"#fb9f3a\"], [0.8888888888888888, \"#fdca26\"], [1.0, \"#f0f921\"]], \"type\": \"histogram2d\"}], \"histogram2dcontour\": [{\"colorbar\": {\"outlinewidth\": 0, \"ticks\": \"\"}, \"colorscale\": [[0.0, \"#0d0887\"], [0.1111111111111111, \"#46039f\"], [0.2222222222222222, \"#7201a8\"], [0.3333333333333333, \"#9c179e\"], [0.4444444444444444, \"#bd3786\"], [0.5555555555555556, \"#d8576b\"], [0.6666666666666666, \"#ed7953\"], [0.7777777777777778, \"#fb9f3a\"], [0.8888888888888888, \"#fdca26\"], [1.0, \"#f0f921\"]], \"type\": \"histogram2dcontour\"}], \"mesh3d\": [{\"colorbar\": {\"outlinewidth\": 0, \"ticks\": \"\"}, \"type\": \"mesh3d\"}], \"parcoords\": [{\"line\": {\"colorbar\": {\"outlinewidth\": 0, \"ticks\": \"\"}}, \"type\": \"parcoords\"}], \"pie\": [{\"automargin\": true, \"type\": \"pie\"}], \"scatter\": [{\"marker\": {\"colorbar\": {\"outlinewidth\": 0, \"ticks\": \"\"}}, \"type\": \"scatter\"}], \"scatter3d\": [{\"line\": {\"colorbar\": {\"outlinewidth\": 0, \"ticks\": \"\"}}, \"marker\": {\"colorbar\": {\"outlinewidth\": 0, \"ticks\": \"\"}}, \"type\": \"scatter3d\"}], \"scattercarpet\": [{\"marker\": {\"colorbar\": {\"outlinewidth\": 0, \"ticks\": \"\"}}, \"type\": \"scattercarpet\"}], \"scattergeo\": [{\"marker\": {\"colorbar\": {\"outlinewidth\": 0, \"ticks\": \"\"}}, \"type\": \"scattergeo\"}], \"scattergl\": [{\"marker\": {\"colorbar\": {\"outlinewidth\": 0, \"ticks\": \"\"}}, \"type\": \"scattergl\"}], \"scattermapbox\": [{\"marker\": {\"colorbar\": {\"outlinewidth\": 0, \"ticks\": \"\"}}, \"type\": \"scattermapbox\"}], \"scatterpolar\": [{\"marker\": {\"colorbar\": {\"outlinewidth\": 0, \"ticks\": \"\"}}, \"type\": \"scatterpolar\"}], \"scatterpolargl\": [{\"marker\": {\"colorbar\": {\"outlinewidth\": 0, \"ticks\": \"\"}}, \"type\": \"scatterpolargl\"}], \"scatterternary\": [{\"marker\": {\"colorbar\": {\"outlinewidth\": 0, \"ticks\": \"\"}}, \"type\": \"scatterternary\"}], \"surface\": [{\"colorbar\": {\"outlinewidth\": 0, \"ticks\": \"\"}, \"colorscale\": [[0.0, \"#0d0887\"], [0.1111111111111111, \"#46039f\"], [0.2222222222222222, \"#7201a8\"], [0.3333333333333333, \"#9c179e\"], [0.4444444444444444, \"#bd3786\"], [0.5555555555555556, \"#d8576b\"], [0.6666666666666666, \"#ed7953\"], [0.7777777777777778, \"#fb9f3a\"], [0.8888888888888888, \"#fdca26\"], [1.0, \"#f0f921\"]], \"type\": \"surface\"}], \"table\": [{\"cells\": {\"fill\": {\"color\": \"#EBF0F8\"}, \"line\": {\"color\": \"white\"}}, \"header\": {\"fill\": {\"color\": \"#C8D4E3\"}, \"line\": {\"color\": \"white\"}}, \"type\": \"table\"}]}, \"layout\": {\"annotationdefaults\": {\"arrowcolor\": \"#2a3f5f\", \"arrowhead\": 0, \"arrowwidth\": 1}, \"coloraxis\": {\"colorbar\": {\"outlinewidth\": 0, \"ticks\": \"\"}}, \"colorscale\": {\"diverging\": [[0, \"#8e0152\"], [0.1, \"#c51b7d\"], [0.2, \"#de77ae\"], [0.3, \"#f1b6da\"], [0.4, \"#fde0ef\"], [0.5, \"#f7f7f7\"], [0.6, \"#e6f5d0\"], [0.7, \"#b8e186\"], [0.8, \"#7fbc41\"], [0.9, \"#4d9221\"], [1, \"#276419\"]], \"sequential\": [[0.0, \"#0d0887\"], [0.1111111111111111, \"#46039f\"], [0.2222222222222222, \"#7201a8\"], [0.3333333333333333, \"#9c179e\"], [0.4444444444444444, \"#bd3786\"], [0.5555555555555556, \"#d8576b\"], [0.6666666666666666, \"#ed7953\"], [0.7777777777777778, \"#fb9f3a\"], [0.8888888888888888, \"#fdca26\"], [1.0, \"#f0f921\"]], \"sequentialminus\": [[0.0, \"#0d0887\"], [0.1111111111111111, \"#46039f\"], [0.2222222222222222, \"#7201a8\"], [0.3333333333333333, \"#9c179e\"], [0.4444444444444444, \"#bd3786\"], [0.5555555555555556, \"#d8576b\"], [0.6666666666666666, \"#ed7953\"], [0.7777777777777778, \"#fb9f3a\"], [0.8888888888888888, \"#fdca26\"], [1.0, \"#f0f921\"]]}, \"colorway\": [\"#636efa\", \"#EF553B\", \"#00cc96\", \"#ab63fa\", \"#FFA15A\", \"#19d3f3\", \"#FF6692\", \"#B6E880\", \"#FF97FF\", \"#FECB52\"], \"font\": {\"color\": \"#2a3f5f\"}, \"geo\": {\"bgcolor\": \"white\", \"lakecolor\": \"white\", \"landcolor\": \"#E5ECF6\", \"showlakes\": true, \"showland\": true, \"subunitcolor\": \"white\"}, \"hoverlabel\": {\"align\": \"left\"}, \"hovermode\": \"closest\", \"mapbox\": {\"style\": \"light\"}, \"paper_bgcolor\": \"white\", \"plot_bgcolor\": \"#E5ECF6\", \"polar\": {\"angularaxis\": {\"gridcolor\": \"white\", \"linecolor\": \"white\", \"ticks\": \"\"}, \"bgcolor\": \"#E5ECF6\", \"radialaxis\": {\"gridcolor\": \"white\", \"linecolor\": \"white\", \"ticks\": \"\"}}, \"scene\": {\"xaxis\": {\"backgroundcolor\": \"#E5ECF6\", \"gridcolor\": \"white\", \"gridwidth\": 2, \"linecolor\": \"white\", \"showbackground\": true, \"ticks\": \"\", \"zerolinecolor\": \"white\"}, \"yaxis\": {\"backgroundcolor\": \"#E5ECF6\", \"gridcolor\": \"white\", \"gridwidth\": 2, \"linecolor\": \"white\", \"showbackground\": true, \"ticks\": \"\", \"zerolinecolor\": \"white\"}, \"zaxis\": {\"backgroundcolor\": \"#E5ECF6\", \"gridcolor\": \"white\", \"gridwidth\": 2, \"linecolor\": \"white\", \"showbackground\": true, \"ticks\": \"\", \"zerolinecolor\": \"white\"}}, \"shapedefaults\": {\"line\": {\"color\": \"#2a3f5f\"}}, \"ternary\": {\"aaxis\": {\"gridcolor\": \"white\", \"linecolor\": \"white\", \"ticks\": \"\"}, \"baxis\": {\"gridcolor\": \"white\", \"linecolor\": \"white\", \"ticks\": \"\"}, \"bgcolor\": \"#E5ECF6\", \"caxis\": {\"gridcolor\": \"white\", \"linecolor\": \"white\", \"ticks\": \"\"}}, \"title\": {\"x\": 0.05}, \"xaxis\": {\"automargin\": true, \"gridcolor\": \"white\", \"linecolor\": \"white\", \"ticks\": \"\", \"title\": {\"standoff\": 15}, \"zerolinecolor\": \"white\", \"zerolinewidth\": 2}, \"yaxis\": {\"automargin\": true, \"gridcolor\": \"white\", \"linecolor\": \"white\", \"ticks\": \"\", \"title\": {\"standoff\": 15}, \"zerolinecolor\": \"white\", \"zerolinewidth\": 2}}}, \"title\": {\"text\": \"Number of rows for each city\"}, \"width\": 800},\n",
       "                        {\"responsive\": true}\n",
       "                    ).then(function(){\n",
       "                            \n",
       "var gd = document.getElementById('a2bf70bb-97be-478d-b948-246ef06550a2');\n",
       "var x = new MutationObserver(function (mutations, observer) {{\n",
       "        var display = window.getComputedStyle(gd).display;\n",
       "        if (!display || display === 'none') {{\n",
       "            console.log([gd, 'removed!']);\n",
       "            Plotly.purge(gd);\n",
       "            observer.disconnect();\n",
       "        }}\n",
       "}});\n",
       "\n",
       "// Listen for the removal of the full notebook cells\n",
       "var notebookContainer = gd.closest('#notebook-container');\n",
       "if (notebookContainer) {{\n",
       "    x.observe(notebookContainer, {childList: true});\n",
       "}}\n",
       "\n",
       "// Listen for the clearing of the current output cell\n",
       "var outputEl = gd.closest('.output');\n",
       "if (outputEl) {{\n",
       "    x.observe(outputEl, {childList: true});\n",
       "}}\n",
       "\n",
       "                        })\n",
       "                };\n",
       "                });\n",
       "            </script>\n",
       "        </div>"
      ]
     },
     "metadata": {},
     "output_type": "display_data"
    }
   ],
   "source": [
    "count_city = geo['geolocation_city'].value_counts()\n",
    "count_city['others'] = count_city[count_city < 3000].sum()\n",
    "trace = go.Bar(\n",
    "    x= count_city[count_city >= 3000].index,\n",
    "    y= count_city[count_city >= 3000].values,\n",
    "    marker=dict(color='rgba(222,45,38,0.8)')\n",
    ")\n",
    "layout = go.Layout(title='Number of rows for each city', height=400, width=800)\n",
    "fig = go.Figure(data=[trace], layout=layout)\n",
    "iplot(fig, filename='color-bar')"
   ]
  },
  {
   "cell_type": "code",
   "execution_count": null,
   "metadata": {},
   "outputs": [],
   "source": []
  },
  {
   "cell_type": "code",
   "execution_count": null,
   "metadata": {},
   "outputs": [],
   "source": []
  }
 ],
 "metadata": {
  "kernelspec": {
   "display_name": "Python 3",
   "language": "python",
   "name": "python3"
  },
  "language_info": {
   "codemirror_mode": {
    "name": "ipython",
    "version": 3
   },
   "file_extension": ".py",
   "mimetype": "text/x-python",
   "name": "python",
   "nbconvert_exporter": "python",
   "pygments_lexer": "ipython3",
   "version": "3.6.10"
  }
 },
 "nbformat": 4,
 "nbformat_minor": 1
}
